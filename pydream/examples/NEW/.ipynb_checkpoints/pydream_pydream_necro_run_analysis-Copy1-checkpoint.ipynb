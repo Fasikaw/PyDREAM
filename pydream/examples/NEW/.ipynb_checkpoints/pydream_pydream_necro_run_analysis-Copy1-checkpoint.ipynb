{
 "cells": [
  {
   "cell_type": "code",
   "execution_count": 1,
   "metadata": {},
   "outputs": [],
   "source": [
    "import seaborn as sns\n",
    "import numpy as np\n",
    "from matplotlib import pyplot as plt\n",
    "from necro_uncal_new_NEW import model\n",
    "\n",
    "# logps0 = np.load('dreamzs_5chain_logps_chain_22020_0_50000.npy')\n",
    "# logps1 = np.load('dreamzs_5chain_logps_chain_22020_1_50000.npy')\n",
    "# logps2 = np.load('dreamzs_5chain_logps_chain_22020_2_50000.npy')\n",
    "# logps3 = np.load('dreamzs_5chain_logps_chain_22020_3_50000.npy')\n",
    "# logps4 = np.load('dreamzs_5chain_logps_chain_22020_4_50000.npy')\n",
    "\n",
    "# logps00 = np.load('necro_smallest_dreamzs21320_5chain_logps_chain_0_40000.npy')\n",
    "# logps11 = np.load('necro_smallest_dreamzs21320_5chain_logps_chain_1_40000.npy')\n",
    "# logps22 = np.load('necro_smallest_dreamzs21320_5chain_logps_chain_2_40000.npy')\n",
    "# logps33 = np.load('necro_smallest_dreamzs21320_5chain_logps_chain_3_40000.npy')\n",
    "# logps44 = np.load('necro_smallest_dreamzs21320_5chain_logps_chain_4_40000.npy')\n",
    "logps00 = np.load('dreamzs_5chain_logps_chain_22420_0_50000.npy')\n",
    "logps01 = np.load('dreamzs_5chain_logps_chain_22420_0_100000.npy')\n",
    "logps02 = np.load('dreamzs_5chain_logps_chain_22420_0_150000.npy')\n",
    "logps03 = np.load('dreamzs_5chain_logps_chain_22420_0_200000.npy')\n",
    "logps04 = np.load('dreamzs_5chain_logps_chain_22420_0_250000.npy')\n",
    "\n",
    "logps10 = np.load('dreamzs_5chain_logps_chain_22420_1_50000.npy')\n",
    "logps11 = np.load('dreamzs_5chain_logps_chain_22420_1_100000.npy')\n",
    "logps12 = np.load('dreamzs_5chain_logps_chain_22420_1_150000.npy')\n",
    "logps13 = np.load('dreamzs_5chain_logps_chain_22420_1_200000.npy')\n",
    "logps14 = np.load('dreamzs_5chain_logps_chain_22420_1_250000.npy')\n",
    "\n",
    "logps20 = np.load('dreamzs_5chain_logps_chain_22420_2_50000.npy')\n",
    "logps21 = np.load('dreamzs_5chain_logps_chain_22420_2_100000.npy')\n",
    "logps22 = np.load('dreamzs_5chain_logps_chain_22420_2_150000.npy')\n",
    "logps23 = np.load('dreamzs_5chain_logps_chain_22420_2_200000.npy')\n",
    "logps24 = np.load('dreamzs_5chain_logps_chain_22420_2_250000.npy')\n",
    "\n",
    "logps30 = np.load('dreamzs_5chain_logps_chain_22420_3_50000.npy')\n",
    "logps31 = np.load('dreamzs_5chain_logps_chain_22420_3_100000.npy')\n",
    "logps32 = np.load('dreamzs_5chain_logps_chain_22420_3_150000.npy')\n",
    "logps33 = np.load('dreamzs_5chain_logps_chain_22420_3_200000.npy')\n",
    "logps34 = np.load('dreamzs_5chain_logps_chain_22420_3_250000.npy')\n",
    "\n",
    "logps40 = np.load('dreamzs_5chain_logps_chain_22420_4_50000.npy')\n",
    "logps41 = np.load('dreamzs_5chain_logps_chain_22420_4_100000.npy')\n",
    "logps42 = np.load('dreamzs_5chain_logps_chain_22420_4_150000.npy')\n",
    "logps43 = np.load('dreamzs_5chain_logps_chain_22420_4_200000.npy')\n",
    "logps44 = np.load('dreamzs_5chain_logps_chain_22420_4_250000.npy')\n",
    "\n",
    "chain00 = np.load('dreamzs_5chain_sampled_params_chain_22420_0_50000.npy')\n",
    "chain01 = np.load('dreamzs_5chain_sampled_params_chain_22420_0_100000.npy')\n",
    "chain02 = np.load('dreamzs_5chain_sampled_params_chain_22420_0_150000.npy')\n",
    "chain03 = np.load('dreamzs_5chain_sampled_params_chain_22420_0_200000.npy')\n",
    "chain04 = np.load('dreamzs_5chain_sampled_params_chain_22420_0_250000.npy')\n",
    "\n",
    "chain10 = np.load('dreamzs_5chain_sampled_params_chain_22420_1_50000.npy')\n",
    "chain11 = np.load('dreamzs_5chain_sampled_params_chain_22420_1_100000.npy')\n",
    "chain12 = np.load('dreamzs_5chain_sampled_params_chain_22420_1_150000.npy')\n",
    "chain13 = np.load('dreamzs_5chain_sampled_params_chain_22420_1_200000.npy')\n",
    "chain14 = np.load('dreamzs_5chain_sampled_params_chain_22420_1_250000.npy')\n",
    "\n",
    "chain20 = np.load('dreamzs_5chain_sampled_params_chain_22420_2_50000.npy')\n",
    "chain21 = np.load('dreamzs_5chain_sampled_params_chain_22420_2_100000.npy')\n",
    "chain22 = np.load('dreamzs_5chain_sampled_params_chain_22420_2_150000.npy')\n",
    "chain23 = np.load('dreamzs_5chain_sampled_params_chain_22420_2_200000.npy')\n",
    "chain24 = np.load('dreamzs_5chain_sampled_params_chain_22420_2_250000.npy')\n",
    "\n",
    "chain30 = np.load('dreamzs_5chain_sampled_params_chain_22420_3_50000.npy')\n",
    "chain31 = np.load('dreamzs_5chain_sampled_params_chain_22420_3_100000.npy')\n",
    "chain32 = np.load('dreamzs_5chain_sampled_params_chain_22420_3_150000.npy')\n",
    "chain33 = np.load('dreamzs_5chain_sampled_params_chain_22420_3_200000.npy')\n",
    "chain34 = np.load('dreamzs_5chain_sampled_params_chain_22420_3_250000.npy')\n",
    "\n",
    "chain40 = np.load('dreamzs_5chain_sampled_params_chain_22420_4_50000.npy')\n",
    "chain41 = np.load('dreamzs_5chain_sampled_params_chain_22420_4_100000.npy')\n",
    "chain42 = np.load('dreamzs_5chain_sampled_params_chain_22420_4_150000.npy')\n",
    "chain43 = np.load('dreamzs_5chain_sampled_params_chain_22420_4_200000.npy')\n",
    "chain44 = np.load('dreamzs_5chain_sampled_params_chain_22420_4_250000.npy')\n",
    "# chain00 = np.load('necro_smallest_dreamzs21320_5chain_sampled_params_chain_0_40000.npy')\n",
    "# chain11 = np.load('necro_smallest_dreamzs21320_5chain_sampled_params_chain_1_40000.npy')\n",
    "# chain22 = np.load('necro_smallest_dreamzs21320_5chain_sampled_params_chain_2_40000.npy')\n",
    "# chain33 = np.load('necro_smallest_dreamzs21320_5chain_sampled_params_chain_3_40000.npy')\n",
    "# chain44 = np.load('necro_smallest_dreamzs21320_5chain_sampled_params_chain_4_40000.npy')"
   ]
  },
  {
   "cell_type": "code",
   "execution_count": null,
   "metadata": {},
   "outputs": [],
   "source": [
    "iters = [i for i in range(50000)]\n",
    "\n",
    "plt.figure()\n",
    "# plt.subplot(152)\n",
    "plt.plot(iters, logps00, color = 'red')\n",
    "plt.xlabel(\"Iteration\", fontsize=14)\n",
    "plt.ylabel(\"Likelihood\", fontsize=14, labelpad=15)\n",
    "plt.figure()\n",
    "# plt.subplot(153)\n",
    "plt.plot(iters, logps10, color = 'k')\n",
    "plt.xlabel(\"Iteration\", fontsize=14)\n",
    "plt.ylabel(\"Likelihood\", fontsize=14, labelpad=15)\n",
    "plt.figure()\n",
    "# plt.subplot(154)\n",
    "plt.plot(iters, logps20, color = 'g') #best\n",
    "plt.xlabel(\"Iteration\", fontsize=14)\n",
    "plt.ylabel(\"Likelihood\", fontsize=14, labelpad=15)\n",
    "\n",
    "plt.figure()\n",
    "# plt.subplot(154)\n",
    "plt.plot(iters, logps30, color = 'cyan') #best\n",
    "plt.xlabel(\"Iteration\", fontsize=14)\n",
    "plt.ylabel(\"Likelihood\", fontsize=14, labelpad=15)\n",
    "\n",
    "plt.figure()\n",
    "# plt.subplot(154)\n",
    "plt.plot(iters, logps40, color = 'purple') #best\n",
    "plt.xlabel(\"Iteration\", fontsize=14)\n",
    "plt.ylabel(\"Likelihood\", fontsize=14, labelpad=15)\n",
    "plt.show()"
   ]
  },
  {
   "cell_type": "code",
   "execution_count": null,
   "metadata": {},
   "outputs": [],
   "source": [
    "total_iterations = chain00.shape[0] \n",
    "burnin = int(total_iterations / 2)\n",
    "samples = np.concatenate((chain00[burnin:, :],chain01[burnin:, :],chain02[burnin:, :],chain03[burnin:, :]\n",
    "                          ,chain04[burnin:, :],chain10[burnin:, :],chain11[burnin:, :],chain12[burnin:, :],chain13[burnin:, :]\n",
    "                          ,chain14[burnin:, :],chain20[burnin:, :],chain21[burnin:, :],chain22[burnin:, :],chain23[burnin:, :]\n",
    "                          ,chain24[burnin:, :],chain30[burnin:, :],chain31[burnin:, :],chain32[burnin:, :],chain33[burnin:, :]\n",
    "                          ,chain34[burnin:, :],chain40[burnin:, :],chain41[burnin:, :],chain42[burnin:, :],chain43[burnin:, :]\n",
    "                          ,chain44[burnin:, :]))\n",
    "# samples = np.concatenate((chain0[burnin:, :],chain1[burnin:, :],chain2[burnin:, :],chain3[burnin:, :]\n",
    "#                           ,chain4[burnin:, :]))"
   ]
  },
  {
   "cell_type": "code",
   "execution_count": null,
   "metadata": {},
   "outputs": [],
   "source": [
    "u, indices, counts = np.unique(samples, return_index=True, return_counts=True, axis=0)\n",
    "\n",
    "sorted_counts_idx = np.argsort(counts)\n",
    "\n",
    "print(len(sorted_counts_idx))\n",
    "# print(len(u[6"
   ]
  },
  {
   "cell_type": "code",
   "execution_count": null,
   "metadata": {},
   "outputs": [],
   "source": [
    "np.save('most_likely_par_33971_23971_smallsd_2_24_20_sorted.npy', u[sorted_counts_idx[23971:]])"
   ]
  },
  {
   "cell_type": "code",
   "execution_count": 2,
   "metadata": {},
   "outputs": [],
   "source": [
    "from pylab import *\n",
    "from pysb.core import *\n",
    "from pysb.bng import *\n",
    "from pysb.integrate import *\n",
    "import matplotlib.pyplot as plt\n",
    "import numpy as np\n",
    "from pysb.util import alias_model_components\n",
    "from pysb.simulator import CupSodaSimulator\n",
    "from pysb.simulator import ScipyOdeSimulator\n",
    "from pysb.simulator.bng import BngSimulator\n",
    "import pandas as pd\n",
    "# alias_model_components(model100, model10, model1, model01)\n",
    "from scipy import stats\n",
    "from pysb.simulator import SimulationResult\n",
    "import sys\n",
    "sys.path.append('..')\n",
    "%matplotlib inline"
   ]
  },
  {
   "cell_type": "code",
   "execution_count": 3,
   "metadata": {},
   "outputs": [],
   "source": [
    "from pysb.core import ComponentSet, Model\n",
    "from pysb.simulator import SimulationResult\n",
    "import weakref\n",
    "from contextlib import contextmanager\n",
    "\n",
    "def _model_setstate_monkey_patch(self, state):\n",
    "    \"\"\"Monkey patch for Model.__setstate__ for restoring from older pickles\"\"\"\n",
    "\n",
    "    # restore the 'model' weakrefs on all components\n",
    "    self.__dict__.update(state)\n",
    "    # Set \"tags\" attribute for older, pickled models\n",
    "    self.__dict__.setdefault('tags', ComponentSet())\n",
    "    for c in self.all_components():\n",
    "        c.model = weakref.ref(self)\n",
    "\n",
    "@contextmanager\n",
    "def _patch_model_setstate():\n",
    "    old_setstate = Model.__setstate__\n",
    "    Model.__setstate__ = _model_setstate_monkey_patch\n",
    "    try:\n",
    "        yield\n",
    "    finally:\n",
    "        Model.__setstate__ = old_setstate\n",
    "\n",
    "def simulation_result_load(filename, dataset_name=None, group_name=None):\n",
    "    with _patch_model_setstate():\n",
    "        return SimulationResult.load(filename, dataset_name, group_name)"
   ]
  },
  {
   "cell_type": "code",
   "execution_count": 4,
   "metadata": {},
   "outputs": [
    {
     "name": "stdout",
     "output_type": "stream",
     "text": [
      "10000\n"
     ]
    }
   ],
   "source": [
    "par_files = np.load('most_likely_par_33971_23971_smallsd_2_24_20_sorted.npy')\n",
    "n_pars = len(par_files)\n",
    "all_pars = np.zeros((n_pars, len(model.parameters)))\n",
    "\n",
    "rate_params = model.parameters_rules() # these are only the parameters involved in the rules\n",
    "param_values = np.array([p.value for p in model.parameters]) # these are all the parameters\n",
    "rate_mask = np.array([p in rate_params for p in model.parameters])\n",
    "\n",
    "for i in range(n_pars):\n",
    "    par = par_files[i]\n",
    "    param_values[rate_mask] = 10 ** par\n",
    "    all_pars[i] = param_values\n",
    "print(len(all_pars))    "
   ]
  },
  {
   "cell_type": "code",
   "execution_count": 5,
   "metadata": {},
   "outputs": [
    {
     "name": "stderr",
     "output_type": "stream",
     "text": [
      "2020-02-26 18:25:58.819 - pysb.simulator.scipyode - DEBUG - [necro_uncal_new_NEW] Simulator created\n"
     ]
    },
    {
     "name": "stdout",
     "output_type": "stream",
     "text": [
      "running simulations 100\n"
     ]
    },
    {
     "name": "stderr",
     "output_type": "stream",
     "text": [
      "2020-02-26 18:25:59.588 - pysb.simulator.scipyode - DEBUG - [necro_uncal_new_NEW] Equation mode set to \"cython\"\n",
      "2020-02-26 18:25:59.793 - pysb.simulator.scipyode - INFO - [necro_uncal_new_NEW] Simulation(s) started\n",
      "2020-02-26 18:26:02.435 - pysb.simulator.scipyode - DEBUG - [necro_uncal_new_NEW] Multi-processor (parallel) mode using 100 processes\n",
      "2020-02-26 20:52:35.864 - pysb.simulator.scipyode - INFO - [necro_uncal_new_NEW] All simulation(s) complete\n",
      "2020-02-26 20:52:35.866 - pysb.simulator.scipyode - DEBUG - [necro_uncal_new_NEW] SimulationResult constructor started\n",
      "2020-02-26 20:52:39.833 - pysb.simulator.scipyode - DEBUG - [necro_uncal_new_NEW] SimulationResult constructor finished\n"
     ]
    }
   ],
   "source": [
    "print('running simulations 100')\n",
    "tspan = np.linspace(0, 1440, 300)\n",
    "solver100 = ScipyOdeSimulator(model, tspan=tspan, verbose = True)\n",
    "result100 = solver100.run(param_values=all_pars[:], num_processors = 100)\n",
    "# result100.save('necro_pydream_5chns_11220_100tnf_10000.h5')\n",
    "df1 = result100.dataframe"
   ]
  },
  {
   "cell_type": "code",
   "execution_count": 6,
   "metadata": {},
   "outputs": [
    {
     "data": {
      "image/png": "[encoded data removed]",
      "text/plain": [
       "<Figure size 432x288 with 1 Axes>"
      ]
     },
     "metadata": {
      "needs_background": "light"
     },
     "output_type": "display_data"
    }
   ],
   "source": [
    "plt.figure()\n",
    "for n in range(len(all_pars)):\n",
    "    plt.plot(tspan/60, df1.loc[n]['MLKLa_obs'].iloc[:],lw=1.5, color ='blue', zorder = 1)\n",
    "#     plt.scatter(x,y, zorder = 2)\n",
    "    # plt.plot(tspan / 60, df.loc[n]['RIP1deub_obs'].iloc[:] / df.loc[n]['RIP1deub_obs'].iloc[:].max(), lw=1.5)\n",
    "    # plt.plot(tspan / 60, df.loc[n]['RIP1trunc_obs'].iloc[:] / df.loc[n]['RIP1trunc_obs'].iloc[:].max(), lw=1.5)\n",
    "# plt.plot(tspan/60, simulation /_result.observables['CII_C8a_obs'], label = 'CII_C8a')\n",
    "plt.xlabel(\"Time (in hr)\", fontsize=10)\n",
    "plt.ylabel(\"Amount mol/cell\", fontsize=10)\n",
    "plt.title('pMLKL')\n",
    "# plt.ylim(ymin = -10, ymax =100)\n",
    "# plt.legend(loc=0)\n",
    "plt.show()"
   ]
  },
  {
   "cell_type": "code",
   "execution_count": null,
   "metadata": {},
   "outputs": [],
   "source": []
  },
  {
   "cell_type": "code",
   "execution_count": null,
   "metadata": {},
   "outputs": [],
   "source": []
  },
  {
   "cell_type": "code",
   "execution_count": null,
   "metadata": {},
   "outputs": [],
   "source": []
  }
 ],
 "metadata": {
  "kernelspec": {
   "display_name": "Python 3",
   "language": "python",
   "name": "python3"
  },
  "language_info": {
   "codemirror_mode": {
    "name": "ipython",
    "version": 3
   },
   "file_extension": ".py",
   "mimetype": "text/x-python",
   "name": "python",
   "nbconvert_exporter": "python",
   "pygments_lexer": "ipython3",
   "version": "3.7.5"
  }
 },
 "nbformat": 4,
 "nbformat_minor": 2
}
