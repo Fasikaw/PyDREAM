{
 "cells": [
  {
   "cell_type": "code",
   "execution_count": 1,
   "metadata": {},
   "outputs": [],
   "source": [
    "from necro_uncal_new import model\n",
    "from pylab import *\n",
    "from pysb.core import *\n",
    "from pysb.bng import *\n",
    "from pysb.integrate import *\n",
    "import matplotlib.pyplot as plt\n",
    "import numpy as np\n",
    "from pysb.util import alias_model_components\n",
    "from pysb.simulator import CupSodaSimulator\n",
    "from pysb.simulator import ScipyOdeSimulator\n",
    "from pysb.simulator.bng import BngSimulator\n",
    "# from necro import model\n",
    "import pandas as pd\n",
    "from pysb.simulator import SimulationResult\n",
    "alias_model_components(model)"
   ]
  },
  {
   "cell_type": "code",
   "execution_count": 2,
   "metadata": {},
   "outputs": [
    {
     "name": "stdout",
     "output_type": "stream",
     "text": [
      "25000\n"
     ]
    }
   ],
   "source": [
    "par_files = np.load('necro_pydream_5chns_929_alltnf.npy')\n",
    "n_pars = len(par_files)\n",
    "all_pars = np.zeros((n_pars, 54))\n",
    "\n",
    "rate_params = model.parameters_rules() # these are only the parameters involved in the rules\n",
    "param_values = np.array([p.value for p in model.parameters]) # these are all the parameters\n",
    "rate_mask = np.array([p in rate_params for p in model.parameters])\n",
    "\n",
    "for i in range(n_pars):\n",
    "    par = par_files[i]\n",
    "    param_values[rate_mask] = 10 ** par\n",
    "    all_pars[i] = param_values\n",
    "print(len(all_pars))"
   ]
  },
  {
   "cell_type": "code",
   "execution_count": 3,
   "metadata": {},
   "outputs": [
    {
     "name": "stderr",
     "output_type": "stream",
     "text": [
      "2019-10-22 21:36:31.465 - pysb.simulator.scipyode - DEBUG - [necro_uncal_new] Simulator created\n",
      "2019-10-22 21:36:32.051 - pysb.simulator.scipyode - DEBUG - [necro_uncal_new] Equation mode set to \"cython\"\n",
      "2019-10-22 21:36:32.109 - pysb.simulator.scipyode - INFO - [necro_uncal_new] Simulation(s) started\n",
      "2019-10-22 21:36:33.045 - pysb.simulator.scipyode - DEBUG - [necro_uncal_new] Multi-processor (parallel) mode using 20 processes\n",
      "2019-10-22 22:04:03.290 - pysb.simulator.scipyode - INFO - [necro_uncal_new] All simulation(s) complete\n",
      "2019-10-22 22:04:03.294 - pysb.simulator.scipyode - DEBUG - [necro_uncal_new] SimulationResult constructor started\n",
      "2019-10-22 22:04:05.707 - pysb.simulator.scipyode - DEBUG - [necro_uncal_new] SimulationResult constructor finished\n"
     ]
    }
   ],
   "source": [
    "# l = [i for i in range(10)]\n",
    "flip = [3900, 1170]\n",
    "tspan = np.linspace(0, 1440, 500)\n",
    "solver100 = ScipyOdeSimulator(model, tspan=tspan, verbose = True)\n",
    "result100 = solver100.run(param_values=all_pars[:5000],num_processors=20)\n",
    "df = result100.dataframe"
   ]
  },
  {
   "cell_type": "code",
   "execution_count": null,
   "metadata": {},
   "outputs": [],
   "source": [
    "# tspan = np.linspace(0, 1440, 500)\n",
    "x100 = np.array([30, 90, 270, 480, 600, 720, 840, 960])\n",
    "y100 = np.array([0.00885691708746097,0.0161886154261265,0.0373005242261882,0.2798939020159581,0.510, .7797294067, 0.95,1])\n",
    "plt.figure()\n",
    "for i in range(1000):\n",
    "# plt.subplot(144)\n",
    "    plt.plot(tspan/60, df.loc[i]['MLKLa_obs'].iloc[:]/df.loc[i]['MLKLa_obs'].iloc[:].max(), zorder = 1)\n",
    "# plt.fill_between(time/60, lower_pmlkl, upper_pmlkl, label ='95%CI',zorder = 1)\n",
    "plt.scatter(x100/60, y100, zorder = 2)\n",
    "plt.xlabel('Time (hours)')\n",
    "plt.ylabel('Amount (molecule/cell)')\n",
    "# plt.legend()\n",
    "plt.title(r'25000 fitted parameters of pMKLK under 100ng/ml of TNF$\\alpha$')\n",
    "plt.tight_layout()\n",
    "# plt.savefig('necro_25000params_TNF1_pydream_5chns_95CI.pdf', format='pdf')\n",
    "plt.show()"
   ]
  },
  {
   "cell_type": "code",
   "execution_count": null,
   "metadata": {},
   "outputs": [],
   "source": [
    "df['MLKLa_obs'].std(axis = 1)"
   ]
  },
  {
   "cell_type": "code",
   "execution_count": null,
   "metadata": {},
   "outputs": [],
   "source": [
    "mean_mlk = []\n",
    "for i in range(10000):\n",
    "    mean_mlkl[i] = np.std(df.loc[i]['MLKLa_obs'].iloc[i])\n",
    "# print(mean_mlk)    \n",
    "# sd_mlkl = df.loc[:]['MLKLa_obs'].iloc[:].std()"
   ]
  },
  {
   "cell_type": "code",
   "execution_count": null,
   "metadata": {},
   "outputs": [],
   "source": [
    "std = np.zeros(10000)\n",
    "for i in range (10000):\n",
    "       std = df.loc[i]['MLKLa_obs'].iloc[i]"
   ]
  },
  {
   "cell_type": "code",
   "execution_count": null,
   "metadata": {},
   "outputs": [],
   "source": [
    "sd_mlkl = df.loc[:]['MLKLa_obs'].iloc[:].std()\n",
    "sd_mlkl"
   ]
  },
  {
   "cell_type": "code",
   "execution_count": null,
   "metadata": {},
   "outputs": [],
   "source": [
    "mean_mlkl"
   ]
  },
  {
   "cell_type": "code",
   "execution_count": null,
   "metadata": {},
   "outputs": [],
   "source": [
    "result100.save('testing_pydream_10000params.h5')"
   ]
  },
  {
   "cell_type": "code",
   "execution_count": null,
   "metadata": {},
   "outputs": [],
   "source": [
    "result100 = SimulationResult.load('necro_25000params_100TNF_pydream_5chns_500steps.h5') #loading in h5 result file \n",
    "df = result100.dataframe #creating pandas dataframe "
   ]
  },
  {
   "cell_type": "code",
   "execution_count": null,
   "metadata": {},
   "outputs": [],
   "source": [
    "result100.obser"
   ]
  },
  {
   "cell_type": "code",
   "execution_count": null,
   "metadata": {},
   "outputs": [],
   "source": [
    "mlkl = df.loc[:]['MLKLa_obs'].iloc[:]\n",
    "mlkl.shape\n",
    "len(mlkl)"
   ]
  },
  {
   "cell_type": "code",
   "execution_count": null,
   "metadata": {},
   "outputs": [],
   "source": [
    "print(result100.observables)"
   ]
  },
  {
   "cell_type": "code",
   "execution_count": null,
   "metadata": {},
   "outputs": [],
   "source": [
    "mean_pmlkl = df.loc[:]['MLKLa_obs'].iloc[:].values.reshape((100,))"
   ]
  },
  {
   "cell_type": "code",
   "execution_count": null,
   "metadata": {},
   "outputs": [],
   "source": [
    "tspan = np.linspace(0, 1440, 500)\n",
    "x100 = np.array([30, 90, 270, 480, 600, 720, 840, 960])\n",
    "y100 = np.array([0.00885691708746097,0.0161886154261265,0.0373005242261882,0.2798939020159581,0.510, .7797294067, 0.95,1])\n",
    "plt.figure()\n",
    "for i in range(len(mlkl)):\n",
    "# plt.subplot(144)\n",
    "    plt.plot(tspan/60, df.loc[i]['MLKLa_obs'].iloc[:])\n",
    "# plt.fill_between(time/60, lower_pmlkl, upper_pmlkl, label ='95%CI',zorder = 1)\n",
    "# plt.scatter(x100/60, y100)\n",
    "plt.xlabel('Time (hours)')\n",
    "plt.ylabel('Amount (molecule/cell)')\n",
    "# plt.legend()\n",
    "plt.title(r'95% CI of pMLKL under 100ng/ml of TNF$\\alpha$')\n",
    "plt.tight_layout()\n",
    "# plt.savefig('necro_25000params_TNF1_pydream_5chns_95CI.pdf', format='pdf')\n",
    "plt.show()"
   ]
  },
  {
   "cell_type": "code",
   "execution_count": null,
   "metadata": {},
   "outputs": [],
   "source": [
    "m = model.monomers #to obtain model monomers and add on demand observables"
   ]
  },
  {
   "cell_type": "code",
   "execution_count": null,
   "metadata": {},
   "outputs": [],
   "source": [
    "df['Flip_obs'] = result100.observable(m.flip_L(bDED=None, state='A'))\n",
    "df['C8Flip_obs'] = result100.observable(m.C8(bf=None, flip=4, state='A') % m.flip_L(bDED=4, state='A'))\n",
    "df['RIP1RIP3unmod_obs'] = result100.observable(m.RIP1(bscf=None, bub1=None, bub2=None, bub3=None, bDD=None, btraf=None, bRHIM=5, bMLKL=None, state='po4') % m.RIP3(bRHIM=5, bDD=1, state='po4') % m.MLKL(bRHIM=1, state='unmod'))\n",
    "df['MLKLp_obs'] = result100.observable(m.MLKL(bRHIM=None, state='active'))\n",
    "\n"
   ]
  },
  {
   "cell_type": "code",
   "execution_count": null,
   "metadata": {},
   "outputs": [],
   "source": [
    "len(df['MLKLp_obs'])"
   ]
  },
  {
   "cell_type": "code",
   "execution_count": null,
   "metadata": {},
   "outputs": [],
   "source": [
    "tspan = np.linspace(0, 1440, 500)\n",
    "x100 = np.array([30, 90, 270, 480, 600, 720, 840, 960])\n",
    "y100 = np.array([0.00885691708746097,0.0161886154261265,0.0373005242261882,0.2798939020159581,0.510, .7797294067, 0.95,1])\n",
    "plt.figure()\n",
    "for i in range(len(mlkl)):\n",
    "# plt.subplot(144)\n",
    "    plt.plot(tspan/60, df['MLKLp_obs'])\n",
    "# plt.fill_between(time/60, lower_pmlkl, upper_pmlkl, label ='95%CI',zorder = 1)\n",
    "# plt.scatter(x100/60, y100)\n",
    "plt.xlabel('Time (hours)')\n",
    "plt.ylabel('Amount (molecule/cell)')\n",
    "# plt.legend()\n",
    "plt.title(r'95% CI of pMLKL under 100ng/ml of TNF$\\alpha$')\n",
    "plt.tight_layout()\n",
    "# plt.savefig('necro_25000params_TNF1_pydream_5chns_95CI.pdf', format='pdf')\n",
    "plt.show()"
   ]
  },
  {
   "cell_type": "code",
   "execution_count": null,
   "metadata": {},
   "outputs": [],
   "source": [
    "x100 = np.array([.5, 1.5, 4.5, 8, 12, 16])\n",
    "y100 = np.array([\n",
    "0.00885691708746097*5544,0.0161886154261265*5544,\n",
    "0.0373005242261882*5544,\n",
    "0.0798939020159581*5544,\n",
    "0.639729406776*5544,\n",
    "1*5544])\n",
    "y10 = np.array([0.0106013664572332*5544,\n",
    "0.00519576571714913*5544,\n",
    "0.02967443048221*5544,\n",
    "0.050022163974868*5544,\n",
    "0.198128107774737*5544,\n",
    "0.560551401148672*5544])\n",
    "y1 = np.array([0.0060632926030143*5544,\n",
    "0.00942691670200054*5544,\n",
    "0.0113342231044983*5544,\n",
    "0.0312716821493274*5544,\n",
    "0.10956134602783*5544,\n",
    "0.291058859808041*5544])\n",
    "y0 = np.array([0.00777642331264696*5544,\n",
    "0.00919829048298192*5544,\n",
    "0.00177263616389778*5544,\n",
    "0.00637961107042362*5544,\n",
    "0.0136330127587403*5544,\n",
    "0.10852337335697491*5544])\n",
    "\n",
    "y100.std()"
   ]
  },
  {
   "cell_type": "code",
   "execution_count": null,
   "metadata": {},
   "outputs": [],
   "source": [
    "time = result100.tout[0]\n",
    "\n",
    "def mean_confidence_interval(data, confidence=0.95):\n",
    "    a = 1.0 * np.array(data)\n",
    "    n = len(a)\n",
    "    m, se = np.mean(a), scipy.stats.sem(a)\n",
    "    h = se * scipy.stats.t.ppf((1 + confidence) / 2., n-1)\n",
    "    return m, m-h, m+h\n",
    "\n",
    "# time = result100.tout[0]\n",
    "\n",
    "# def mean_std(data,confidence=0.95):\n",
    "#     a = 1.0 * np.array(data)\n",
    "#     n = len(a)\n",
    "#     m, se = np.mean(a), scipy.stats.sem(a)\n",
    "#     std = np.std(a)\n",
    "#     h = se * scipy.stats.t.ppf((1 + confidence) / 2., n-1)\n",
    "#     return m, m-h, m+h, std"
   ]
  },
  {
   "cell_type": "code",
   "execution_count": null,
   "metadata": {},
   "outputs": [],
   "source": [
    "print(len(time))"
   ]
  },
  {
   "cell_type": "code",
   "execution_count": null,
   "metadata": {},
   "outputs": [],
   "source": [
    "idx = pd.MultiIndex.from_product([df.columns,\n",
    "                                  ['mean', 'mean_minus', 'mean_plus']],\n",
    "                                 names=['species', 'CI'])\n",
    "\n",
    "ci_df = pd.DataFrame(0, idx, time)\n",
    "# # ci_df.head()\n",
    "\n",
    "# idx = pd.MultiIndex.from_product([df.columns,\n",
    "#                                   ['mean', 'mean_minus', 'mean_plus', 'std']],\n",
    "#                                  names=['species', 'CI'])\n",
    "\n",
    "# ci_df = pd.DataFrame(0, idx, time)\n",
    "# ci_df.head()"
   ]
  },
  {
   "cell_type": "code",
   "execution_count": null,
   "metadata": {},
   "outputs": [],
   "source": [
    "ci_df.columns.values.shape"
   ]
  },
  {
   "cell_type": "code",
   "execution_count": null,
   "metadata": {},
   "outputs": [],
   "source": [
    "from scipy import stats\n",
    "for sp in df.columns:\n",
    "    for t in time: \n",
    "        sp_values = df.xs(t, level='time', drop_level=False)[sp].values # axis=1 if columns\n",
    "        ci_df.loc[[sp], t] = mean_confidence_interval(sp_values)"
   ]
  },
  {
   "cell_type": "code",
   "execution_count": null,
   "metadata": {},
   "outputs": [],
   "source": [
    "p=500"
   ]
  },
  {
   "cell_type": "code",
   "execution_count": null,
   "metadata": {},
   "outputs": [],
   "source": [
    "# mean = ci_df.loc['MLKLa_obs'][:1].values.reshape((1441,))\n",
    "# upper = ci_df.loc['MLKLa_obs'][2:3].values.reshape((1441,))\n",
    "# lower = ci_df.loc['MLKLa_obs'][1:2].values.reshape((1441,))\n",
    "mean_pmlkl = ci_df.loc['MLKLa_obs'][:1].values.reshape((p,))\n",
    "upper_pmlkl = ci_df.loc['MLKLa_obs'][2:3].values.reshape((p,))\n",
    "lower_pmlkl = ci_df.loc['MLKLa_obs'][1:2].values.reshape((p,))\n",
    "std_pmlkl = ci_df.loc['MLKLa_obs'][2:3].values.reshape((p,))\n",
    "# mean_pmlkl = ci_df.loc['MLKLa_obs'][:1].values.reshape((9,))\n",
    "# upper_pmlkl = ci_df.loc['MLKLa_obs'][2:3].values.reshape((9,))\n",
    "# lower_pmlkl = ci_df.loc['MLKLa_obs'][1:2].values.reshape((9,))"
   ]
  },
  {
   "cell_type": "code",
   "execution_count": null,
   "metadata": {},
   "outputs": [],
   "source": [
    "mean_flip = ci_df.loc['Flip_obs'][:1].values.reshape((p,))\n",
    "upper_flip = ci_df.loc['Flip_obs'][2:3].values.reshape((p,))\n",
    "lower_flip = ci_df.loc['Flip_obs'][1:2].values.reshape((p,))\n",
    "# mean_flip = ci_df.loc['Flip_obs'][:1].values.reshape((9,))\n",
    "# upper_flip = ci_df.loc['Flip_obs'][2:3].values.reshape((9,))\n",
    "# lower_flip = ci_df.loc['Flip_obs'][1:2].values.reshape((9,))"
   ]
  },
  {
   "cell_type": "code",
   "execution_count": null,
   "metadata": {},
   "outputs": [],
   "source": [
    "mean_C8flip = ci_df.loc['C8Flip_obs'][:1].values.reshape((p,))\n",
    "upper_C8flip = ci_df.loc['C8Flip_obs'][2:3].values.reshape((p,))\n",
    "lower_C8flip = ci_df.loc['C8Flip_obs'][1:2].values.reshape((p,))\n",
    "# mean_C8flip = ci_df.loc['C8Flip_obs'][:1].values.reshape((9,))\n",
    "# upper_C8flip = ci_df.loc['C8Flip_obs'][2:3].values.reshape((9,))\n",
    "# lower_C8flip = ci_df.loc['C8Flip_obs'][1:2].values.reshape((9,))"
   ]
  },
  {
   "cell_type": "code",
   "execution_count": null,
   "metadata": {},
   "outputs": [],
   "source": [
    "mean_necro = ci_df.loc['RIP1RIP3unmod_obs'][:1].values.reshape((p,))\n",
    "upper_necro = ci_df.loc['RIP1RIP3unmod_obs'][2:3].values.reshape((p,))\n",
    "lower_necro = ci_df.loc['RIP1RIP3unmod_obs'][1:2].values.reshape((p,))\n",
    "# mean_necro = ci_df.loc['RIP1RIP3unmod_obs'][:1].values.reshape((9,))\n",
    "# upper_necro = ci_df.loc['RIP1RIP3unmod_obs'][2:3].values.reshape((9,))\n",
    "# lower_necro = ci_df.loc['RIP1RIP3unmod_obs'][1:2].values.reshape((9,))"
   ]
  },
  {
   "cell_type": "code",
   "execution_count": null,
   "metadata": {},
   "outputs": [],
   "source": [
    "plt.figure(figsize = (20,5))\n",
    "# plt.figure()\n",
    "plt.subplot(141)\n",
    "plt.plot(time/60, mean_flip, color = 'black', label ='mean', zorder = 2)\n",
    "plt.fill_between(time/60, lower_flip, upper_flip, label ='95%CI',zorder = 1)\n",
    "plt.xlabel('Time (hours)')\n",
    "plt.ylabel('Amount (molecule/cell)')\n",
    "plt.legend()\n",
    "plt.title(r'95% CI of cFlip-L under 100ng/ml of TNF$\\alpha$')\n",
    "\n",
    "# plt.figure()\n",
    "plt.subplot(142)\n",
    "plt.plot(time/60, mean_C8flip , color = 'black', label ='mean', zorder = 2)\n",
    "plt.fill_between(time/60, lower_C8flip , upper_C8flip , label ='95%CI',zorder = 1)\n",
    "plt.xlabel('Time (hours)')\n",
    "plt.ylabel('Amount (molecule/cell)')\n",
    "plt.legend()\n",
    "plt.title(r'95% CI of C8Flip 100ng/ml of TNF$\\alpha$')\n",
    "\n",
    "plt.subplot(143)\n",
    "plt.plot(time/60, mean_necro, color = 'black', label ='mean', zorder = 2)\n",
    "plt.fill_between(time/60, lower_necro, upper_necro, label ='95%CI',zorder = 1)\n",
    "plt.xlabel('Time (hours)')\n",
    "plt.ylabel('Amount (molecule/cell)')\n",
    "plt.legend()\n",
    "plt.title(r'95% CI of Necrosome under 100ng/ml of TNF$\\alpha$')\n",
    "\n",
    "# plt.figure()\n",
    "plt.subplot(144)\n",
    "plt.plot(time/60, mean_pmlkl, color = 'black', label ='mean', zorder = 2)\n",
    "plt.fill_between(time/60, lower_pmlkl, upper_pmlkl, label ='95%CI',zorder = 1)\n",
    "plt.xlabel('Time (hours)')\n",
    "plt.ylabel('Amount (molecule/cell)')\n",
    "plt.legend()\n",
    "plt.title(r'95% CI of pMLKL under 100ng/ml of TNF$\\alpha$')\n",
    "plt.tight_layout()\n",
    "# plt.savefig('necro_1000params_TNF100_pydream_5chns_95CI_C8FlipA20cIAPkd.pdf', format='pdf')\n",
    "plt.show()"
   ]
  },
  {
   "cell_type": "code",
   "execution_count": null,
   "metadata": {},
   "outputs": [],
   "source": [
    "plt.figure()\n",
    "# plt.subplot(144)\n",
    "plt.plot(time/60, mean_pmlkl, color = 'black', label ='mean', zorder = 2)\n",
    "plt.fill_between(time/60, lower_pmlkl, upper_pmlkl, label ='95%CI',zorder = 1)\n",
    "# plt.errorbar(time/60, mean_pmlkl, std_pmlkl)\n",
    "plt.xlabel('Time (hours)')\n",
    "plt.ylabel('Amount (molecule/cell)')\n",
    "plt.legend()\n",
    "plt.title(r'95% CI of pMLKL under 100ng/ml of TNF$\\alpha$')\n",
    "plt.tight_layout()\n",
    "# plt.savefig('necro_25000params_TNF100_pydream_5chns_95CI_new100.pdf', format='pdf')\n",
    "plt.show()"
   ]
  },
  {
   "cell_type": "code",
   "execution_count": null,
   "metadata": {},
   "outputs": [],
   "source": [
    "print(result100.shape)"
   ]
  },
  {
   "cell_type": "code",
   "execution_count": null,
   "metadata": {},
   "outputs": [],
   "source": [
    "# plt.figure(figsize = (20,5))\n",
    "# # plt.figure()\n",
    "# plt.subplot(141)\n",
    "# plt.plot(time/60, mean_flip, color = 'black', label ='mean', zorder = 2)\n",
    "# plt.fill_between(time/60, lower_flip, upper_flip, label ='95%CI',zorder = 1)\n",
    "# plt.xlabel('Time (hours)')\n",
    "# plt.ylabel('Amount (molecule/cell)')\n",
    "# plt.legend()\n",
    "# plt.title(r'95% CI of cFlip-L under 100ng/ml of TNF$\\alpha$')\n",
    "\n",
    "# # plt.figure()\n",
    "# plt.subplot(142)\n",
    "# plt.plot(time/60, mean_C8flip , color = 'black', label ='mean', zorder = 2)\n",
    "# plt.fill_between(time/60, lower_C8flip , upper_C8flip , label ='95%CI',zorder = 1)\n",
    "# plt.xlabel('Time (hours)')\n",
    "# plt.ylabel('Amount (molecule/cell)')\n",
    "# plt.legend()\n",
    "# plt.title(r'95% CI of C8Flip 100ng/ml of TNF$\\alpha$')\n",
    "\n",
    "# plt.subplot(143)\n",
    "# plt.plot(time/60, mean_necro, color = 'black', label ='mean', zorder = 2)\n",
    "# plt.fill_between(time/60, lower_necro, upper_necro, label ='95%CI',zorder = 1)\n",
    "# plt.xlabel('Time (hours)')\n",
    "# plt.ylabel('Amount (molecule/cell)')\n",
    "# plt.legend()\n",
    "# plt.title(r'95% CI of Necrosome under 100ng/ml of TNF$\\alpha$')\n",
    "\n",
    "# plt.figure()\n",
    "# plt.subplot(144)\n",
    "plt.plot(time/60, result100.observable['MLKLa_obs'], color = 'black', label ='mean', zorder = 2)\n",
    "# plt.fill_between(time/60, lower_pmlkl, upper_pmlkl, label ='95%CI',zorder = 1)\n",
    "plt.xlabel('Time (hours)')\n",
    "plt.ylabel('Amount (molecule/cell)')\n",
    "plt.legend()\n",
    "plt.title(r'95% CI of pMLKL under 100ng/ml of TNF$\\alpha$')\n",
    "plt.tight_layout()\n",
    "# plt.savefig('necro_25000params_TNF1_pydream_5chns_95CI.pdf', format='pdf')\n",
    "plt.show()"
   ]
  },
  {
   "cell_type": "code",
   "execution_count": null,
   "metadata": {},
   "outputs": [],
   "source": [
    "ci_df.head()"
   ]
  },
  {
   "cell_type": "code",
   "execution_count": null,
   "metadata": {},
   "outputs": [],
   "source": [
    "t = np.array([0., 30,  60,   120,  180, 270,  480,  960, 1440])\n",
    "data = np.array([0.001, 0.003, 0.01, 0.0152, 0.03, 0.05, 0.5, 0.99, 1.])"
   ]
  },
  {
   "cell_type": "code",
   "execution_count": null,
   "metadata": {},
   "outputs": [],
   "source": [
    "plt.figure()\n",
    "plt.plot(time/60, mean_pmlkl, color = 'black', label ='mean', zorder = 3)\n",
    "# plt.scatter(t/60, data*5544, color ='black', label = 'pMLKL_data',zorder = 2)\n",
    "plt.fill_between(time/60, lower_pmlkl, upper_pmlkl, label ='95% CI',zorder = 1,alpha = 0.2)\n",
    "plt.xlabel('Time (hours)')\n",
    "plt.ylabel('Amount (molecule/cell)')\n",
    "plt.legend()\n",
    "plt.title('95% Confidence Interval of pMLKL under 100ng/ml of TNFa')\n",
    "plt.savefig('pMLKL_100TNF_95CI_CI.pdf', format = 'pdf')\n",
    "plt.show()"
   ]
  },
  {
   "cell_type": "code",
   "execution_count": null,
   "metadata": {},
   "outputs": [],
   "source": [
    "plt.figure()\n",
    "plt.plot(time/60, mean_flip, color = 'black', label ='mean', zorder = 3)\n",
    "plt.fill_between(time/60, lower_flip, upper_flip, label ='95% CI',zorder = 1, alpha = 0.2)\n",
    "plt.xlabel('Time (hours)')\n",
    "plt.ylabel('Amount (molecule/cell)')\n",
    "plt.legend()\n",
    "plt.title('95% Confidence Interval of pMLKL under 100ng/ml of TNFa')\n",
    "# plt.savefig('pMLKL_100TNF_95CI_CI.pdf', format = 'pdf')\n",
    "plt.show()"
   ]
  },
  {
   "cell_type": "code",
   "execution_count": null,
   "metadata": {},
   "outputs": [],
   "source": []
  },
  {
   "cell_type": "code",
   "execution_count": null,
   "metadata": {},
   "outputs": [],
   "source": []
  },
  {
   "cell_type": "code",
   "execution_count": null,
   "metadata": {},
   "outputs": [],
   "source": [
    "# Visualize the result\n",
    "plt.plot(time, mean, 'or')\n",
    "# plt.plot(xfit, yfit, '-', color='gray')\n",
    "\n",
    "plt.fill_between(time, lower, upper, color='gray', alpha=0.2)\n",
    "plt.xlim(0, 10);"
   ]
  },
  {
   "cell_type": "code",
   "execution_count": null,
   "metadata": {},
   "outputs": [],
   "source": [
    "# Define a function for the line plot with intervals\n",
    "def lineplotCI(x_data, y_data, sorted_x, low_CI, upper_CI, x_label, y_label, title):\n",
    "    # Create the plot object\n",
    "    _, ax = plt.subplots()\n",
    "\n",
    "    # Plot the data, set the linewidth, color and transparency of the\n",
    "    # line, provide a label for the legend\n",
    "    ax.plot(x_data, y_data, lw = 1, color = '#539caf', alpha = 1, label = 'Fit')\n",
    "    # Shade the confidence interval\n",
    "    ax.fill_between(sorted_x, low_CI, upper_CI, color = '#539caf', alpha = 0.4, label = '95% CI')\n",
    "    # Label the axes and provide a title\n",
    "    ax.set_title(title)\n",
    "    ax.set_xlabel(x_label)\n",
    "    ax.set_ylabel(y_label)\n",
    "\n",
    "    # Display legend\n",
    "    ax.legend(loc = 'best')"
   ]
  },
  {
   "cell_type": "code",
   "execution_count": null,
   "metadata": {},
   "outputs": [],
   "source": [
    "df = result100.dataframe.transpose()\n",
    "df[0].ix['MLKLa_obs'][:]"
   ]
  },
  {
   "cell_type": "code",
   "execution_count": null,
   "metadata": {},
   "outputs": [],
   "source": [
    "x = result100.observables\n",
    "x[0]"
   ]
  },
  {
   "cell_type": "code",
   "execution_count": null,
   "metadata": {},
   "outputs": [],
   "source": [
    "solver10 = ScipyOdeSimulator(model, tspan=tspan)\n",
    "result10 = solver10.run(initials = {TNF(brec=None): 232}, param_values=all_pars[:])"
   ]
  },
  {
   "cell_type": "code",
   "execution_count": null,
   "metadata": {},
   "outputs": [],
   "source": [
    "solver1 = ScipyOdeSimulator(model, tspan=tspan)\n",
    "result1 = solver1.run(initials = {TNF(brec=None): 23}, param_values=all_pars[:])"
   ]
  },
  {
   "cell_type": "code",
   "execution_count": null,
   "metadata": {},
   "outputs": [],
   "source": [
    "solver01 = ScipyOdeSimulator(model, tspan=tspan)\n",
    "result01 = solver01.run(initials = {TNF(brec=None): 2}, param_values=all_pars[:])"
   ]
  },
  {
   "cell_type": "code",
   "execution_count": null,
   "metadata": {},
   "outputs": [],
   "source": [
    "df = result100.dataframe(columns=['time', 'pmlkl'])\n",
    "# df['time'] = len(df.loc[:]['MLKLa_obs'].iloc[:])\n",
    "# df['pmlkl'] = df.loc[:]['MLKLa_obs'].iloc[:]\n",
    "mlkl = df.loc[:]['MLKLa_obs'].iloc[:]\n",
    "mlklt = mlkl.transpose()"
   ]
  },
  {
   "cell_type": "code",
   "execution_count": null,
   "metadata": {},
   "outputs": [],
   "source": [
    "mlklt.head()"
   ]
  },
  {
   "cell_type": "code",
   "execution_count": null,
   "metadata": {},
   "outputs": [],
   "source": [
    "mlkl.to_csv('pmlkl_10tpts.csv')"
   ]
  },
  {
   "cell_type": "code",
   "execution_count": null,
   "metadata": {},
   "outputs": [],
   "source": [
    "df.head()"
   ]
  },
  {
   "cell_type": "code",
   "execution_count": null,
   "metadata": {
    "scrolled": false
   },
   "outputs": [],
   "source": [
    "a = df.loc[:]['CII_obs'].iloc[:]\n",
    "a.head()"
   ]
  },
  {
   "cell_type": "code",
   "execution_count": null,
   "metadata": {},
   "outputs": [],
   "source": [
    "b = a.T"
   ]
  },
  {
   "cell_type": "code",
   "execution_count": null,
   "metadata": {},
   "outputs": [],
   "source": [
    "b.head()"
   ]
  },
  {
   "cell_type": "code",
   "execution_count": null,
   "metadata": {},
   "outputs": [],
   "source": [
    "df.loc[:]['CII_C8a_obs'].iloc[:].max()"
   ]
  },
  {
   "cell_type": "code",
   "execution_count": null,
   "metadata": {},
   "outputs": [],
   "source": [
    "CII_obs = df.loc[:]['CII_obs'].iloc[:]/df.loc[:]['CII_obs'].iloc[:].max()\n",
    "CII_obs.head()"
   ]
  },
  {
   "cell_type": "code",
   "execution_count": null,
   "metadata": {},
   "outputs": [],
   "source": [
    "df.loc[:]['CII_obs'].iloc[:].head()"
   ]
  },
  {
   "cell_type": "code",
   "execution_count": null,
   "metadata": {},
   "outputs": [],
   "source": [
    "df.head()"
   ]
  },
  {
   "cell_type": "code",
   "execution_count": null,
   "metadata": {},
   "outputs": [],
   "source": [
    "from tropical.visualize_trajectories import VisualizeTrajectories"
   ]
  },
  {
   "cell_type": "code",
   "execution_count": null,
   "metadata": {},
   "outputs": [],
   "source": [
    "necro_clusters = VisualizeTrajectories(model, result100, clusters=None)"
   ]
  },
  {
   "cell_type": "code",
   "execution_count": null,
   "metadata": {},
   "outputs": [],
   "source": [
    "necro_clusters.plot_cluster_dynamics(species=['MLKLa_obs'], fig_name='pmlkl_100ngml.png')\n",
    "plt.show()"
   ]
  },
  {
   "cell_type": "code",
   "execution_count": null,
   "metadata": {},
   "outputs": [],
   "source": [
    "necro_clusters.plot_cluster_dynamics(species=['CII_obs'], fig_name='CII_100ngml.png')\n",
    "plt.show()"
   ]
  },
  {
   "cell_type": "code",
   "execution_count": null,
   "metadata": {},
   "outputs": [],
   "source": [
    "necro_clusters.plot_cluster_dynamics(species=['CII_C8a_obs'], fig_name='CII_C8_100ngml.png')\n",
    "plt.show()"
   ]
  },
  {
   "cell_type": "code",
   "execution_count": null,
   "metadata": {},
   "outputs": [],
   "source": [
    "plt.figure()\n",
    "for i in range(0,500):\n",
    "    plt.plot(tspan, df.loc[:]['CII_obs'].iloc[:]/df.loc[:]['CII_obs'].iloc[:].max())\n",
    "plt.show()"
   ]
  },
  {
   "cell_type": "code",
   "execution_count": null,
   "metadata": {},
   "outputs": [],
   "source": [
    "pmlkl = df.loc[:]['MLKLa_obs'].iloc[:]\n",
    "print(len(pmlkl))"
   ]
  },
  {
   "cell_type": "code",
   "execution_count": null,
   "metadata": {},
   "outputs": [],
   "source": [
    "mean = []\n",
    "mlklp = []\n",
    "for i in range(len(tspan)):\n",
    "    mlklp[i] = df.loc[i:i]['MLKLa_obs'].iloc[i:i]\n",
    "    mean[i] = np.mean(mlklp[i]) "
   ]
  },
  {
   "cell_type": "code",
   "execution_count": null,
   "metadata": {},
   "outputs": [],
   "source": [
    "import pandas as pd\n",
    "df_pmlkl = pd.DataFrame(columns=['time', 'pmlkl', 'meanpmlkl', 'lpmlkl', 'uplmlkl'])\n",
    "df_pmlkl['time'] = len(df.loc[:]['MLKLa_obs'].iloc[:])\n",
    "df_pmlkl['pmlkl'] = df.loc[:]['MLKLa_obs'].iloc[:]\n",
    "df_pmlkl['meanpmlkl'] = np.mean(pmlkl)\n",
    "df_pmlkl"
   ]
  },
  {
   "cell_type": "code",
   "execution_count": null,
   "metadata": {},
   "outputs": [],
   "source": [
    "import numpy as np, scipy.stats as st\n",
    "ci = st.t.interval(0.95, len(pmlkl)-1, loc=np.mean(pmlkl), scale=st.sem(pmlkl))"
   ]
  },
  {
   "cell_type": "code",
   "execution_count": null,
   "metadata": {},
   "outputs": [],
   "source": [
    "import numpy as np\n",
    "import scipy.stats\n",
    "\n",
    "def mean_confidence_interval(data, confidence=0.95):\n",
    "    a = 1.0 * np.array(data)\n",
    "    n = len(a)\n",
    "    m, se = np.mean(a), scipy.stats.sem(a)\n",
    "    h = se * scipy.stats.t.ppf((1 + confidence) / 2., n-1)\n",
    "    return m, m-h, m+h"
   ]
  },
  {
   "cell_type": "code",
   "execution_count": null,
   "metadata": {},
   "outputs": [],
   "source": [
    "mean_confidence_interval(df.loc[:]['MLKLa_obs'].iloc[:], 0.95)"
   ]
  },
  {
   "cell_type": "code",
   "execution_count": null,
   "metadata": {},
   "outputs": [],
   "source": [
    "# Filling between line y3 and line y4\n",
    "plt.fill_between(tspan, 2392.356, 2402.73, color='grey', alpha='0.5')\n",
    "plt.show()"
   ]
  },
  {
   "cell_type": "code",
   "execution_count": null,
   "metadata": {},
   "outputs": [],
   "source": [
    "mean = np.mean(x) \n",
    "np.percentile(x,5)\n",
    "np.percentile(x,95)"
   ]
  },
  {
   "cell_type": "code",
   "execution_count": null,
   "metadata": {},
   "outputs": [],
   "source": [
    "ci"
   ]
  },
  {
   "cell_type": "code",
   "execution_count": null,
   "metadata": {},
   "outputs": [],
   "source": [
    "ax = sns.lineplot(x=\"time\", y=\"pMLKL\", data=mlklp)"
   ]
  },
  {
   "cell_type": "code",
   "execution_count": null,
   "metadata": {},
   "outputs": [],
   "source": []
  }
 ],
 "metadata": {
  "kernelspec": {
   "display_name": "Python 3",
   "language": "python",
   "name": "python3"
  },
  "language_info": {
   "codemirror_mode": {
    "name": "ipython",
    "version": 3
   },
   "file_extension": ".py",
   "mimetype": "text/x-python",
   "name": "python",
   "nbconvert_exporter": "python",
   "pygments_lexer": "ipython3",
   "version": "3.7.1"
  }
 },
 "nbformat": 4,
 "nbformat_minor": 2
}
