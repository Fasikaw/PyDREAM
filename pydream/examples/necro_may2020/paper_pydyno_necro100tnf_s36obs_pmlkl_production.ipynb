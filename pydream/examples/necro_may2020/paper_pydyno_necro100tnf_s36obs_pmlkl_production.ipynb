{
 "cells": [
  {
   "cell_type": "markdown",
   "metadata": {},
   "source": [
    "<h1><center>PyDyNo: Analysis of signal execution modes in biochemical networks</center></h1>\n",
    "<h1><center>Supplemental Material</center></h1>"
   ]
  },
  {
   "cell_type": "markdown",
   "metadata": {},
   "source": [
    "<font size=\"4\">This tutorial for PyDyNo will go through the analysis pipeline for analyzing the signal execution modes in a biochemical network. First, import the necessary packages to run the analysis, including importing your model.</font>"
   ]
  },
  {
   "cell_type": "code",
   "execution_count": null,
   "metadata": {},
   "outputs": [],
   "source": [
    "from necro_uncal_new_updated import model\n",
    "import pydyno\n",
    "from pylab import *\n",
    "from pysb.core import *\n",
    "from pysb.bng import *\n",
    "from pysb.integrate import *\n",
    "import matplotlib.pyplot as plt\n",
    "import numpy as np\n",
    "from pysb.util import alias_model_components\n",
    "from pysb.simulator import ScipyOdeSimulator\n",
    "import pandas as pd\n",
    "from scipy import stats\n",
    "from pysb.simulator import SimulationResult\n",
    "from pydyno.discretization.pysb_discretize import PysbDomPath\n",
    "from pydyno.seqanalysis import SeqAnalysis\n",
    "from pydyno.visualize_simulations import VisualizeSimulations\n",
    "from pydyno.visualize_discretization import visualization_path\n",
    "from pydyno.visualize_discretization import visualization_seq_paths\n",
    "import random\n",
    "import h5py\n",
    "%matplotlib inline"
   ]
  },
  {
   "cell_type": "markdown",
   "metadata": {},
   "source": [
    "<font size=\"4\">Following model calibration to obtain the fitted parameter sets for the model, the next step is to use the model and simulations from fitted parameter sets to identify the dominant paths and signatures in the network.</font>\n",
    "\n",
    "<font size=\"4\">For PySB models or SBML models, the `PysbDomPath` or `SbmlDomPath` functions will be used respectively to identify these dominant paths, and then obtaining signatures, and paths associated with the given model and simulation results. These results will discretize the simulated fitted model trajectories of a specific model species. </font>\n",
    "\n",
    "<font size=\"4\">Example:</font>\n",
    "```python\n",
    "tspan = np.linspace(0, 20000, 100)\n",
    "\n",
    "sim = ScipyOdeSimulator(model, tspan).run()\n",
    "\n",
    "dp = PysbDomPath(model=model, simulations=sim) or SbmlDomPath(model=model, simulations=sim)\n",
    "\n",
    "signatures, paths = dp.get_path_signatures(target='s37', type_analysis='consumption', depth=5, dom_om=1)\n",
    "```\n",
    "<font size=\"4\">Optional: To save your signatures for easier reload at another time, signatures can be saved using h5 below: </font>\n",
    "```python\n",
    "signatures.save('signatures_10k_1om_15depth_seqs_100tnf.h5')\n",
    "```"
   ]
  },
  {
   "cell_type": "markdown",
   "metadata": {},
   "source": [
    "<font size=\"4\">Below, you will specify your `tspan`, initiate your solver of choice, following the resulting `run` of your simulator. This tutorial will use `ScipyOdeSimulator`. Finally, save your result object as an `h5` file for future use. </font>\n",
    "\n",
    "<font size=\"4\">For reference loading your `h5` file: </font>\n",
    "```python\n",
    "sim10 = SimulationResult.load('necro_pydream_5chns_929_10tnf_updated_nokd.h5')\n",
    "```\n",
    "</font>"
   ]
  },
  {
   "cell_type": "code",
   "execution_count": null,
   "metadata": {},
   "outputs": [],
   "source": [
    "tspan = np.linspace(0, 1440, 1440)\n",
    "sim = ScipyOdeSimulator(model10, tspan=tspan, verbose = True)\n",
    "result = sim.run(param_values=all_pars2[:], num_processors = 20)\n",
    "result.save('necro_pydream_5chns_929_10tnf_updated_nokd_unique6707pars.h5')"
   ]
  },
  {
   "cell_type": "markdown",
   "metadata": {},
   "source": [
    "<font size=\"4\">Once you have obtained your simulation results from your fitted parameter sets, the next step is to import your `model` and simulation result object, `sim`, to the `PysbDomPath` function and obtain your `signatures` and `paths` information. </font>\n",
    "\n",
    "<font size=\"4\"> `dp.get_path_signatures` will require the `target`, your species index of interest, `type_analysis` which specify `consumption` or `production` of your `target` species. You will also specify the `depth`, of how many levels above your `target` node in the network you want to observe and analyze, and finally how many orders of magnitude `dom_om` in your network. </font>\n",
    "\n",
    "<font size=\"4\"> After obtaining the `signatures` and `paths`, you will take your signatures and calculate your `dissimilarity matrix` using `signatures.dissimilarity_matrix` </font>\n",
    "\n",
    "<font size=\"4\"> Optional to save your signatures for easy reload later, you can run: </font>\n",
    "\n",
    "```python \n",
    "signatures.save('signatures_10k_1om_sequences_100tnf_10000_new_14clusters.h5')```\n"
   ]
  },
  {
   "cell_type": "code",
   "execution_count": null,
   "metadata": {},
   "outputs": [],
   "source": [
    "dp = PysbDomPath(model10, sim)\n",
    "signatures, paths = dp.get_path_signatures(target='s36', type_analysis='production', \n",
    "                                             depth=15, dom_om=0.5, num_processors =20)\n",
    "signatures.dissimilarity_matrix(n_jobs=100)"
   ]
  },
  {
   "cell_type": "code",
   "execution_count": null,
   "metadata": {},
   "outputs": [],
   "source": [
    "signatures.save('signatures_10k_1om_sequences_100tnf_10000_new_14clusters.h5')"
   ]
  },
  {
   "cell_type": "markdown",
   "metadata": {},
   "source": [
    "# Seqanalysis Modules "
   ]
  },
  {
   "cell_type": "code",
   "execution_count": null,
   "metadata": {},
   "outputs": [],
   "source": [
    "# random.seed(3005)\n",
    "signatures.silhouette_score_spectral_range(range(2,20), n_jobs=100)"
   ]
  },
  {
   "cell_type": "code",
   "execution_count": null,
   "metadata": {},
   "outputs": [],
   "source": [
    "signatures.spectral_clustering(2)"
   ]
  },
  {
   "cell_type": "code",
   "execution_count": null,
   "metadata": {},
   "outputs": [],
   "source": [
    "vt = VisualizeSimulations(model100, sim_results='necro_pydream_5chns_929_100tnf_updated_nokd.h5', \n",
    "                          clusters=signatures.labels)"
   ]
  },
  {
   "cell_type": "code",
   "execution_count": null,
   "metadata": {},
   "outputs": [],
   "source": [
    "vt.plot_cluster_dynamics(components=['MLKLa_obs'])"
   ]
  },
  {
   "cell_type": "code",
   "execution_count": null,
   "metadata": {},
   "outputs": [],
   "source": [
    "# random.seed(3005)\n",
    "plt.figure(figsize = (20,30))\n",
    "signatures.plot_sequences(type_fig='modal')\n",
    "# plt.savefig('pydyno_necro100tnf_s36obs_pmlkl_production.pdf', format='pdf')\n",
    "plt.show()"
   ]
  },
  {
   "cell_type": "code",
   "execution_count": null,
   "metadata": {},
   "outputs": [],
   "source": [
    "pmlkl = model100.monomers['MLKL']\n",
    "vt.plot_pattern_sps_distribution(pattern=pmlkl(state='active'), type_fig='bar')\n",
    "plt.show()"
   ]
  },
  {
   "cell_type": "code",
   "execution_count": null,
   "metadata": {},
   "outputs": [],
   "source": [
    "paths.keys()"
   ]
  },
  {
   "cell_type": "code",
   "execution_count": null,
   "metadata": {},
   "outputs": [],
   "source": [
    "print('cluster 0')\n",
    "# print(signatures[1][32])\n",
    "print(np.where(signatures.labels[:1000]==0))"
   ]
  },
  {
   "cell_type": "code",
   "execution_count": null,
   "metadata": {},
   "outputs": [],
   "source": [
    "print('cluster 1')\n",
    "# print(signatures[1][32])\n",
    "print(np.where(signatures.labels[:1000]==0))"
   ]
  },
  {
   "cell_type": "code",
   "execution_count": null,
   "metadata": {},
   "outputs": [],
   "source": [
    "print('cluster 0')\n",
    "# print(signatures[1][32])\n",
    "print(np.where(signatures.labels[:1000]==0))"
   ]
  },
  {
   "cell_type": "code",
   "execution_count": null,
   "metadata": {},
   "outputs": [],
   "source": [
    "visualization_path(model, paths[135], type_analysis='production', \n",
    "                   filename='cluster0_arrestin_s36_production_1om_depth15_path135.png')\n",
    "visualization_path(model, paths[10], type_analysis='production', \n",
    "                   filename='cluster0_arrestin_s36_production_1om_depth15_path10.png')\n",
    "visualization_path(model, paths[173], type_analysis='production', \n",
    "                   filename='cluster0_arrestin_s36_production_1om_depth15_path173.png')\n",
    "visualization_path(model, paths[167], type_analysis='production', \n",
    "                   filename='cluster0_arrestin_s36_production_1om_depth15_path167.png')"
   ]
  },
  {
   "cell_type": "code",
   "execution_count": null,
   "metadata": {},
   "outputs": [],
   "source": [
    "visualization_seq_paths(sim, 0, signatures)"
   ]
  },
  {
   "cell_type": "code",
   "execution_count": null,
   "metadata": {},
   "outputs": [],
   "source": [
    "cluster_label_idxs = VisualizeSimulations.check_clusters_arg(signatures.labels, nsims=10000)"
   ]
  },
  {
   "cell_type": "code",
   "execution_count": null,
   "metadata": {},
   "outputs": [],
   "source": [
    "pars_cluster_0 = sims.param_values[cluster_label_idxs[0]]\n",
    "print(pars_cluster_0)"
   ]
  },
  {
   "cell_type": "code",
   "execution_count": null,
   "metadata": {},
   "outputs": [],
   "source": [
    "pars_cluster_0 = sims.param_values[cluster_labels_idxs[0]]"
   ]
  }
 ],
 "metadata": {
  "kernelspec": {
   "display_name": "Python 3",
   "language": "python",
   "name": "python3"
  },
  "language_info": {
   "codemirror_mode": {
    "name": "ipython",
    "version": 3
   },
   "file_extension": ".py",
   "mimetype": "text/x-python",
   "name": "python",
   "nbconvert_exporter": "python",
   "pygments_lexer": "ipython3",
   "version": "3.7.1"
  }
 },
 "nbformat": 4,
 "nbformat_minor": 2
}
