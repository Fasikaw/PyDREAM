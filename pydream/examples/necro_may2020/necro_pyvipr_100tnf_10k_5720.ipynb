{
 "cells": [
  {
   "cell_type": "code",
   "execution_count": 1,
   "metadata": {},
   "outputs": [],
   "source": [
    "import pyvipr.pysb_viz as pviz\n",
    "# from pyvipr.examples_models.mm_two_paths_model import model\n",
    "from pysb.simulator import ScipyOdeSimulator\n",
    "import numpy as np\n",
    "from necro_uncal_new_updated import model as model100\n",
    "from necro_uncal_new_10tnf import model as model10"
   ]
  },
  {
   "cell_type": "code",
   "execution_count": 2,
   "metadata": {},
   "outputs": [
    {
     "name": "stdout",
     "output_type": "stream",
     "text": [
      "10000\n"
     ]
    }
   ],
   "source": [
    "par_files = np.load('most_likely_par_10k_necropydream_may72020.npy')\n",
    "n_pars = len(par_files)\n",
    "all_pars = np.zeros((n_pars, len(model100.parameters)))\n",
    "\n",
    "rate_params = model100.parameters_rules() # these are only the parameters involved in the rules\n",
    "param_values = np.array([p.value for p in model100.parameters]) # these are all the parameters\n",
    "rate_mask = np.array([p in rate_params for p in model100.parameters])\n",
    "\n",
    "for i in range(n_pars):\n",
    "    par = par_files[i]\n",
    "    param_values[rate_mask] = 10 ** par\n",
    "    all_pars[i] = param_values\n",
    "print(len(all_pars))"
   ]
  },
  {
   "cell_type": "code",
   "execution_count": 4,
   "metadata": {},
   "outputs": [
    {
     "data": {
      "application/vnd.jupyter.widget-view+json": {
       "model_id": "0975d075d4d447f781f1b3ff6622b1fc",
       "version_major": 2,
       "version_minor": 0
      },
      "text/plain": [
       "Viz(data=<pysb.simulator.base.SimulationResult object at 0x7f5217c791d0>, layout_name='cose-bilkent', process=…"
      ]
     },
     "metadata": {},
     "output_type": "display_data"
    }
   ],
   "source": [
    "tspan = np.linspace(0, 1440, 100)\n",
    "sim1 = ScipyOdeSimulator(model100, tspan).run(param_values=all_pars[3528])\n",
    "pviz.sp_dyn_view(sim1)"
   ]
  },
  {
   "cell_type": "code",
   "execution_count": 26,
   "metadata": {},
   "outputs": [
    {
     "data": {
      "application/vnd.jupyter.widget-view+json": {
       "model_id": "29dca46aaf0d43279ff6cd4e78bc7985",
       "version_major": 2,
       "version_minor": 0
      },
      "text/plain": [
       "Viz(data=<Model 'necro_uncal_new_updated' (monomers: 16, rules: 25, parameters: 54, expressions: 0, compartmen…"
      ]
     },
     "metadata": {},
     "output_type": "display_data"
    }
   ],
   "source": [
    "sim1 = ScipyOdeSimulator(model100, tspan).run(param_values=all_pars[3528])\n",
    "pviz.sp_dyn_view(sim1)\n",
    "pviz.sp_comm_louvain_view(model100)"
   ]
  },
  {
   "cell_type": "code",
   "execution_count": 35,
   "metadata": {
    "scrolled": false
   },
   "outputs": [
    {
     "data": {
      "application/vnd.jupyter.widget-view+json": {
       "model_id": "a1241bba7505433daa02e257699e8232",
       "version_major": 2,
       "version_minor": 0
      },
      "text/plain": [
       "Viz(data=<pysb.simulator.base.SimulationResult object at 0x7f522dafe8d0>, layout_name='klay', process='consump…"
      ]
     },
     "metadata": {},
     "output_type": "display_data"
    }
   ],
   "source": [
    "pviz.sp_comm_dyn_view(sim1, random_state=1)"
   ]
  },
  {
   "cell_type": "code",
   "execution_count": 29,
   "metadata": {},
   "outputs": [
    {
     "data": {
      "application/vnd.jupyter.widget-view+json": {
       "model_id": "939749538eba4d69b37ba603a6f10856",
       "version_major": 2,
       "version_minor": 0
      },
      "text/plain": [
       "Viz(data=<pysb.simulator.base.SimulationResult object at 0x7f52173f74a8>, layout_name='klay', process='consump…"
      ]
     },
     "metadata": {},
     "output_type": "display_data"
    }
   ],
   "source": [
    "sim2 = ScipyOdeSimulator(model100, tspan).run(param_values=all_pars[6785])\n",
    "pviz.sp_comm_dyn_view(sim2, random_state=1)"
   ]
  },
  {
   "cell_type": "code",
   "execution_count": 31,
   "metadata": {},
   "outputs": [
    {
     "data": {
      "application/vnd.jupyter.widget-view+json": {
       "model_id": "3bc9a1b310bc445d845ee9491c725080",
       "version_major": 2,
       "version_minor": 0
      },
      "text/plain": [
       "Viz(data=<pysb.simulator.base.SimulationResult object at 0x7f52171f0cc0>, layout_name='klay', process='consump…"
      ]
     },
     "metadata": {},
     "output_type": "display_data"
    }
   ],
   "source": [
    "sim3 = ScipyOdeSimulator(model100, tspan).run(param_values=all_pars[5420])\n",
    "pviz.sp_comm_dyn_view(sim3, random_state=1)"
   ]
  },
  {
   "cell_type": "code",
   "execution_count": 30,
   "metadata": {},
   "outputs": [
    {
     "data": {
      "application/vnd.jupyter.widget-view+json": {
       "model_id": "89239b5f30db4db691fbc26d15493328",
       "version_major": 2,
       "version_minor": 0
      },
      "text/plain": [
       "Viz(data=<pysb.simulator.base.SimulationResult object at 0x7f5216947dd8>, layout_name='klay', process='consump…"
      ]
     },
     "metadata": {},
     "output_type": "display_data"
    }
   ],
   "source": [
    "sim4 = ScipyOdeSimulator(model100, tspan).run(param_values=all_pars[4230])\n",
    "pviz.sp_comm_dyn_view(sim4, random_state=1)"
   ]
  },
  {
   "cell_type": "code",
   "execution_count": null,
   "metadata": {},
   "outputs": [],
   "source": []
  }
 ],
 "metadata": {
  "kernelspec": {
   "display_name": "Python 3",
   "language": "python",
   "name": "python3"
  },
  "language_info": {
   "codemirror_mode": {
    "name": "ipython",
    "version": 3
   },
   "file_extension": ".py",
   "mimetype": "text/x-python",
   "name": "python",
   "nbconvert_exporter": "python",
   "pygments_lexer": "ipython3",
   "version": "3.7.3"
  }
 },
 "nbformat": 4,
 "nbformat_minor": 4
}
