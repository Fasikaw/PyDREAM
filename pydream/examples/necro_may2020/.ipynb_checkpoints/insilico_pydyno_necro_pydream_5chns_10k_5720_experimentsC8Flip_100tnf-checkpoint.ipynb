{
 "cells": [
  {
   "cell_type": "code",
   "execution_count": 12,
   "metadata": {},
   "outputs": [],
   "source": [
    "import os\n",
    "os.environ[\"OMP_NUM_THREADS\"] = \"1\"\n",
    "os.environ[\"OPENBLAS_NUM_THREADS\"] = \"1\"\n",
    "from pylab import *\n",
    "from pysb.core import *\n",
    "from pysb.bng import *\n",
    "from pysb.integrate import *\n",
    "import matplotlib.pyplot as plt\n",
    "import numpy as np\n",
    "from pysb.util import alias_model_components\n",
    "from pysb.simulator import CupSodaSimulator\n",
    "from pysb.simulator import ScipyOdeSimulator\n",
    "from pysb.simulator.bng import BngSimulator\n",
    "from necro_uncal_new_updated import model as model100\n",
    "# from necro_uncal_new_10tnf import model as model10\n",
    "# from necro_uncal_new_1tnf import model as model1\n",
    "# from necro_uncal_new_01tnf import model as model01\n",
    "import pandas as pd\n",
    "# alias_model_components(model100, model10, model1, model01)\n",
    "from scipy import stats\n",
    "from pysb.simulator import SimulationResult\n",
    "import seaborn as sns"
   ]
  },
  {
   "cell_type": "code",
   "execution_count": 2,
   "metadata": {},
   "outputs": [
    {
     "name": "stdout",
     "output_type": "stream",
     "text": [
      "[(TNF(brec=None), Parameter('TNF_0', 2326.0)), (TNFR(blig=None, brip=None, bDD=None), Parameter('TNFR_0', 4800.0)), (TRADD(brec=None, brip=None, state='unmod', bDD1=None, bDD2=None), Parameter('TRADD_0', 4696.0)), (RIP1(bscf=None, bub1=None, bub2=None, bub3=None, bDD=None, btraf=None, bRHIM=None, bMLKL=None, state='unmod'), Parameter('RIP1_0', 40000.0)), (TRAF(brip=None, bciap=None, bcyld=None, state='unmod'), Parameter('TRAF_0', 11776.0)), (cIAP(btraf=None), Parameter('cIAP_0', 9000.0)), (MLKL(bRHIM=None, state='unmod'), Parameter('MLKLa_0', 5544.0)), (A20(brip=None), Parameter('A20_0', 9000.0)), (CYLD(brip=None, btraf=None), Parameter('CYLD_0', 9000.0)), (FADD(bDD=None, bDED1=None, bDED2=None), Parameter('FADD_0', 3109.0)), (RIP3(bRHIM=None, bDD=None, state='unmod'), Parameter('RIP3_0', 10654.0)), (flip_L(bDED=None, state='A'), Parameter('flip_L_0', 3900.0)), (LUBAC(brip=None), Parameter('Lubac_0', 7226.0)), (C8(bf=None, flip=None, state='I'), Parameter('C8_0', 3799.0))]\n"
     ]
    }
   ],
   "source": [
    "print(list(model100.initial_conditions))"
   ]
  },
  {
   "cell_type": "code",
   "execution_count": 119,
   "metadata": {},
   "outputs": [
    {
     "name": "stdout",
     "output_type": "stream",
     "text": [
      "10000\n"
     ]
    }
   ],
   "source": [
    "from necro_uncal_new_10tnf import model as model10\n",
    "par_files = np.load('most_likely_par_10k_necropydream_may72020.npy')\n",
    "n_pars = len(par_files)\n",
    "all_pars = np.zeros((n_pars, len(model100.parameters)))\n",
    "\n",
    "rate_params = model100.parameters_rules() # these are only the parameters involved in the rules\n",
    "param_values = np.array([p.value for p in model100.parameters]) # these are all the parameters\n",
    "rate_mask = np.array([p in rate_params for p in model100.parameters])\n",
    "\n",
    "for i in range(n_pars):\n",
    "    par = par_files[i]\n",
    "    param_values[rate_mask] = 10 ** par\n",
    "    all_pars[i] = param_values\n",
    "print(len(all_pars))"
   ]
  },
  {
   "cell_type": "code",
   "execution_count": 120,
   "metadata": {},
   "outputs": [
    {
     "name": "stdout",
     "output_type": "stream",
     "text": [
      "10000\n"
     ]
    }
   ],
   "source": [
    "par_files = np.load('most_likely_par_10k_necropydream_may72020.npy')\n",
    "n_pars = len(par_files)\n",
    "all_pars2 = np.zeros((n_pars, len(model10.parameters)))\n",
    "\n",
    "rate_params = model10.parameters_rules() # these are only the parameters involved in the rules\n",
    "param_values = np.array([p.value for p in model10.parameters]) # these are all the parameters\n",
    "rate_mask = np.array([p in rate_params for p in model10.parameters])\n",
    "\n",
    "for i in range(n_pars):\n",
    "    par = par_files[i]\n",
    "    param_values[rate_mask] = 10 ** par\n",
    "    all_pars2[i] = param_values\n",
    "print(len(all_pars2)) "
   ]
  },
  {
   "cell_type": "code",
   "execution_count": 3,
   "metadata": {},
   "outputs": [
    {
     "name": "stdout",
     "output_type": "stream",
     "text": [
      "[[2.32600000e+03 4.80000000e+03 4.69600000e+03 ... 2.16973042e+00\n",
      "  9.34925296e+01 1.41543684e+02]\n",
      " [2.32600000e+03 4.80000000e+03 4.69600000e+03 ... 2.23896415e+01\n",
      "  2.52791816e+03 1.33941234e+04]\n",
      " [2.32600000e+03 4.80000000e+03 4.69600000e+03 ... 3.25574050e+01\n",
      "  1.96875711e+03 1.63870955e+04]\n",
      " ...\n",
      " [2.32600000e+03 4.80000000e+03 4.69600000e+03 ... 1.68690089e+01\n",
      "  1.09917663e+00 2.84971254e+03]\n",
      " [2.32600000e+03 4.80000000e+03 4.69600000e+03 ... 1.66765940e-01\n",
      "  4.26946865e-02 2.04521637e+01]\n",
      " [2.32600000e+03 4.80000000e+03 4.69600000e+03 ... 2.49212806e-02\n",
      "  4.04816999e-03 5.62849883e+00]]\n"
     ]
    }
   ],
   "source": [
    "clus0_100 = np.load('necro_pars10k_cluster0_5720.npy')\n",
    "clus1_100 = np.load('necro_pars10k_cluster1_5720.npy')\n",
    "clus2_100 = np.load('necro_pars10k_cluster2_5720.npy')\n",
    "clus3_100 = np.load('necro_pars10k_cluster3_5720.npy')"
   ]
  },
  {
   "cell_type": "code",
   "execution_count": 97,
   "metadata": {},
   "outputs": [
    {
     "name": "stdout",
     "output_type": "stream",
     "text": [
      "3644\n",
      "1492\n",
      "2042\n",
      "2822\n"
     ]
    }
   ],
   "source": [
    "print(len(clus0_100))\n",
    "print(len(clus1_100))\n",
    "print(len(clus2_100))\n",
    "print(len(clus3_100))"
   ]
  },
  {
   "cell_type": "code",
   "execution_count": 121,
   "metadata": {},
   "outputs": [
    {
     "name": "stderr",
     "output_type": "stream",
     "text": [
      "2020-05-19 03:09:18.354 - pysb.simulator.scipyode - DEBUG - [necro_uncal_new_updated] Simulator created\n",
      "2020-05-19 03:09:18.360 - pysb.simulator.scipyode - DEBUG - [necro_uncal_new_updated] Equation mode set to \"cython\"\n",
      "2020-05-19 03:09:18.397 - pysb.simulator.scipyode - INFO - [necro_uncal_new_updated] Simulation(s) started\n",
      "2020-05-19 03:09:19.179 - pysb.simulator.scipyode - DEBUG - [necro_uncal_new_updated] Multi-processor (parallel) mode using 10 processes\n",
      "2020-05-19 03:11:53.987 - pysb.simulator.scipyode - INFO - [necro_uncal_new_updated] All simulation(s) complete\n",
      "2020-05-19 03:11:53.988 - pysb.simulator.scipyode - DEBUG - [necro_uncal_new_updated] SimulationResult constructor started\n",
      "2020-05-19 03:11:56.895 - pysb.simulator.scipyode - DEBUG - [necro_uncal_new_updated] SimulationResult constructor finished\n"
     ]
    }
   ],
   "source": [
    "tspan = np.linspace(0, 1440, 300)\n",
    "solver100 = ScipyOdeSimulator(model100, tspan=tspan, verbose = True)\n",
    "result100 = solver100.run(param_values=all_pars, num_processors = 10)"
   ]
  },
  {
   "cell_type": "code",
   "execution_count": null,
   "metadata": {},
   "outputs": [],
   "source": [
    "tspan = np.linspace(0, 1440, 300)\n",
    "solver10 = ScipyOdeSimulator(model10, tspan=tspan, verbose = True)\n",
    "result10 = solver10.run(param_values=all_pars2, num_processors = 10)"
   ]
  },
  {
   "cell_type": "code",
   "execution_count": 4,
   "metadata": {},
   "outputs": [],
   "source": [
    "m = model100.components "
   ]
  },
  {
   "cell_type": "markdown",
   "metadata": {},
   "source": [
    "# 100 TNF CLUSTER 0 DYNAMICS"
   ]
  },
  {
   "cell_type": "code",
   "execution_count": 5,
   "metadata": {},
   "outputs": [
    {
     "name": "stderr",
     "output_type": "stream",
     "text": [
      "2020-05-18 18:36:30.352 - pysb.simulator.scipyode - DEBUG - [necro_uncal_new_updated] Simulator created\n"
     ]
    },
    {
     "name": "stdout",
     "output_type": "stream",
     "text": [
      "running simulations cluster 0 100 TNF\n"
     ]
    },
    {
     "name": "stderr",
     "output_type": "stream",
     "text": [
      "2020-05-18 18:36:30.828 - pysb.simulator.scipyode - DEBUG - [necro_uncal_new_updated] Equation mode set to \"cython\"\n",
      "2020-05-18 18:36:30.890 - pysb.simulator.scipyode - INFO - [necro_uncal_new_updated] Simulation(s) started\n",
      "2020-05-18 18:36:31.190 - pysb.simulator.scipyode - DEBUG - [necro_uncal_new_updated] Multi-processor (parallel) mode using 12 processes\n",
      "2020-05-18 18:37:31.496 - pysb.simulator.scipyode - INFO - [necro_uncal_new_updated] All simulation(s) complete\n",
      "2020-05-18 18:37:31.496 - pysb.simulator.scipyode - DEBUG - [necro_uncal_new_updated] SimulationResult constructor started\n",
      "2020-05-18 18:37:32.599 - pysb.simulator.scipyode - DEBUG - [necro_uncal_new_updated] SimulationResult constructor finished\n"
     ]
    }
   ],
   "source": [
    "print('running simulations cluster 0 100 TNF')\n",
    "tspan = np.linspace(0, 1440, 300)\n",
    "solverwt0 = ScipyOdeSimulator(model100, tspan=tspan, verbose = True)\n",
    "wtclus0 = solverwt0.run(param_values=clus0_100, num_processors = 12)\n",
    "# sim0.save('pydyno_s36prod_5k_5620_100tnf_cluster0pars_wt.h5',include_obs_exprs = True)\n",
    "# wt100_0 = sim0.dataframe"
   ]
  },
  {
   "cell_type": "code",
   "execution_count": 6,
   "metadata": {},
   "outputs": [
    {
     "name": "stderr",
     "output_type": "stream",
     "text": [
      "2020-05-18 18:37:32.606 - pysb.simulator.scipyode - DEBUG - [necro_uncal_new_updated] Simulator created\n",
      "2020-05-18 18:37:32.610 - pysb.simulator.scipyode - DEBUG - [necro_uncal_new_updated] Equation mode set to \"cython\"\n",
      "2020-05-18 18:37:32.651 - pysb.simulator.scipyode - INFO - [necro_uncal_new_updated] Simulation(s) started\n"
     ]
    },
    {
     "name": "stdout",
     "output_type": "stream",
     "text": [
      "running simulations cluster 0 A20 KO\n"
     ]
    },
    {
     "name": "stderr",
     "output_type": "stream",
     "text": [
      "2020-05-18 18:37:32.945 - pysb.simulator.scipyode - DEBUG - [necro_uncal_new_updated] Multi-processor (parallel) mode using 12 processes\n",
      "2020-05-18 18:38:34.377 - pysb.simulator.scipyode - INFO - [necro_uncal_new_updated] All simulation(s) complete\n",
      "2020-05-18 18:38:34.378 - pysb.simulator.scipyode - DEBUG - [necro_uncal_new_updated] SimulationResult constructor started\n",
      "2020-05-18 18:38:35.490 - pysb.simulator.scipyode - DEBUG - [necro_uncal_new_updated] SimulationResult constructor finished\n"
     ]
    }
   ],
   "source": [
    "print('running simulations cluster 0 A20 KO')\n",
    "tspan = np.linspace(0, 1440, 300)\n",
    "solvera200 = ScipyOdeSimulator(model100, tspan=tspan, verbose = True)\n",
    "a20clus0 = solvera200.run(initials = {m.A20(brip = None):0},\n",
    "                         param_values=clus0_100, num_processors = 12)\n",
    "# a20clus0.save('pydyno_s36prod_5k_5620_100tnf_cluster0pars_a20ko.h5',include_obs_exprs = True)\n",
    "# df0_100 = a20clus0.dataframe"
   ]
  },
  {
   "cell_type": "code",
   "execution_count": 7,
   "metadata": {},
   "outputs": [
    {
     "name": "stderr",
     "output_type": "stream",
     "text": [
      "2020-05-18 18:38:35.499 - pysb.simulator.scipyode - DEBUG - [necro_uncal_new_updated] Simulator created\n",
      "2020-05-18 18:38:35.503 - pysb.simulator.scipyode - DEBUG - [necro_uncal_new_updated] Equation mode set to \"cython\"\n",
      "2020-05-18 18:38:35.534 - pysb.simulator.scipyode - INFO - [necro_uncal_new_updated] Simulation(s) started\n"
     ]
    },
    {
     "name": "stdout",
     "output_type": "stream",
     "text": [
      "running simulations cluster 0 CYLD KO\n"
     ]
    },
    {
     "name": "stderr",
     "output_type": "stream",
     "text": [
      "2020-05-18 18:38:35.829 - pysb.simulator.scipyode - DEBUG - [necro_uncal_new_updated] Multi-processor (parallel) mode using 12 processes\n",
      "2020-05-18 18:39:22.648 - pysb.simulator.scipyode - INFO - [necro_uncal_new_updated] All simulation(s) complete\n",
      "2020-05-18 18:39:22.649 - pysb.simulator.scipyode - DEBUG - [necro_uncal_new_updated] SimulationResult constructor started\n",
      "2020-05-18 18:39:23.777 - pysb.simulator.scipyode - DEBUG - [necro_uncal_new_updated] SimulationResult constructor finished\n"
     ]
    }
   ],
   "source": [
    "print('running simulations cluster 0 CYLD KO')\n",
    "tspan = np.linspace(0, 1440, 300)\n",
    "solvercyld0 = ScipyOdeSimulator(model100, tspan=tspan, verbose = True)\n",
    "cyldclus0 = solvercyld0.run(initials = {m.CYLD(brip=None, btraf = None):0},\n",
    "                         param_values=clus0_100, num_processors = 12)\n",
    "# simclus000.save('pydyno_s36prod_5k_5620_100tnf_cluster0pars_cyldko.h5',include_obs_exprs = True)\n",
    "# c0_100_cyldko = simclus000.dataframe"
   ]
  },
  {
   "cell_type": "code",
   "execution_count": 100,
   "metadata": {},
   "outputs": [
    {
     "name": "stderr",
     "output_type": "stream",
     "text": [
      "2020-05-18 21:10:00.310 - pysb.simulator.scipyode - DEBUG - [necro_uncal_new_updated] Simulator created\n",
      "2020-05-18 21:10:00.315 - pysb.simulator.scipyode - DEBUG - [necro_uncal_new_updated] Equation mode set to \"cython\"\n",
      "2020-05-18 21:10:00.348 - pysb.simulator.scipyode - INFO - [necro_uncal_new_updated] Simulation(s) started\n"
     ]
    },
    {
     "name": "stdout",
     "output_type": "stream",
     "text": [
      "running simulations cluster 0 CYLD KO\n"
     ]
    },
    {
     "name": "stderr",
     "output_type": "stream",
     "text": [
      "2020-05-18 21:10:00.646 - pysb.simulator.scipyode - DEBUG - [necro_uncal_new_updated] Multi-processor (parallel) mode using 12 processes\n",
      "2020-05-18 21:11:36.561 - pysb.simulator.scipyode - INFO - [necro_uncal_new_updated] All simulation(s) complete\n",
      "2020-05-18 21:11:36.562 - pysb.simulator.scipyode - DEBUG - [necro_uncal_new_updated] SimulationResult constructor started\n",
      "2020-05-18 21:11:41.017 - pysb.simulator.scipyode - DEBUG - [necro_uncal_new_updated] SimulationResult constructor finished\n"
     ]
    }
   ],
   "source": [
    "print('running simulations cluster 0 CYLD KO')\n",
    "tspan = np.linspace(0, 7680, 5000)\n",
    "solvercyld00 = ScipyOdeSimulator(model100, tspan=tspan, verbose = True)\n",
    "cyldclus00 = solvercyld00.run(initials = {m.CYLD(brip=None, btraf = None):0},\n",
    "                         param_values=clus0_100, num_processors = 12)\n",
    "df4 = cyldclus00.dataframe"
   ]
  },
  {
   "cell_type": "code",
   "execution_count": 93,
   "metadata": {},
   "outputs": [],
   "source": [
    "df4 = cyldclus00.dataframe"
   ]
  },
  {
   "cell_type": "code",
   "execution_count": 18,
   "metadata": {},
   "outputs": [],
   "source": [
    "df1 = wtclus0.dataframe\n",
    "df2 = a20clus0.dataframe\n",
    "df3 = cyldclus0.dataframe"
   ]
  },
  {
   "cell_type": "code",
   "execution_count": 56,
   "metadata": {},
   "outputs": [],
   "source": [
    "df1[df1 < 1e-7] = 0\n",
    "df2[df2 < 1e-7] = 0\n",
    "df3[df3 < 1e-7] = 0"
   ]
  },
  {
   "cell_type": "code",
   "execution_count": 124,
   "metadata": {},
   "outputs": [
    {
     "data": {
      "image/png": "[encoded data removed]",
      "text/plain": [
       "<Figure size 432x288 with 1 Axes>"
      ]
     },
     "metadata": {
      "needs_background": "light"
     },
     "output_type": "display_data"
    }
   ],
   "source": [
    "#FOR PLOTTING PERCENTILES \n",
    "\n",
    "# x10 = np.array([0, 30, 90, 270, 480,600, 720, 840, 960])\n",
    "# # x102 = np.array([600, 720, 840, 960])\n",
    "# y10 = np.array([0, 0.0106013664572332,0.00519576571714913,0.02967443048221,0.050022163974868,\n",
    "#                 0.088128107774737, 0.17, 0.30055140114867, 0.47])\n",
    "# # y102 = np.array([0.088128107774737, 0.17, 0.30055140114867, 0.47])\n",
    "\n",
    "# x100 = np.array([0, 30, 90, 270,480, 600, 720, 840, 960])\n",
    "# # x1002 = np.array([480, 600, 720, 840, 960])\n",
    "# y100 = np.array([0, 0.00885691708746097,0.0161886154261265,0.0373005242261882,\n",
    "#                   0.2798939020159581, 0.510, .8097294067, 0.95,0.98])\n",
    "\n",
    "x1001 = np.array([0, 30, 90, 270])\n",
    "x1002 = np.array([480, 720, 960])\n",
    "y1001 = np.array([0, 0.00885691708746097,0.0161886154261265,0.0373005242261882])\n",
    "y1002 = np.array([0.2798939020159581, .7797294067, 0.98])\n",
    "# plt.figure()\n",
    "\n",
    "x101 = np.array([0, 30, 90, 270, 480])\n",
    "x102 = np.array([720, 960])\n",
    "y101 = np.array([0, 0.0106013664572332,0.00519576571714913,0.02967443048221,0.050022163974868])\n",
    "y102 = np.array([0.17, 0.47])\n",
    "# Combine the results dataframes into a single dataframe with a 'group' index,\n",
    "# in addition to \"simulation\" and \"time\" indexes\n",
    "df = pd.concat([wtclus0.dataframe, a20clus0.dataframe, cyldclus0.dataframe],\n",
    "               keys=['wt', 'a20ko', 'cyldko'],\n",
    "               names=['group', 'simulation', 'time'])\n",
    "\n",
    "# Add observable/group pairs as needed\n",
    "obs_to_plot = {\n",
    "    ('MLKLa_obs', 'wt'): 'blue',\n",
    "    ('MLKLa_obs', 'a20ko'): 'red',\n",
    "    ('MLKLa_obs', 'cyldko'): 'orange'\n",
    "}\n",
    "\n",
    "lower_quantile = 0.1  # 10%\n",
    "upper_quantile = 0.9  # 90%\n",
    "median = 0.5\n",
    "\n",
    "fig, ax = plt.subplots()\n",
    "# plt.figure()\n",
    "legend_keys = []\n",
    "# for obs_pair, colour in obs_to_plot.items():\n",
    "#     obs, group = obs_pair\n",
    "#     # Calculate 10%, 50%, and 90% quantiles for observable\n",
    "#     quantile_data = df[obs].loc[group].groupby(['time']).quantile(\n",
    "#         q=[lower_quantile, median, upper_quantile]).unstack()\n",
    "#     time_hrs = quantile_data.index / 60\n",
    "#     # Plot the median line (50% quantile) for the observable\n",
    "#     ax.plot(time_hrs, quantile_data.loc[:, median], color=colour, alpha = 1.0)\n",
    "#     # Plot the 10% and 90% quantiles as an envelope\n",
    "#     ax.fill_between(time_hrs,\n",
    "#                     quantile_data.loc[:, lower_quantile],\n",
    "#                     quantile_data.loc[:, upper_quantile],\n",
    "#                     color=colour,\n",
    "#                     alpha=.1)\n",
    "for obs_pair, colour in obs_to_plot.items():\n",
    "    obs, group = obs_pair\n",
    "    # Calculate 10%, 50%, and 90% quantiles for observable\n",
    "    quantile_data = df[obs].loc[group].groupby(['time']).quantile(\n",
    "        q=[lower_quantile, median, upper_quantile]).unstack()\n",
    "    time_hrs = quantile_data.index / 60\n",
    "    # Plot the median line (50% quantile) for the observable\n",
    "    ax.plot(time_hrs, quantile_data.loc[:, median], color=colour, alpha = 1.0)\n",
    "    # Plot the 10% and 90% quantiles as an envelope\n",
    "    ax.fill_between(time_hrs,\n",
    "                    quantile_data.loc[:, lower_quantile],\n",
    "                    quantile_data.loc[:, upper_quantile],\n",
    "                    color=colour,\n",
    "                    alpha=.1)\n",
    "# Add the legend\n",
    "\n",
    "# plt.legend([f'{obs} {group}' for obs, group in obs_to_plot.keys()])\n",
    "plt.title('A20 vs CYLD KO Cluster 0 with 100ng/ml of TNF',fontsize=14) # Title\n",
    "plt.ylabel('Amount [molecules/cell]', fontsize = 14) # Y label\n",
    "plt.xlabel('Time (hours)', fontsize = 14) # X label\n",
    "plt.xlim(xmax =24)\n",
    "plt.ylim(ymin = 1e-3)\n",
    "# Add axis labels and title\n",
    "# plt.set(xlabel='Time (hours)', ylabel='Amount [molecules/cell]', title=f'{model100.name}', fontsize = 14)\n",
    "# Add grid\n",
    "# ax.grid()\n",
    "# plt.scatter(x101/60, y101*5544)\n",
    "# plt.scatter(x101/60, y1002*5544)\n",
    "fig.savefig(\"necro_10k_5720_clus0med_100tnf_quant.pdf\")\n",
    "# plt.errorbar(x1001/60, y1001,\n",
    "#              yerr=[(0, 0.00885691708746097,0.0161886154261265,0.0373005242261882),\n",
    "#              (.10,.10,.10,.10)],\n",
    "#                    fmt='.k', ecolor ='black', alpha = 0.75, label ='100 ng/ml', zorder = 2)\n",
    "# plt.errorbar(x1002/60, y1002,\n",
    "#              yerr= .10, fmt='.k', ecolor ='black', alpha = 0.75, label ='100 ng/ml', zorder = 2)\n",
    "# plt.errorbar(x100/60, y10*5544, yerr=350, fmt='.k', ecolor = 'blue', alpha = 0.5, label ='10 ng/ml')\n",
    "# plt.errorbar(x100/60, y100*5544, yerr=350, fmt='.k', ecolor ='green', alpha = 0.5, label ='100 ng/ml')\n",
    "plt.errorbar(x1001/60, y1001*5544,\n",
    "             yerr=[(0, 0.00885691708746097*5544,0.0161886154261265*5544,0.0373005242261882*5544),\n",
    "             (400,400,400,400)],\n",
    "                   fmt='.k', ecolor ='black', alpha = 0.75, label ='10 ng/ml', zorder = 2)\n",
    "plt.errorbar(x1002/60, y1002*5544,\n",
    "             yerr= 400, fmt='.k', ecolor ='black', alpha = 0.75, label ='10 ng/ml', zorder = 2)\n",
    "# plt.errorbar(x101/60, y101*5544,\n",
    "#              yerr=[(0, 0.0106013664572332*5544,0.00519576571714913*5544,0.02967443048221*5544,\n",
    "#                     0.050022163974868*5544),\n",
    "#              (400,400,400,400,400)],\n",
    "#                    fmt='.k', ecolor ='black', alpha = 0.75, label ='10 ng/ml', zorder = 2)\n",
    "# plt.errorbar(x102/60, y102*5544,\n",
    "#              yerr= 400, fmt='.k', ecolor ='black', alpha = 0.75, label ='10 ng/ml', zorder = 2)\n",
    "custom_lines = [Line2D([0], [0], color='blue', lw=4),\n",
    "                Line2D([0], [0], color='red', lw=4),\n",
    "                Line2D([0], [0], color='orange', lw=4),\n",
    "                Line2D([0], [0], color='black', lw=4)]\n",
    "plt.legend(custom_lines, ['WT', 'A20KO', 'CYLDKO', 'Data'], prop={'size': 10}, loc = 'best')\n",
    "plt.show()"
   ]
  },
  {
   "cell_type": "code",
   "execution_count": null,
   "metadata": {},
   "outputs": [],
   "source": []
  },
  {
   "cell_type": "code",
   "execution_count": null,
   "metadata": {},
   "outputs": [],
   "source": []
  },
  {
   "cell_type": "markdown",
   "metadata": {},
   "source": [
    "# 100 TNF CLUSTER 1 DYNAMICS"
   ]
  },
  {
   "cell_type": "code",
   "execution_count": 104,
   "metadata": {},
   "outputs": [
    {
     "name": "stderr",
     "output_type": "stream",
     "text": [
      "2020-05-18 21:21:14.562 - pysb.simulator.scipyode - DEBUG - [necro_uncal_new_updated] Simulator created\n",
      "2020-05-18 21:21:14.611 - pysb.simulator.scipyode - DEBUG - [necro_uncal_new_updated] Equation mode set to \"cython\"\n",
      "2020-05-18 21:21:14.744 - pysb.simulator.scipyode - INFO - [necro_uncal_new_updated] Simulation(s) started\n"
     ]
    },
    {
     "name": "stdout",
     "output_type": "stream",
     "text": [
      "running simulations cluster 1 100 TNF\n"
     ]
    },
    {
     "name": "stderr",
     "output_type": "stream",
     "text": [
      "2020-05-18 21:21:15.081 - pysb.simulator.scipyode - DEBUG - [necro_uncal_new_updated] Multi-processor (parallel) mode using 10 processes\n",
      "2020-05-18 21:21:41.452 - pysb.simulator.scipyode - INFO - [necro_uncal_new_updated] All simulation(s) complete\n",
      "2020-05-18 21:21:41.453 - pysb.simulator.scipyode - DEBUG - [necro_uncal_new_updated] SimulationResult constructor started\n",
      "2020-05-18 21:21:41.914 - pysb.simulator.scipyode - DEBUG - [necro_uncal_new_updated] SimulationResult constructor finished\n"
     ]
    }
   ],
   "source": [
    "print('running simulations cluster 1 100 TNF')\n",
    "tspan = np.linspace(0, 1440, 300)\n",
    "solverwt1 = ScipyOdeSimulator(model100, tspan=tspan, verbose = True)\n",
    "wtclus1 = solverwt1.run(param_values=clus1_100, num_processors = 10)\n",
    "# sim1.save('pydyno_s36prod_5k_5620_100tnf_cluster1pars_wt.h5',include_obs_exprs = True)\n",
    "# wt100_1 = sim1.dataframe"
   ]
  },
  {
   "cell_type": "code",
   "execution_count": 105,
   "metadata": {},
   "outputs": [
    {
     "name": "stderr",
     "output_type": "stream",
     "text": [
      "2020-05-18 21:21:41.921 - pysb.simulator.scipyode - DEBUG - [necro_uncal_new_updated] Simulator created\n",
      "2020-05-18 21:21:41.926 - pysb.simulator.scipyode - DEBUG - [necro_uncal_new_updated] Equation mode set to \"cython\"\n",
      "2020-05-18 21:21:41.958 - pysb.simulator.scipyode - INFO - [necro_uncal_new_updated] Simulation(s) started\n",
      "2020-05-18 21:21:42.096 - pysb.simulator.scipyode - DEBUG - [necro_uncal_new_updated] Multi-processor (parallel) mode using 12 processes\n"
     ]
    },
    {
     "name": "stdout",
     "output_type": "stream",
     "text": [
      "running simulations cluster 1 100 TNF\n"
     ]
    },
    {
     "name": "stderr",
     "output_type": "stream",
     "text": [
      "2020-05-18 21:22:08.348 - pysb.simulator.scipyode - INFO - [necro_uncal_new_updated] All simulation(s) complete\n",
      "2020-05-18 21:22:08.349 - pysb.simulator.scipyode - DEBUG - [necro_uncal_new_updated] SimulationResult constructor started\n",
      "2020-05-18 21:22:08.824 - pysb.simulator.scipyode - DEBUG - [necro_uncal_new_updated] SimulationResult constructor finished\n"
     ]
    }
   ],
   "source": [
    "print('running simulations cluster 1 100 TNF')\n",
    "tspan = np.linspace(0, 1440, 300)\n",
    "solvera201 = ScipyOdeSimulator(model100, tspan=tspan, verbose = True)\n",
    "a20clus1 = solvera201.run(initials = {m.A20(brip = None):0},\n",
    "                         param_values=clus1_100, num_processors = 12)\n",
    "# a20clus1.save('pydyno_s36prod_5k_5620_100tnf_cluster1pars_a20ko.h5',include_obs_exprs = True)\n",
    "# df1_100 = a20clus1.dataframe"
   ]
  },
  {
   "cell_type": "code",
   "execution_count": 106,
   "metadata": {},
   "outputs": [
    {
     "name": "stderr",
     "output_type": "stream",
     "text": [
      "2020-05-18 21:22:08.831 - pysb.simulator.scipyode - DEBUG - [necro_uncal_new_updated] Simulator created\n",
      "2020-05-18 21:22:08.835 - pysb.simulator.scipyode - DEBUG - [necro_uncal_new_updated] Equation mode set to \"cython\"\n",
      "2020-05-18 21:22:08.867 - pysb.simulator.scipyode - INFO - [necro_uncal_new_updated] Simulation(s) started\n",
      "2020-05-18 21:22:09.009 - pysb.simulator.scipyode - DEBUG - [necro_uncal_new_updated] Multi-processor (parallel) mode using 12 processes\n"
     ]
    },
    {
     "name": "stdout",
     "output_type": "stream",
     "text": [
      "running simulations cluster 1 WT\n"
     ]
    },
    {
     "name": "stderr",
     "output_type": "stream",
     "text": [
      "2020-05-18 21:22:27.841 - pysb.simulator.scipyode - INFO - [necro_uncal_new_updated] All simulation(s) complete\n",
      "2020-05-18 21:22:27.842 - pysb.simulator.scipyode - DEBUG - [necro_uncal_new_updated] SimulationResult constructor started\n",
      "2020-05-18 21:22:28.309 - pysb.simulator.scipyode - DEBUG - [necro_uncal_new_updated] SimulationResult constructor finished\n"
     ]
    }
   ],
   "source": [
    "print('running simulations cluster 1 WT')\n",
    "tspan = np.linspace(0, 1440, 300)\n",
    "solvercyld1 = ScipyOdeSimulator(model100, tspan=tspan, verbose = True)\n",
    "cyldclus1 = solvercyld1.run(initials = {m.CYLD(brip=None, btraf = None):0},\n",
    "                         param_values=clus1_100, num_processors = 12)\n",
    "# simclus111.save('pydyno_s36prod_5k_5620_100tnf_cluster1pars_cyldko.h5',include_obs_exprs = True)\n",
    "# c1_100_cyldko= simclus111.dataframe"
   ]
  },
  {
   "cell_type": "code",
   "execution_count": 128,
   "metadata": {},
   "outputs": [
    {
     "data": {
      "image/png": "[encoded data removed]",
      "text/plain": [
       "<Figure size 432x288 with 1 Axes>"
      ]
     },
     "metadata": {
      "needs_background": "light"
     },
     "output_type": "display_data"
    }
   ],
   "source": [
    "#FOR PLOTTING PERCENTILES \n",
    "\n",
    "# x10 = np.array([0, 30, 90, 270, 480,600, 720, 840, 960])\n",
    "# # x102 = np.array([600, 720, 840, 960])\n",
    "# y10 = np.array([0, 0.0106013664572332,0.00519576571714913,0.02967443048221,0.050022163974868,\n",
    "#                 0.088128107774737, 0.17, 0.30055140114867, 0.47])\n",
    "# # y102 = np.array([0.088128107774737, 0.17, 0.30055140114867, 0.47])\n",
    "\n",
    "# x100 = np.array([0, 30, 90, 270,480, 600, 720, 840, 960])\n",
    "# # x1002 = np.array([480, 600, 720, 840, 960])\n",
    "# y100 = np.array([0, 0.00885691708746097,0.0161886154261265,0.0373005242261882,\n",
    "#                   0.2798939020159581, 0.510, .8097294067, 0.95,0.98])\n",
    "\n",
    "x1001 = np.array([0, 30, 90, 270])\n",
    "x1002 = np.array([480, 720, 960])\n",
    "y1001 = np.array([0, 0.00885691708746097,0.0161886154261265,0.0373005242261882])\n",
    "y1002 = np.array([0.2798939020159581, .7797294067, 0.98])\n",
    "# plt.figure()\n",
    "\n",
    "x101 = np.array([0, 30, 90, 270, 480])\n",
    "x102 = np.array([720, 960])\n",
    "y101 = np.array([0, 0.0106013664572332,0.00519576571714913,0.02967443048221,0.050022163974868])\n",
    "y102 = np.array([0.17, 0.47])\n",
    "# Combine the results dataframes into a single dataframe with a 'group' index,\n",
    "# in addition to \"simulation\" and \"time\" indexes\n",
    "df = pd.concat([wtclus1.dataframe, a20clus1.dataframe, cyldclus1.dataframe],\n",
    "               keys=['wt', 'a20ko', 'cyldko'],\n",
    "               names=['group', 'simulation', 'time'])\n",
    "\n",
    "# Add observable/group pairs as needed\n",
    "obs_to_plot = {\n",
    "    ('MLKLa_obs', 'wt'): 'blue',\n",
    "    ('MLKLa_obs', 'a20ko'): 'red',\n",
    "    ('MLKLa_obs', 'cyldko'): 'orange'\n",
    "}\n",
    "\n",
    "lower_quantile = 0.1  # 10%\n",
    "upper_quantile = 0.9  # 90%\n",
    "median = 0.5\n",
    "\n",
    "fig, ax = plt.subplots()\n",
    "# plt.figure()\n",
    "legend_keys = []\n",
    "for obs_pair, colour in obs_to_plot.items():\n",
    "    obs, group = obs_pair\n",
    "    # Calculate 10%, 50%, and 90% quantiles for observable\n",
    "    quantile_data = df[obs].loc[group].groupby(['time']).quantile(\n",
    "        q=[lower_quantile, median, upper_quantile]).unstack()\n",
    "    time_hrs = quantile_data.index / 60\n",
    "    # Plot the median line (50% quantile) for the observable\n",
    "    ax.plot(time_hrs, quantile_data.loc[:, median], color=colour, alpha = 1.0)\n",
    "    # Plot the 10% and 90% quantiles as an envelope\n",
    "    ax.fill_between(time_hrs,\n",
    "                    quantile_data.loc[:, lower_quantile],\n",
    "                    quantile_data.loc[:, upper_quantile],\n",
    "                    color=colour,\n",
    "                    alpha=.1)\n",
    "\n",
    "# Add the legend\n",
    "\n",
    "# plt.legend([f'{obs} {group}' for obs, group in obs_to_plot.keys()])\n",
    "plt.title('A20 vs CYLD KO Cluster 1 with 100ng/ml of TNF',fontsize=14) # Title\n",
    "plt.ylabel('Amount [molecules/cell]', fontsize = 14) # Y label\n",
    "plt.xlabel('Time (hours)', fontsize = 14) # X label\n",
    "plt.xlim(xmax =24)\n",
    "plt.ylim(ymin = 1e-3)\n",
    "# Add axis labels and title\n",
    "# plt.set(xlabel='Time (hours)', ylabel='Amount [molecules/cell]', title=f'{model100.name}', fontsize = 14)\n",
    "# Add grid\n",
    "# ax.grid()\n",
    "# plt.scatter(x101/60, y101*5544)\n",
    "# plt.scatter(x101/60, y1002*5544)\n",
    "fig.savefig(\"necro_10k_5720_clus1med_100tnf_quant.pdf\")\n",
    "# plt.errorbar(x1001/60, y1001,\n",
    "#              yerr=[(0, 0.00885691708746097,0.0161886154261265,0.0373005242261882),\n",
    "#              (.10,.10,.10,.10)],\n",
    "#                    fmt='.k', ecolor ='black', alpha = 0.75, label ='100 ng/ml', zorder = 2)\n",
    "# plt.errorbar(x1002/60, y1002,\n",
    "#              yerr= .10, fmt='.k', ecolor ='black', alpha = 0.75, label ='100 ng/ml', zorder = 2)\n",
    "# plt.errorbar(x100/60, y10*5544, yerr=350, fmt='.k', ecolor = 'blue', alpha = 0.5, label ='10 ng/ml')\n",
    "# plt.errorbar(x100/60, y100*5544, yerr=350, fmt='.k', ecolor ='green', alpha = 0.5, label ='100 ng/ml')\n",
    "plt.errorbar(x1001/60, y1001*5544,\n",
    "             yerr=[(0, 0.00885691708746097*5544,0.0161886154261265*5544,0.0373005242261882*5544),\n",
    "             (400,400,400,400)],\n",
    "                   fmt='.k', ecolor ='black', alpha = 0.75, label ='10 ng/ml', zorder = 2)\n",
    "plt.errorbar(x1002/60, y1002*5544,\n",
    "             yerr= 400, fmt='.k', ecolor ='black', alpha = 0.75, label ='10 ng/ml', zorder = 2)\n",
    "# plt.errorbar(x101/60, y101*5544,\n",
    "#              yerr=[(0, 0.0106013664572332*5544,0.00519576571714913*5544,0.02967443048221*5544,\n",
    "#                     0.050022163974868*5544),\n",
    "#              (400,400,400,400,400)],\n",
    "#                    fmt='.k', ecolor ='black', alpha = 0.75, label ='10 ng/ml', zorder = 2)\n",
    "# plt.errorbar(x102/60, y102*5544,\n",
    "#              yerr= 400, fmt='.k', ecolor ='black', alpha = 0.75, label ='10 ng/ml', zorder = 2)\n",
    "custom_lines = [Line2D([0], [0], color='blue', lw=4),\n",
    "                Line2D([0], [0], color='red', lw=4),\n",
    "                Line2D([0], [0], color='orange', lw=4),\n",
    "                Line2D([0], [0], color='black', lw=4)]\n",
    "plt.legend(custom_lines, ['WT', 'A20KO', 'CYLDKO', 'Data'], prop={'size': 10}, loc = 'best')\n",
    "plt.show()"
   ]
  },
  {
   "cell_type": "code",
   "execution_count": null,
   "metadata": {},
   "outputs": [],
   "source": []
  },
  {
   "cell_type": "markdown",
   "metadata": {},
   "source": [
    "# 100 TNF CLUSTER 2 DYNAMICS"
   ]
  },
  {
   "cell_type": "code",
   "execution_count": 109,
   "metadata": {},
   "outputs": [
    {
     "name": "stderr",
     "output_type": "stream",
     "text": [
      "2020-05-18 21:23:20.007 - pysb.simulator.scipyode - DEBUG - [necro_uncal_new_updated] Simulator created\n",
      "2020-05-18 21:23:20.013 - pysb.simulator.scipyode - DEBUG - [necro_uncal_new_updated] Equation mode set to \"cython\"\n",
      "2020-05-18 21:23:20.049 - pysb.simulator.scipyode - INFO - [necro_uncal_new_updated] Simulation(s) started\n"
     ]
    },
    {
     "name": "stdout",
     "output_type": "stream",
     "text": [
      "running simulations cluster 2 100 TNF\n"
     ]
    },
    {
     "name": "stderr",
     "output_type": "stream",
     "text": [
      "2020-05-18 21:23:20.230 - pysb.simulator.scipyode - DEBUG - [necro_uncal_new_updated] Multi-processor (parallel) mode using 12 processes\n",
      "2020-05-18 21:23:52.105 - pysb.simulator.scipyode - INFO - [necro_uncal_new_updated] All simulation(s) complete\n",
      "2020-05-18 21:23:52.106 - pysb.simulator.scipyode - DEBUG - [necro_uncal_new_updated] SimulationResult constructor started\n",
      "2020-05-18 21:23:52.739 - pysb.simulator.scipyode - DEBUG - [necro_uncal_new_updated] SimulationResult constructor finished\n"
     ]
    }
   ],
   "source": [
    "print('running simulations cluster 2 100 TNF')\n",
    "tspan = np.linspace(0, 1440, 300)\n",
    "solverwt2 = ScipyOdeSimulator(model100, tspan=tspan, verbose = True)\n",
    "wtclus2 = solverwt2.run(param_values=clus2_100, num_processors = 12)\n",
    "# sim2.save('pydyno_s36prod_5k_5620_100tnf_cluster2pars_wt.h5',include_obs_exprs = True)\n",
    "# wt100_2 = sim2.dataframe"
   ]
  },
  {
   "cell_type": "code",
   "execution_count": 110,
   "metadata": {},
   "outputs": [
    {
     "name": "stderr",
     "output_type": "stream",
     "text": [
      "2020-05-18 21:23:52.746 - pysb.simulator.scipyode - DEBUG - [necro_uncal_new_updated] Simulator created\n",
      "2020-05-18 21:23:52.751 - pysb.simulator.scipyode - DEBUG - [necro_uncal_new_updated] Equation mode set to \"cython\"\n",
      "2020-05-18 21:23:52.783 - pysb.simulator.scipyode - INFO - [necro_uncal_new_updated] Simulation(s) started\n"
     ]
    },
    {
     "name": "stdout",
     "output_type": "stream",
     "text": [
      "running simulations cluster 2 100 TNF\n"
     ]
    },
    {
     "name": "stderr",
     "output_type": "stream",
     "text": [
      "2020-05-18 21:23:52.960 - pysb.simulator.scipyode - DEBUG - [necro_uncal_new_updated] Multi-processor (parallel) mode using 12 processes\n",
      "2020-05-18 21:24:24.711 - pysb.simulator.scipyode - INFO - [necro_uncal_new_updated] All simulation(s) complete\n",
      "2020-05-18 21:24:24.711 - pysb.simulator.scipyode - DEBUG - [necro_uncal_new_updated] SimulationResult constructor started\n",
      "2020-05-18 21:24:25.333 - pysb.simulator.scipyode - DEBUG - [necro_uncal_new_updated] SimulationResult constructor finished\n"
     ]
    }
   ],
   "source": [
    "print('running simulations cluster 2 100 TNF')\n",
    "tspan = np.linspace(0, 1440, 300)\n",
    "solvera202 = ScipyOdeSimulator(model100, tspan=tspan, verbose = True)\n",
    "a20clus2 = solvera202.run(initials = {m.A20(brip = None):0},\n",
    "                         param_values=clus2_100, num_processors = 12)\n",
    "# simclus2.save('pydyno_s36prod_5k_5620_100tnf_cluster2pars_a20ko.h5',include_obs_exprs = True)\n",
    "# df2_100 = simclus2.dataframe"
   ]
  },
  {
   "cell_type": "code",
   "execution_count": 111,
   "metadata": {},
   "outputs": [
    {
     "name": "stderr",
     "output_type": "stream",
     "text": [
      "2020-05-18 21:24:25.341 - pysb.simulator.scipyode - DEBUG - [necro_uncal_new_updated] Simulator created\n",
      "2020-05-18 21:24:25.345 - pysb.simulator.scipyode - DEBUG - [necro_uncal_new_updated] Equation mode set to \"cython\"\n",
      "2020-05-18 21:24:25.377 - pysb.simulator.scipyode - INFO - [necro_uncal_new_updated] Simulation(s) started\n"
     ]
    },
    {
     "name": "stdout",
     "output_type": "stream",
     "text": [
      "running simulations cluster 2 100 TNF\n"
     ]
    },
    {
     "name": "stderr",
     "output_type": "stream",
     "text": [
      "2020-05-18 21:24:25.555 - pysb.simulator.scipyode - DEBUG - [necro_uncal_new_updated] Multi-processor (parallel) mode using 12 processes\n",
      "2020-05-18 21:24:48.628 - pysb.simulator.scipyode - INFO - [necro_uncal_new_updated] All simulation(s) complete\n",
      "2020-05-18 21:24:48.629 - pysb.simulator.scipyode - DEBUG - [necro_uncal_new_updated] SimulationResult constructor started\n",
      "2020-05-18 21:24:49.248 - pysb.simulator.scipyode - DEBUG - [necro_uncal_new_updated] SimulationResult constructor finished\n"
     ]
    }
   ],
   "source": [
    "print('running simulations cluster 2 100 TNF')\n",
    "tspan = np.linspace(0, 1440, 300)\n",
    "solvercyld2 = ScipyOdeSimulator(model100, tspan=tspan, verbose = True)\n",
    "cyldclus2 = solvercyld2.run(initials = {m.CYLD(brip=None, btraf = None):0},\n",
    "                         param_values=clus2_100, num_processors = 12)\n",
    "# simclus222.save('pydyno_s36prod_5k_5620_100tnf_cluster2pars_clydko.h5',include_obs_exprs = True)\n",
    "# c2_100_cyldko = simclus222.dataframe"
   ]
  },
  {
   "cell_type": "code",
   "execution_count": 131,
   "metadata": {},
   "outputs": [
    {
     "data": {
      "image/png": "[encoded data removed]",
      "text/plain": [
       "<Figure size 432x288 with 1 Axes>"
      ]
     },
     "metadata": {
      "needs_background": "light"
     },
     "output_type": "display_data"
    }
   ],
   "source": [
    "#FOR PLOTTING PERCENTILES \n",
    "\n",
    "# x10 = np.array([0, 30, 90, 270, 480,600, 720, 840, 960])\n",
    "# # x102 = np.array([600, 720, 840, 960])\n",
    "# y10 = np.array([0, 0.0106013664572332,0.00519576571714913,0.02967443048221,0.050022163974868,\n",
    "#                 0.088128107774737, 0.17, 0.30055140114867, 0.47])\n",
    "# # y102 = np.array([0.088128107774737, 0.17, 0.30055140114867, 0.47])\n",
    "\n",
    "# x100 = np.array([0, 30, 90, 270,480, 600, 720, 840, 960])\n",
    "# # x1002 = np.array([480, 600, 720, 840, 960])\n",
    "# y100 = np.array([0, 0.00885691708746097,0.0161886154261265,0.0373005242261882,\n",
    "#                   0.2798939020159581, 0.510, .8097294067, 0.95,0.98])\n",
    "\n",
    "x1001 = np.array([0, 30, 90, 270])\n",
    "x1002 = np.array([480, 720, 960])\n",
    "y1001 = np.array([0, 0.00885691708746097,0.0161886154261265,0.0373005242261882])\n",
    "y1002 = np.array([0.2798939020159581, .7797294067, 0.98])\n",
    "# plt.figure()\n",
    "\n",
    "x101 = np.array([0, 30, 90, 270, 480])\n",
    "x102 = np.array([720, 960])\n",
    "y101 = np.array([0, 0.0106013664572332,0.00519576571714913,0.02967443048221,0.050022163974868])\n",
    "y102 = np.array([0.17, 0.47])\n",
    "# Combine the results dataframes into a single dataframe with a 'group' index,\n",
    "# in addition to \"simulation\" and \"time\" indexes\n",
    "df = pd.concat([wtclus2.dataframe, a20clus2.dataframe, cyldclus2.dataframe],\n",
    "               keys=['wt', 'a20ko', 'cyldko'],\n",
    "               names=['group', 'simulation', 'time'])\n",
    "\n",
    "# Add observable/group pairs as needed\n",
    "obs_to_plot = {\n",
    "    ('MLKLa_obs', 'wt'): 'blue',\n",
    "    ('MLKLa_obs', 'a20ko'): 'red',\n",
    "    ('MLKLa_obs', 'cyldko'): 'orange'\n",
    "}\n",
    "\n",
    "lower_quantile = 0.1  # 10%\n",
    "upper_quantile = 0.9  # 90%\n",
    "median = 0.5\n",
    "\n",
    "fig, ax = plt.subplots()\n",
    "# plt.figure()\n",
    "legend_keys = []\n",
    "for obs_pair, colour in obs_to_plot.items():\n",
    "    obs, group = obs_pair\n",
    "    # Calculate 10%, 50%, and 90% quantiles for observable\n",
    "    quantile_data = df[obs].loc[group].groupby(['time']).quantile(\n",
    "        q=[lower_quantile, median, upper_quantile]).unstack()\n",
    "    time_hrs = quantile_data.index / 60\n",
    "    # Plot the median line (50% quantile) for the observable\n",
    "    ax.plot(time_hrs, quantile_data.loc[:, median], color=colour, alpha = 1.0)\n",
    "    # Plot the 10% and 90% quantiles as an envelope\n",
    "#     ax.fill_between(time_hrs,\n",
    "#                     quantile_data.loc[:, lower_quantile],\n",
    "#                     quantile_data.loc[:, upper_quantile],\n",
    "#                     color=colour,\n",
    "#                     alpha=.1)\n",
    "\n",
    "# Add the legend\n",
    "\n",
    "# plt.legend([f'{obs} {group}' for obs, group in obs_to_plot.keys()])\n",
    "plt.title('A20 vs CYLD KO Cluster 2 with 100ng/ml of TNF',fontsize=14) # Title\n",
    "plt.ylabel('Amount [molecules/cell]', fontsize = 14) # Y label\n",
    "plt.xlabel('Time (hours)', fontsize = 14) # X label\n",
    "plt.xlim(xmax =24)\n",
    "plt.ylim(ymin = 1e-3)\n",
    "# Add axis labels and title\n",
    "# plt.set(xlabel='Time (hours)', ylabel='Amount [molecules/cell]', title=f'{model100.name}', fontsize = 14)\n",
    "# Add grid\n",
    "# ax.grid()\n",
    "# plt.scatter(x101/60, y101*5544)\n",
    "# plt.scatter(x101/60, y1002*5544)\n",
    "fig.savefig(\"necro_10k_5720_clus2med_100tnf.pdf\")\n",
    "# plt.errorbar(x1001/60, y1001,\n",
    "#              yerr=[(0, 0.00885691708746097,0.0161886154261265,0.0373005242261882),\n",
    "#              (.10,.10,.10,.10)],\n",
    "#                    fmt='.k', ecolor ='black', alpha = 0.75, label ='100 ng/ml', zorder = 2)\n",
    "# plt.errorbar(x1002/60, y1002,\n",
    "#              yerr= .10, fmt='.k', ecolor ='black', alpha = 0.75, label ='100 ng/ml', zorder = 2)\n",
    "# plt.errorbar(x100/60, y10*5544, yerr=350, fmt='.k', ecolor = 'blue', alpha = 0.5, label ='10 ng/ml')\n",
    "# plt.errorbar(x100/60, y100*5544, yerr=350, fmt='.k', ecolor ='green', alpha = 0.5, label ='100 ng/ml')\n",
    "plt.errorbar(x1001/60, y1001*5544,\n",
    "             yerr=[(0, 0.00885691708746097*5544,0.0161886154261265*5544,0.0373005242261882*5544),\n",
    "             (400,400,400,400)],\n",
    "                   fmt='.k', ecolor ='black', alpha = 0.75, label ='10 ng/ml', zorder = 2)\n",
    "plt.errorbar(x1002/60, y1002*5544,\n",
    "             yerr= 400, fmt='.k', ecolor ='black', alpha = 0.75, label ='10 ng/ml', zorder = 2)\n",
    "# plt.errorbar(x101/60, y101*5544,\n",
    "#              yerr=[(0, 0.0106013664572332*5544,0.00519576571714913*5544,0.02967443048221*5544,\n",
    "#                     0.050022163974868*5544),\n",
    "#              (400,400,400,400,400)],\n",
    "#                    fmt='.k', ecolor ='black', alpha = 0.75, label ='10 ng/ml', zorder = 2)\n",
    "# plt.errorbar(x102/60, y102*5544,\n",
    "#              yerr= 400, fmt='.k', ecolor ='black', alpha = 0.75, label ='10 ng/ml', zorder = 2)\n",
    "custom_lines = [Line2D([0], [0], color='blue', lw=4),\n",
    "                Line2D([0], [0], color='red', lw=4),\n",
    "                Line2D([0], [0], color='orange', lw=4),\n",
    "                Line2D([0], [0], color='black', lw=4)]\n",
    "plt.legend(custom_lines, ['WT', 'A20KO', 'CYLDKO', 'Data'], prop={'size': 10}, loc = 'best')\n",
    "plt.show()"
   ]
  },
  {
   "cell_type": "markdown",
   "metadata": {},
   "source": [
    "# 100 TNF CLUSTER 3 DYNAMICS"
   ]
  },
  {
   "cell_type": "code",
   "execution_count": 113,
   "metadata": {},
   "outputs": [
    {
     "name": "stderr",
     "output_type": "stream",
     "text": [
      "2020-05-18 21:24:53.972 - pysb.simulator.scipyode - DEBUG - [necro_uncal_new_updated] Simulator created\n",
      "2020-05-18 21:24:53.976 - pysb.simulator.scipyode - DEBUG - [necro_uncal_new_updated] Equation mode set to \"cython\"\n",
      "2020-05-18 21:24:54.007 - pysb.simulator.scipyode - INFO - [necro_uncal_new_updated] Simulation(s) started\n"
     ]
    },
    {
     "name": "stdout",
     "output_type": "stream",
     "text": [
      "running simulations cluster 2 100 TNF\n"
     ]
    },
    {
     "name": "stderr",
     "output_type": "stream",
     "text": [
      "2020-05-18 21:24:54.250 - pysb.simulator.scipyode - DEBUG - [necro_uncal_new_updated] Multi-processor (parallel) mode using 12 processes\n",
      "2020-05-18 21:25:39.089 - pysb.simulator.scipyode - INFO - [necro_uncal_new_updated] All simulation(s) complete\n",
      "2020-05-18 21:25:39.090 - pysb.simulator.scipyode - DEBUG - [necro_uncal_new_updated] SimulationResult constructor started\n",
      "2020-05-18 21:25:39.925 - pysb.simulator.scipyode - DEBUG - [necro_uncal_new_updated] SimulationResult constructor finished\n"
     ]
    }
   ],
   "source": [
    "print('running simulations cluster 2 100 TNF')\n",
    "tspan = np.linspace(0, 1440, 300)\n",
    "solverwt3 = ScipyOdeSimulator(model100, tspan=tspan, verbose = True)\n",
    "wtclus3 = solverwt3.run(param_values=clus3_100, num_processors = 12)\n",
    "# sim2.save('pydyno_s36prod_5k_5620_100tnf_cluster2pars_wt.h5',include_obs_exprs = True)\n",
    "# wt100_2 = sim2.dataframe"
   ]
  },
  {
   "cell_type": "code",
   "execution_count": 114,
   "metadata": {},
   "outputs": [
    {
     "name": "stderr",
     "output_type": "stream",
     "text": [
      "2020-05-18 21:25:39.933 - pysb.simulator.scipyode - DEBUG - [necro_uncal_new_updated] Simulator created\n",
      "2020-05-18 21:25:39.937 - pysb.simulator.scipyode - DEBUG - [necro_uncal_new_updated] Equation mode set to \"cython\"\n",
      "2020-05-18 21:25:39.968 - pysb.simulator.scipyode - INFO - [necro_uncal_new_updated] Simulation(s) started\n"
     ]
    },
    {
     "name": "stdout",
     "output_type": "stream",
     "text": [
      "running simulations cluster 3 100 TNF\n"
     ]
    },
    {
     "name": "stderr",
     "output_type": "stream",
     "text": [
      "2020-05-18 21:25:40.201 - pysb.simulator.scipyode - DEBUG - [necro_uncal_new_updated] Multi-processor (parallel) mode using 12 processes\n",
      "2020-05-18 21:26:24.972 - pysb.simulator.scipyode - INFO - [necro_uncal_new_updated] All simulation(s) complete\n",
      "2020-05-18 21:26:24.972 - pysb.simulator.scipyode - DEBUG - [necro_uncal_new_updated] SimulationResult constructor started\n",
      "2020-05-18 21:26:25.810 - pysb.simulator.scipyode - DEBUG - [necro_uncal_new_updated] SimulationResult constructor finished\n"
     ]
    }
   ],
   "source": [
    "print('running simulations cluster 3 100 TNF')\n",
    "tspan = np.linspace(0, 1440, 300)\n",
    "solvera203 = ScipyOdeSimulator(model100, tspan=tspan, verbose = True)\n",
    "a20clus3 = solvera203.run(initials = {m.A20(brip = None):0},\n",
    "                         param_values=clus3_100, num_processors = 12)"
   ]
  },
  {
   "cell_type": "code",
   "execution_count": 115,
   "metadata": {},
   "outputs": [
    {
     "name": "stderr",
     "output_type": "stream",
     "text": [
      "2020-05-18 21:26:25.819 - pysb.simulator.scipyode - DEBUG - [necro_uncal_new_updated] Simulator created\n",
      "2020-05-18 21:26:25.825 - pysb.simulator.scipyode - DEBUG - [necro_uncal_new_updated] Equation mode set to \"cython\"\n",
      "2020-05-18 21:26:25.857 - pysb.simulator.scipyode - INFO - [necro_uncal_new_updated] Simulation(s) started\n"
     ]
    },
    {
     "name": "stdout",
     "output_type": "stream",
     "text": [
      "running simulations cluster 2 100 TNF\n"
     ]
    },
    {
     "name": "stderr",
     "output_type": "stream",
     "text": [
      "2020-05-18 21:26:26.100 - pysb.simulator.scipyode - DEBUG - [necro_uncal_new_updated] Multi-processor (parallel) mode using 12 processes\n",
      "2020-05-18 21:26:58.621 - pysb.simulator.scipyode - INFO - [necro_uncal_new_updated] All simulation(s) complete\n",
      "2020-05-18 21:26:58.622 - pysb.simulator.scipyode - DEBUG - [necro_uncal_new_updated] SimulationResult constructor started\n",
      "2020-05-18 21:26:59.459 - pysb.simulator.scipyode - DEBUG - [necro_uncal_new_updated] SimulationResult constructor finished\n"
     ]
    }
   ],
   "source": [
    "print('running simulations cluster 2 100 TNF')\n",
    "tspan = np.linspace(0, 1440, 300)\n",
    "solvercyld3 = ScipyOdeSimulator(model100, tspan=tspan, verbose = True)\n",
    "cyldclus3 = solvercyld3.run(initials = {m.CYLD(brip=None, btraf = None):0},\n",
    "                         param_values=clus3_100, num_processors = 12)\n",
    "# simclus222.save('pydyno_s36prod_5k_5620_100tnf_cluster2pars_clydko.h5',include_obs_exprs = True)\n",
    "# c2_100_cyldko = simclus222.dataframe"
   ]
  },
  {
   "cell_type": "code",
   "execution_count": 134,
   "metadata": {},
   "outputs": [
    {
     "data": {
      "image/png": "[encoded data removed]",
      "text/plain": [
       "<Figure size 432x288 with 1 Axes>"
      ]
     },
     "metadata": {
      "needs_background": "light"
     },
     "output_type": "display_data"
    }
   ],
   "source": [
    "#FOR PLOTTING PERCENTILES \n",
    "\n",
    "# x10 = np.array([0, 30, 90, 270, 480,600, 720, 840, 960])\n",
    "# # x102 = np.array([600, 720, 840, 960])\n",
    "# y10 = np.array([0, 0.0106013664572332,0.00519576571714913,0.02967443048221,0.050022163974868,\n",
    "#                 0.088128107774737, 0.17, 0.30055140114867, 0.47])\n",
    "# # y102 = np.array([0.088128107774737, 0.17, 0.30055140114867, 0.47])\n",
    "\n",
    "# x100 = np.array([0, 30, 90, 270,480, 600, 720, 840, 960])\n",
    "# # x1002 = np.array([480, 600, 720, 840, 960])\n",
    "# y100 = np.array([0, 0.00885691708746097,0.0161886154261265,0.0373005242261882,\n",
    "#                   0.2798939020159581, 0.510, .8097294067, 0.95,0.98])\n",
    "\n",
    "x1001 = np.array([0, 30, 90, 270])\n",
    "x1002 = np.array([480, 720, 960])\n",
    "y1001 = np.array([0, 0.00885691708746097,0.0161886154261265,0.0373005242261882])\n",
    "y1002 = np.array([0.2798939020159581, .7797294067, 0.98])\n",
    "# plt.figure()\n",
    "\n",
    "x101 = np.array([0, 30, 90, 270, 480])\n",
    "x102 = np.array([720, 960])\n",
    "y101 = np.array([0, 0.0106013664572332,0.00519576571714913,0.02967443048221,0.050022163974868])\n",
    "y102 = np.array([0.17, 0.47])\n",
    "# Combine the results dataframes into a single dataframe with a 'group' index,\n",
    "# in addition to \"simulation\" and \"time\" indexes\n",
    "df = pd.concat([wtclus3.dataframe, a20clus3.dataframe, cyldclus3.dataframe],\n",
    "               keys=['wt', 'a20ko', 'cyldko'],\n",
    "               names=['group', 'simulation', 'time'])\n",
    "\n",
    "# Add observable/group pairs as needed\n",
    "obs_to_plot = {\n",
    "    ('MLKLa_obs', 'wt'): 'blue',\n",
    "    ('MLKLa_obs', 'a20ko'): 'red',\n",
    "    ('MLKLa_obs', 'cyldko'): 'orange'\n",
    "}\n",
    "\n",
    "lower_quantile = 0.1  # 10%\n",
    "upper_quantile = 0.9  # 90%\n",
    "median = 0.5\n",
    "\n",
    "fig, ax = plt.subplots()\n",
    "# plt.figure()\n",
    "legend_keys = []\n",
    "for obs_pair, colour in obs_to_plot.items():\n",
    "    obs, group = obs_pair\n",
    "    # Calculate 10%, 50%, and 90% quantiles for observable\n",
    "    quantile_data = df[obs].loc[group].groupby(['time']).quantile(\n",
    "        q=[lower_quantile, median, upper_quantile]).unstack()\n",
    "    time_hrs = quantile_data.index / 60\n",
    "    # Plot the median line (50% quantile) for the observable\n",
    "    ax.plot(time_hrs, quantile_data.loc[:, median], color=colour, alpha = 1.0)\n",
    "    # Plot the 10% and 90% quantiles as an envelope\n",
    "#     ax.fill_between(time_hrs,\n",
    "#                     quantile_data.loc[:, lower_quantile],\n",
    "#                     quantile_data.loc[:, upper_quantile],\n",
    "#                     color=colour,\n",
    "#                     alpha=.1)\n",
    "\n",
    "# Add the legend\n",
    "\n",
    "# plt.legend([f'{obs} {group}' for obs, group in obs_to_plot.keys()])\n",
    "plt.title('A20 vs CYLD KO Cluster 3 with 100ng/ml of TNF',fontsize=14) # Title\n",
    "plt.ylabel('Amount [molecules/cell]', fontsize = 14) # Y label\n",
    "plt.xlabel('Time (hours)', fontsize = 14) # X label\n",
    "plt.xlim(xmax =24)\n",
    "plt.ylim(ymin = 1e-3)\n",
    "# Add axis labels and title\n",
    "# plt.set(xlabel='Time (hours)', ylabel='Amount [molecules/cell]', title=f'{model100.name}', fontsize = 14)\n",
    "# Add grid\n",
    "# ax.grid()\n",
    "# plt.scatter(x101/60, y101*5544)\n",
    "# plt.scatter(x101/60, y1002*5544)\n",
    "fig.savefig(\"necro_10k_5720_clus3med_100tnf.pdf\")\n",
    "# plt.errorbar(x1001/60, y1001,\n",
    "#              yerr=[(0, 0.00885691708746097,0.0161886154261265,0.0373005242261882),\n",
    "#              (.10,.10,.10,.10)],\n",
    "#                    fmt='.k', ecolor ='black', alpha = 0.75, label ='100 ng/ml', zorder = 2)\n",
    "# plt.errorbar(x1002/60, y1002,\n",
    "#              yerr= .10, fmt='.k', ecolor ='black', alpha = 0.75, label ='100 ng/ml', zorder = 2)\n",
    "# plt.errorbar(x100/60, y10*5544, yerr=350, fmt='.k', ecolor = 'blue', alpha = 0.5, label ='10 ng/ml')\n",
    "# plt.errorbar(x100/60, y100*5544, yerr=350, fmt='.k', ecolor ='green', alpha = 0.5, label ='100 ng/ml')\n",
    "plt.errorbar(x1001/60, y1001*5544,\n",
    "             yerr=[(0, 0.00885691708746097*5544,0.0161886154261265*5544,0.0373005242261882*5544),\n",
    "             (400,400,400,400)],\n",
    "                   fmt='.k', ecolor ='black', alpha = 0.75, label ='10 ng/ml', zorder = 2)\n",
    "plt.errorbar(x1002/60, y1002*5544,\n",
    "             yerr= 400, fmt='.k', ecolor ='black', alpha = 0.75, label ='10 ng/ml', zorder = 2)\n",
    "# plt.errorbar(x101/60, y101*5544,\n",
    "#              yerr=[(0, 0.0106013664572332*5544,0.00519576571714913*5544,0.02967443048221*5544,\n",
    "#                     0.050022163974868*5544),\n",
    "#              (400,400,400,400,400)],\n",
    "#                    fmt='.k', ecolor ='black', alpha = 0.75, label ='10 ng/ml', zorder = 2)\n",
    "# plt.errorbar(x102/60, y102*5544,\n",
    "#              yerr= 400, fmt='.k', ecolor ='black', alpha = 0.75, label ='10 ng/ml', zorder = 2)\n",
    "custom_lines = [Line2D([0], [0], color='blue', lw=4),\n",
    "                Line2D([0], [0], color='red', lw=4),\n",
    "                Line2D([0], [0], color='orange', lw=4),\n",
    "                Line2D([0], [0], color='black', lw=4)]\n",
    "plt.legend(custom_lines, ['WT', 'A20KO', 'CYLDKO', 'Data'], prop={'size': 10}, loc = 'best')\n",
    "plt.show()"
   ]
  },
  {
   "cell_type": "code",
   "execution_count": null,
   "metadata": {},
   "outputs": [],
   "source": []
  },
  {
   "cell_type": "code",
   "execution_count": null,
   "metadata": {},
   "outputs": [],
   "source": []
  },
  {
   "cell_type": "code",
   "execution_count": null,
   "metadata": {},
   "outputs": [],
   "source": []
  },
  {
   "cell_type": "code",
   "execution_count": null,
   "metadata": {},
   "outputs": [],
   "source": []
  },
  {
   "cell_type": "code",
   "execution_count": null,
   "metadata": {},
   "outputs": [],
   "source": []
  },
  {
   "cell_type": "code",
   "execution_count": null,
   "metadata": {},
   "outputs": [],
   "source": []
  },
  {
   "cell_type": "code",
   "execution_count": null,
   "metadata": {},
   "outputs": [],
   "source": [
    "#FOR PLOTTING PERCENTILES \n",
    "\n",
    "# x10 = np.array([0, 30, 90, 270, 480,600, 720, 840, 960])\n",
    "# # x102 = np.array([600, 720, 840, 960])\n",
    "# y10 = np.array([0, 0.0106013664572332,0.00519576571714913,0.02967443048221,0.050022163974868,\n",
    "#                 0.088128107774737, 0.17, 0.30055140114867, 0.47])\n",
    "# # y102 = np.array([0.088128107774737, 0.17, 0.30055140114867, 0.47])\n",
    "\n",
    "# x100 = np.array([0, 30, 90, 270,480, 600, 720, 840, 960])\n",
    "# # x1002 = np.array([480, 600, 720, 840, 960])\n",
    "# y100 = np.array([0, 0.00885691708746097,0.0161886154261265,0.0373005242261882,\n",
    "#                   0.2798939020159581, 0.510, .8097294067, 0.95,0.98])\n",
    "\n",
    "x1001 = np.array([0, 30, 90, 270])\n",
    "x1002 = np.array([480, 720, 960])\n",
    "y1001 = np.array([0, 0.00885691708746097,0.0161886154261265,0.0373005242261882])\n",
    "y1002 = np.array([0.2798939020159581, .7797294067, 0.98])\n",
    "# plt.figure()\n",
    "\n",
    "x101 = np.array([0, 30, 90, 270, 480])\n",
    "x102 = np.array([720, 960])\n",
    "y101 = np.array([0, 0.0106013664572332,0.00519576571714913,0.02967443048221,0.050022163974868])\n",
    "y102 = np.array([0.17, 0.47])\n",
    "# Combine the results dataframes into a single dataframe with a 'group' index,\n",
    "# in addition to \"simulation\" and \"time\" indexes\n",
    "df = pd.concat([result100.dataframe, result10.dataframe],\n",
    "               keys=['mlkl100', 'mlkl10'],\n",
    "               names=['group', 'simulation', 'time'])\n",
    "\n",
    "# Add observable/group pairs as needed\n",
    "obs_to_plot = {\n",
    "    ('MLKLa_obs', 'mlkl100'): 'blue',\n",
    "    ('MLKLa_obs', 'mlkl10'): 'orange'\n",
    "}\n",
    "\n",
    "lower_quantile = 0.1  # 10%\n",
    "upper_quantile = 0.9  # 90%\n",
    "median = 0.5\n",
    "\n",
    "fig, ax = plt.subplots()\n",
    "# plt.figure()\n",
    "legend_keys = []\n",
    "for obs_pair, colour in obs_to_plot.items():\n",
    "    obs, group = obs_pair\n",
    "    # Calculate 10%, 50%, and 90% quantiles for observable\n",
    "    quantile_data = df[obs].loc[group].groupby(['time']).quantile(\n",
    "        q=[lower_quantile, median, upper_quantile]).unstack()\n",
    "    time_hrs = quantile_data.index / 60\n",
    "    # Plot the median line (50% quantile) for the observable\n",
    "    ax.plot(time_hrs, quantile_data.loc[:, median], color=colour)\n",
    "    # Plot the 10% and 90% quantiles as an envelope\n",
    "    ax.fill_between(time_hrs,\n",
    "                    quantile_data.loc[:, lower_quantile],\n",
    "                    quantile_data.loc[:, upper_quantile],\n",
    "                    color=colour,\n",
    "                    alpha=.1)\n",
    "\n",
    "# Add the legend\n",
    "\n",
    "# plt.legend([f'{obs} {group}' for obs, group in obs_to_plot.keys()])\n",
    "plt.title('Model Fitting for 100 & 10 ng/ml of TNF',fontsize=14) # Title\n",
    "plt.ylabel('Amount [molecules/cell]', fontsize = 14) # Y label\n",
    "plt.xlabel('Time (hours)', fontsize = 14) # X label\n",
    "plt.xlim(xmax =24)\n",
    "# Add axis labels and title\n",
    "# plt.set(xlabel='Time (hours)', ylabel='Amount [molecules/cell]', title=f'{model100.name}', fontsize = 14)\n",
    "# Add grid\n",
    "# ax.grid()\n",
    "# plt.scatter(x101/60, y101*5544)\n",
    "# plt.scatter(x101/60, y1002*5544)\n",
    "# fig.savefig(\"necro_pydream_fitting_5k_5620_100_10tnf_wo_10_12hrs_norm.pdf\")\n",
    "# plt.errorbar(x1001/60, y1001,\n",
    "#              yerr=[(0, 0.00885691708746097,0.0161886154261265,0.0373005242261882),\n",
    "#              (.10,.10,.10,.10)],\n",
    "#                    fmt='.k', ecolor ='black', alpha = 0.75, label ='100 ng/ml', zorder = 2)\n",
    "# plt.errorbar(x1002/60, y1002,\n",
    "#              yerr= .10, fmt='.k', ecolor ='black', alpha = 0.75, label ='100 ng/ml', zorder = 2)\n",
    "# plt.errorbar(x100/60, y10*5544, yerr=350, fmt='.k', ecolor = 'blue', alpha = 0.5, label ='10 ng/ml')\n",
    "# plt.errorbar(x100/60, y100*5544, yerr=350, fmt='.k', ecolor ='green', alpha = 0.5, label ='100 ng/ml')\n",
    "plt.errorbar(x1001/60, y1001*5544,\n",
    "             yerr=[(0, 0.00885691708746097*5544,0.0161886154261265*5544,0.0373005242261882*5544),\n",
    "             (400,400,400,400)],\n",
    "                   fmt='.k', ecolor ='black', alpha = 0.75, label ='10 ng/ml', zorder = 2)\n",
    "plt.errorbar(x1002/60, y1002*5544,\n",
    "             yerr= 400, fmt='.k', ecolor ='black', alpha = 0.75, label ='10 ng/ml', zorder = 2)\n",
    "plt.errorbar(x101/60, y101*5544,\n",
    "             yerr=[(0, 0.0106013664572332*5544,0.00519576571714913*5544,0.02967443048221*5544,\n",
    "                    0.050022163974868*5544),\n",
    "             (400,400,400,400,400)],\n",
    "                   fmt='.k', ecolor ='black', alpha = 0.75, label ='10 ng/ml', zorder = 2)\n",
    "plt.errorbar(x102/60, y102*5544,\n",
    "             yerr= 400, fmt='.k', ecolor ='black', alpha = 0.75, label ='10 ng/ml', zorder = 2)\n",
    "custom_lines = [Line2D([0], [0], color='blue', lw=4),\n",
    "                Line2D([0], [0], color='orange', lw=4),\n",
    "                Line2D([0], [0], color='black', lw=4)]\n",
    "plt.legend(custom_lines, ['100 ng/ml', '10 ng/ml', 'Data'], prop={'size': 10}, loc = 'best')\n",
    "plt.show()"
   ]
  },
  {
   "cell_type": "markdown",
   "metadata": {},
   "source": [
    "# Percentiles for 100 TNF vs A20 KO in Clus 0,1,2"
   ]
  },
  {
   "cell_type": "code",
   "execution_count": null,
   "metadata": {},
   "outputs": [],
   "source": [
    "#FOR PLOTTING PERCENTILES \n",
    "\n",
    "# x10 = np.array([0, 30, 90, 270, 480,600, 720, 840, 960])\n",
    "# # x102 = np.array([600, 720, 840, 960])\n",
    "# y10 = np.array([0, 0.0106013664572332,0.00519576571714913,0.02967443048221,0.050022163974868,\n",
    "#                 0.088128107774737, 0.17, 0.30055140114867, 0.47])\n",
    "# # y102 = np.array([0.088128107774737, 0.17, 0.30055140114867, 0.47])\n",
    "\n",
    "# x100 = np.array([0, 30, 90, 270,480, 600, 720, 840, 960])\n",
    "# # x1002 = np.array([480, 600, 720, 840, 960])\n",
    "# y100 = np.array([0, 0.00885691708746097,0.0161886154261265,0.0373005242261882,\n",
    "#                   0.2798939020159581, 0.510, .8097294067, 0.95,0.98])\n",
    "\n",
    "x1001 = np.array([0, 30, 90, 270])\n",
    "x1002 = np.array([480, 720, 960])\n",
    "y1001 = np.array([0, 0.00885691708746097,0.0161886154261265,0.0373005242261882])\n",
    "y1002 = np.array([0.2798939020159581, .7797294067, 0.98])\n",
    "# plt.figure()\n",
    "\n",
    "x101 = np.array([0, 30, 90, 270, 480])\n",
    "x102 = np.array([720, 960])\n",
    "y101 = np.array([0, 0.0106013664572332,0.00519576571714913,0.02967443048221,0.050022163974868])\n",
    "y102 = np.array([0.17, 0.47])\n",
    "# Combine the results dataframes into a single dataframe with a 'group' index,\n",
    "# in addition to \"simulation\" and \"time\" indexes\n",
    "df = pd.concat([wtclus0.dataframe, a20clus0.dataframe, cyldclus0.dataframe],\n",
    "               keys=['wt', 'a20ko', 'cyldko'],\n",
    "               names=['group', 'simulation', 'time'])\n",
    "\n",
    "# Add observable/group pairs as needed\n",
    "obs_to_plot = {\n",
    "    ('MLKLa_obs', 'wt'): 'blue',\n",
    "    ('MLKLa_obs', 'a20ko'): 'red',\n",
    "    ('MLKLa_obs', 'cyldko'): 'orange'\n",
    "}\n",
    "\n",
    "lower_quantile = 0.1  # 10%\n",
    "upper_quantile = 0.9  # 90%\n",
    "median = 0.5\n",
    "\n",
    "fig, ax = plt.subplots()\n",
    "# plt.figure()\n",
    "legend_keys = []\n",
    "for obs_pair, colour in obs_to_plot.items():\n",
    "    obs, group = obs_pair\n",
    "    # Calculate 10%, 50%, and 90% quantiles for observable\n",
    "    quantile_data = df[obs].loc[group].groupby(['time']).quantile(\n",
    "        q=[lower_quantile, median, upper_quantile]).unstack()\n",
    "    time_hrs = quantile_data.index / 60\n",
    "    # Plot the median line (50% quantile) for the observable\n",
    "    ax.plot(time_hrs, quantile_data.loc[:, median], color=colour, alpha = 1.0)\n",
    "    # Plot the 10% and 90% quantiles as an envelope\n",
    "    ax.fill_between(time_hrs,\n",
    "                    quantile_data.loc[:, lower_quantile],\n",
    "                    quantile_data.loc[:, upper_quantile],\n",
    "                    color=colour,\n",
    "                    alpha=.1)\n",
    "\n",
    "# Add the legend\n",
    "\n",
    "# plt.legend([f'{obs} {group}' for obs, group in obs_to_plot.keys()])\n",
    "plt.title('A20 vs CYLD KO Cluster 0 with 100ng/ml of TNF',fontsize=14) # Title\n",
    "plt.ylabel('Amount [molecules/cell]', fontsize = 14) # Y label\n",
    "plt.xlabel('Time (hours)', fontsize = 14) # X label\n",
    "plt.xlim(xmax =24)\n",
    "# Add axis labels and title\n",
    "# plt.set(xlabel='Time (hours)', ylabel='Amount [molecules/cell]', title=f'{model100.name}', fontsize = 14)\n",
    "# Add grid\n",
    "# ax.grid()\n",
    "# plt.scatter(x101/60, y101*5544)\n",
    "# plt.scatter(x101/60, y1002*5544)\n",
    "# fig.savefig(\"necro_pydream_fitting_5k_5620_100_10tnf_wo_10_12hrs.pdf\")\n",
    "# plt.errorbar(x1001/60, y1001,\n",
    "#              yerr=[(0, 0.00885691708746097,0.0161886154261265,0.0373005242261882),\n",
    "#              (.10,.10,.10,.10)],\n",
    "#                    fmt='.k', ecolor ='black', alpha = 0.75, label ='100 ng/ml', zorder = 2)\n",
    "# plt.errorbar(x1002/60, y1002,\n",
    "#              yerr= .10, fmt='.k', ecolor ='black', alpha = 0.75, label ='100 ng/ml', zorder = 2)\n",
    "# plt.errorbar(x100/60, y10*5544, yerr=350, fmt='.k', ecolor = 'blue', alpha = 0.5, label ='10 ng/ml')\n",
    "# plt.errorbar(x100/60, y100*5544, yerr=350, fmt='.k', ecolor ='green', alpha = 0.5, label ='100 ng/ml')\n",
    "plt.errorbar(x1001/60, y1001*5544,\n",
    "             yerr=[(0, 0.00885691708746097*5544,0.0161886154261265*5544,0.0373005242261882*5544),\n",
    "             (400,400,400,400)],\n",
    "                   fmt='.k', ecolor ='black', alpha = 0.75, label ='10 ng/ml', zorder = 2)\n",
    "plt.errorbar(x1002/60, y1002*5544,\n",
    "             yerr= 400, fmt='.k', ecolor ='black', alpha = 0.75, label ='10 ng/ml', zorder = 2)\n",
    "# plt.errorbar(x101/60, y101*5544,\n",
    "#              yerr=[(0, 0.0106013664572332*5544,0.00519576571714913*5544,0.02967443048221*5544,\n",
    "#                     0.050022163974868*5544),\n",
    "#              (400,400,400,400,400)],\n",
    "#                    fmt='.k', ecolor ='black', alpha = 0.75, label ='10 ng/ml', zorder = 2)\n",
    "# plt.errorbar(x102/60, y102*5544,\n",
    "#              yerr= 400, fmt='.k', ecolor ='black', alpha = 0.75, label ='10 ng/ml', zorder = 2)\n",
    "custom_lines = [Line2D([0], [0], color='blue', lw=4),\n",
    "                Line2D([0], [0], color='red', lw=4),\n",
    "                Line2D([0], [0], color='orange', lw=4)]\n",
    "plt.legend(custom_lines, ['wt', 'a20ko', 'cyldko'], prop={'size': 10}, loc = 'best')\n",
    "plt.show()"
   ]
  },
  {
   "cell_type": "code",
   "execution_count": null,
   "metadata": {},
   "outputs": [],
   "source": [
    "#FOR PLOTTING PERCENTILES \n",
    "\n",
    "# x10 = np.array([0, 30, 90, 270, 480,600, 720, 840, 960])\n",
    "# # x102 = np.array([600, 720, 840, 960])\n",
    "# y10 = np.array([0, 0.0106013664572332,0.00519576571714913,0.02967443048221,0.050022163974868,\n",
    "#                 0.088128107774737, 0.17, 0.30055140114867, 0.47])\n",
    "# # y102 = np.array([0.088128107774737, 0.17, 0.30055140114867, 0.47])\n",
    "\n",
    "# x100 = np.array([0, 30, 90, 270,480, 600, 720, 840, 960])\n",
    "# # x1002 = np.array([480, 600, 720, 840, 960])\n",
    "# y100 = np.array([0, 0.00885691708746097,0.0161886154261265,0.0373005242261882,\n",
    "#                   0.2798939020159581, 0.510, .8097294067, 0.95,0.98])\n",
    "\n",
    "x1001 = np.array([0, 30, 90, 270])\n",
    "x1002 = np.array([480, 720, 960])\n",
    "y1001 = np.array([0, 0.00885691708746097,0.0161886154261265,0.0373005242261882])\n",
    "y1002 = np.array([0.2798939020159581, .7797294067, 0.98])\n",
    "# plt.figure()\n",
    "\n",
    "x101 = np.array([0, 30, 90, 270, 480])\n",
    "x102 = np.array([720, 960])\n",
    "y101 = np.array([0, 0.0106013664572332,0.00519576571714913,0.02967443048221,0.050022163974868])\n",
    "y102 = np.array([0.17, 0.47])\n",
    "# Combine the results dataframes into a single dataframe with a 'group' index,\n",
    "# in addition to \"simulation\" and \"time\" indexes\n",
    "df = pd.concat([wtclus1.dataframe, a20clus1.dataframe, cyldclus1.dataframe],\n",
    "               keys=['wt', 'a20ko', 'cyldko'],\n",
    "               names=['group', 'simulation', 'time'])\n",
    "\n",
    "# Add observable/group pairs as needed\n",
    "obs_to_plot = {\n",
    "    ('MLKLa_obs', 'wt'): 'blue',\n",
    "    ('MLKLa_obs', 'a20ko'): 'red',\n",
    "    ('MLKLa_obs', 'cyldko'): 'orange'\n",
    "}\n",
    "\n",
    "lower_quantile = 0.1  # 10%\n",
    "upper_quantile = 0.9  # 90%\n",
    "median = 0.5\n",
    "\n",
    "fig, ax = plt.subplots()\n",
    "# plt.figure()\n",
    "legend_keys = []\n",
    "for obs_pair, colour in obs_to_plot.items():\n",
    "    obs, group = obs_pair\n",
    "    # Calculate 10%, 50%, and 90% quantiles for observable\n",
    "    quantile_data = df[obs].loc[group].groupby(['time']).quantile(\n",
    "        q=[lower_quantile, median, upper_quantile]).unstack()\n",
    "    time_hrs = quantile_data.index / 60\n",
    "    # Plot the median line (50% quantile) for the observable\n",
    "    ax.plot(time_hrs, quantile_data.loc[:, median], color=colour, alpha = 1.0)\n",
    "    # Plot the 10% and 90% quantiles as an envelope\n",
    "    ax.fill_between(time_hrs,\n",
    "                    quantile_data.loc[:, lower_quantile],\n",
    "                    quantile_data.loc[:, upper_quantile],\n",
    "                    color=colour,\n",
    "                    alpha=.1)\n",
    "\n",
    "# Add the legend\n",
    "\n",
    "# plt.legend([f'{obs} {group}' for obs, group in obs_to_plot.keys()])\n",
    "plt.title('A20 vs CYLD KO Cluster 0 with 100ng/ml of TNF',fontsize=14) # Title\n",
    "plt.ylabel('Amount [molecules/cell]', fontsize = 14) # Y label\n",
    "plt.xlabel('Time (hours)', fontsize = 14) # X label\n",
    "plt.xlim(xmax =24)\n",
    "# Add axis labels and title\n",
    "# plt.set(xlabel='Time (hours)', ylabel='Amount [molecules/cell]', title=f'{model100.name}', fontsize = 14)\n",
    "# Add grid\n",
    "# ax.grid()\n",
    "# plt.scatter(x101/60, y101*5544)\n",
    "# plt.scatter(x101/60, y1002*5544)\n",
    "# fig.savefig(\"necro_pydream_fitting_5k_5620_100_10tnf_wo_10_12hrs.pdf\")\n",
    "# plt.errorbar(x1001/60, y1001,\n",
    "#              yerr=[(0, 0.00885691708746097,0.0161886154261265,0.0373005242261882),\n",
    "#              (.10,.10,.10,.10)],\n",
    "#                    fmt='.k', ecolor ='black', alpha = 0.75, label ='100 ng/ml', zorder = 2)\n",
    "# plt.errorbar(x1002/60, y1002,\n",
    "#              yerr= .10, fmt='.k', ecolor ='black', alpha = 0.75, label ='100 ng/ml', zorder = 2)\n",
    "# plt.errorbar(x100/60, y10*5544, yerr=350, fmt='.k', ecolor = 'blue', alpha = 0.5, label ='10 ng/ml')\n",
    "# plt.errorbar(x100/60, y100*5544, yerr=350, fmt='.k', ecolor ='green', alpha = 0.5, label ='100 ng/ml')\n",
    "plt.errorbar(x1001/60, y1001*5544,\n",
    "             yerr=[(0, 0.00885691708746097*5544,0.0161886154261265*5544,0.0373005242261882*5544),\n",
    "             (400,400,400,400)],\n",
    "                   fmt='.k', ecolor ='black', alpha = 0.75, label ='10 ng/ml', zorder = 2)\n",
    "plt.errorbar(x1002/60, y1002*5544,\n",
    "             yerr= 400, fmt='.k', ecolor ='black', alpha = 0.75, label ='10 ng/ml', zorder = 2)\n",
    "# plt.errorbar(x101/60, y101*5544,\n",
    "#              yerr=[(0, 0.0106013664572332*5544,0.00519576571714913*5544,0.02967443048221*5544,\n",
    "#                     0.050022163974868*5544),\n",
    "#              (400,400,400,400,400)],\n",
    "#                    fmt='.k', ecolor ='black', alpha = 0.75, label ='10 ng/ml', zorder = 2)\n",
    "# plt.errorbar(x102/60, y102*5544,\n",
    "#              yerr= 400, fmt='.k', ecolor ='black', alpha = 0.75, label ='10 ng/ml', zorder = 2)\n",
    "custom_lines = [Line2D([0], [0], color='blue', lw=4),\n",
    "                Line2D([0], [0], color='red', lw=4),\n",
    "                Line2D([0], [0], color='orange', lw=4)]\n",
    "plt.legend(custom_lines, ['wt', 'a20ko', 'cyldko'], prop={'size': 10}, loc = 'best')\n",
    "plt.show()"
   ]
  },
  {
   "cell_type": "code",
   "execution_count": null,
   "metadata": {},
   "outputs": [],
   "source": [
    "#FOR PLOTTING PERCENTILES \n",
    "\n",
    "# x10 = np.array([0, 30, 90, 270, 480,600, 720, 840, 960])\n",
    "# # x102 = np.array([600, 720, 840, 960])\n",
    "# y10 = np.array([0, 0.0106013664572332,0.00519576571714913,0.02967443048221,0.050022163974868,\n",
    "#                 0.088128107774737, 0.17, 0.30055140114867, 0.47])\n",
    "# # y102 = np.array([0.088128107774737, 0.17, 0.30055140114867, 0.47])\n",
    "\n",
    "# x100 = np.array([0, 30, 90, 270,480, 600, 720, 840, 960])\n",
    "# # x1002 = np.array([480, 600, 720, 840, 960])\n",
    "# y100 = np.array([0, 0.00885691708746097,0.0161886154261265,0.0373005242261882,\n",
    "#                   0.2798939020159581, 0.510, .8097294067, 0.95,0.98])\n",
    "\n",
    "x1001 = np.array([0, 30, 90, 270])\n",
    "x1002 = np.array([480, 720, 960])\n",
    "y1001 = np.array([0, 0.00885691708746097,0.0161886154261265,0.0373005242261882])\n",
    "y1002 = np.array([0.2798939020159581, .7797294067, 0.98])\n",
    "# plt.figure()\n",
    "\n",
    "x101 = np.array([0, 30, 90, 270, 480])\n",
    "x102 = np.array([720, 960])\n",
    "y101 = np.array([0, 0.0106013664572332,0.00519576571714913,0.02967443048221,0.050022163974868])\n",
    "y102 = np.array([0.17, 0.47])\n",
    "# Combine the results dataframes into a single dataframe with a 'group' index,\n",
    "# in addition to \"simulation\" and \"time\" indexes\n",
    "df = pd.concat([wtclus2.dataframe, a20clus2.dataframe, cyldclus2.dataframe],\n",
    "               keys=['wt', 'a20ko', 'cyldko'],\n",
    "               names=['group', 'simulation', 'time'])\n",
    "\n",
    "# Add observable/group pairs as needed\n",
    "obs_to_plot = {\n",
    "    ('MLKLa_obs', 'wt'): 'blue',\n",
    "    ('MLKLa_obs', 'a20ko'): 'red',\n",
    "    ('MLKLa_obs', 'cyldko'): 'orange'\n",
    "}\n",
    "\n",
    "lower_quantile = 0.1  # 10%\n",
    "upper_quantile = 0.9  # 90%\n",
    "median = 0.5\n",
    "\n",
    "fig, ax = plt.subplots()\n",
    "# plt.figure()\n",
    "legend_keys = []\n",
    "for obs_pair, colour in obs_to_plot.items():\n",
    "    obs, group = obs_pair\n",
    "    # Calculate 10%, 50%, and 90% quantiles for observable\n",
    "    quantile_data = df[obs].loc[group].groupby(['time']).quantile(\n",
    "        q=[lower_quantile, median, upper_quantile]).unstack()\n",
    "    time_hrs = quantile_data.index / 60\n",
    "    # Plot the median line (50% quantile) for the observable\n",
    "    ax.plot(time_hrs, quantile_data.loc[:, median], color=colour, alpha = 1.0)\n",
    "    # Plot the 10% and 90% quantiles as an envelope\n",
    "    ax.fill_between(time_hrs,\n",
    "                    quantile_data.loc[:, lower_quantile],\n",
    "                    quantile_data.loc[:, upper_quantile],\n",
    "                    color=colour,\n",
    "                    alpha=.1)\n",
    "\n",
    "# Add the legend\n",
    "\n",
    "# plt.legend([f'{obs} {group}' for obs, group in obs_to_plot.keys()])\n",
    "plt.title('A20 vs CYLD KO Cluster 0 with 100ng/ml of TNF',fontsize=14) # Title\n",
    "plt.ylabel('Amount [molecules/cell]', fontsize = 14) # Y label\n",
    "plt.xlabel('Time (hours)', fontsize = 14) # X label\n",
    "plt.xlim(xmax =24)\n",
    "# Add axis labels and title\n",
    "# plt.set(xlabel='Time (hours)', ylabel='Amount [molecules/cell]', title=f'{model100.name}', fontsize = 14)\n",
    "# Add grid\n",
    "# ax.grid()\n",
    "# plt.scatter(x101/60, y101*5544)\n",
    "# plt.scatter(x101/60, y1002*5544)\n",
    "# fig.savefig(\"necro_pydream_fitting_5k_5620_100_10tnf_wo_10_12hrs.pdf\")\n",
    "# plt.errorbar(x1001/60, y1001,\n",
    "#              yerr=[(0, 0.00885691708746097,0.0161886154261265,0.0373005242261882),\n",
    "#              (.10,.10,.10,.10)],\n",
    "#                    fmt='.k', ecolor ='black', alpha = 0.75, label ='100 ng/ml', zorder = 2)\n",
    "# plt.errorbar(x1002/60, y1002,\n",
    "#              yerr= .10, fmt='.k', ecolor ='black', alpha = 0.75, label ='100 ng/ml', zorder = 2)\n",
    "# plt.errorbar(x100/60, y10*5544, yerr=350, fmt='.k', ecolor = 'blue', alpha = 0.5, label ='10 ng/ml')\n",
    "# plt.errorbar(x100/60, y100*5544, yerr=350, fmt='.k', ecolor ='green', alpha = 0.5, label ='100 ng/ml')\n",
    "plt.errorbar(x1001/60, y1001*5544,\n",
    "             yerr=[(0, 0.00885691708746097*5544,0.0161886154261265*5544,0.0373005242261882*5544),\n",
    "             (400,400,400,400)],\n",
    "                   fmt='.k', ecolor ='black', alpha = 0.75, label ='10 ng/ml', zorder = 2)\n",
    "plt.errorbar(x1002/60, y1002*5544,\n",
    "             yerr= 400, fmt='.k', ecolor ='black', alpha = 0.75, label ='10 ng/ml', zorder = 2)\n",
    "# plt.errorbar(x101/60, y101*5544,\n",
    "#              yerr=[(0, 0.0106013664572332*5544,0.00519576571714913*5544,0.02967443048221*5544,\n",
    "#                     0.050022163974868*5544),\n",
    "#              (400,400,400,400,400)],\n",
    "#                    fmt='.k', ecolor ='black', alpha = 0.75, label ='10 ng/ml', zorder = 2)\n",
    "# plt.errorbar(x102/60, y102*5544,\n",
    "#              yerr= 400, fmt='.k', ecolor ='black', alpha = 0.75, label ='10 ng/ml', zorder = 2)\n",
    "custom_lines = [Line2D([0], [0], color='blue', lw=4),\n",
    "                Line2D([0], [0], color='red', lw=4),\n",
    "                Line2D([0], [0], color='orange', lw=4)]\n",
    "plt.legend(custom_lines, ['wt', 'a20ko', 'cyldko'], prop={'size': 10}, loc = 'best')\n",
    "plt.show()"
   ]
  },
  {
   "cell_type": "code",
   "execution_count": null,
   "metadata": {},
   "outputs": [],
   "source": []
  }
 ],
 "metadata": {
  "kernelspec": {
   "display_name": "Python 3",
   "language": "python",
   "name": "python3"
  },
  "language_info": {
   "codemirror_mode": {
    "name": "ipython",
    "version": 3
   },
   "file_extension": ".py",
   "mimetype": "text/x-python",
   "name": "python",
   "nbconvert_exporter": "python",
   "pygments_lexer": "ipython3",
   "version": "3.7.1"
  }
 },
 "nbformat": 4,
 "nbformat_minor": 4
}
