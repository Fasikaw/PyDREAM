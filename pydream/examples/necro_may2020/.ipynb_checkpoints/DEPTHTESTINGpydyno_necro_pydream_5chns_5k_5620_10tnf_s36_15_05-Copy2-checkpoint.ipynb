{
 "cells": [
  {
   "cell_type": "code",
   "execution_count": 1,
   "metadata": {},
   "outputs": [],
   "source": [
    "import os\n",
    "os.environ[\"OMP_NUM_THREADS\"] = \"1\"\n",
    "os.environ[\"OPENBLAS_NUM_THREADS\"] = \"1\"\n",
    "from pylab import *\n",
    "from pysb.core import *\n",
    "from pysb.bng import *\n",
    "from pysb.integrate import *\n",
    "import matplotlib.pyplot as plt\n",
    "import numpy as np\n",
    "from pysb.util import alias_model_components\n",
    "from pysb.simulator import CupSodaSimulator\n",
    "from pysb.simulator import ScipyOdeSimulator\n",
    "from pysb.simulator.bng import BngSimulator\n",
    "from necro_uncal_new_updated import model as model100\n",
    "from necro_uncal_new_10tnf import model as model10\n",
    "# from necro_uncal_new_1tnf import model as model1\n",
    "# from necro_uncal_new_01tnf import model as model01\n",
    "import pandas as pd\n",
    "# alias_model_components(model100, model10, model1, model01)\n",
    "from scipy import stats\n",
    "from pysb.simulator import SimulationResult"
   ]
  },
  {
   "cell_type": "code",
   "execution_count": 2,
   "metadata": {},
   "outputs": [
    {
     "name": "stdout",
     "output_type": "stream",
     "text": [
      "[(TNF(brec=None), Parameter('TNF_0', 2326.0)), (TNFR(blig=None, brip=None, bDD=None), Parameter('TNFR_0', 4800.0)), (TRADD(brec=None, brip=None, state='unmod', bDD1=None, bDD2=None), Parameter('TRADD_0', 4696.0)), (RIP1(bscf=None, bub1=None, bub2=None, bub3=None, bDD=None, btraf=None, bRHIM=None, bMLKL=None, state='unmod'), Parameter('RIP1_0', 40000.0)), (TRAF(brip=None, bciap=None, bcyld=None, state='unmod'), Parameter('TRAF_0', 11776.0)), (cIAP(btraf=None), Parameter('cIAP_0', 9000.0)), (MLKL(bRHIM=None, state='unmod'), Parameter('MLKLa_0', 5544.0)), (A20(brip=None), Parameter('A20_0', 9000.0)), (CYLD(brip=None, btraf=None), Parameter('CYLD_0', 9000.0)), (FADD(bDD=None, bDED1=None, bDED2=None), Parameter('FADD_0', 3109.0)), (RIP3(bRHIM=None, bDD=None, state='unmod'), Parameter('RIP3_0', 10654.0)), (flip_L(bDED=None, state='A'), Parameter('flip_L_0', 3900.0)), (LUBAC(brip=None), Parameter('Lubac_0', 7226.0)), (C8(bf=None, flip=None, state='I'), Parameter('C8_0', 3799.0))]\n"
     ]
    }
   ],
   "source": [
    "print(list(model100.initial_conditions))"
   ]
  },
  {
   "cell_type": "code",
   "execution_count": 3,
   "metadata": {},
   "outputs": [
    {
     "name": "stdout",
     "output_type": "stream",
     "text": [
      "[(TNF(brec=None), Parameter('TNF_0', 233.0)), (TNFR(blig=None, brip=None, bDD=None), Parameter('TNFR_0', 4800.0)), (TRADD(brec=None, brip=None, state='unmod', bDD1=None, bDD2=None), Parameter('TRADD_0', 4696.0)), (RIP1(bscf=None, bub1=None, bub2=None, bub3=None, bDD=None, btraf=None, bRHIM=None, bMLKL=None, state='unmod'), Parameter('RIP1_0', 40000.0)), (TRAF(brip=None, bciap=None, bcyld=None, state='unmod'), Parameter('TRAF_0', 11776.0)), (cIAP(btraf=None), Parameter('cIAP_0', 9000.0)), (MLKL(bRHIM=None, state='unmod'), Parameter('MLKLa_0', 5544.0)), (A20(brip=None), Parameter('A20_0', 9000.0)), (CYLD(brip=None, btraf=None), Parameter('CYLD_0', 9000.0)), (FADD(bDD=None, bDED1=None, bDED2=None), Parameter('FADD_0', 3109.0)), (RIP3(bRHIM=None, bDD=None, state='unmod'), Parameter('RIP3_0', 10654.0)), (flip_L(bDED=None, state='A'), Parameter('flip_L_0', 3900.0)), (LUBAC(brip=None), Parameter('Lubac_0', 7226.0)), (C8(bf=None, flip=None, state='I'), Parameter('C8_0', 3799.0))]\n"
     ]
    }
   ],
   "source": [
    "print(list(model10.initial_conditions))"
   ]
  },
  {
   "cell_type": "code",
   "execution_count": 4,
   "metadata": {},
   "outputs": [
    {
     "name": "stdout",
     "output_type": "stream",
     "text": [
      "5000\n"
     ]
    }
   ],
   "source": [
    "par_files = np.load('most_likely_par_5k_necropydream_may62020.npy')\n",
    "n_pars = len(par_files)\n",
    "all_pars = np.zeros((n_pars, len(model100.parameters)))\n",
    "\n",
    "rate_params = model100.parameters_rules() # these are only the parameters involved in the rules\n",
    "param_values = np.array([p.value for p in model100.parameters]) # these are all the parameters\n",
    "rate_mask = np.array([p in rate_params for p in model100.parameters])\n",
    "\n",
    "for i in range(n_pars):\n",
    "    par = par_files[i]\n",
    "    param_values[rate_mask] = 10 ** par\n",
    "    all_pars[i] = param_values\n",
    "print(len(all_pars))    "
   ]
  },
  {
   "cell_type": "code",
   "execution_count": 5,
   "metadata": {},
   "outputs": [
    {
     "name": "stdout",
     "output_type": "stream",
     "text": [
      "5000\n"
     ]
    }
   ],
   "source": [
    "par_files = np.load('most_likely_par_5k_necropydream_may62020.npy')\n",
    "n_pars = len(par_files)\n",
    "all_pars2 = np.zeros((n_pars, len(model10.parameters)))\n",
    "\n",
    "rate_params = model10.parameters_rules() # these are only the parameters involved in the rules\n",
    "param_values = np.array([p.value for p in model10.parameters]) # these are all the parameters\n",
    "rate_mask = np.array([p in rate_params for p in model10.parameters])\n",
    "\n",
    "for i in range(n_pars):\n",
    "    par = par_files[i]\n",
    "    param_values[rate_mask] = 10 ** par\n",
    "    all_pars2[i] = param_values\n",
    "print(len(all_pars2)) "
   ]
  },
  {
   "cell_type": "code",
   "execution_count": 6,
   "metadata": {},
   "outputs": [
    {
     "name": "stderr",
     "output_type": "stream",
     "text": [
      "2020-05-12 15:49:36.201 - pysb.simulator.scipyode - DEBUG - [necro_uncal_new_updated] Simulator created\n"
     ]
    },
    {
     "name": "stdout",
     "output_type": "stream",
     "text": [
      "running simulations 100\n"
     ]
    },
    {
     "name": "stderr",
     "output_type": "stream",
     "text": [
      "2020-05-12 15:49:36.696 - pysb.simulator.scipyode - DEBUG - [necro_uncal_new_updated] Equation mode set to \"cython\"\n",
      "2020-05-12 15:49:36.759 - pysb.simulator.scipyode - INFO - [necro_uncal_new_updated] Simulation(s) started\n",
      "2020-05-12 15:49:37.176 - pysb.simulator.scipyode - DEBUG - [necro_uncal_new_updated] Multi-processor (parallel) mode using 10 processes\n",
      "2020-05-12 15:51:24.863 - pysb.simulator.scipyode - INFO - [necro_uncal_new_updated] All simulation(s) complete\n",
      "2020-05-12 15:51:24.863 - pysb.simulator.scipyode - DEBUG - [necro_uncal_new_updated] SimulationResult constructor started\n",
      "2020-05-12 15:51:26.422 - pysb.simulator.scipyode - DEBUG - [necro_uncal_new_updated] SimulationResult constructor finished\n"
     ]
    }
   ],
   "source": [
    "print('running simulations 100')\n",
    "# t = np.array([0, 30, 90, 270, 480,600, 720, 840, 960])\n",
    "tspan = np.linspace(0, 1440, 300)\n",
    "solver100 = ScipyOdeSimulator(model100, tspan=tspan, verbose = True)\n",
    "result100 = solver100.run(param_values=all_pars, num_processors = 10)\n",
    "result100.save('necro_pydream_5chns_5k_5620_100tnf.h5')\n",
    "# df = result100.dataframe\n",
    "# result10.save('necro_pydream_5chns_929_10tnf_updated_kocyld.h5')\n",
    "df1 = result100.dataframe"
   ]
  },
  {
   "cell_type": "code",
   "execution_count": 7,
   "metadata": {},
   "outputs": [
    {
     "name": "stderr",
     "output_type": "stream",
     "text": [
      "2020-05-12 15:51:38.857 - pysb.simulator.scipyode - DEBUG - [necro_uncal_new_10tnf] Simulator created\n",
      "2020-05-12 15:51:38.867 - pysb.simulator.scipyode - DEBUG - [necro_uncal_new_10tnf] Equation mode set to \"cython\"\n",
      "2020-05-12 15:51:38.902 - pysb.simulator.scipyode - INFO - [necro_uncal_new_10tnf] Simulation(s) started\n"
     ]
    },
    {
     "name": "stdout",
     "output_type": "stream",
     "text": [
      "running simulations 10\n"
     ]
    },
    {
     "name": "stderr",
     "output_type": "stream",
     "text": [
      "2020-05-12 15:51:39.324 - pysb.simulator.scipyode - DEBUG - [necro_uncal_new_10tnf] Multi-processor (parallel) mode using 10 processes\n",
      "2020-05-12 15:52:53.367 - pysb.simulator.scipyode - INFO - [necro_uncal_new_10tnf] All simulation(s) complete\n",
      "2020-05-12 15:52:53.368 - pysb.simulator.scipyode - DEBUG - [necro_uncal_new_10tnf] SimulationResult constructor started\n",
      "2020-05-12 15:52:54.842 - pysb.simulator.scipyode - DEBUG - [necro_uncal_new_10tnf] SimulationResult constructor finished\n"
     ]
    }
   ],
   "source": [
    "print('running simulations 10')\n",
    "tspan = np.linspace(0, 1440, 300)\n",
    "solver10 = ScipyOdeSimulator(model10, tspan=tspan, verbose = True)\n",
    "result10 = solver10.run(param_values=all_pars2, num_processors = 10)\n",
    "result10.save('necro_pydream_5chns_5k_5620_10tnf.h5')\n",
    "df2 = result10.dataframe\n",
    "# df2 = result10.dataframe"
   ]
  },
  {
   "cell_type": "code",
   "execution_count": null,
   "metadata": {},
   "outputs": [],
   "source": [
    "wt100 = SimulationResult.load('necro_pydream_5chns_5k_5620_100tnf.h5')\n",
    "# df1 = wt100.dataframe"
   ]
  },
  {
   "cell_type": "code",
   "execution_count": null,
   "metadata": {},
   "outputs": [],
   "source": [
    "wt10 = SimulationResult.load('necro_pydream_5chns_5k_5620_10tnf.h5')\n",
    "# df2 = wt10.dataframe"
   ]
  },
  {
   "cell_type": "code",
   "execution_count": 27,
   "metadata": {},
   "outputs": [
    {
     "data": {
      "image/png": "[encoded data removed]",
      "text/plain": [
       "<Figure size 432x288 with 1 Axes>"
      ]
     },
     "metadata": {
      "needs_background": "light"
     },
     "output_type": "display_data"
    }
   ],
   "source": [
    "#FOR PLOTTING PERCENTILES \n",
    "\n",
    "# x10 = np.array([0, 30, 90, 270, 480,600, 720, 840, 960])\n",
    "# # x102 = np.array([600, 720, 840, 960])\n",
    "# y10 = np.array([0, 0.0106013664572332,0.00519576571714913,0.02967443048221,0.050022163974868,\n",
    "#                 0.088128107774737, 0.17, 0.30055140114867, 0.47])\n",
    "# # y102 = np.array([0.088128107774737, 0.17, 0.30055140114867, 0.47])\n",
    "\n",
    "# x100 = np.array([0, 30, 90, 270,480, 600, 720, 840, 960])\n",
    "# # x1002 = np.array([480, 600, 720, 840, 960])\n",
    "# y100 = np.array([0, 0.00885691708746097,0.0161886154261265,0.0373005242261882,\n",
    "#                   0.2798939020159581, 0.510, .8097294067, 0.95,0.98])\n",
    "\n",
    "x1001 = np.array([0, 30, 90, 270])\n",
    "x1002 = np.array([480, 720, 960])\n",
    "y1001 = np.array([0, 0.00885691708746097,0.0161886154261265,0.0373005242261882])\n",
    "y1002 = np.array([0.2798939020159581, .7797294067, 0.98])\n",
    "# plt.figure()\n",
    "\n",
    "x101 = np.array([0, 30, 90, 270, 480])\n",
    "x102 = np.array([720, 960])\n",
    "y101 = np.array([0, 0.0106013664572332,0.00519576571714913,0.02967443048221,0.050022163974868])\n",
    "y102 = np.array([0.17, 0.47])\n",
    "# Combine the results dataframes into a single dataframe with a 'group' index,\n",
    "# in addition to \"simulation\" and \"time\" indexes\n",
    "df = pd.concat([result100.dataframe, result10.dataframe],\n",
    "               keys=['mlkl100', 'mlkl10'],\n",
    "               names=['group', 'simulation', 'time'])\n",
    "\n",
    "# Add observable/group pairs as needed\n",
    "obs_to_plot = {\n",
    "    ('MLKLa_obs', 'mlkl100'): 'blue',\n",
    "    ('MLKLa_obs', 'mlkl10'): 'orange'\n",
    "}\n",
    "\n",
    "lower_quantile = 0.1  # 10%\n",
    "upper_quantile = 0.9  # 90%\n",
    "median = 0.5\n",
    "\n",
    "fig, ax = plt.subplots()\n",
    "# plt.figure()\n",
    "legend_keys = []\n",
    "for obs_pair, colour in obs_to_plot.items():\n",
    "    obs, group = obs_pair\n",
    "    # Calculate 10%, 50%, and 90% quantiles for observable\n",
    "    quantile_data = df[obs].loc[group].groupby(['time']).quantile(\n",
    "        q=[lower_quantile, median, upper_quantile]).unstack()\n",
    "    time_hrs = quantile_data.index / 60\n",
    "    # Plot the median line (50% quantile) for the observable\n",
    "    ax.plot(time_hrs, quantile_data.loc[:, median], color=colour)\n",
    "    # Plot the 10% and 90% quantiles as an envelope\n",
    "    ax.fill_between(time_hrs,\n",
    "                    quantile_data.loc[:, lower_quantile],\n",
    "                    quantile_data.loc[:, upper_quantile],\n",
    "                    color=colour,\n",
    "                    alpha=.1)\n",
    "\n",
    "# Add the legend\n",
    "\n",
    "# plt.legend([f'{obs} {group}' for obs, group in obs_to_plot.keys()])\n",
    "plt.title('Model Fitting for 100 & 10 ng/ml of TNF',fontsize=14) # Title\n",
    "plt.ylabel('Amount [molecules/cell]', fontsize = 14) # Y label\n",
    "plt.xlabel('Time (hours)', fontsize = 14) # X label\n",
    "plt.xlim(xmax =24)\n",
    "# Add axis labels and title\n",
    "# plt.set(xlabel='Time (hours)', ylabel='Amount [molecules/cell]', title=f'{model100.name}', fontsize = 14)\n",
    "# Add grid\n",
    "# ax.grid()\n",
    "# plt.scatter(x101/60, y101*5544)\n",
    "# plt.scatter(x101/60, y1002*5544)\n",
    "fig.savefig(\"necro_pydream_fitting_5k_5620_100_10tnf_wo_10_12hrs.pdf\")\n",
    "# plt.errorbar(x1001/60, y1001,\n",
    "#              yerr=[(0, 0.00885691708746097,0.0161886154261265,0.0373005242261882),\n",
    "#              (.10,.10,.10,.10)],\n",
    "#                    fmt='.k', ecolor ='black', alpha = 0.75, label ='100 ng/ml', zorder = 2)\n",
    "# plt.errorbar(x1002/60, y1002,\n",
    "#              yerr= .10, fmt='.k', ecolor ='black', alpha = 0.75, label ='100 ng/ml', zorder = 2)\n",
    "# plt.errorbar(x100/60, y10*5544, yerr=350, fmt='.k', ecolor = 'blue', alpha = 0.5, label ='10 ng/ml')\n",
    "# plt.errorbar(x100/60, y100*5544, yerr=350, fmt='.k', ecolor ='green', alpha = 0.5, label ='100 ng/ml')\n",
    "plt.errorbar(x1001/60, y1001*5544,\n",
    "             yerr=[(0, 0.00885691708746097*5544,0.0161886154261265*5544,0.0373005242261882*5544),\n",
    "             (400,400,400,400)],\n",
    "                   fmt='.k', ecolor ='black', alpha = 0.75, label ='10 ng/ml', zorder = 2)\n",
    "plt.errorbar(x1002/60, y1002*5544,\n",
    "             yerr= 400, fmt='.k', ecolor ='black', alpha = 0.75, label ='10 ng/ml', zorder = 2)\n",
    "plt.errorbar(x101/60, y101*5544,\n",
    "             yerr=[(0, 0.0106013664572332*5544,0.00519576571714913*5544,0.02967443048221*5544,\n",
    "                    0.050022163974868*5544),\n",
    "             (400,400,400,400,400)],\n",
    "                   fmt='.k', ecolor ='black', alpha = 0.75, label ='10 ng/ml', zorder = 2)\n",
    "plt.errorbar(x102/60, y102*5544,\n",
    "             yerr= 400, fmt='.k', ecolor ='black', alpha = 0.75, label ='10 ng/ml', zorder = 2)\n",
    "custom_lines = [Line2D([0], [0], color='blue', lw=4),\n",
    "                Line2D([0], [0], color='orange', lw=4),\n",
    "                Line2D([0], [0], color='black', lw=4)]\n",
    "plt.legend(custom_lines, ['100 ng/ml', '10 ng/ml', 'Data'], prop={'size': 10}, loc = 'best')\n",
    "plt.show()"
   ]
  },
  {
   "cell_type": "code",
   "execution_count": null,
   "metadata": {},
   "outputs": [],
   "source": [
    "tspan = np.linspace(0, 1440, 300)\n",
    "# x101 = np.array([0, 30, 90, 270, 480,600, 720, 840, 960])\n",
    "# # x102 = np.array([600, 720, 840, 960])\n",
    "# y101 = np.array([0, 0.0106013664572332,0.00519576571714913,0.02967443048221,0.050022163974868,\n",
    "#                 0.088128107774737, 0.17, 0.30055140114867, 0.47])\n",
    "# # y102 = np.array([0.088128107774737, 0.17, 0.30055140114867, 0.47])\n",
    "\n",
    "# x1001 = np.array([0, 30, 90, 270,480, 600, 720, 840, 960])\n",
    "# # x1002 = np.array([480, 600, 720, 840, 960])\n",
    "# y1002 = np.array([0, 0.00885691708746097,0.0161886154261265,0.0373005242261882,\n",
    "#                   0.2798939020159581, 0.510, .8097294067, 0.95,0.98])\n",
    "# y1001 = np.array([0, 0.00885691708746097,0.0161886154261265,0.0373005242261882])\n",
    "\n",
    "plt.figure()\n",
    "for n in range(len(all_pars)):\n",
    "    plt.plot(tspan/60, df1.loc[:]['MLKLa_obs'].iloc[:],lw=1.5, color ='green', label ='100 TNF',  zorder = 1, marker ='*', alpha = 0.30)\n",
    "# plt.scatter(x1001/60, y1002*5544)\n",
    "    plt.plot(tspan/60, df2.loc[:]['MLKLa_obs'].iloc[:],lw=1.5, color ='blue', label ='10 TNF',  zorder = 1, marker ='*', alpha = 0.30)\n",
    "# plt.scatter(x101/60, y101*5544)\n",
    "\n",
    "#     plt.errorbar(x100/60, y100*5544, yerr=210, fmt='.k', ecolor ='green', alpha = 0.5, label ='100 ng/ml')\n",
    "plt.errorbar(x1001/60, y1001,\n",
    "             yerr=[(0, 0.00885691708746097,0.0161886154261265,0.0373005242261882),\n",
    "             (.10,.10,.10,.10)],\n",
    "                   fmt='.k', ecolor ='black', alpha = 0.75, label ='100 ng/ml', zorder = 2)\n",
    "plt.errorbar(x1002/60, y1002,\n",
    "             yerr= .10, fmt='.k', ecolor ='black', alpha = 0.75, label ='100 ng/ml', zorder = 2)\n",
    "plt.xlabel(\"Time (in hr)\", fontsize=15)\n",
    "plt.ylabel(\"Amount (normalized)\", fontsize=15)\n",
    "plt.title('pMLKL with 100 ng/ml of TNF', fontsize=15)\n",
    "plt.xlim(xmin = 0, xmax = 24)\n",
    "plt.xticks(fontsize=14)\n",
    "plt.yticks(fontsize=14)\n",
    "# custom_lines = [Line2D([0], [0], color='green', lw=4),\n",
    "#                 Line2D([0], [0], color='blue', lw=4)]\n",
    "# plt.legend(custom_lines, ['Flip_wt', 'Flip_ko'], prop={'size': 10}, loc = 'best')\n",
    "# plt.savefig('pmlkl_100tnf_wdata_pydream_best10kpars_t.png',dpi=300)\n",
    "# plt.ylim(ymin = -10, ymax =100)\n",
    "# plt.legend(loc='best')\n",
    "plt.show()"
   ]
  },
  {
   "cell_type": "code",
   "execution_count": null,
   "metadata": {},
   "outputs": [],
   "source": [
    "plt.figure()\n",
    "for n in range(25000):\n",
    "    plt.plot(tspan/60, df1.loc[n]['MLKLa_obs'].iloc[:]/5544,lw=1.5, color ='green', label ='Flip_wt',  zorder = 1, marker ='*', alpha = 0.30)\n",
    "    plt.plot(tspan/60, df5.loc[n]['MLKLa_obs'].iloc[:]/5544,lw=1.5, color ='blue', label ='Flip_ko', zorder = 1, marker ='*', alpha = 0.30)\n",
    "plt.xlabel(\"Time (in hr)\", fontsize=15)\n",
    "plt.ylabel(\"Amount (normalized)\", fontsize=15)\n",
    "# plt.title('Flip vs Flip KO with 100 ng/ml of TNF', fontsize=15)\n",
    "plt.xlim(xmin = 0, xmax = 24)\n",
    "plt.xticks(fontsize=14)\n",
    "plt.yticks(fontsize=14)\n",
    "custom_lines = [Line2D([0], [0], color='green', lw=4),\n",
    "                Line2D([0], [0], color='blue', lw=4)]\n",
    "plt.legend(custom_lines, ['Flip_wt', 'Flip_ko'], prop={'size': 10}, loc = 'best')\n",
    "# plt.savefig('pmlkl_100tnf_wdata_pydream_best10kpars_t.png',dpi=300)\n",
    "# plt.ylim(ymin = -10, ymax =100)\n",
    "# plt.legend(loc='best')\n",
    "plt.show()"
   ]
  },
  {
   "cell_type": "code",
   "execution_count": null,
   "metadata": {},
   "outputs": [],
   "source": [
    "x1001 = np.array([0, 30, 90, 270])\n",
    "x1002 = np.array([480, 600, 720, 840, 960])\n",
    "y1002 = np.array([0.2798939020159581, 0.510, .7797294067, 0.95,0.98])\n",
    "y1001 = np.array([0, 0.00885691708746097,0.0161886154261265,0.0373005242261882])\n",
    "# plt.figure()\n",
    "\n",
    "x101 = np.array([0, 30, 90, 270, 480, 600, 720])\n",
    "x102 = np.array([840, 960])\n",
    "y101 = np.array([0, 0.0106013664572332,0.00519576571714913,0.02967443048221,0.050022163974868,0.088128107774737, 0.17])\n",
    "y102 = np.array([0.30055140114867, 0.47])\n",
    "# err = 215,264,304,421,1766,3042,4533,5481,5759\n",
    "\n",
    "# plt.figure()\n",
    "# for n in range(10000):\n",
    "#     plt.plot(tspan/60, df1.loc[n]['MLKLa_obs'].iloc[:]/5544,lw=1.5, color ='green',  zorder = 1, marker ='*', alpha = 0.30)\n",
    "# #     plt.errorbar(x100/60, y100*5544, yerr=210, fmt='.k', ecolor ='green', alpha = 0.5, label ='100 ng/ml')\n",
    "#     plt.errorbar(x1001/60, y1001,\n",
    "#                  yerr=[(0, 0.00885691708746097,0.0161886154261265,0.0373005242261882),\n",
    "#                  (.10,.10,.10,.10)],\n",
    "#                        fmt='.k', ecolor ='black', alpha = 0.75, label ='100 ng/ml', zorder = 2)\n",
    "#     plt.errorbar(x1002/60, y1002,\n",
    "#                  yerr= .10, fmt='.k', ecolor ='black', alpha = 0.75, label ='100 ng/ml', zorder = 2)"
   ]
  },
  {
   "cell_type": "code",
   "execution_count": null,
   "metadata": {},
   "outputs": [],
   "source": [
    "# x101 = np.array([0, 30, 90, 270, 480,600, 720, 840, 960])\n",
    "# # x102 = np.array([600, 720, 840, 960])\n",
    "# y101 = np.array([0, 0.0106013664572332,0.00519576571714913,0.02967443048221,0.050022163974868,\n",
    "#                 0.088128107774737, 0.17, 0.30055140114867, 0.47])\n",
    "# # y102 = np.array([0.088128107774737, 0.17, 0.30055140114867, 0.47])\n",
    "\n",
    "# x1001 = np.array([0, 30, 90, 270,480, 600, 720, 840, 960])\n",
    "# # x1002 = np.array([480, 600, 720, 840, 960])\n",
    "# y1002 = np.array([0, 0.00885691708746097,0.0161886154261265,0.0373005242261882,\n",
    "#                   0.2798939020159581, 0.510, .8097294067, 0.95,0.98])\n",
    "\n",
    "# Combine the results dataframes into a single dataframe with a 'group' index,\n",
    "# in addition to \"simulation\" and \"time\" indexes\n",
    "df = pd.concat([wt100.dataframe, wt10.dataframe],\n",
    "               keys=['mlkl100', 'mlkl10'],\n",
    "               names=['group', 'simulation', 'time'])\n",
    "\n",
    "# Add observable/group pairs as needed\n",
    "obs_to_plot = {\n",
    "    ('MLKLa_obs', 'mlkl100'): 'blue',\n",
    "    ('MLKLa_obs', 'mlkl10'): 'orange'\n",
    "}\n",
    "\n",
    "lower_quantile = 0.1  # 10%\n",
    "upper_quantile = 0.9  # 90%\n",
    "median = 0.5\n",
    "\n",
    "fig, ax = plt.subplots()\n",
    "# plt.figure()\n",
    "legend_keys = []\n",
    "for obs_pair, colour in obs_to_plot.items():\n",
    "    obs, group = obs_pair\n",
    "    # Calculate 10%, 50%, and 90% quantiles for observable\n",
    "    quantile_data = df[obs].loc[group].groupby(['time']).quantile(\n",
    "        q=[lower_quantile, median, upper_quantile]).unstack()\n",
    "    time_hrs = quantile_data.index / 60\n",
    "    # Plot the median line (50% quantile) for the observable\n",
    "    ax.plot(time_hrs, quantile_data.loc[:, median], color=colour)\n",
    "    # Plot the 10% and 90% quantiles as an envelope\n",
    "    ax.fill_between(time_hrs,\n",
    "                    quantile_data.loc[:, lower_quantile],\n",
    "                    quantile_data.loc[:, upper_quantile],\n",
    "                    color=colour,\n",
    "                    alpha=.1)\n",
    "\n",
    "# Add the legend\n",
    "\n",
    "# plt.legend([f'{obs} {group}' for obs, group in obs_to_plot.keys()])\n",
    "# plt.title('wgiubeiod',fontsize=14) # Title\n",
    "# plt.ylabel('Amount [molecules/cell]', fontsize = 14) # Y label\n",
    "# plt.xlabel('Time (hours)', fontsize = 14) # X label\n",
    "# Add axis labels and title\n",
    "# plt.set(xlabel='Time (hours)', ylabel='Amount [molecules/cell]', title=f'{model100.name}', fontsize = 14)\n",
    "# Add grid\n",
    "# ax.grid()\n",
    "# plt.scatter(x101/60, y101*5544)\n",
    "# plt.scatter(x101/60, y1002*5544)\n",
    "plt.errorbar(x1001/60, y1001,\n",
    "             yerr=[(0, 0.00885691708746097,0.0161886154261265,0.0373005242261882),\n",
    "             (.10,.10,.10,.10)],\n",
    "                   fmt='.k', ecolor ='black', alpha = 0.75, label ='100 ng/ml', zorder = 2)\n",
    "plt.errorbar(x1002/60, y1002,\n",
    "             yerr= .10, fmt='.k', ecolor ='black', alpha = 0.75, label ='100 ng/ml', zorder = 2)\n",
    "ax.legend(['pMLKL10', 'pMLKL100'])\n",
    "# Add axis labels and title\n",
    "ax.set(xlabel='time (s)', ylabel='Count', title=f'SSA plot for {model10.name}')\n",
    "# fig.savefig(\"test.png\")\n",
    "plt.show()"
   ]
  },
  {
   "cell_type": "code",
   "execution_count": null,
   "metadata": {},
   "outputs": [],
   "source": []
  },
  {
   "cell_type": "code",
   "execution_count": 28,
   "metadata": {},
   "outputs": [
    {
     "name": "stdout",
     "output_type": "stream",
     "text": [
      "/home/ildefog/miniconda3/envs/calibration/lib/python3.7/site-packages/pydyno/__init__.py\n"
     ]
    }
   ],
   "source": [
    "import sys \n",
    "sys.path.append('..')\n",
    "# sys.path.insert(0,'/home/ildefog/pydyno')\n",
    "import pydyno\n",
    "print(pydyno.__file__)\n",
    "from pydyno.discretization.pysb_discretize import PysbDomPath\n",
    "from pydyno.seqanalysis import SeqAnalysis\n",
    "from pydyno.visualize_simulations import VisualizeSimulations\n",
    "from pydyno.visualize_discretization import visualization_path\n",
    "%matplotlib inline\n",
    "import random\n",
    "import h5py"
   ]
  },
  {
   "cell_type": "code",
   "execution_count": 29,
   "metadata": {},
   "outputs": [],
   "source": [
    "#11:24am\n",
    "# random.seed(412873)\n",
    "dp10 = PysbDomPath(model10,'necro_pydream_5chns_5k_5620_10tnf.h5')\n",
    "signatures, paths = dp10.get_path_signatures(target='s36', type_analysis='production', \n",
    "                                             depth=15, dom_om=0.5)"
   ]
  },
  {
   "cell_type": "code",
   "execution_count": 30,
   "metadata": {},
   "outputs": [
    {
     "data": {
      "text/plain": [
       "array([[  0.,   0.,   0., ..., 598., 598., 598.],\n",
       "       [  0.,   0.,   0., ..., 598., 598., 598.],\n",
       "       [  0.,   0.,   0., ..., 598., 598., 598.],\n",
       "       ...,\n",
       "       [598., 598., 598., ...,   0.,   0.,   0.],\n",
       "       [598., 598., 598., ...,   0.,   0.,   0.],\n",
       "       [598., 598., 598., ...,   0.,   0.,   0.]])"
      ]
     },
     "execution_count": 30,
     "metadata": {},
     "output_type": "execute_result"
    }
   ],
   "source": [
    "signatures.dissimilarity_matrix(n_jobs=1)"
   ]
  },
  {
   "cell_type": "code",
   "execution_count": 31,
   "metadata": {},
   "outputs": [],
   "source": [
    "#11:24am\n",
    "# random.seed(412873)\n",
    "dp100 = PysbDomPath(model100,'necro_pydream_5chns_5k_5620_100tnf.h5')\n",
    "signatures100, paths100 = dp100.get_path_signatures(target='s36', type_analysis='production', \n",
    "                                             depth=15, dom_om=0.5)"
   ]
  },
  {
   "cell_type": "code",
   "execution_count": null,
   "metadata": {},
   "outputs": [],
   "source": [
    "signatures100.dissimilarity_matrix(n_jobs=1)"
   ]
  },
  {
   "cell_type": "code",
   "execution_count": null,
   "metadata": {},
   "outputs": [],
   "source": [
    "signatures.save('pydyno_5k_5620_10tnf_s36_d15_om05.h5')"
   ]
  },
  {
   "cell_type": "code",
   "execution_count": null,
   "metadata": {},
   "outputs": [],
   "source": []
  },
  {
   "cell_type": "code",
   "execution_count": null,
   "metadata": {},
   "outputs": [],
   "source": []
  },
  {
   "cell_type": "code",
   "execution_count": null,
   "metadata": {},
   "outputs": [],
   "source": []
  },
  {
   "cell_type": "code",
   "execution_count": null,
   "metadata": {},
   "outputs": [],
   "source": []
  },
  {
   "cell_type": "code",
   "execution_count": null,
   "metadata": {},
   "outputs": [],
   "source": []
  },
  {
   "cell_type": "code",
   "execution_count": null,
   "metadata": {},
   "outputs": [],
   "source": []
  },
  {
   "cell_type": "code",
   "execution_count": null,
   "metadata": {},
   "outputs": [],
   "source": []
  },
  {
   "cell_type": "code",
   "execution_count": null,
   "metadata": {},
   "outputs": [],
   "source": []
  },
  {
   "cell_type": "code",
   "execution_count": null,
   "metadata": {},
   "outputs": [],
   "source": []
  },
  {
   "cell_type": "code",
   "execution_count": null,
   "metadata": {},
   "outputs": [],
   "source": []
  },
  {
   "cell_type": "code",
   "execution_count": null,
   "metadata": {},
   "outputs": [],
   "source": []
  },
  {
   "cell_type": "code",
   "execution_count": null,
   "metadata": {},
   "outputs": [],
   "source": []
  },
  {
   "cell_type": "code",
   "execution_count": null,
   "metadata": {},
   "outputs": [],
   "source": []
  },
  {
   "cell_type": "code",
   "execution_count": null,
   "metadata": {},
   "outputs": [],
   "source": []
  },
  {
   "cell_type": "code",
   "execution_count": null,
   "metadata": {},
   "outputs": [],
   "source": []
  },
  {
   "cell_type": "code",
   "execution_count": null,
   "metadata": {},
   "outputs": [],
   "source": []
  },
  {
   "cell_type": "code",
   "execution_count": null,
   "metadata": {},
   "outputs": [],
   "source": []
  },
  {
   "cell_type": "code",
   "execution_count": null,
   "metadata": {},
   "outputs": [],
   "source": []
  },
  {
   "cell_type": "code",
   "execution_count": null,
   "metadata": {},
   "outputs": [],
   "source": []
  }
 ],
 "metadata": {
  "kernelspec": {
   "display_name": "Python 3",
   "language": "python",
   "name": "python3"
  },
  "language_info": {
   "codemirror_mode": {
    "name": "ipython",
    "version": 3
   },
   "file_extension": ".py",
   "mimetype": "text/x-python",
   "name": "python",
   "nbconvert_exporter": "python",
   "pygments_lexer": "ipython3",
   "version": "3.7.1"
  }
 },
 "nbformat": 4,
 "nbformat_minor": 4
}
