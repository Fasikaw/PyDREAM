{
 "cells": [
  {
   "cell_type": "code",
   "execution_count": 2,
   "metadata": {},
   "outputs": [],
   "source": [
    "import os\n",
    "os.environ[\"OMP_NUM_THREADS\"] = \"1\"\n",
    "os.environ[\"OPENBLAS_NUM_THREADS\"] = \"1\"\n",
    "from pylab import *\n",
    "from pysb.core import *\n",
    "from pysb.bng import *\n",
    "from pysb.integrate import *\n",
    "import matplotlib.pyplot as plt\n",
    "import numpy as np\n",
    "from pysb.util import alias_model_components\n",
    "from pysb.simulator import CupSodaSimulator\n",
    "from pysb.simulator import ScipyOdeSimulator\n",
    "from pysb.simulator.bng import BngSimulator\n",
    "from necro_uncal_new_updated import model as model100\n",
    "from necro_uncal_new_10tnf import model as model10\n",
    "# from necro_uncal_new_1tnf import model as model1\n",
    "# from necro_uncal_new_01tnf import model as model01\n",
    "import pandas as pd\n",
    "# alias_model_components(model100, model10, model1, model01)\n",
    "from scipy import stats\n",
    "from pysb.simulator import SimulationResult"
   ]
  },
  {
   "cell_type": "code",
   "execution_count": 2,
   "metadata": {},
   "outputs": [
    {
     "name": "stdout",
     "output_type": "stream",
     "text": [
      "[(TNF(brec=None), Parameter('TNF_0', 2326.0)), (TNFR(blig=None, brip=None, bDD=None), Parameter('TNFR_0', 4800.0)), (TRADD(brec=None, brip=None, state='unmod', bDD1=None, bDD2=None), Parameter('TRADD_0', 4696.0)), (RIP1(bscf=None, bub1=None, bub2=None, bub3=None, bDD=None, btraf=None, bRHIM=None, bMLKL=None, state='unmod'), Parameter('RIP1_0', 40000.0)), (TRAF(brip=None, bciap=None, bcyld=None, state='unmod'), Parameter('TRAF_0', 11776.0)), (cIAP(btraf=None), Parameter('cIAP_0', 9000.0)), (MLKL(bRHIM=None, state='unmod'), Parameter('MLKLa_0', 5544.0)), (A20(brip=None), Parameter('A20_0', 9000.0)), (CYLD(brip=None, btraf=None), Parameter('CYLD_0', 9000.0)), (FADD(bDD=None, bDED1=None, bDED2=None), Parameter('FADD_0', 3109.0)), (RIP3(bRHIM=None, bDD=None, state='unmod'), Parameter('RIP3_0', 10654.0)), (flip_L(bDED=None, state='A'), Parameter('flip_L_0', 3900.0)), (LUBAC(brip=None), Parameter('Lubac_0', 7226.0)), (C8(bf=None, flip=None, state='I'), Parameter('C8_0', 3799.0))]\n"
     ]
    }
   ],
   "source": [
    "print(list(model100.initial_conditions))"
   ]
  },
  {
   "cell_type": "code",
   "execution_count": 3,
   "metadata": {},
   "outputs": [
    {
     "name": "stdout",
     "output_type": "stream",
     "text": [
      "[(TNF(brec=None), Parameter('TNF_0', 233.0)), (TNFR(blig=None, brip=None, bDD=None), Parameter('TNFR_0', 4800.0)), (TRADD(brec=None, brip=None, state='unmod', bDD1=None, bDD2=None), Parameter('TRADD_0', 4696.0)), (RIP1(bscf=None, bub1=None, bub2=None, bub3=None, bDD=None, btraf=None, bRHIM=None, bMLKL=None, state='unmod'), Parameter('RIP1_0', 40000.0)), (TRAF(brip=None, bciap=None, bcyld=None, state='unmod'), Parameter('TRAF_0', 11776.0)), (cIAP(btraf=None), Parameter('cIAP_0', 9000.0)), (MLKL(bRHIM=None, state='unmod'), Parameter('MLKLa_0', 5544.0)), (A20(brip=None), Parameter('A20_0', 9000.0)), (CYLD(brip=None, btraf=None), Parameter('CYLD_0', 9000.0)), (FADD(bDD=None, bDED1=None, bDED2=None), Parameter('FADD_0', 3109.0)), (RIP3(bRHIM=None, bDD=None, state='unmod'), Parameter('RIP3_0', 10654.0)), (flip_L(bDED=None, state='A'), Parameter('flip_L_0', 3900.0)), (LUBAC(brip=None), Parameter('Lubac_0', 7226.0)), (C8(bf=None, flip=None, state='I'), Parameter('C8_0', 3799.0))]\n"
     ]
    }
   ],
   "source": [
    "print(list(model10.initial_conditions))"
   ]
  },
  {
   "cell_type": "code",
   "execution_count": 6,
   "metadata": {},
   "outputs": [
    {
     "name": "stdout",
     "output_type": "stream",
     "text": [
      "5000\n"
     ]
    }
   ],
   "source": [
    "par_files = np.load('most_likely_par_5k_necropydream_may62020.npy')\n",
    "n_pars = len(par_files)\n",
    "all_pars = np.zeros((n_pars, len(model100.parameters)))\n",
    "\n",
    "rate_params = model100.parameters_rules() # these are only the parameters involved in the rules\n",
    "param_values = np.array([p.value for p in model100.parameters]) # these are all the parameters\n",
    "rate_mask = np.array([p in rate_params for p in model100.parameters])\n",
    "\n",
    "for i in range(n_pars):\n",
    "    par = par_files[i]\n",
    "    param_values[rate_mask] = 10 ** par\n",
    "    all_pars[i] = param_values\n",
    "print(len(all_pars))    "
   ]
  },
  {
   "cell_type": "code",
   "execution_count": 5,
   "metadata": {},
   "outputs": [
    {
     "name": "stdout",
     "output_type": "stream",
     "text": [
      "5000\n"
     ]
    }
   ],
   "source": [
    "par_files = np.load('most_likely_par_5k_necropydream_may62020.npy')\n",
    "n_pars = len(par_files)\n",
    "all_pars2 = np.zeros((n_pars, len(model10.parameters)))\n",
    "\n",
    "rate_params = model10.parameters_rules() # these are only the parameters involved in the rules\n",
    "param_values = np.array([p.value for p in model10.parameters]) # these are all the parameters\n",
    "rate_mask = np.array([p in rate_params for p in model10.parameters])\n",
    "\n",
    "for i in range(n_pars):\n",
    "    par = par_files[i]\n",
    "    param_values[rate_mask] = 10 ** par\n",
    "    all_pars2[i] = param_values\n",
    "print(len(all_pars2)) "
   ]
  },
  {
   "cell_type": "code",
   "execution_count": 7,
   "metadata": {},
   "outputs": [
    {
     "name": "stderr",
     "output_type": "stream",
     "text": [
      "2020-05-13 02:58:59.553 - pysb.simulator.scipyode - DEBUG - [necro_uncal_new_updated] Simulator created\n",
      "2020-05-13 02:58:59.562 - pysb.simulator.scipyode - DEBUG - [necro_uncal_new_updated] Equation mode set to \"cython\"\n",
      "2020-05-13 02:58:59.627 - pysb.simulator.scipyode - INFO - [necro_uncal_new_updated] Simulation(s) started\n"
     ]
    },
    {
     "name": "stdout",
     "output_type": "stream",
     "text": [
      "running simulations 100\n"
     ]
    },
    {
     "name": "stderr",
     "output_type": "stream",
     "text": [
      "2020-05-13 02:59:00.495 - pysb.simulator.scipyode - DEBUG - [necro_uncal_new_updated] Multi-processor (parallel) mode using 10 processes\n",
      "2020-05-13 03:01:25.389 - pysb.simulator.scipyode - INFO - [necro_uncal_new_updated] All simulation(s) complete\n",
      "2020-05-13 03:01:25.393 - pysb.simulator.scipyode - DEBUG - [necro_uncal_new_updated] SimulationResult constructor started\n",
      "2020-05-13 03:01:28.889 - pysb.simulator.scipyode - DEBUG - [necro_uncal_new_updated] SimulationResult constructor finished\n"
     ]
    }
   ],
   "source": [
    "print('running simulations 100')\n",
    "# t = np.array([0, 30, 90, 270, 480,600, 720, 840, 960])\n",
    "\n",
    "tspan = np.linspace(0, 1440, 300)\n",
    "solver100 = ScipyOdeSimulator(model100, tspan=tspan, verbose = True)\n",
    "result100 = solver100.run(param_values=all_pars, num_processors = 10)\n",
    "result100.save('BLAH2.h5',include_obs_exprs = True)\n",
    "# df = result100.dataframe\n",
    "# result10.save('necro_pydream_5chns_929_10tnf_updated_kocyld.h5')\n",
    "# df1 = result100.dataframe"
   ]
  },
  {
   "cell_type": "code",
   "execution_count": 9,
   "metadata": {},
   "outputs": [
    {
     "name": "stderr",
     "output_type": "stream",
     "text": [
      "2020-05-13 03:04:40.477 - pysb.simulator.scipyode - DEBUG - [necro_uncal_new_updated] Simulator created\n",
      "2020-05-13 03:04:40.486 - pysb.simulator.scipyode - DEBUG - [necro_uncal_new_updated] Equation mode set to \"cython\"\n",
      "2020-05-13 03:04:40.550 - pysb.simulator.scipyode - INFO - [necro_uncal_new_updated] Simulation(s) started\n"
     ]
    },
    {
     "name": "stdout",
     "output_type": "stream",
     "text": [
      "running simulations 100\n"
     ]
    },
    {
     "name": "stderr",
     "output_type": "stream",
     "text": [
      "2020-05-13 03:04:41.420 - pysb.simulator.scipyode - DEBUG - [necro_uncal_new_updated] Multi-processor (parallel) mode using 10 processes\n",
      "2020-05-13 03:07:10.338 - pysb.simulator.scipyode - INFO - [necro_uncal_new_updated] All simulation(s) complete\n",
      "2020-05-13 03:07:10.339 - pysb.simulator.scipyode - DEBUG - [necro_uncal_new_updated] SimulationResult constructor started\n",
      "2020-05-13 03:07:13.672 - pysb.simulator.scipyode - DEBUG - [necro_uncal_new_updated] SimulationResult constructor finished\n"
     ]
    }
   ],
   "source": [
    "print('running simulations 100')\n",
    "# t = np.array([0, 30, 90, 270, 480,600, 720, 840, 960])\n",
    "\n",
    "tspan = np.linspace(0, 1440, 300)\n",
    "solver100n = ScipyOdeSimulator(model100, tspan=tspan, verbose = True)\n",
    "result100n = solver100n.run(param_values=all_pars, num_processors = 10)\n",
    "result100n.save('BLAHxcghjk.h5',include_obs_exprs = True)"
   ]
  },
  {
   "cell_type": "code",
   "execution_count": 10,
   "metadata": {},
   "outputs": [],
   "source": [
    "br = SimulationResult.load('BLAHxcghjk.h5')"
   ]
  },
  {
   "cell_type": "code",
   "execution_count": 11,
   "metadata": {},
   "outputs": [
    {
     "data": {
      "image/png": "[encoded data removed]",
      "text/plain": [
       "<Figure size 432x288 with 1 Axes>"
      ]
     },
     "metadata": {
      "needs_background": "light"
     },
     "output_type": "display_data"
    }
   ],
   "source": [
    "#FOR PLOTTING PERCENTILES \n",
    "\n",
    "# x10 = np.array([0, 30, 90, 270, 480,600, 720, 840, 960])\n",
    "# # x102 = np.array([600, 720, 840, 960])\n",
    "# y10 = np.array([0, 0.0106013664572332,0.00519576571714913,0.02967443048221,0.050022163974868,\n",
    "#                 0.088128107774737, 0.17, 0.30055140114867, 0.47])\n",
    "# # y102 = np.array([0.088128107774737, 0.17, 0.30055140114867, 0.47])\n",
    "\n",
    "# x100 = np.array([0, 30, 90, 270,480, 600, 720, 840, 960])\n",
    "# # x1002 = np.array([480, 600, 720, 840, 960])\n",
    "# y100 = np.array([0, 0.00885691708746097,0.0161886154261265,0.0373005242261882,\n",
    "#                   0.2798939020159581, 0.510, .8097294067, 0.95,0.98])\n",
    "\n",
    "x1001 = np.array([0, 30, 90, 270])\n",
    "x1002 = np.array([480, 720, 960])\n",
    "y1001 = np.array([0, 0.00885691708746097,0.0161886154261265,0.0373005242261882])\n",
    "y1002 = np.array([0.2798939020159581, .7797294067, 0.98])\n",
    "# plt.figure()\n",
    "\n",
    "x101 = np.array([0, 30, 90, 270, 480])\n",
    "x102 = np.array([720, 960])\n",
    "y101 = np.array([0, 0.0106013664572332,0.00519576571714913,0.02967443048221,0.050022163974868])\n",
    "y102 = np.array([0.17, 0.47])\n",
    "# Combine the results dataframes into a single dataframe with a 'group' index,\n",
    "# in addition to \"simulation\" and \"time\" indexes\n",
    "df = pd.concat([br.dataframe],\n",
    "               keys=['wt'],\n",
    "               names=['group', 'simulation', 'time'])\n",
    "\n",
    "# Add observable/group pairs as needed\n",
    "obs_to_plot = {\n",
    "    ('MLKLa_obs', 'wt'): 'blue'}\n",
    "#     ('MLKLa_obs', 'a20ko'): 'orange',\n",
    "#     ('MLKLa_obs', 'cyldko'): 'red'\n",
    "# }\n",
    "\n",
    "lower_quantile = 0.1  # 10%\n",
    "upper_quantile = 0.9  # 90%\n",
    "median = 0.5\n",
    "\n",
    "fig, ax = plt.subplots()\n",
    "# plt.figure()\n",
    "legend_keys = []\n",
    "for obs_pair, colour in obs_to_plot.items():\n",
    "    obs, group = obs_pair\n",
    "    # Calculate 10%, 50%, and 90% quantiles for observable\n",
    "    quantile_data = df[obs].loc[group].groupby(['time']).quantile(\n",
    "        q=[lower_quantile, median, upper_quantile]).unstack()\n",
    "    time_hrs = quantile_data.index / 60\n",
    "    # Plot the median line (50% quantile) for the observable\n",
    "    ax.plot(time_hrs, quantile_data.loc[:, median], color=colour)\n",
    "    # Plot the 10% and 90% quantiles as an envelope\n",
    "    ax.fill_between(time_hrs,\n",
    "                    quantile_data.loc[:, lower_quantile],\n",
    "                    quantile_data.loc[:, upper_quantile],\n",
    "                    color=colour,\n",
    "                    alpha=.1)\n",
    "\n",
    "# Add the legend\n",
    "\n",
    "# plt.legend([f'{obs} {group}' for obs, group in obs_to_plot.keys()])\n",
    "plt.title('Model Fitting for 100 & 10 ng/ml of TNF',fontsize=14) # Title\n",
    "plt.ylabel('Amount [molecules/cell]', fontsize = 14) # Y label\n",
    "plt.xlabel('Time (hours)', fontsize = 14) # X label\n",
    "plt.xlim(xmax =24)\n",
    "# Add axis labels and title\n",
    "# plt.set(xlabel='Time (hours)', ylabel='Amount [molecules/cell]', title=f'{model100.name}', fontsize = 14)\n",
    "# Add grid\n",
    "# ax.grid()\n",
    "# plt.scatter(x101/60, y101*5544)\n",
    "# plt.scatter(x101/60, y1002*5544)\n",
    "# fig.savefig(\"necro_pydream_fitting_5k_5620_100_10tnf_wo_10_12hrs.pdf\")\n",
    "# plt.errorbar(x1001/60, y1001,\n",
    "#              yerr=[(0, 0.00885691708746097,0.0161886154261265,0.0373005242261882),\n",
    "#              (.10,.10,.10,.10)],\n",
    "#                    fmt='.k', ecolor ='black', alpha = 0.75, label ='100 ng/ml', zorder = 2)\n",
    "# plt.errorbar(x1002/60, y1002,\n",
    "#              yerr= .10, fmt='.k', ecolor ='black', alpha = 0.75, label ='100 ng/ml', zorder = 2)\n",
    "# plt.errorbar(x100/60, y10*5544, yerr=350, fmt='.k', ecolor = 'blue', alpha = 0.5, label ='10 ng/ml')\n",
    "# plt.errorbar(x100/60, y100*5544, yerr=350, fmt='.k', ecolor ='green', alpha = 0.5, label ='100 ng/ml')\n",
    "# plt.errorbar(x1001/60, y1001*5544,\n",
    "#              yerr=[(0, 0.00885691708746097*5544,0.0161886154261265*5544,0.0373005242261882*5544),\n",
    "#              (400,400,400,400)],\n",
    "#                    fmt='.k', ecolor ='black', alpha = 0.75, label ='10 ng/ml', zorder = 2)\n",
    "# plt.errorbar(x1002/60, y1002*5544,\n",
    "#              yerr= 400, fmt='.k', ecolor ='black', alpha = 0.75, label ='10 ng/ml', zorder = 2)\n",
    "# plt.errorbar(x101/60, y101*5544,\n",
    "#              yerr=[(0, 0.0106013664572332*5544,0.00519576571714913*5544,0.02967443048221*5544,\n",
    "#                     0.050022163974868*5544),\n",
    "#              (400,400,400,400,400)],\n",
    "#                    fmt='.k', ecolor ='black', alpha = 0.75, label ='10 ng/ml', zorder = 2)\n",
    "# plt.errorbar(x102/60, y102*5544,\n",
    "#              yerr= 400, fmt='.k', ecolor ='black', alpha = 0.75, label ='10 ng/ml', zorder = 2)\n",
    "# custom_lines = [Line2D([0], [0], color='blue', lw=4),\n",
    "#                 Line2D([0], [0], color='orange', lw=4),\n",
    "#                 Line2D([0], [0], color='red', lw=4)]\n",
    "# plt.legend(custom_lines, ['wt', 'a20ko', 'cyldko'], prop={'size': 10}, loc = 'best')\n",
    "plt.show()"
   ]
  },
  {
   "cell_type": "code",
   "execution_count": 7,
   "metadata": {},
   "outputs": [
    {
     "name": "stderr",
     "output_type": "stream",
     "text": [
      "2020-05-12 15:51:38.857 - pysb.simulator.scipyode - DEBUG - [necro_uncal_new_10tnf] Simulator created\n",
      "2020-05-12 15:51:38.867 - pysb.simulator.scipyode - DEBUG - [necro_uncal_new_10tnf] Equation mode set to \"cython\"\n",
      "2020-05-12 15:51:38.902 - pysb.simulator.scipyode - INFO - [necro_uncal_new_10tnf] Simulation(s) started\n"
     ]
    },
    {
     "name": "stdout",
     "output_type": "stream",
     "text": [
      "running simulations 10\n"
     ]
    },
    {
     "name": "stderr",
     "output_type": "stream",
     "text": [
      "2020-05-12 15:51:39.324 - pysb.simulator.scipyode - DEBUG - [necro_uncal_new_10tnf] Multi-processor (parallel) mode using 10 processes\n",
      "2020-05-12 15:52:53.367 - pysb.simulator.scipyode - INFO - [necro_uncal_new_10tnf] All simulation(s) complete\n",
      "2020-05-12 15:52:53.368 - pysb.simulator.scipyode - DEBUG - [necro_uncal_new_10tnf] SimulationResult constructor started\n",
      "2020-05-12 15:52:54.842 - pysb.simulator.scipyode - DEBUG - [necro_uncal_new_10tnf] SimulationResult constructor finished\n"
     ]
    }
   ],
   "source": [
    "print('running simulations 10')\n",
    "tspan = np.linspace(0, 1440, 300)\n",
    "solver10 = ScipyOdeSimulator(model10, tspan=tspan, verbose = True)\n",
    "result10 = solver10.run(param_values=all_pars2, num_processors = 10)\n",
    "result10.save('necro_pydream_5chns_5k_5620_10tnf.h5')\n",
    "df2 = result10.dataframe\n",
    "# df2 = result10.dataframe"
   ]
  },
  {
   "cell_type": "code",
   "execution_count": null,
   "metadata": {},
   "outputs": [],
   "source": [
    "wt100 = SimulationResult.load('necro_pydream_5chns_5k_5620_100tnf.h5')\n",
    "# df1 = wt100.dataframe"
   ]
  },
  {
   "cell_type": "code",
   "execution_count": null,
   "metadata": {},
   "outputs": [],
   "source": [
    "wt10 = SimulationResult.load('necro_pydream_5chns_5k_5620_10tnf.h5')\n",
    "# df2 = wt10.dataframe"
   ]
  },
  {
   "cell_type": "code",
   "execution_count": 27,
   "metadata": {},
   "outputs": [
    {
     "data": {
      "image/png": "[encoded data removed]",
      "text/plain": [
       "<Figure size 432x288 with 1 Axes>"
      ]
     },
     "metadata": {
      "needs_background": "light"
     },
     "output_type": "display_data"
    }
   ],
   "source": [
    "#FOR PLOTTING PERCENTILES \n",
    "\n",
    "# x10 = np.array([0, 30, 90, 270, 480,600, 720, 840, 960])\n",
    "# # x102 = np.array([600, 720, 840, 960])\n",
    "# y10 = np.array([0, 0.0106013664572332,0.00519576571714913,0.02967443048221,0.050022163974868,\n",
    "#                 0.088128107774737, 0.17, 0.30055140114867, 0.47])\n",
    "# # y102 = np.array([0.088128107774737, 0.17, 0.30055140114867, 0.47])\n",
    "\n",
    "# x100 = np.array([0, 30, 90, 270,480, 600, 720, 840, 960])\n",
    "# # x1002 = np.array([480, 600, 720, 840, 960])\n",
    "# y100 = np.array([0, 0.00885691708746097,0.0161886154261265,0.0373005242261882,\n",
    "#                   0.2798939020159581, 0.510, .8097294067, 0.95,0.98])\n",
    "\n",
    "x1001 = np.array([0, 30, 90, 270])\n",
    "x1002 = np.array([480, 720, 960])\n",
    "y1001 = np.array([0, 0.00885691708746097,0.0161886154261265,0.0373005242261882])\n",
    "y1002 = np.array([0.2798939020159581, .7797294067, 0.98])\n",
    "# plt.figure()\n",
    "\n",
    "x101 = np.array([0, 30, 90, 270, 480])\n",
    "x102 = np.array([720, 960])\n",
    "y101 = np.array([0, 0.0106013664572332,0.00519576571714913,0.02967443048221,0.050022163974868])\n",
    "y102 = np.array([0.17, 0.47])\n",
    "# Combine the results dataframes into a single dataframe with a 'group' index,\n",
    "# in addition to \"simulation\" and \"time\" indexes\n",
    "df = pd.concat([result100.dataframe, result10.dataframe],\n",
    "               keys=['mlkl100', 'mlkl10'],\n",
    "               names=['group', 'simulation', 'time'])\n",
    "\n",
    "# Add observable/group pairs as needed\n",
    "obs_to_plot = {\n",
    "    ('MLKLa_obs', 'mlkl100'): 'blue',\n",
    "    ('MLKLa_obs', 'mlkl10'): 'orange'\n",
    "}\n",
    "\n",
    "lower_quantile = 0.1  # 10%\n",
    "upper_quantile = 0.9  # 90%\n",
    "median = 0.5\n",
    "\n",
    "fig, ax = plt.subplots()\n",
    "# plt.figure()\n",
    "legend_keys = []\n",
    "for obs_pair, colour in obs_to_plot.items():\n",
    "    obs, group = obs_pair\n",
    "    # Calculate 10%, 50%, and 90% quantiles for observable\n",
    "    quantile_data = df[obs].loc[group].groupby(['time']).quantile(\n",
    "        q=[lower_quantile, median, upper_quantile]).unstack()\n",
    "    time_hrs = quantile_data.index / 60\n",
    "    # Plot the median line (50% quantile) for the observable\n",
    "    ax.plot(time_hrs, quantile_data.loc[:, median], color=colour)\n",
    "    # Plot the 10% and 90% quantiles as an envelope\n",
    "    ax.fill_between(time_hrs,\n",
    "                    quantile_data.loc[:, lower_quantile],\n",
    "                    quantile_data.loc[:, upper_quantile],\n",
    "                    color=colour,\n",
    "                    alpha=.1)\n",
    "\n",
    "# Add the legend\n",
    "\n",
    "# plt.legend([f'{obs} {group}' for obs, group in obs_to_plot.keys()])\n",
    "plt.title('Model Fitting for 100 & 10 ng/ml of TNF',fontsize=14) # Title\n",
    "plt.ylabel('Amount [molecules/cell]', fontsize = 14) # Y label\n",
    "plt.xlabel('Time (hours)', fontsize = 14) # X label\n",
    "plt.xlim(xmax =24)\n",
    "# Add axis labels and title\n",
    "# plt.set(xlabel='Time (hours)', ylabel='Amount [molecules/cell]', title=f'{model100.name}', fontsize = 14)\n",
    "# Add grid\n",
    "# ax.grid()\n",
    "# plt.scatter(x101/60, y101*5544)\n",
    "# plt.scatter(x101/60, y1002*5544)\n",
    "fig.savefig(\"necro_pydream_fitting_5k_5620_100_10tnf_wo_10_12hrs.pdf\")\n",
    "# plt.errorbar(x1001/60, y1001,\n",
    "#              yerr=[(0, 0.00885691708746097,0.0161886154261265,0.0373005242261882),\n",
    "#              (.10,.10,.10,.10)],\n",
    "#                    fmt='.k', ecolor ='black', alpha = 0.75, label ='100 ng/ml', zorder = 2)\n",
    "# plt.errorbar(x1002/60, y1002,\n",
    "#              yerr= .10, fmt='.k', ecolor ='black', alpha = 0.75, label ='100 ng/ml', zorder = 2)\n",
    "# plt.errorbar(x100/60, y10*5544, yerr=350, fmt='.k', ecolor = 'blue', alpha = 0.5, label ='10 ng/ml')\n",
    "# plt.errorbar(x100/60, y100*5544, yerr=350, fmt='.k', ecolor ='green', alpha = 0.5, label ='100 ng/ml')\n",
    "plt.errorbar(x1001/60, y1001*5544,\n",
    "             yerr=[(0, 0.00885691708746097*5544,0.0161886154261265*5544,0.0373005242261882*5544),\n",
    "             (400,400,400,400)],\n",
    "                   fmt='.k', ecolor ='black', alpha = 0.75, label ='10 ng/ml', zorder = 2)\n",
    "plt.errorbar(x1002/60, y1002*5544,\n",
    "             yerr= 400, fmt='.k', ecolor ='black', alpha = 0.75, label ='10 ng/ml', zorder = 2)\n",
    "plt.errorbar(x101/60, y101*5544,\n",
    "             yerr=[(0, 0.0106013664572332*5544,0.00519576571714913*5544,0.02967443048221*5544,\n",
    "                    0.050022163974868*5544),\n",
    "             (400,400,400,400,400)],\n",
    "                   fmt='.k', ecolor ='black', alpha = 0.75, label ='10 ng/ml', zorder = 2)\n",
    "plt.errorbar(x102/60, y102*5544,\n",
    "             yerr= 400, fmt='.k', ecolor ='black', alpha = 0.75, label ='10 ng/ml', zorder = 2)\n",
    "custom_lines = [Line2D([0], [0], color='blue', lw=4),\n",
    "                Line2D([0], [0], color='orange', lw=4),\n",
    "                Line2D([0], [0], color='black', lw=4)]\n",
    "plt.legend(custom_lines, ['100 ng/ml', '10 ng/ml', 'Data'], prop={'size': 10}, loc = 'best')\n",
    "plt.show()"
   ]
  },
  {
   "cell_type": "code",
   "execution_count": null,
   "metadata": {},
   "outputs": [],
   "source": [
    "tspan = np.linspace(0, 1440, 300)\n",
    "# x101 = np.array([0, 30, 90, 270, 480,600, 720, 840, 960])\n",
    "# # x102 = np.array([600, 720, 840, 960])\n",
    "# y101 = np.array([0, 0.0106013664572332,0.00519576571714913,0.02967443048221,0.050022163974868,\n",
    "#                 0.088128107774737, 0.17, 0.30055140114867, 0.47])\n",
    "# # y102 = np.array([0.088128107774737, 0.17, 0.30055140114867, 0.47])\n",
    "\n",
    "# x1001 = np.array([0, 30, 90, 270,480, 600, 720, 840, 960])\n",
    "# # x1002 = np.array([480, 600, 720, 840, 960])\n",
    "# y1002 = np.array([0, 0.00885691708746097,0.0161886154261265,0.0373005242261882,\n",
    "#                   0.2798939020159581, 0.510, .8097294067, 0.95,0.98])\n",
    "# y1001 = np.array([0, 0.00885691708746097,0.0161886154261265,0.0373005242261882])\n",
    "\n",
    "plt.figure()\n",
    "for n in range(len(all_pars)):\n",
    "    plt.plot(tspan/60, df1.loc[:]['MLKLa_obs'].iloc[:],lw=1.5, color ='green', label ='100 TNF',  zorder = 1, marker ='*', alpha = 0.30)\n",
    "# plt.scatter(x1001/60, y1002*5544)\n",
    "    plt.plot(tspan/60, df2.loc[:]['MLKLa_obs'].iloc[:],lw=1.5, color ='blue', label ='10 TNF',  zorder = 1, marker ='*', alpha = 0.30)\n",
    "# plt.scatter(x101/60, y101*5544)\n",
    "\n",
    "#     plt.errorbar(x100/60, y100*5544, yerr=210, fmt='.k', ecolor ='green', alpha = 0.5, label ='100 ng/ml')\n",
    "plt.errorbar(x1001/60, y1001,\n",
    "             yerr=[(0, 0.00885691708746097,0.0161886154261265,0.0373005242261882),\n",
    "             (.10,.10,.10,.10)],\n",
    "                   fmt='.k', ecolor ='black', alpha = 0.75, label ='100 ng/ml', zorder = 2)\n",
    "plt.errorbar(x1002/60, y1002,\n",
    "             yerr= .10, fmt='.k', ecolor ='black', alpha = 0.75, label ='100 ng/ml', zorder = 2)\n",
    "plt.xlabel(\"Time (in hr)\", fontsize=15)\n",
    "plt.ylabel(\"Amount (normalized)\", fontsize=15)\n",
    "plt.title('pMLKL with 100 ng/ml of TNF', fontsize=15)\n",
    "plt.xlim(xmin = 0, xmax = 24)\n",
    "plt.xticks(fontsize=14)\n",
    "plt.yticks(fontsize=14)\n",
    "# custom_lines = [Line2D([0], [0], color='green', lw=4),\n",
    "#                 Line2D([0], [0], color='blue', lw=4)]\n",
    "# plt.legend(custom_lines, ['Flip_wt', 'Flip_ko'], prop={'size': 10}, loc = 'best')\n",
    "# plt.savefig('pmlkl_100tnf_wdata_pydream_best10kpars_t.png',dpi=300)\n",
    "# plt.ylim(ymin = -10, ymax =100)\n",
    "# plt.legend(loc='best')\n",
    "plt.show()"
   ]
  },
  {
   "cell_type": "code",
   "execution_count": null,
   "metadata": {},
   "outputs": [],
   "source": [
    "plt.figure()\n",
    "for n in range(25000):\n",
    "    plt.plot(tspan/60, df1.loc[n]['MLKLa_obs'].iloc[:]/5544,lw=1.5, color ='green', label ='Flip_wt',  zorder = 1, marker ='*', alpha = 0.30)\n",
    "    plt.plot(tspan/60, df5.loc[n]['MLKLa_obs'].iloc[:]/5544,lw=1.5, color ='blue', label ='Flip_ko', zorder = 1, marker ='*', alpha = 0.30)\n",
    "plt.xlabel(\"Time (in hr)\", fontsize=15)\n",
    "plt.ylabel(\"Amount (normalized)\", fontsize=15)\n",
    "# plt.title('Flip vs Flip KO with 100 ng/ml of TNF', fontsize=15)\n",
    "plt.xlim(xmin = 0, xmax = 24)\n",
    "plt.xticks(fontsize=14)\n",
    "plt.yticks(fontsize=14)\n",
    "custom_lines = [Line2D([0], [0], color='green', lw=4),\n",
    "                Line2D([0], [0], color='blue', lw=4)]\n",
    "plt.legend(custom_lines, ['Flip_wt', 'Flip_ko'], prop={'size': 10}, loc = 'best')\n",
    "# plt.savefig('pmlkl_100tnf_wdata_pydream_best10kpars_t.png',dpi=300)\n",
    "# plt.ylim(ymin = -10, ymax =100)\n",
    "# plt.legend(loc='best')\n",
    "plt.show()"
   ]
  },
  {
   "cell_type": "code",
   "execution_count": null,
   "metadata": {},
   "outputs": [],
   "source": [
    "x1001 = np.array([0, 30, 90, 270])\n",
    "x1002 = np.array([480, 600, 720, 840, 960])\n",
    "y1002 = np.array([0.2798939020159581, 0.510, .7797294067, 0.95,0.98])\n",
    "y1001 = np.array([0, 0.00885691708746097,0.0161886154261265,0.0373005242261882])\n",
    "# plt.figure()\n",
    "\n",
    "x101 = np.array([0, 30, 90, 270, 480, 600, 720])\n",
    "x102 = np.array([840, 960])\n",
    "y101 = np.array([0, 0.0106013664572332,0.00519576571714913,0.02967443048221,0.050022163974868,0.088128107774737, 0.17])\n",
    "y102 = np.array([0.30055140114867, 0.47])\n",
    "# err = 215,264,304,421,1766,3042,4533,5481,5759\n",
    "\n",
    "# plt.figure()\n",
    "# for n in range(10000):\n",
    "#     plt.plot(tspan/60, df1.loc[n]['MLKLa_obs'].iloc[:]/5544,lw=1.5, color ='green',  zorder = 1, marker ='*', alpha = 0.30)\n",
    "# #     plt.errorbar(x100/60, y100*5544, yerr=210, fmt='.k', ecolor ='green', alpha = 0.5, label ='100 ng/ml')\n",
    "#     plt.errorbar(x1001/60, y1001,\n",
    "#                  yerr=[(0, 0.00885691708746097,0.0161886154261265,0.0373005242261882),\n",
    "#                  (.10,.10,.10,.10)],\n",
    "#                        fmt='.k', ecolor ='black', alpha = 0.75, label ='100 ng/ml', zorder = 2)\n",
    "#     plt.errorbar(x1002/60, y1002,\n",
    "#                  yerr= .10, fmt='.k', ecolor ='black', alpha = 0.75, label ='100 ng/ml', zorder = 2)"
   ]
  },
  {
   "cell_type": "code",
   "execution_count": null,
   "metadata": {},
   "outputs": [],
   "source": [
    "# x101 = np.array([0, 30, 90, 270, 480,600, 720, 840, 960])\n",
    "# # x102 = np.array([600, 720, 840, 960])\n",
    "# y101 = np.array([0, 0.0106013664572332,0.00519576571714913,0.02967443048221,0.050022163974868,\n",
    "#                 0.088128107774737, 0.17, 0.30055140114867, 0.47])\n",
    "# # y102 = np.array([0.088128107774737, 0.17, 0.30055140114867, 0.47])\n",
    "\n",
    "# x1001 = np.array([0, 30, 90, 270,480, 600, 720, 840, 960])\n",
    "# # x1002 = np.array([480, 600, 720, 840, 960])\n",
    "# y1002 = np.array([0, 0.00885691708746097,0.0161886154261265,0.0373005242261882,\n",
    "#                   0.2798939020159581, 0.510, .8097294067, 0.95,0.98])\n",
    "\n",
    "# Combine the results dataframes into a single dataframe with a 'group' index,\n",
    "# in addition to \"simulation\" and \"time\" indexes\n",
    "df = pd.concat([wt100.dataframe, wt10.dataframe],\n",
    "               keys=['mlkl100', 'mlkl10'],\n",
    "               names=['group', 'simulation', 'time'])\n",
    "\n",
    "# Add observable/group pairs as needed\n",
    "obs_to_plot = {\n",
    "    ('MLKLa_obs', 'mlkl100'): 'blue',\n",
    "    ('MLKLa_obs', 'mlkl10'): 'orange'\n",
    "}\n",
    "\n",
    "lower_quantile = 0.1  # 10%\n",
    "upper_quantile = 0.9  # 90%\n",
    "median = 0.5\n",
    "\n",
    "fig, ax = plt.subplots()\n",
    "# plt.figure()\n",
    "legend_keys = []\n",
    "for obs_pair, colour in obs_to_plot.items():\n",
    "    obs, group = obs_pair\n",
    "    # Calculate 10%, 50%, and 90% quantiles for observable\n",
    "    quantile_data = df[obs].loc[group].groupby(['time']).quantile(\n",
    "        q=[lower_quantile, median, upper_quantile]).unstack()\n",
    "    time_hrs = quantile_data.index / 60\n",
    "    # Plot the median line (50% quantile) for the observable\n",
    "    ax.plot(time_hrs, quantile_data.loc[:, median], color=colour)\n",
    "    # Plot the 10% and 90% quantiles as an envelope\n",
    "    ax.fill_between(time_hrs,\n",
    "                    quantile_data.loc[:, lower_quantile],\n",
    "                    quantile_data.loc[:, upper_quantile],\n",
    "                    color=colour,\n",
    "                    alpha=.1)\n",
    "\n",
    "# Add the legend\n",
    "\n",
    "# plt.legend([f'{obs} {group}' for obs, group in obs_to_plot.keys()])\n",
    "# plt.title('wgiubeiod',fontsize=14) # Title\n",
    "# plt.ylabel('Amount [molecules/cell]', fontsize = 14) # Y label\n",
    "# plt.xlabel('Time (hours)', fontsize = 14) # X label\n",
    "# Add axis labels and title\n",
    "# plt.set(xlabel='Time (hours)', ylabel='Amount [molecules/cell]', title=f'{model100.name}', fontsize = 14)\n",
    "# Add grid\n",
    "# ax.grid()\n",
    "# plt.scatter(x101/60, y101*5544)\n",
    "# plt.scatter(x101/60, y1002*5544)\n",
    "plt.errorbar(x1001/60, y1001,\n",
    "             yerr=[(0, 0.00885691708746097,0.0161886154261265,0.0373005242261882),\n",
    "             (.10,.10,.10,.10)],\n",
    "                   fmt='.k', ecolor ='black', alpha = 0.75, label ='100 ng/ml', zorder = 2)\n",
    "plt.errorbar(x1002/60, y1002,\n",
    "             yerr= .10, fmt='.k', ecolor ='black', alpha = 0.75, label ='100 ng/ml', zorder = 2)\n",
    "ax.legend(['pMLKL10', 'pMLKL100'])\n",
    "# Add axis labels and title\n",
    "ax.set(xlabel='time (s)', ylabel='Count', title=f'SSA plot for {model10.name}')\n",
    "# fig.savefig(\"test.png\")\n",
    "plt.show()"
   ]
  },
  {
   "cell_type": "code",
   "execution_count": null,
   "metadata": {},
   "outputs": [],
   "source": []
  },
  {
   "cell_type": "code",
   "execution_count": 28,
   "metadata": {},
   "outputs": [
    {
     "name": "stdout",
     "output_type": "stream",
     "text": [
      "/home/ildefog/miniconda3/envs/calibration/lib/python3.7/site-packages/pydyno/__init__.py\n"
     ]
    }
   ],
   "source": [
    "import sys \n",
    "sys.path.append('..')\n",
    "# sys.path.insert(0,'/home/ildefog/pydyno')\n",
    "import pydyno\n",
    "print(pydyno.__file__)\n",
    "from pydyno.discretization.pysb_discretize import PysbDomPath\n",
    "from pydyno.seqanalysis import SeqAnalysis\n",
    "from pydyno.visualize_simulations import VisualizeSimulations\n",
    "from pydyno.visualize_discretization import visualization_path, visualization_seq_paths\n",
    "%matplotlib inline\n",
    "import random\n",
    "import h5py"
   ]
  },
  {
   "cell_type": "code",
   "execution_count": 29,
   "metadata": {},
   "outputs": [],
   "source": [
    "#11:24am\n",
    "# random.seed(412873)\n",
    "dp10 = PysbDomPath(model10,'necro_pydream_5chns_5k_5620_10tnf.h5')\n",
    "signatures, paths = dp10.get_path_signatures(target='s36', type_analysis='production', \n",
    "                                             depth=15, dom_om=0.5)"
   ]
  },
  {
   "cell_type": "code",
   "execution_count": 30,
   "metadata": {},
   "outputs": [
    {
     "data": {
      "text/plain": [
       "array([[  0.,   0.,   0., ..., 598., 598., 598.],\n",
       "       [  0.,   0.,   0., ..., 598., 598., 598.],\n",
       "       [  0.,   0.,   0., ..., 598., 598., 598.],\n",
       "       ...,\n",
       "       [598., 598., 598., ...,   0.,   0.,   0.],\n",
       "       [598., 598., 598., ...,   0.,   0.,   0.],\n",
       "       [598., 598., 598., ...,   0.,   0.,   0.]])"
      ]
     },
     "execution_count": 30,
     "metadata": {},
     "output_type": "execute_result"
    }
   ],
   "source": [
    "signatures.dissimilarity_matrix(n_jobs=1)"
   ]
  },
  {
   "cell_type": "code",
   "execution_count": 31,
   "metadata": {},
   "outputs": [],
   "source": [
    "#11:24am\n",
    "# random.seed(412873)\n",
    "dp100 = PysbDomPath(model100,'necro_pydream_5chns_5k_5620_100tnf.h5')\n",
    "signatures100, paths100 = dp100.get_path_signatures(target='s36', type_analysis='production', \n",
    "                                             depth=15, dom_om=0.5)"
   ]
  },
  {
   "cell_type": "code",
   "execution_count": 32,
   "metadata": {},
   "outputs": [
    {
     "data": {
      "text/plain": [
       "array([[  0., 550.,  22., ..., 544., 544., 544.],\n",
       "       [550.,   0., 548., ..., 534., 544., 532.],\n",
       "       [ 22., 548.,   0., ..., 556., 558., 548.],\n",
       "       ...,\n",
       "       [544., 534., 556., ...,   0.,  32.,  50.],\n",
       "       [544., 544., 558., ...,  32.,   0.,  48.],\n",
       "       [544., 532., 548., ...,  50.,  48.,   0.]])"
      ]
     },
     "execution_count": 32,
     "metadata": {},
     "output_type": "execute_result"
    }
   ],
   "source": [
    "signatures100.dissimilarity_matrix(n_jobs=1)"
   ]
  },
  {
   "cell_type": "code",
   "execution_count": 35,
   "metadata": {},
   "outputs": [],
   "source": [
    "signatures100.save('pydyno_signatures_5k_5620_100tnf_s36_d15_om05.h5')"
   ]
  },
  {
   "cell_type": "code",
   "execution_count": 36,
   "metadata": {},
   "outputs": [
    {
     "data": {
      "text/html": [
       "<div>\n",
       "<style scoped>\n",
       "    .dataframe tbody tr th:only-of-type {\n",
       "        vertical-align: middle;\n",
       "    }\n",
       "\n",
       "    .dataframe tbody tr th {\n",
       "        vertical-align: top;\n",
       "    }\n",
       "\n",
       "    .dataframe thead th {\n",
       "        text-align: right;\n",
       "    }\n",
       "</style>\n",
       "<table border=\"1\" class=\"dataframe\">\n",
       "  <thead>\n",
       "    <tr style=\"text-align: right;\">\n",
       "      <th></th>\n",
       "      <th>num_clusters</th>\n",
       "      <th>cluster_silhouette</th>\n",
       "    </tr>\n",
       "  </thead>\n",
       "  <tbody>\n",
       "    <tr>\n",
       "      <th>0</th>\n",
       "      <td>2</td>\n",
       "      <td>0.553688</td>\n",
       "    </tr>\n",
       "    <tr>\n",
       "      <th>1</th>\n",
       "      <td>3</td>\n",
       "      <td>0.743146</td>\n",
       "    </tr>\n",
       "    <tr>\n",
       "      <th>2</th>\n",
       "      <td>4</td>\n",
       "      <td>0.634219</td>\n",
       "    </tr>\n",
       "    <tr>\n",
       "      <th>3</th>\n",
       "      <td>5</td>\n",
       "      <td>0.385758</td>\n",
       "    </tr>\n",
       "    <tr>\n",
       "      <th>4</th>\n",
       "      <td>6</td>\n",
       "      <td>0.277507</td>\n",
       "    </tr>\n",
       "    <tr>\n",
       "      <th>5</th>\n",
       "      <td>7</td>\n",
       "      <td>0.271096</td>\n",
       "    </tr>\n",
       "    <tr>\n",
       "      <th>6</th>\n",
       "      <td>8</td>\n",
       "      <td>0.289359</td>\n",
       "    </tr>\n",
       "    <tr>\n",
       "      <th>7</th>\n",
       "      <td>9</td>\n",
       "      <td>0.257607</td>\n",
       "    </tr>\n",
       "    <tr>\n",
       "      <th>8</th>\n",
       "      <td>10</td>\n",
       "      <td>0.267016</td>\n",
       "    </tr>\n",
       "    <tr>\n",
       "      <th>9</th>\n",
       "      <td>11</td>\n",
       "      <td>0.248587</td>\n",
       "    </tr>\n",
       "    <tr>\n",
       "      <th>10</th>\n",
       "      <td>12</td>\n",
       "      <td>0.245514</td>\n",
       "    </tr>\n",
       "    <tr>\n",
       "      <th>11</th>\n",
       "      <td>13</td>\n",
       "      <td>0.179318</td>\n",
       "    </tr>\n",
       "    <tr>\n",
       "      <th>12</th>\n",
       "      <td>14</td>\n",
       "      <td>0.223867</td>\n",
       "    </tr>\n",
       "    <tr>\n",
       "      <th>13</th>\n",
       "      <td>15</td>\n",
       "      <td>0.224697</td>\n",
       "    </tr>\n",
       "    <tr>\n",
       "      <th>14</th>\n",
       "      <td>16</td>\n",
       "      <td>0.202422</td>\n",
       "    </tr>\n",
       "    <tr>\n",
       "      <th>15</th>\n",
       "      <td>17</td>\n",
       "      <td>0.171689</td>\n",
       "    </tr>\n",
       "    <tr>\n",
       "      <th>16</th>\n",
       "      <td>18</td>\n",
       "      <td>0.157468</td>\n",
       "    </tr>\n",
       "    <tr>\n",
       "      <th>17</th>\n",
       "      <td>19</td>\n",
       "      <td>0.144529</td>\n",
       "    </tr>\n",
       "  </tbody>\n",
       "</table>\n",
       "</div>"
      ],
      "text/plain": [
       "    num_clusters  cluster_silhouette\n",
       "0              2            0.553688\n",
       "1              3            0.743146\n",
       "2              4            0.634219\n",
       "3              5            0.385758\n",
       "4              6            0.277507\n",
       "5              7            0.271096\n",
       "6              8            0.289359\n",
       "7              9            0.257607\n",
       "8             10            0.267016\n",
       "9             11            0.248587\n",
       "10            12            0.245514\n",
       "11            13            0.179318\n",
       "12            14            0.223867\n",
       "13            15            0.224697\n",
       "14            16            0.202422\n",
       "15            17            0.171689\n",
       "16            18            0.157468\n",
       "17            19            0.144529"
      ]
     },
     "execution_count": 36,
     "metadata": {},
     "output_type": "execute_result"
    }
   ],
   "source": [
    "signatures100.silhouette_score_spectral_range(range(2,20), n_jobs=1)"
   ]
  },
  {
   "cell_type": "code",
   "execution_count": 45,
   "metadata": {},
   "outputs": [],
   "source": [
    "signatures100.spectral_clustering(3)"
   ]
  },
  {
   "cell_type": "code",
   "execution_count": 46,
   "metadata": {},
   "outputs": [
    {
     "data": {
      "image/png": "[encoded data removed]",
      "text/plain": [
       "<Figure size 432x288 with 2 Axes>"
      ]
     },
     "metadata": {
      "needs_background": "light"
     },
     "output_type": "display_data"
    }
   ],
   "source": [
    "sorted_label_idxs = np.argsort(signatures100.labels)\n",
    "sorted_diss = signatures100.diss[sorted_label_idxs, :]\n",
    "sorted_diss = sorted_diss[:, sorted_label_idxs]\n",
    "def heatmap(data, row_labels, col_labels, ax=None,\n",
    "            cbar_kw={}, cbarlabel=\"\", **kwargs):\n",
    "    \"\"\"\n",
    "    Create a heatmap from a numpy array and two lists of labels.\n",
    "    Parameters\n",
    "    ----------\n",
    "    data\n",
    "        A 2D numpy array of shape (N, M).\n",
    "    row_labels\n",
    "        A list or array of length N with the labels for the rows.\n",
    "    col_labels\n",
    "        A list or array of length M with the labels for the columns.\n",
    "    ax\n",
    "        A `matplotlib.axes.Axes` instance to which the heatmap is plotted.  If\n",
    "        not provided, use current axes or create a new one.  Optional.\n",
    "    cbar_kw\n",
    "        A dictionary with arguments to `matplotlib.Figure.colorbar`.  Optional.\n",
    "    cbarlabel\n",
    "        The label for the colorbar.  Optional.\n",
    "    **kwargs\n",
    "        All other arguments are forwarded to `imshow`.\n",
    "    \"\"\"\n",
    "    if not ax:\n",
    "        ax = plt.gca()\n",
    "    # Plot the heatmap\n",
    "    im = ax.imshow(data, **kwargs)\n",
    "    # Create colorbar\n",
    "    cbar = ax.figure.colorbar(im, ax=ax, **cbar_kw)\n",
    "    cbar.ax.set_ylabel(cbarlabel, rotation=-90, va=\"bottom\")\n",
    "#     # We want to show all ticks...\n",
    "#     ax.set_xticks(np.arange(data.shape[1]))\n",
    "#     ax.set_yticks(np.arange(data.shape[0]))\n",
    "#     # ... and label them with the respective list entries.\n",
    "#     ax.set_xticklabels(col_labels)\n",
    "#     ax.set_yticklabels(row_labels)\n",
    "#     # Let the horizontal axes labeling appear on top.\n",
    "#     ax.tick_params(top=True, bottom=False,\n",
    "#                    labeltop=True, labelbottom=False)\n",
    "#     # Rotate the tick labels and set their alignment.\n",
    "#     plt.setp(ax.get_xticklabels(), rotation=-30, ha=\"right\",\n",
    "#              rotation_mode=\"anchor\")\n",
    "#     # Turn spines off and create white grid.\n",
    "#     for edge, spine in ax.spines.items():\n",
    "#         spine.set_visible(False)\n",
    "    ax.set_xticks(np.arange(data.shape[1]+1)-.5, minor=True)\n",
    "    ax.set_yticks(np.arange(data.shape[0]+1)-.5, minor=True)\n",
    "#     ax.grid(which=\"minor\", color=\"w\", linestyle='-', linewidth=3)\n",
    "    ax.tick_params(which=\"minor\", bottom=False, left=False)\n",
    "    return im, cbar\n",
    "import matplotlib.pyplot as plt\n",
    "fig, ax = plt.subplots()\n",
    "im, cbar = heatmap(sorted_diss, range(5000), range(5000), ax=ax,\n",
    "                   cmap=\"YlGn\", cbarlabel=\"distance\")\n",
    "ax.figure.axes[-1].yaxis.label.set_size(14)\n",
    "plt.xlabel('signatures', fontsize = 14)\n",
    "plt.ylabel('signatures', fontsize = 14)\n",
    "fig.tight_layout()\n",
    "plt.show()"
   ]
  },
  {
   "cell_type": "code",
   "execution_count": 49,
   "metadata": {},
   "outputs": [
    {
     "data": {
      "text/plain": [
       "<Figure size 1440x720 with 0 Axes>"
      ]
     },
     "metadata": {},
     "output_type": "display_data"
    },
    {
     "data": {
      "image/png": "[encoded data removed]",
      "text/plain": [
       "<Figure size 576x432 with 3 Axes>"
      ]
     },
     "metadata": {
      "needs_background": "light"
     },
     "output_type": "display_data"
    }
   ],
   "source": [
    "plt.figure(figsize = (20,10))\n",
    "signatures100.plot_sequences(type_fig='modal')\n",
    "plt.show()"
   ]
  },
  {
   "cell_type": "code",
   "execution_count": 50,
   "metadata": {},
   "outputs": [],
   "source": [
    "vt = VisualizeSimulations(model100, sim_results='necro_pydream_5chns_5k_5620_100tnf.h5', \n",
    "                          clusters=signatures100.labels)"
   ]
  },
  {
   "cell_type": "code",
   "execution_count": null,
   "metadata": {},
   "outputs": [],
   "source": [
    "vt.plot_cluster_dynamics(components=['MLKLa_obs'])"
   ]
  },
  {
   "cell_type": "code",
   "execution_count": 52,
   "metadata": {},
   "outputs": [],
   "source": [
    "pmlkl = model100.monomers['MLKL']\n",
    "vt.plot_pattern_sps_distribution(pattern=pmlkl(state='active'), type_fig='bar')\n",
    "plt.show()"
   ]
  },
  {
   "cell_type": "code",
   "execution_count": 53,
   "metadata": {},
   "outputs": [],
   "source": [
    "cluster_label_idxs = VisualizeSimulations.check_clusters_arg(signatures100.labels, nsims=5000)"
   ]
  },
  {
   "cell_type": "code",
   "execution_count": 75,
   "metadata": {},
   "outputs": [
    {
     "name": "stdout",
     "output_type": "stream",
     "text": [
      "1236\n"
     ]
    }
   ],
   "source": [
    "pars_cluster_0 = result100.param_values[cluster_label_idxs[0]]\n",
    "print(len(pars_cluster_0))"
   ]
  },
  {
   "cell_type": "code",
   "execution_count": 59,
   "metadata": {},
   "outputs": [],
   "source": [
    "rep_signatures=signatures100.seq_representativeness(method='centrality', clus_labels=signatures100.labels)"
   ]
  },
  {
   "cell_type": "code",
   "execution_count": 63,
   "metadata": {},
   "outputs": [
    {
     "name": "stdout",
     "output_type": "stream",
     "text": [
      "((2321, 1), array([ 3,  3,  3,  3,  3,  3,  3,  3,  3,  3,  3,  3,  3,  3,  3,  3,  3,\n",
      "        3,  3,  3,  3,  3,  3,  3,  3,  3,  3,  3,  3,  3,  3,  3,  3,  3,\n",
      "        3,  3,  3,  3,  3,  3,  3,  3,  3,  3,  3,  3,  3,  3,  3,  3,  3,\n",
      "        3,  3,  3,  3,  3,  3,  3,  3,  3,  3,  3,  3,  3,  3,  3,  3,  3,\n",
      "        3,  3,  3,  3,  3,  3,  3,  3,  3,  3,  3,  3,  3,  3,  3,  3,  3,\n",
      "        3,  3,  3,  3,  3,  3,  3,  3,  3,  3,  3,  3,  3,  3,  3,  3,  3,\n",
      "        3,  3,  3,  3,  3,  3,  3,  3,  3,  3,  3,  3,  3,  3,  3,  3,  3,\n",
      "        3,  3,  3,  3,  3,  3,  3,  3,  3,  3,  3,  3,  3,  3,  3,  3,  3,\n",
      "        3,  3,  3,  3,  3,  3,  3,  3,  3,  3,  3,  3,  3,  3,  3,  3,  3,\n",
      "        3,  3,  3,  3,  3,  3,  3,  3,  3,  3,  3,  3,  3,  3,  3,  3,  3,\n",
      "        3,  3,  3,  3,  3,  3,  3,  3,  3,  3,  3,  3,  3,  3,  3,  3,  3,\n",
      "        3,  3, 19, 19, 19, 19, 19,  6,  6,  6,  6,  6,  6,  6,  6,  6,  6,\n",
      "        6,  6,  6,  6,  6,  6,  6,  6,  6,  6,  6,  6,  6,  6,  6,  6,  6,\n",
      "        6,  6,  6, 15, 15,  8, 15, 15,  8, 15, 15, 15, 15, 15, 15,  8,  8,\n",
      "       15, 15,  8,  8, 15, 15, 15, 15, 15, 15, 15,  8,  8, 15, 15, 15, 15,\n",
      "       15, 15, 15, 15, 15, 15, 15, 15,  8,  8,  8, 15, 15, 15,  8,  8,  8,\n",
      "       15, 15, 15,  8,  8,  8, 15, 15, 15, 15, 15, 15, 15, 15, 15, 15, 15,\n",
      "        8,  8,  8, 15, 15, 15, 15, 15, 15, 15]))\n"
     ]
    }
   ],
   "source": [
    "print(rep_signatures[0])"
   ]
  },
  {
   "cell_type": "code",
   "execution_count": 70,
   "metadata": {},
   "outputs": [
    {
     "data": {
      "image/png": "[encoded data removed]",
      "text/plain": [
       "<Figure size 432x288 with 2 Axes>"
      ]
     },
     "metadata": {
      "needs_background": "light"
     },
     "output_type": "display_data"
    }
   ],
   "source": [
    "from pydyno.visualize_discretization import visualization_seq_paths\n",
    "visualization_seq_paths(result100, 2321, signatures100)"
   ]
  },
  {
   "cell_type": "code",
   "execution_count": 79,
   "metadata": {},
   "outputs": [],
   "source": [
    "visualization_path(model100, paths[3], type_analysis='production', \n",
    "                   filename='cluster0100tnf_arrestin_s36_prod_05om_depth15_path3_5k_5620.png')\n",
    "visualization_path(model100, paths[19], type_analysis='production', \n",
    "                   filename='cluster0100tnf_arrestin_s36_prod_05om_depth15_path19_5k_5620.png')\n",
    "visualization_path(model100, paths[6], type_analysis='production', \n",
    "                   filename='cluster0100tnf_arrestin_s36_prod_05om_depth15_path6_5k_5620.png')\n",
    "visualization_path(model100, paths[15], type_analysis='production', \n",
    "                   filename='cluster0100tnf_arrestin_s36_prod_05om_depth15_path15_5k_5620.png')\n",
    "visualization_path(model100, paths[8], type_analysis='production', \n",
    "                   filename='cluster0100tnf_arrestin_s36_prod_05om_depth15_path8_5k_5620.png')"
   ]
  },
  {
   "cell_type": "code",
   "execution_count": 80,
   "metadata": {},
   "outputs": [
    {
     "name": "stderr",
     "output_type": "stream",
     "text": [
      "2020-05-12 20:33:05.775 - pysb.simulator.scipyode - DEBUG - [necro_uncal_new_updated] Simulator created\n",
      "2020-05-12 20:33:05.791 - pysb.simulator.scipyode - DEBUG - [necro_uncal_new_updated] Equation mode set to \"cython\"\n",
      "2020-05-12 20:33:05.867 - pysb.simulator.scipyode - INFO - [necro_uncal_new_updated] Simulation(s) started\n"
     ]
    },
    {
     "name": "stdout",
     "output_type": "stream",
     "text": [
      "running simulations 100\n"
     ]
    },
    {
     "name": "stderr",
     "output_type": "stream",
     "text": [
      "2020-05-12 20:33:05.999 - pysb.simulator.scipyode - DEBUG - [necro_uncal_new_updated] Multi-processor (parallel) mode using 10 processes\n",
      "2020-05-12 20:33:34.544 - pysb.simulator.scipyode - INFO - [necro_uncal_new_updated] All simulation(s) complete\n",
      "2020-05-12 20:33:34.545 - pysb.simulator.scipyode - DEBUG - [necro_uncal_new_updated] SimulationResult constructor started\n",
      "2020-05-12 20:33:35.017 - pysb.simulator.scipyode - DEBUG - [necro_uncal_new_updated] SimulationResult constructor finished\n"
     ]
    }
   ],
   "source": [
    "print('running simulations 100')\n",
    "tspan = np.linspace(0, 1440, 300)\n",
    "solver100 = ScipyOdeSimulator(model100, tspan=tspan, verbose = True)\n",
    "simclus0 = solver100.run(param_values=pars_cluster_0, num_processors = 10)\n",
    "simclus0.save('pydyno_s36prod_5k_5620_100tnf_cluster0pars.h5')\n",
    "# df2 = result10.dataframe\n",
    "# df2 = result10.dataframe"
   ]
  },
  {
   "cell_type": "code",
   "execution_count": 84,
   "metadata": {},
   "outputs": [
    {
     "name": "stderr",
     "output_type": "stream",
     "text": [
      "2020-05-12 20:38:53.996 - pysb.simulator.scipyode - DEBUG - [necro_uncal_new_updated] Simulator created\n",
      "2020-05-12 20:38:54.002 - pysb.simulator.scipyode - DEBUG - [necro_uncal_new_updated] Equation mode set to \"cython\"\n",
      "2020-05-12 20:38:54.034 - pysb.simulator.scipyode - INFO - [necro_uncal_new_updated] Simulation(s) started\n"
     ]
    },
    {
     "name": "stdout",
     "output_type": "stream",
     "text": [
      "running simulations 100\n"
     ]
    },
    {
     "name": "stderr",
     "output_type": "stream",
     "text": [
      "2020-05-12 20:38:54.266 - pysb.simulator.scipyode - DEBUG - [necro_uncal_new_updated] Multi-processor (parallel) mode using 10 processes\n",
      "2020-05-12 20:39:51.497 - pysb.simulator.scipyode - INFO - [necro_uncal_new_updated] All simulation(s) complete\n",
      "2020-05-12 20:39:51.498 - pysb.simulator.scipyode - DEBUG - [necro_uncal_new_updated] SimulationResult constructor started\n",
      "2020-05-12 20:39:52.368 - pysb.simulator.scipyode - DEBUG - [necro_uncal_new_updated] SimulationResult constructor finished\n"
     ]
    }
   ],
   "source": [
    "print('running simulations 100')\n",
    "tspan = np.linspace(0, 1440, 300)\n",
    "solver100 = ScipyOdeSimulator(model100, tspan=tspan, verbose = True)\n",
    "simclus1 = solver100.run(param_values=pars_cluster_1, num_processors = 10)\n",
    "simclus1.save('pydyno_s36prod_5k_5620_100tnf_cluster1pars.h5')\n",
    "# df2 = result10.dataframe\n",
    "# df2 = result10.dataframe"
   ]
  },
  {
   "cell_type": "code",
   "execution_count": 85,
   "metadata": {},
   "outputs": [
    {
     "name": "stderr",
     "output_type": "stream",
     "text": [
      "2020-05-12 20:39:57.804 - pysb.simulator.scipyode - DEBUG - [necro_uncal_new_updated] Simulator created\n",
      "2020-05-12 20:39:57.813 - pysb.simulator.scipyode - DEBUG - [necro_uncal_new_updated] Equation mode set to \"cython\"\n",
      "2020-05-12 20:39:57.859 - pysb.simulator.scipyode - INFO - [necro_uncal_new_updated] Simulation(s) started\n",
      "2020-05-12 20:39:57.984 - pysb.simulator.scipyode - DEBUG - [necro_uncal_new_updated] Multi-processor (parallel) mode using 10 processes\n"
     ]
    },
    {
     "name": "stdout",
     "output_type": "stream",
     "text": [
      "running simulations 100\n"
     ]
    },
    {
     "name": "stderr",
     "output_type": "stream",
     "text": [
      "2020-05-12 20:40:27.944 - pysb.simulator.scipyode - INFO - [necro_uncal_new_updated] All simulation(s) complete\n",
      "2020-05-12 20:40:27.945 - pysb.simulator.scipyode - DEBUG - [necro_uncal_new_updated] SimulationResult constructor started\n",
      "2020-05-12 20:40:28.374 - pysb.simulator.scipyode - DEBUG - [necro_uncal_new_updated] SimulationResult constructor finished\n"
     ]
    }
   ],
   "source": [
    "print('running simulations 100')\n",
    "tspan = np.linspace(0, 1440, 300)\n",
    "solver100 = ScipyOdeSimulator(model100, tspan=tspan, verbose = True)\n",
    "simclus2 = solver100.run(param_values=pars_cluster_2, num_processors = 10)\n",
    "simclus2.save('pydyno_s36prod_5k_5620_100tnf_cluster2pars.h5')\n",
    "# df2 = result10.dataframe\n",
    "# df2 = result10.dataframe"
   ]
  },
  {
   "cell_type": "code",
   "execution_count": 97,
   "metadata": {},
   "outputs": [
    {
     "data": {
      "image/png": "[encoded data removed]",
      "text/plain": [
       "<Figure size 432x288 with 1 Axes>"
      ]
     },
     "metadata": {
      "needs_background": "light"
     },
     "output_type": "display_data"
    }
   ],
   "source": [
    "#FOR PLOTTING PERCENTILES \n",
    "x1001 = np.array([0, 30, 90, 270])\n",
    "x1002 = np.array([480, 720, 960])\n",
    "y1001 = np.array([0, 0.00885691708746097,0.0161886154261265,0.0373005242261882])\n",
    "y1002 = np.array([0.2798939020159581, .7797294067, 0.98])\n",
    "# plt.figure()\n",
    "\n",
    "x101 = np.array([0, 30, 90, 270, 480])\n",
    "x102 = np.array([720, 960])\n",
    "y101 = np.array([0, 0.0106013664572332,0.00519576571714913,0.02967443048221,0.050022163974868])\n",
    "y102 = np.array([0.17, 0.47])\n",
    "# Combine the results dataframes into a single dataframe with a 'group' index,\n",
    "# in addition to \"simulation\" and \"time\" indexes\n",
    "df = pd.concat([simclus1.dataframe],\n",
    "               keys=['cluster2'],\n",
    "               names=['group', 'simulation', 'time'])\n",
    "\n",
    "# Add observable/group pairs as needed\n",
    "obs_to_plot = {\n",
    "    ('MLKLa_obs', 'cluster2'): 'blue'\n",
    "}\n",
    "\n",
    "lower_quantile = 0.1  # 10%\n",
    "upper_quantile = 0.9  # 90%\n",
    "median = 0.5\n",
    "\n",
    "fig, ax = plt.subplots()\n",
    "# plt.figure()\n",
    "legend_keys = []\n",
    "for obs_pair, colour in obs_to_plot.items():\n",
    "    obs, group = obs_pair\n",
    "    # Calculate 10%, 50%, and 90% quantiles for observable\n",
    "    quantile_data = df[obs].loc[group].groupby(['time']).quantile(\n",
    "        q=[lower_quantile, median, upper_quantile]).unstack()\n",
    "    time_hrs = quantile_data.index / 60\n",
    "    # Plot the median line (50% quantile) for the observable\n",
    "    ax.plot(time_hrs, quantile_data.loc[:, median], color=colour)\n",
    "    # Plot the 10% and 90% quantiles as an envelope\n",
    "    ax.fill_between(time_hrs,\n",
    "                    quantile_data.loc[:, lower_quantile],\n",
    "                    quantile_data.loc[:, upper_quantile],\n",
    "                    color=colour,\n",
    "                    alpha=.1)\n",
    "\n",
    "# Add the legend\n",
    "\n",
    "# plt.legend([f'{obs} {group}' for obs, group in obs_to_plot.keys()])\n",
    "plt.title('Cluster 1 Dynamics for 100 ng/ml of TNF',fontsize=14) # Title\n",
    "plt.ylabel('Amount [molecules/cell]', fontsize = 14) # Y label\n",
    "plt.xlabel('Time (hours)', fontsize = 14) # X label\n",
    "plt.xlim(xmax =24)\n",
    "fig.savefig(\"pydyno_s36prod_5k_5620_100tnf_cluster2pars_wdata.pdf\")\n",
    "plt.errorbar(x1001/60, y1001*5544,\n",
    "             yerr=[(0, 0.00885691708746097*5544,0.0161886154261265*5544,0.0373005242261882*5544),\n",
    "             (400,400,400,400)],\n",
    "                   fmt='.k', ecolor ='black', alpha = 0.75, label ='10 ng/ml', zorder = 2)\n",
    "plt.errorbar(x1002/60, y1002*5544,\n",
    "             yerr= 400, fmt='.k', ecolor ='black', alpha = 0.75, label ='10 ng/ml', zorder = 2)\n",
    "custom_lines = [Line2D([0], [0], color='blue', lw=4),\n",
    "                Line2D([0], [0], color='black', lw=4)]\n",
    "plt.legend(custom_lines, ['cluster2', 'Data'], prop={'size': 10}, loc = 'best')\n",
    "plt.show()"
   ]
  },
  {
   "cell_type": "code",
   "execution_count": null,
   "metadata": {},
   "outputs": [],
   "source": [
    "#FOR PLOTTING PERCENTILES \n",
    "\n",
    "# x10 = np.array([0, 30, 90, 270, 480,600, 720, 840, 960])\n",
    "# # x102 = np.array([600, 720, 840, 960])\n",
    "# y10 = np.array([0, 0.0106013664572332,0.00519576571714913,0.02967443048221,0.050022163974868,\n",
    "#                 0.088128107774737, 0.17, 0.30055140114867, 0.47])\n",
    "# # y102 = np.array([0.088128107774737, 0.17, 0.30055140114867, 0.47])\n",
    "\n",
    "# x100 = np.array([0, 30, 90, 270,480, 600, 720, 840, 960])\n",
    "# # x1002 = np.array([480, 600, 720, 840, 960])\n",
    "# y100 = np.array([0, 0.00885691708746097,0.0161886154261265,0.0373005242261882,\n",
    "#                   0.2798939020159581, 0.510, .8097294067, 0.95,0.98])\n",
    "\n",
    "x1001 = np.array([0, 30, 90, 270])\n",
    "x1002 = np.array([480, 720, 960])\n",
    "y1001 = np.array([0, 0.00885691708746097,0.0161886154261265,0.0373005242261882])\n",
    "y1002 = np.array([0.2798939020159581, .7797294067, 0.98])\n",
    "# plt.figure()\n",
    "\n",
    "x101 = np.array([0, 30, 90, 270, 480])\n",
    "x102 = np.array([720, 960])\n",
    "y101 = np.array([0, 0.0106013664572332,0.00519576571714913,0.02967443048221,0.050022163974868])\n",
    "y102 = np.array([0.17, 0.47])\n",
    "# Combine the results dataframes into a single dataframe with a 'group' index,\n",
    "# in addition to \"simulation\" and \"time\" indexes\n",
    "df = pd.concat([simclus0.dataframe, simclus1.dataframe, simclus2.dataframe],\n",
    "               keys=['cluster0', 'cluster1', 'cluster2'],\n",
    "               names=['group', 'simulation', 'time'])\n",
    "\n",
    "# Add observable/group pairs as needed\n",
    "obs_to_plot = {\n",
    "    ('MLKLa_obs', 'cluster0'): 'blue',\n",
    "    ('MLKLa_obs', 'cluster1'): 'green',\n",
    "    ('MLKLa_obs', 'cluster2'): 'red'\n",
    "}\n",
    "\n",
    "lower_quantile = 0.0  # 10%\n",
    "upper_quantile = 1.0  # 90%\n",
    "median = 0.5\n",
    "\n",
    "fig, ax = plt.subplots()\n",
    "# plt.figure()\n",
    "legend_keys = []\n",
    "for obs_pair, colour in obs_to_plot.items():\n",
    "    obs, group = obs_pair\n",
    "    # Calculate 10%, 50%, and 90% quantiles for observable\n",
    "    quantile_data = df[obs].loc[group].groupby(['time']).quantile(\n",
    "        q=[lower_quantile, median, upper_quantile]).unstack()\n",
    "    time_hrs = quantile_data.index / 60\n",
    "    # Plot the median line (50% quantile) for the observable\n",
    "    ax.plot(time_hrs, quantile_data.loc[:, median], color=colour, marker='*')\n",
    "    # Plot the 10% and 90% quantiles as an envelope\n",
    "    ax.fill_between(time_hrs,\n",
    "                    quantile_data.loc[:, lower_quantile],\n",
    "                    quantile_data.loc[:, upper_quantile],\n",
    "                    color=colour,\n",
    "                    alpha=.1)\n",
    "\n",
    "# Add the legend\n",
    "\n",
    "# plt.legend([f'{obs} {group}' for obs, group in obs_to_plot.keys()])\n",
    "plt.title('Cluster Dynamics for 100 ng/ml of TNF',fontsize=14) # Title\n",
    "plt.ylabel('Amount [molecules/cell]', fontsize = 14) # Y label\n",
    "plt.xlabel('Time (hours)', fontsize = 14) # X label\n",
    "plt.xlim(xmax =24)\n",
    "# Add axis labels and title\n",
    "# plt.set(xlabel='Time (hours)', ylabel='Amount [molecules/cell]', title=f'{model100.name}', fontsize = 14)\n",
    "# Add grid\n",
    "# ax.grid()\n",
    "# plt.scatter(x101/60, y101*5544)\n",
    "# plt.scatter(x101/60, y1002*5544)\n",
    "# fig.savefig(\"necro_pydream_fitting_5k_5620_100_10tnf_wo_10_12hrs.pdf\")\n",
    "# plt.errorbar(x1001/60, y1001,\n",
    "#              yerr=[(0, 0.00885691708746097,0.0161886154261265,0.0373005242261882),\n",
    "#              (.10,.10,.10,.10)],\n",
    "#                    fmt='.k', ecolor ='black', alpha = 0.75, label ='100 ng/ml', zorder = 2)\n",
    "# plt.errorbar(x1002/60, y1002,\n",
    "#              yerr= .10, fmt='.k', ecolor ='black', alpha = 0.75, label ='100 ng/ml', zorder = 2)\n",
    "# plt.errorbar(x100/60, y10*5544, yerr=350, fmt='.k', ecolor = 'blue', alpha = 0.5, label ='10 ng/ml')\n",
    "# plt.errorbar(x100/60, y100*5544, yerr=350, fmt='.k', ecolor ='green', alpha = 0.5, label ='100 ng/ml')\n",
    "\n",
    "plt.errorbar(x1001/60, y1001*5544,\n",
    "             yerr=[(0, 0.00885691708746097*5544,0.0161886154261265*5544,0.0373005242261882*5544),\n",
    "             (400,400,400,400)],\n",
    "                   fmt='.k', ecolor ='black', alpha = 0.75, label ='10 ng/ml', zorder = 2)\n",
    "plt.errorbar(x1002/60, y1002*5544,\n",
    "             yerr= 400, fmt='.k', ecolor ='black', alpha = 0.75, label ='10 ng/ml', zorder = 2)\n",
    "# plt.errorbar(x101/60, y101*5544,\n",
    "#              yerr=[(0, 0.0106013664572332*5544,0.00519576571714913*5544,0.02967443048221*5544,\n",
    "#                     0.050022163974868*5544),\n",
    "#              (400,400,400,400,400)],\n",
    "#                    fmt='.k', ecolor ='black', alpha = 0.75, label ='10 ng/ml', zorder = 2)\n",
    "# plt.errorbar(x102/60, y102*5544,\n",
    "#              yerr= 400, fmt='.k', ecolor ='black', alpha = 0.75, label ='10 ng/ml', zorder = 2)\n",
    "custom_lines = [Line2D([0], [0], color='blue', lw=4),\n",
    "                Line2D([0], [0], color='green', lw=4),\n",
    "                Line2D([0], [0], color='red', lw=4),\n",
    "                Line2D([0], [0], color='black', lw=4)]\n",
    "plt.legend(custom_lines, ['cluster0', 'cluster1', 'cluster2', 'Data'], prop={'size': 10}, loc = 'best')\n",
    "plt.show()"
   ]
  },
  {
   "cell_type": "code",
   "execution_count": null,
   "metadata": {},
   "outputs": [],
   "source": []
  },
  {
   "cell_type": "code",
   "execution_count": 83,
   "metadata": {},
   "outputs": [
    {
     "data": {
      "image/png": "[encoded data removed]",
      "text/plain": [
       "<Figure size 432x288 with 1 Axes>"
      ]
     },
     "metadata": {
      "needs_background": "light"
     },
     "output_type": "display_data"
    }
   ],
   "source": [
    "#FOR PLOTTING PERCENTILES \n",
    "\n",
    "# x10 = np.array([0, 30, 90, 270, 480,600, 720, 840, 960])\n",
    "# # x102 = np.array([600, 720, 840, 960])\n",
    "# y10 = np.array([0, 0.0106013664572332,0.00519576571714913,0.02967443048221,0.050022163974868,\n",
    "#                 0.088128107774737, 0.17, 0.30055140114867, 0.47])\n",
    "# # y102 = np.array([0.088128107774737, 0.17, 0.30055140114867, 0.47])\n",
    "\n",
    "# x100 = np.array([0, 30, 90, 270,480, 600, 720, 840, 960])\n",
    "# # x1002 = np.array([480, 600, 720, 840, 960])\n",
    "# y100 = np.array([0, 0.00885691708746097,0.0161886154261265,0.0373005242261882,\n",
    "#                   0.2798939020159581, 0.510, .8097294067, 0.95,0.98])\n",
    "\n",
    "x1001 = np.array([0, 30, 90, 270])\n",
    "x1002 = np.array([480, 720, 960])\n",
    "y1001 = np.array([0, 0.00885691708746097,0.0161886154261265,0.0373005242261882])\n",
    "y1002 = np.array([0.2798939020159581, .7797294067, 0.98])\n",
    "# plt.figure()\n",
    "\n",
    "x101 = np.array([0, 30, 90, 270, 480])\n",
    "x102 = np.array([720, 960])\n",
    "y101 = np.array([0, 0.0106013664572332,0.00519576571714913,0.02967443048221,0.050022163974868])\n",
    "y102 = np.array([0.17, 0.47])\n",
    "# Combine the results dataframes into a single dataframe with a 'group' index,\n",
    "# in addition to \"simulation\" and \"time\" indexes\n",
    "df = pd.concat([simclus0.dataframe],\n",
    "               keys=['mlkl100'],\n",
    "               names=['group', 'simulation', 'time'])\n",
    "\n",
    "# Add observable/group pairs as needed\n",
    "obs_to_plot = {\n",
    "    ('MLKLa_obs', 'mlkl100'): 'blue'\n",
    "}\n",
    "\n",
    "lower_quantile = 0.1  # 10%\n",
    "upper_quantile = 0.9  # 90%\n",
    "median = 0.5\n",
    "\n",
    "fig, ax = plt.subplots()\n",
    "# plt.figure()\n",
    "legend_keys = []\n",
    "for obs_pair, colour in obs_to_plot.items():\n",
    "    obs, group = obs_pair\n",
    "    # Calculate 10%, 50%, and 90% quantiles for observable\n",
    "    quantile_data = df[obs].loc[group].groupby(['time']).quantile(\n",
    "        q=[lower_quantile, median, upper_quantile]).unstack()\n",
    "    time_hrs = quantile_data.index / 60\n",
    "    # Plot the median line (50% quantile) for the observable\n",
    "    ax.plot(time_hrs, quantile_data.loc[:, median], color=colour)\n",
    "    # Plot the 10% and 90% quantiles as an envelope\n",
    "    ax.fill_between(time_hrs,\n",
    "                    quantile_data.loc[:, lower_quantile],\n",
    "                    quantile_data.loc[:, upper_quantile],\n",
    "                    color=colour,\n",
    "                    alpha=.1)\n",
    "\n",
    "# Add the legend\n",
    "\n",
    "# plt.legend([f'{obs} {group}' for obs, group in obs_to_plot.keys()])\n",
    "plt.title('Cluster 0 Dynamics for 100 ng/ml of TNF',fontsize=14) # Title\n",
    "plt.ylabel('Amount [molecules/cell]', fontsize = 14) # Y label\n",
    "plt.xlabel('Time (hours)', fontsize = 14) # X label\n",
    "plt.xlim(xmax =24)\n",
    "# Add axis labels and title\n",
    "# plt.set(xlabel='Time (hours)', ylabel='Amount [molecules/cell]', title=f'{model100.name}', fontsize = 14)\n",
    "# Add grid\n",
    "# ax.grid()\n",
    "# plt.scatter(x101/60, y101*5544)\n",
    "# plt.scatter(x101/60, y1002*5544)\n",
    "fig.savefig(\"pydyno_s36prod_5k_5620_100tnf_cluster0pars_wodata.pdf\")\n",
    "# plt.errorbar(x1001/60, y1001,\n",
    "#              yerr=[(0, 0.00885691708746097,0.0161886154261265,0.0373005242261882),\n",
    "#              (.10,.10,.10,.10)],\n",
    "#                    fmt='.k', ecolor ='black', alpha = 0.75, label ='100 ng/ml', zorder = 2)\n",
    "# plt.errorbar(x1002/60, y1002,\n",
    "#              yerr= .10, fmt='.k', ecolor ='black', alpha = 0.75, label ='100 ng/ml', zorder = 2)\n",
    "# plt.errorbar(x100/60, y10*5544, yerr=350, fmt='.k', ecolor = 'blue', alpha = 0.5, label ='10 ng/ml')\n",
    "# plt.errorbar(x100/60, y100*5544, yerr=350, fmt='.k', ecolor ='green', alpha = 0.5, label ='100 ng/ml')\n",
    "# plt.errorbar(x1001/60, y1001*5544,\n",
    "#              yerr=[(0, 0.00885691708746097*5544,0.0161886154261265*5544,0.0373005242261882*5544),\n",
    "#              (400,400,400,400)],\n",
    "#                    fmt='.k', ecolor ='black', alpha = 0.75, label ='10 ng/ml', zorder = 2)\n",
    "# plt.errorbar(x1002/60, y1002*5544,\n",
    "#              yerr= 400, fmt='.k', ecolor ='black', alpha = 0.75, label ='10 ng/ml', zorder = 2)\n",
    "# # plt.errorbar(x101/60, y101*5544,\n",
    "# #              yerr=[(0, 0.0106013664572332*5544,0.00519576571714913*5544,0.02967443048221*5544,\n",
    "# #                     0.050022163974868*5544),\n",
    "# #              (400,400,400,400,400)],\n",
    "# #                    fmt='.k', ecolor ='black', alpha = 0.75, label ='10 ng/ml', zorder = 2)\n",
    "# # plt.errorbar(x102/60, y102*5544,\n",
    "# #              yerr= 400, fmt='.k', ecolor ='black', alpha = 0.75, label ='10 ng/ml', zorder = 2)\n",
    "# custom_lines = [Line2D([0], [0], color='blue', lw=4),\n",
    "#                 Line2D([0], [0], color='black', lw=4)]\n",
    "# plt.legend(custom_lines, ['100 ng/ml', 'Data'], prop={'size': 10}, loc = 'best')\n",
    "plt.show()"
   ]
  },
  {
   "cell_type": "code",
   "execution_count": 66,
   "metadata": {},
   "outputs": [
    {
     "name": "stdout",
     "output_type": "stream",
     "text": [
      "2536\n"
     ]
    }
   ],
   "source": [
    "pars_cluster_1 = result100.param_values[cluster_label_idxs[1]]\n",
    "print(len(pars_cluster_1))"
   ]
  },
  {
   "cell_type": "code",
   "execution_count": 64,
   "metadata": {},
   "outputs": [
    {
     "name": "stdout",
     "output_type": "stream",
     "text": [
      "((2698, 1), array([15, 15, 15, 15, 15, 15, 15, 15, 15, 15, 15, 15, 15, 15, 15, 15, 15,\n",
      "       15, 15, 15, 15, 15, 15, 15, 15, 15, 15, 15, 15, 15, 15, 15, 15, 15,\n",
      "       15, 15, 15, 15, 15, 15, 15, 15, 15, 15, 15, 15, 15, 15, 15, 15, 15,\n",
      "       15, 15, 15, 15, 15, 15, 15, 15, 15, 15, 15, 15, 15, 15, 15, 15, 15,\n",
      "       15, 15, 15, 15, 15, 15, 15, 15, 15, 15, 15, 15, 15, 15, 15, 15, 15,\n",
      "       15, 15, 15, 15, 15, 15, 15, 15, 15, 15, 15, 15, 15, 15, 15, 15, 15,\n",
      "       15, 15, 15, 15, 15, 15, 15, 15, 15, 15, 15, 15, 15, 15, 15, 15, 15,\n",
      "       15, 15, 15, 15, 15, 15, 15, 15, 15, 15, 15, 15, 15, 15, 15, 15, 15,\n",
      "       15, 15, 15, 15, 15, 15, 15, 15, 15, 15, 15, 15, 15, 15, 15, 15, 15,\n",
      "       15, 15, 15, 15, 15, 15, 15, 15, 15, 15, 15, 15, 15, 15, 15, 15, 15,\n",
      "       15, 15, 15, 15, 15, 15, 15, 15, 15, 15, 15, 15, 15, 15, 15, 15, 15,\n",
      "       15, 15, 15, 15, 15, 15, 15, 15, 15, 15, 15, 15, 15, 15, 15, 15, 15,\n",
      "       15, 15, 15, 15, 15, 15, 15, 15, 15, 15, 15, 15, 15, 15, 15, 15, 15,\n",
      "       15, 15, 15, 15, 15, 15, 15, 15, 15, 15, 15, 15, 15, 15, 15, 15, 15,\n",
      "       15, 15, 15, 15, 15, 15,  8,  8,  8, 15, 15, 15, 15,  8,  8,  8, 15,\n",
      "       15, 15,  8,  8,  8, 15, 15, 15,  8,  8,  8,  8, 15, 15, 15, 15,  8,\n",
      "        8,  8, 15, 15, 15, 15, 11, 11, 11, 15, 15, 15, 15,  8,  8,  8, 15,\n",
      "       15, 15,  8,  8,  8, 15, 15, 15,  8,  8]))\n"
     ]
    }
   ],
   "source": [
    "print(rep_signatures[1])"
   ]
  },
  {
   "cell_type": "code",
   "execution_count": 71,
   "metadata": {},
   "outputs": [
    {
     "data": {
      "image/png": "[encoded data removed]",
      "text/plain": [
       "<Figure size 432x288 with 2 Axes>"
      ]
     },
     "metadata": {
      "needs_background": "light"
     },
     "output_type": "display_data"
    }
   ],
   "source": [
    "visualization_seq_paths(result100, 2698, signatures100)"
   ]
  },
  {
   "cell_type": "code",
   "execution_count": null,
   "metadata": {},
   "outputs": [],
   "source": [
    "visualization_path(model100, paths[3], type_analysis='production', \n",
    "                   filename='cluster0100tnf_arrestin_s36_prod_05om_depth15_path3_5k_5620.png')\n",
    "visualization_path(model100, paths[19], type_analysis='production', \n",
    "                   filename='cluster0100tnf_arrestin_s36_prod_05om_depth15_path19_5k_5620.png')\n",
    "visualization_path(model100, paths[6], type_analysis='production', \n",
    "                   filename='cluster0100tnf_arrestin_s36_prod_05om_depth15_path6_5k_5620.png')\n",
    "visualization_path(model100, paths[15], type_analysis='production', \n",
    "                   filename='cluster0100tnf_arrestin_s36_prod_05om_depth15_path15_5k_5620.png')\n",
    "visualization_path(model100, paths[8], type_analysis='production', \n",
    "                   filename='cluster0100tnf_arrestin_s36_prod_05om_depth15_path8_5k_5620.png')"
   ]
  },
  {
   "cell_type": "code",
   "execution_count": 67,
   "metadata": {},
   "outputs": [
    {
     "name": "stdout",
     "output_type": "stream",
     "text": [
      "1228\n"
     ]
    }
   ],
   "source": [
    "pars_cluster_2 = result100.param_values[cluster_label_idxs[2]]\n",
    "print(len(pars_cluster_2))"
   ]
  },
  {
   "cell_type": "code",
   "execution_count": 65,
   "metadata": {},
   "outputs": [
    {
     "name": "stdout",
     "output_type": "stream",
     "text": [
      "((2764, 1), array([ 8,  8,  8,  8,  8,  8,  8,  8,  8,  8,  8,  8,  8,  8,  8,  8,  8,\n",
      "        8,  8,  8,  8,  8,  8,  8,  8,  8,  8,  8,  8,  8,  8,  8,  8,  8,\n",
      "        8,  8,  8,  8,  8,  8,  8,  8,  8,  8,  8,  8,  8,  8,  8,  8,  8,\n",
      "        8,  8,  8,  8,  8,  8,  8,  8,  8,  8,  8,  8,  8,  8,  8,  8,  8,\n",
      "        8,  8,  8,  8,  8,  8,  8,  8,  8,  8,  8,  8,  8,  8,  8,  8,  8,\n",
      "        8,  8,  8,  8,  8,  8,  8,  8,  8,  8,  8,  8,  8,  8,  8,  8,  8,\n",
      "        8,  8,  8,  8,  8,  8,  8,  8,  8,  8,  8,  8,  8,  8,  8,  8,  8,\n",
      "        8,  8,  8,  8,  8,  8,  8,  8,  8,  8,  8,  8,  8,  8,  8,  8,  8,\n",
      "        8,  8,  8,  8,  8,  8,  8,  8,  8,  8,  8,  8,  8,  8,  8,  8,  8,\n",
      "        8,  8,  8,  8,  8,  8,  8,  8,  8,  8,  8,  8,  8,  8,  8,  8,  8,\n",
      "        8,  8,  8,  8,  8,  8,  8,  8,  8,  8,  8,  8,  8,  8,  8,  8,  8,\n",
      "        8,  8,  8,  8,  8,  8,  8,  8,  8,  8,  8,  8,  8,  8,  8,  8,  8,\n",
      "        8,  8,  8,  8,  8,  8,  8,  8,  8,  8,  8,  8,  8,  8,  8,  8,  8,\n",
      "        8,  8,  8,  8,  8,  8,  8,  8,  8,  8,  8,  8,  8,  8,  8, 15, 15,\n",
      "       15, 15, 15, 15, 15, 15, 15, 15, 15, 15, 15, 15, 15, 15, 15, 15, 15,\n",
      "       15, 15, 15, 15, 11, 15, 15, 15, 15, 15, 15, 15, 15, 15, 15, 15, 15,\n",
      "       15, 15, 11, 15, 15, 15, 15, 15, 15, 15, 15, 15, 15, 15, 15, 15, 15,\n",
      "       15, 15, 15, 15, 15, 15, 15, 15, 15, 15]))\n"
     ]
    }
   ],
   "source": [
    "from pydyno.visualize_discretization import visualization_path, visualization_seq_pathsprint(rep_signatures[2])"
   ]
  },
  {
   "cell_type": "code",
   "execution_count": 72,
   "metadata": {},
   "outputs": [
    {
     "data": {
      "image/png": "[encoded data removed]",
      "text/plain": [
       "<Figure size 432x288 with 2 Axes>"
      ]
     },
     "metadata": {
      "needs_background": "light"
     },
     "output_type": "display_data"
    }
   ],
   "source": [
    "visualization_seq_paths(result100, 2764, signatures100)"
   ]
  },
  {
   "cell_type": "code",
   "execution_count": null,
   "metadata": {},
   "outputs": [],
   "source": [
    "visualization_path(model100, paths[3], type_analysis='production', \n",
    "                   filename='cluster0100tnf_arrestin_s36_prod_05om_depth15_path3_5k_5620.png')\n",
    "visualization_path(model100, paths[19], type_analysis='production', \n",
    "                   filename='cluster0100tnf_arrestin_s36_prod_05om_depth15_path19_5k_5620.png')\n",
    "visualization_path(model100, paths[6], type_analysis='production', \n",
    "                   filename='cluster0100tnf_arrestin_s36_prod_05om_depth15_path6_5k_5620.png')\n",
    "visualization_path(model100, paths[15], type_analysis='production', \n",
    "                   filename='cluster0100tnf_arrestin_s36_prod_05om_depth15_path15_5k_5620.png')\n",
    "visualization_path(model100, paths[8], type_analysis='production', \n",
    "                   filename='cluster0100tnf_arrestin_s36_prod_05om_depth15_path8_5k_5620.png')"
   ]
  },
  {
   "cell_type": "code",
   "execution_count": 4,
   "metadata": {},
   "outputs": [],
   "source": [
    "m = model100.components "
   ]
  },
  {
   "cell_type": "code",
   "execution_count": 117,
   "metadata": {},
   "outputs": [
    {
     "name": "stderr",
     "output_type": "stream",
     "text": [
      "2020-05-13 02:28:07.062 - pysb.simulator.scipyode - DEBUG - [necro_uncal_new_updated] Simulator created\n",
      "2020-05-13 02:28:07.071 - pysb.simulator.scipyode - DEBUG - [necro_uncal_new_updated] Equation mode set to \"cython\"\n",
      "2020-05-13 02:28:07.137 - pysb.simulator.scipyode - INFO - [necro_uncal_new_updated] Simulation(s) started\n"
     ]
    },
    {
     "name": "stdout",
     "output_type": "stream",
     "text": [
      "running simulations 100\n"
     ]
    },
    {
     "name": "stderr",
     "output_type": "stream",
     "text": [
      "2020-05-13 02:28:07.394 - pysb.simulator.scipyode - DEBUG - [necro_uncal_new_updated] Multi-processor (parallel) mode using 10 processes\n",
      "2020-05-13 02:28:47.612 - pysb.simulator.scipyode - INFO - [necro_uncal_new_updated] All simulation(s) complete\n",
      "2020-05-13 02:28:47.613 - pysb.simulator.scipyode - DEBUG - [necro_uncal_new_updated] SimulationResult constructor started\n",
      "2020-05-13 02:28:48.475 - pysb.simulator.scipyode - DEBUG - [necro_uncal_new_updated] SimulationResult constructor finished\n"
     ]
    }
   ],
   "source": [
    "a20ko = [0]\n",
    "\n",
    "print('running simulations 100')\n",
    "tspan = np.linspace(0, 1440, 300)\n",
    "solver100n = ScipyOdeSimulator(model100, tspan=tspan, verbose = True)\n",
    "simclus2n = solver100n.run(initials = {m.A20(brip = None):a20ko},\n",
    "                         param_values=pars_cluster_0, num_processors = 10)\n",
    "# simclus2.save('pydyno_s36prod_5k_5620_100tnf_cluster0pars_a20ko.h5')\n",
    "# df2 = result10.dataframe\n",
    "# df2 = result10.dataframe"
   ]
  },
  {
   "cell_type": "code",
   "execution_count": 5,
   "metadata": {},
   "outputs": [
    {
     "name": "stderr",
     "output_type": "stream",
     "text": [
      "2020-05-13 02:58:33.283 - pysb.simulator.scipyode - DEBUG - [necro_uncal_new_updated] Simulator created\n",
      "2020-05-13 02:58:33.296 - pysb.simulator.scipyode - DEBUG - [necro_uncal_new_updated] Equation mode set to \"cython\"\n"
     ]
    },
    {
     "name": "stdout",
     "output_type": "stream",
     "text": [
      "running simulations 100\n"
     ]
    },
    {
     "ename": "NameError",
     "evalue": "name 'pars_cluster_0' is not defined",
     "output_type": "error",
     "traceback": [
      "\u001b[0;31m---------------------------------------------------------------------------\u001b[0m",
      "\u001b[0;31mNameError\u001b[0m                                 Traceback (most recent call last)",
      "\u001b[0;32m<ipython-input-5-80dbe7e6306b>\u001b[0m in \u001b[0;36m<module>\u001b[0;34m\u001b[0m\n\u001b[1;32m      5\u001b[0m \u001b[0msolver100nnn\u001b[0m \u001b[0;34m=\u001b[0m \u001b[0mScipyOdeSimulator\u001b[0m\u001b[0;34m(\u001b[0m\u001b[0mmodel100\u001b[0m\u001b[0;34m,\u001b[0m \u001b[0mtspan\u001b[0m\u001b[0;34m=\u001b[0m\u001b[0mtspan\u001b[0m\u001b[0;34m,\u001b[0m \u001b[0mverbose\u001b[0m \u001b[0;34m=\u001b[0m \u001b[0;32mTrue\u001b[0m\u001b[0;34m)\u001b[0m\u001b[0;34m\u001b[0m\u001b[0;34m\u001b[0m\u001b[0m\n\u001b[1;32m      6\u001b[0m simclus2nnn = solver100nnn.run(initials = {m.CYLD(brip=None, btraf = None):cyldko},\n\u001b[0;32m----> 7\u001b[0;31m                          param_values=pars_cluster_0, num_processors = 10)\n\u001b[0m\u001b[1;32m      8\u001b[0m \u001b[0msimclus2nnn\u001b[0m\u001b[0;34m.\u001b[0m\u001b[0msave\u001b[0m\u001b[0;34m(\u001b[0m\u001b[0;34m'BLAH.h5'\u001b[0m\u001b[0;34m)\u001b[0m\u001b[0;34m\u001b[0m\u001b[0;34m\u001b[0m\u001b[0m\n\u001b[1;32m      9\u001b[0m \u001b[0;31m# df2 = result10.dataframe\u001b[0m\u001b[0;34m\u001b[0m\u001b[0;34m\u001b[0m\u001b[0;34m\u001b[0m\u001b[0m\n",
      "\u001b[0;31mNameError\u001b[0m: name 'pars_cluster_0' is not defined"
     ]
    }
   ],
   "source": [
    "cyldko = [0]\n",
    "\n",
    "print('running simulations 100')\n",
    "tspan = np.linspace(0, 1440, 300)\n",
    "solver100nnn = ScipyOdeSimulator(model100, tspan=tspan, verbose = True)\n",
    "simclus2nnn = solver100nnn.run(initials = {m.CYLD(brip=None, btraf = None):cyldko},\n",
    "                         param_values=pars_cluster_0, num_processors = 10)\n",
    "simclus2nnn.save('BLAH.h5')\n",
    "# df2 = result10.dataframe\n",
    "# df2 = result10.dataframe"
   ]
  },
  {
   "cell_type": "code",
   "execution_count": 107,
   "metadata": {},
   "outputs": [],
   "source": [
    "sim1 = SimulationResult.load('necro_pydream_5chns_5k_5620_100tnf.h5')\n",
    "wt = sim1.dataframe\n",
    "# a20ko = SimulationResult.load('pydyno_s36prod_5k_5620_100tnf_cluster0pars_a20ko.h5').dataframe\n",
    "# cyldko = SimulationResult.load('pydyno_s36prod_5k_5620_100tnf_cluster0pars_cyldko.h5').dataframe"
   ]
  },
  {
   "cell_type": "code",
   "execution_count": 109,
   "metadata": {},
   "outputs": [
    {
     "data": {
      "text/plain": [
       "simulation  time       \n",
       "0           0.000000       0.0\n",
       "            4.816054       0.0\n",
       "            9.632107       0.0\n",
       "            14.448161      0.0\n",
       "            19.264214      0.0\n",
       "            24.080268      0.0\n",
       "            28.896321      0.0\n",
       "            33.712375      0.0\n",
       "            38.528428      0.0\n",
       "            43.344482      0.0\n",
       "            48.160535      0.0\n",
       "            52.976589      0.0\n",
       "            57.792642      0.0\n",
       "            62.608696      0.0\n",
       "            67.424749      0.0\n",
       "            72.240803      0.0\n",
       "            77.056856      0.0\n",
       "            81.872910      0.0\n",
       "            86.688963      0.0\n",
       "            91.505017      0.0\n",
       "            96.321070      0.0\n",
       "            101.137124     0.0\n",
       "            105.953177     0.0\n",
       "            110.769231     0.0\n",
       "            115.585284     0.0\n",
       "            120.401338     0.0\n",
       "            125.217391     0.0\n",
       "            130.033445     0.0\n",
       "            134.849498     0.0\n",
       "            139.665552     0.0\n",
       "                          ... \n",
       "4999        1300.334448    0.0\n",
       "            1305.150502    0.0\n",
       "            1309.966555    0.0\n",
       "            1314.782609    0.0\n",
       "            1319.598662    0.0\n",
       "            1324.414716    0.0\n",
       "            1329.230769    0.0\n",
       "            1334.046823    0.0\n",
       "            1338.862876    0.0\n",
       "            1343.678930    0.0\n",
       "            1348.494983    0.0\n",
       "            1353.311037    0.0\n",
       "            1358.127090    0.0\n",
       "            1362.943144    0.0\n",
       "            1367.759197    0.0\n",
       "            1372.575251    0.0\n",
       "            1377.391304    0.0\n",
       "            1382.207358    0.0\n",
       "            1387.023411    0.0\n",
       "            1391.839465    0.0\n",
       "            1396.655518    0.0\n",
       "            1401.471572    0.0\n",
       "            1406.287625    0.0\n",
       "            1411.103679    0.0\n",
       "            1415.919732    0.0\n",
       "            1420.735786    0.0\n",
       "            1425.551839    0.0\n",
       "            1430.367893    0.0\n",
       "            1435.183946    0.0\n",
       "            1440.000000    0.0\n",
       "Name: MLKLa_obs, Length: 1500000, dtype: float64"
      ]
     },
     "execution_count": 109,
     "metadata": {},
     "output_type": "execute_result"
    }
   ],
   "source": [
    "wt['MLKLa_obs'][:]"
   ]
  },
  {
   "cell_type": "code",
   "execution_count": 108,
   "metadata": {},
   "outputs": [
    {
     "data": {
      "image/png": "[encoded data removed]",
      "text/plain": [
       "<Figure size 432x288 with 1 Axes>"
      ]
     },
     "metadata": {
      "needs_background": "light"
     },
     "output_type": "display_data"
    }
   ],
   "source": [
    "#FOR PLOTTING PERCENTILES \n",
    "\n",
    "# x10 = np.array([0, 30, 90, 270, 480,600, 720, 840, 960])\n",
    "# # x102 = np.array([600, 720, 840, 960])\n",
    "# y10 = np.array([0, 0.0106013664572332,0.00519576571714913,0.02967443048221,0.050022163974868,\n",
    "#                 0.088128107774737, 0.17, 0.30055140114867, 0.47])\n",
    "# # y102 = np.array([0.088128107774737, 0.17, 0.30055140114867, 0.47])\n",
    "\n",
    "# x100 = np.array([0, 30, 90, 270,480, 600, 720, 840, 960])\n",
    "# # x1002 = np.array([480, 600, 720, 840, 960])\n",
    "# y100 = np.array([0, 0.00885691708746097,0.0161886154261265,0.0373005242261882,\n",
    "#                   0.2798939020159581, 0.510, .8097294067, 0.95,0.98])\n",
    "\n",
    "x1001 = np.array([0, 30, 90, 270])\n",
    "x1002 = np.array([480, 720, 960])\n",
    "y1001 = np.array([0, 0.00885691708746097,0.0161886154261265,0.0373005242261882])\n",
    "y1002 = np.array([0.2798939020159581, .7797294067, 0.98])\n",
    "# plt.figure()\n",
    "\n",
    "x101 = np.array([0, 30, 90, 270, 480])\n",
    "x102 = np.array([720, 960])\n",
    "y101 = np.array([0, 0.0106013664572332,0.00519576571714913,0.02967443048221,0.050022163974868])\n",
    "y102 = np.array([0.17, 0.47])\n",
    "# Combine the results dataframes into a single dataframe with a 'group' index,\n",
    "# in addition to \"simulation\" and \"time\" indexes\n",
    "df = pd.concat([sim1.dataframe],\n",
    "               keys=['wt'],\n",
    "               names=['group', 'simulation', 'time'])\n",
    "\n",
    "# Add observable/group pairs as needed\n",
    "obs_to_plot = {\n",
    "    ('MLKLa_obs', 'wt'): 'blue'}\n",
    "#     ('MLKLa_obs', 'a20ko'): 'orange',\n",
    "#     ('MLKLa_obs', 'cyldko'): 'red'\n",
    "# }\n",
    "\n",
    "lower_quantile = 0.1  # 10%\n",
    "upper_quantile = 0.9  # 90%\n",
    "median = 0.5\n",
    "\n",
    "fig, ax = plt.subplots()\n",
    "# plt.figure()\n",
    "legend_keys = []\n",
    "for obs_pair, colour in obs_to_plot.items():\n",
    "    obs, group = obs_pair\n",
    "    # Calculate 10%, 50%, and 90% quantiles for observable\n",
    "    quantile_data = df[obs].loc[group].groupby(['time']).quantile(\n",
    "        q=[lower_quantile, median, upper_quantile]).unstack()\n",
    "    time_hrs = quantile_data.index / 60\n",
    "    # Plot the median line (50% quantile) for the observable\n",
    "    ax.plot(time_hrs, quantile_data.loc[:, median], color=colour)\n",
    "    # Plot the 10% and 90% quantiles as an envelope\n",
    "    ax.fill_between(time_hrs,\n",
    "                    quantile_data.loc[:, lower_quantile],\n",
    "                    quantile_data.loc[:, upper_quantile],\n",
    "                    color=colour,\n",
    "                    alpha=.1)\n",
    "\n",
    "# Add the legend\n",
    "\n",
    "# plt.legend([f'{obs} {group}' for obs, group in obs_to_plot.keys()])\n",
    "plt.title('Model Fitting for 100 & 10 ng/ml of TNF',fontsize=14) # Title\n",
    "plt.ylabel('Amount [molecules/cell]', fontsize = 14) # Y label\n",
    "plt.xlabel('Time (hours)', fontsize = 14) # X label\n",
    "plt.xlim(xmax =24)\n",
    "# Add axis labels and title\n",
    "# plt.set(xlabel='Time (hours)', ylabel='Amount [molecules/cell]', title=f'{model100.name}', fontsize = 14)\n",
    "# Add grid\n",
    "# ax.grid()\n",
    "# plt.scatter(x101/60, y101*5544)\n",
    "# plt.scatter(x101/60, y1002*5544)\n",
    "# fig.savefig(\"necro_pydream_fitting_5k_5620_100_10tnf_wo_10_12hrs.pdf\")\n",
    "# plt.errorbar(x1001/60, y1001,\n",
    "#              yerr=[(0, 0.00885691708746097,0.0161886154261265,0.0373005242261882),\n",
    "#              (.10,.10,.10,.10)],\n",
    "#                    fmt='.k', ecolor ='black', alpha = 0.75, label ='100 ng/ml', zorder = 2)\n",
    "# plt.errorbar(x1002/60, y1002,\n",
    "#              yerr= .10, fmt='.k', ecolor ='black', alpha = 0.75, label ='100 ng/ml', zorder = 2)\n",
    "# plt.errorbar(x100/60, y10*5544, yerr=350, fmt='.k', ecolor = 'blue', alpha = 0.5, label ='10 ng/ml')\n",
    "# plt.errorbar(x100/60, y100*5544, yerr=350, fmt='.k', ecolor ='green', alpha = 0.5, label ='100 ng/ml')\n",
    "# plt.errorbar(x1001/60, y1001*5544,\n",
    "#              yerr=[(0, 0.00885691708746097*5544,0.0161886154261265*5544,0.0373005242261882*5544),\n",
    "#              (400,400,400,400)],\n",
    "#                    fmt='.k', ecolor ='black', alpha = 0.75, label ='10 ng/ml', zorder = 2)\n",
    "# plt.errorbar(x1002/60, y1002*5544,\n",
    "#              yerr= 400, fmt='.k', ecolor ='black', alpha = 0.75, label ='10 ng/ml', zorder = 2)\n",
    "# plt.errorbar(x101/60, y101*5544,\n",
    "#              yerr=[(0, 0.0106013664572332*5544,0.00519576571714913*5544,0.02967443048221*5544,\n",
    "#                     0.050022163974868*5544),\n",
    "#              (400,400,400,400,400)],\n",
    "#                    fmt='.k', ecolor ='black', alpha = 0.75, label ='10 ng/ml', zorder = 2)\n",
    "# plt.errorbar(x102/60, y102*5544,\n",
    "#              yerr= 400, fmt='.k', ecolor ='black', alpha = 0.75, label ='10 ng/ml', zorder = 2)\n",
    "# custom_lines = [Line2D([0], [0], color='blue', lw=4),\n",
    "#                 Line2D([0], [0], color='orange', lw=4),\n",
    "#                 Line2D([0], [0], color='red', lw=4)]\n",
    "# plt.legend(custom_lines, ['wt', 'a20ko', 'cyldko'], prop={'size': 10}, loc = 'best')\n",
    "plt.show()"
   ]
  },
  {
   "cell_type": "code",
   "execution_count": null,
   "metadata": {},
   "outputs": [],
   "source": [
    "a20ko = [0]\n",
    "print('running simulations 100')\n",
    "tspan = np.linspace(0, 1440, 300)\n",
    "solver100 = ScipyOdeSimulator(model100, tspan=tspan, verbose = True)\n",
    "simclus2 = solver100.run(initials = {model100.components.A20(brip = None):a20ko},\n",
    "                         param_values=pars_cluster_0, num_processors = 10)\n",
    "simclus2.save('pydyno_s36prod_5k_5620_100tnf_cluster0pars_a20ko.h5')\n",
    "# df2 = result10.dataframe\n",
    "# df2 = result10.dataframe"
   ]
  },
  {
   "cell_type": "code",
   "execution_count": null,
   "metadata": {},
   "outputs": [],
   "source": []
  },
  {
   "cell_type": "code",
   "execution_count": null,
   "metadata": {},
   "outputs": [],
   "source": []
  },
  {
   "cell_type": "code",
   "execution_count": null,
   "metadata": {},
   "outputs": [],
   "source": []
  },
  {
   "cell_type": "code",
   "execution_count": 110,
   "metadata": {},
   "outputs": [
    {
     "name": "stderr",
     "output_type": "stream",
     "text": [
      "2020-05-13 02:16:43.871 - pysb.simulator.scipyode - DEBUG - [necro_uncal_new_updated] Simulator created\n",
      "2020-05-13 02:16:43.880 - pysb.simulator.scipyode - DEBUG - [necro_uncal_new_updated] Equation mode set to \"cython\"\n",
      "2020-05-13 02:16:43.946 - pysb.simulator.scipyode - INFO - [necro_uncal_new_updated] Simulation(s) started\n"
     ]
    },
    {
     "name": "stdout",
     "output_type": "stream",
     "text": [
      "running simulations 100\n"
     ]
    },
    {
     "name": "stderr",
     "output_type": "stream",
     "text": [
      "2020-05-13 02:16:44.814 - pysb.simulator.scipyode - DEBUG - [necro_uncal_new_updated] Multi-processor (parallel) mode using 10 processes\n",
      "2020-05-13 02:19:13.994 - pysb.simulator.scipyode - INFO - [necro_uncal_new_updated] All simulation(s) complete\n",
      "2020-05-13 02:19:13.995 - pysb.simulator.scipyode - DEBUG - [necro_uncal_new_updated] SimulationResult constructor started\n",
      "2020-05-13 02:19:15.658 - pysb.simulator.scipyode - DEBUG - [necro_uncal_new_updated] SimulationResult constructor finished\n"
     ]
    }
   ],
   "source": [
    "print('running simulations 100')\n",
    "# t = np.array([0, 30, 90, 270, 480,600, 720, 840, 960])\n",
    "tspan = np.linspace(0, 1440, 300)\n",
    "solver100n = ScipyOdeSimulator(model100, tspan=tspan, verbose = True)\n",
    "result100n = solver100n.run(param_values=all_pars, num_processors = 10)\n",
    "result100n.save('necro_pydream_5chns_5k_5620_100tnf_test.h5')\n",
    "# df = result100.dataframe\n",
    "# result10.save('necro_pydream_5chns_929_10tnf_updated_kocyld.h5')\n",
    "# df1 = result100.dataframe"
   ]
  },
  {
   "cell_type": "code",
   "execution_count": 114,
   "metadata": {},
   "outputs": [],
   "source": [
    "from pysb.core import ComponentSet, Model\n",
    "from pysb.simulator import SimulationResult\n",
    "import weakref\n",
    "from contextlib import contextmanager\n",
    "\n",
    "def _model_setstate_monkey_patch(self, state):\n",
    "    \"\"\"Monkey patch for Model.__setstate__ for restoring from older pickles\"\"\"\n",
    "\n",
    "    # restore the 'model' weakrefs on all components\n",
    "    self.__dict__.update(state)\n",
    "    # Set \"tags\" attribute for older, pickled models\n",
    "    self.__dict__.setdefault('tags', ComponentSet())\n",
    "    for c in self.all_components():\n",
    "        c.model = weakref.ref(self)\n",
    "\n",
    "@contextmanager\n",
    "def _patch_model_setstate():\n",
    "    old_setstate = Model.__setstate__\n",
    "    Model.__setstate__ = _model_setstate_monkey_patch\n",
    "    try:\n",
    "        yield\n",
    "    finally:\n",
    "        Model.__setstate__ = old_setstate\n",
    "\n",
    "def simulation_result_load(filename, dataset_name=None, group_name=None):\n",
    "    with _patch_model_setstate():\n",
    "        return SimulationResult.load(filename, dataset_name, group_name)"
   ]
  },
  {
   "cell_type": "code",
   "execution_count": 115,
   "metadata": {},
   "outputs": [],
   "source": [
    "simnn = simulation_result_load('necro_pydream_5chns_5k_5620_100tnf_test.h5')"
   ]
  },
  {
   "cell_type": "code",
   "execution_count": 116,
   "metadata": {},
   "outputs": [
    {
     "data": {
      "image/png": "[encoded data removed]",
      "text/plain": [
       "<Figure size 432x288 with 1 Axes>"
      ]
     },
     "metadata": {
      "needs_background": "light"
     },
     "output_type": "display_data"
    }
   ],
   "source": [
    "#FOR PLOTTING PERCENTILES \n",
    "\n",
    "# x10 = np.array([0, 30, 90, 270, 480,600, 720, 840, 960])\n",
    "# # x102 = np.array([600, 720, 840, 960])\n",
    "# y10 = np.array([0, 0.0106013664572332,0.00519576571714913,0.02967443048221,0.050022163974868,\n",
    "#                 0.088128107774737, 0.17, 0.30055140114867, 0.47])\n",
    "# # y102 = np.array([0.088128107774737, 0.17, 0.30055140114867, 0.47])\n",
    "\n",
    "# x100 = np.array([0, 30, 90, 270,480, 600, 720, 840, 960])\n",
    "# # x1002 = np.array([480, 600, 720, 840, 960])\n",
    "# y100 = np.array([0, 0.00885691708746097,0.0161886154261265,0.0373005242261882,\n",
    "#                   0.2798939020159581, 0.510, .8097294067, 0.95,0.98])\n",
    "\n",
    "x1001 = np.array([0, 30, 90, 270])\n",
    "x1002 = np.array([480, 720, 960])\n",
    "y1001 = np.array([0, 0.00885691708746097,0.0161886154261265,0.0373005242261882])\n",
    "y1002 = np.array([0.2798939020159581, .7797294067, 0.98])\n",
    "# plt.figure()\n",
    "\n",
    "x101 = np.array([0, 30, 90, 270, 480])\n",
    "x102 = np.array([720, 960])\n",
    "y101 = np.array([0, 0.0106013664572332,0.00519576571714913,0.02967443048221,0.050022163974868])\n",
    "y102 = np.array([0.17, 0.47])\n",
    "# Combine the results dataframes into a single dataframe with a 'group' index,\n",
    "# in addition to \"simulation\" and \"time\" indexes\n",
    "df = pd.concat([simnn.dataframe],\n",
    "               keys=['wt'],\n",
    "               names=['group', 'simulation', 'time'])\n",
    "\n",
    "# Add observable/group pairs as needed\n",
    "obs_to_plot = {\n",
    "    ('MLKLa_obs', 'wt'): 'blue'}\n",
    "#     ('MLKLa_obs', 'a20ko'): 'orange',\n",
    "#     ('MLKLa_obs', 'cyldko'): 'red'\n",
    "# }\n",
    "\n",
    "lower_quantile = 0.1  # 10%\n",
    "upper_quantile = 0.9  # 90%\n",
    "median = 0.5\n",
    "\n",
    "fig, ax = plt.subplots()\n",
    "# plt.figure()\n",
    "legend_keys = []\n",
    "for obs_pair, colour in obs_to_plot.items():\n",
    "    obs, group = obs_pair\n",
    "    # Calculate 10%, 50%, and 90% quantiles for observable\n",
    "    quantile_data = df[obs].loc[group].groupby(['time']).quantile(\n",
    "        q=[lower_quantile, median, upper_quantile]).unstack()\n",
    "    time_hrs = quantile_data.index / 60\n",
    "    # Plot the median line (50% quantile) for the observable\n",
    "    ax.plot(time_hrs, quantile_data.loc[:, median], color=colour)\n",
    "    # Plot the 10% and 90% quantiles as an envelope\n",
    "    ax.fill_between(time_hrs,\n",
    "                    quantile_data.loc[:, lower_quantile],\n",
    "                    quantile_data.loc[:, upper_quantile],\n",
    "                    color=colour,\n",
    "                    alpha=.1)\n",
    "\n",
    "# Add the legend\n",
    "\n",
    "# plt.legend([f'{obs} {group}' for obs, group in obs_to_plot.keys()])\n",
    "plt.title('Model Fitting for 100 & 10 ng/ml of TNF',fontsize=14) # Title\n",
    "plt.ylabel('Amount [molecules/cell]', fontsize = 14) # Y label\n",
    "plt.xlabel('Time (hours)', fontsize = 14) # X label\n",
    "plt.xlim(xmax =24)\n",
    "# Add axis labels and title\n",
    "# plt.set(xlabel='Time (hours)', ylabel='Amount [molecules/cell]', title=f'{model100.name}', fontsize = 14)\n",
    "# Add grid\n",
    "# ax.grid()\n",
    "# plt.scatter(x101/60, y101*5544)\n",
    "# plt.scatter(x101/60, y1002*5544)\n",
    "# fig.savefig(\"necro_pydream_fitting_5k_5620_100_10tnf_wo_10_12hrs.pdf\")\n",
    "# plt.errorbar(x1001/60, y1001,\n",
    "#              yerr=[(0, 0.00885691708746097,0.0161886154261265,0.0373005242261882),\n",
    "#              (.10,.10,.10,.10)],\n",
    "#                    fmt='.k', ecolor ='black', alpha = 0.75, label ='100 ng/ml', zorder = 2)\n",
    "# plt.errorbar(x1002/60, y1002,\n",
    "#              yerr= .10, fmt='.k', ecolor ='black', alpha = 0.75, label ='100 ng/ml', zorder = 2)\n",
    "# plt.errorbar(x100/60, y10*5544, yerr=350, fmt='.k', ecolor = 'blue', alpha = 0.5, label ='10 ng/ml')\n",
    "# plt.errorbar(x100/60, y100*5544, yerr=350, fmt='.k', ecolor ='green', alpha = 0.5, label ='100 ng/ml')\n",
    "# plt.errorbar(x1001/60, y1001*5544,\n",
    "#              yerr=[(0, 0.00885691708746097*5544,0.0161886154261265*5544,0.0373005242261882*5544),\n",
    "#              (400,400,400,400)],\n",
    "#                    fmt='.k', ecolor ='black', alpha = 0.75, label ='10 ng/ml', zorder = 2)\n",
    "# plt.errorbar(x1002/60, y1002*5544,\n",
    "#              yerr= 400, fmt='.k', ecolor ='black', alpha = 0.75, label ='10 ng/ml', zorder = 2)\n",
    "# plt.errorbar(x101/60, y101*5544,\n",
    "#              yerr=[(0, 0.0106013664572332*5544,0.00519576571714913*5544,0.02967443048221*5544,\n",
    "#                     0.050022163974868*5544),\n",
    "#              (400,400,400,400,400)],\n",
    "#                    fmt='.k', ecolor ='black', alpha = 0.75, label ='10 ng/ml', zorder = 2)\n",
    "# plt.errorbar(x102/60, y102*5544,\n",
    "#              yerr= 400, fmt='.k', ecolor ='black', alpha = 0.75, label ='10 ng/ml', zorder = 2)\n",
    "# custom_lines = [Line2D([0], [0], color='blue', lw=4),\n",
    "#                 Line2D([0], [0], color='orange', lw=4),\n",
    "#                 Line2D([0], [0], color='red', lw=4)]\n",
    "# plt.legend(custom_lines, ['wt', 'a20ko', 'cyldko'], prop={'size': 10}, loc = 'best')\n",
    "plt.show()"
   ]
  },
  {
   "cell_type": "code",
   "execution_count": null,
   "metadata": {},
   "outputs": [],
   "source": []
  },
  {
   "cell_type": "code",
   "execution_count": 122,
   "metadata": {},
   "outputs": [
    {
     "data": {
      "image/png": "[encoded data removed]",
      "text/plain": [
       "<Figure size 432x288 with 1 Axes>"
      ]
     },
     "metadata": {
      "needs_background": "light"
     },
     "output_type": "display_data"
    }
   ],
   "source": [
    "#FOR PLOTTING PERCENTILES \n",
    "\n",
    "# x10 = np.array([0, 30, 90, 270, 480,600, 720, 840, 960])\n",
    "# # x102 = np.array([600, 720, 840, 960])\n",
    "# y10 = np.array([0, 0.0106013664572332,0.00519576571714913,0.02967443048221,0.050022163974868,\n",
    "#                 0.088128107774737, 0.17, 0.30055140114867, 0.47])\n",
    "# # y102 = np.array([0.088128107774737, 0.17, 0.30055140114867, 0.47])\n",
    "\n",
    "# x100 = np.array([0, 30, 90, 270,480, 600, 720, 840, 960])\n",
    "# # x1002 = np.array([480, 600, 720, 840, 960])\n",
    "# y100 = np.array([0, 0.00885691708746097,0.0161886154261265,0.0373005242261882,\n",
    "#                   0.2798939020159581, 0.510, .8097294067, 0.95,0.98])\n",
    "\n",
    "x1001 = np.array([0, 30, 90, 270])\n",
    "x1002 = np.array([480, 720, 960])\n",
    "y1001 = np.array([0, 0.00885691708746097,0.0161886154261265,0.0373005242261882])\n",
    "y1002 = np.array([0.2798939020159581, .7797294067, 0.98])\n",
    "# plt.figure()\n",
    "\n",
    "x101 = np.array([0, 30, 90, 270, 480])\n",
    "x102 = np.array([720, 960])\n",
    "y101 = np.array([0, 0.0106013664572332,0.00519576571714913,0.02967443048221,0.050022163974868])\n",
    "y102 = np.array([0.17, 0.47])\n",
    "# Combine the results dataframes into a single dataframe with a 'group' index,\n",
    "# in addition to \"simulation\" and \"time\" indexes\n",
    "df = pd.concat([result100n.dataframe, simclus2n.dataframe, simclus2nn.dataframe],\n",
    "               keys=['wt', 'a20ko', 'cyldko'],\n",
    "               names=['group', 'simulation', 'time'])\n",
    "\n",
    "# Add observable/group pairs as needed\n",
    "obs_to_plot = {\n",
    "    ('MLKLa_obs', 'wt'): 'blue',\n",
    "    ('MLKLa_obs', 'a20ko'): 'orange',\n",
    "    ('MLKLa_obs', 'cyldko'): 'red'\n",
    "}\n",
    "\n",
    "lower_quantile = 0.1  # 10%\n",
    "upper_quantile = 0.9  # 90%\n",
    "median = 0.5\n",
    "\n",
    "fig, ax = plt.subplots()\n",
    "# plt.figure()\n",
    "legend_keys = []\n",
    "for obs_pair, colour in obs_to_plot.items():\n",
    "    obs, group = obs_pair\n",
    "    # Calculate 10%, 50%, and 90% quantiles for observable\n",
    "    quantile_data = df[obs].loc[group].groupby(['time']).quantile(\n",
    "        q=[lower_quantile, median, upper_quantile]).unstack()\n",
    "    time_hrs = quantile_data.index / 60\n",
    "    # Plot the median line (50% quantile) for the observable\n",
    "    ax.plot(time_hrs, quantile_data.loc[:, median], color=colour)\n",
    "    # Plot the 10% and 90% quantiles as an envelope\n",
    "    ax.fill_between(time_hrs,\n",
    "                    quantile_data.loc[:, lower_quantile],\n",
    "                    quantile_data.loc[:, upper_quantile],\n",
    "                    color=colour,\n",
    "                    alpha=.1)\n",
    "\n",
    "# Add the legend\n",
    "\n",
    "# plt.legend([f'{obs} {group}' for obs, group in obs_to_plot.keys()])\n",
    "plt.title('Model Fitting for 100 & 10 ng/ml of TNF',fontsize=14) # Title\n",
    "plt.ylabel('Amount [molecules/cell]', fontsize = 14) # Y label\n",
    "plt.xlabel('Time (hours)', fontsize = 14) # X label\n",
    "plt.xlim(xmax =24)\n",
    "# Add axis labels and title\n",
    "# plt.set(xlabel='Time (hours)', ylabel='Amount [molecules/cell]', title=f'{model100.name}', fontsize = 14)\n",
    "# Add grid\n",
    "# ax.grid()\n",
    "# plt.scatter(x101/60, y101*5544)\n",
    "# plt.scatter(x101/60, y1002*5544)\n",
    "# fig.savefig(\"necro_pydream_fitting_5k_5620_100_10tnf_wo_10_12hrs.pdf\")\n",
    "# plt.errorbar(x1001/60, y1001,\n",
    "#              yerr=[(0, 0.00885691708746097,0.0161886154261265,0.0373005242261882),\n",
    "#              (.10,.10,.10,.10)],\n",
    "#                    fmt='.k', ecolor ='black', alpha = 0.75, label ='100 ng/ml', zorder = 2)\n",
    "# plt.errorbar(x1002/60, y1002,\n",
    "#              yerr= .10, fmt='.k', ecolor ='black', alpha = 0.75, label ='100 ng/ml', zorder = 2)\n",
    "# plt.errorbar(x100/60, y10*5544, yerr=350, fmt='.k', ecolor = 'blue', alpha = 0.5, label ='10 ng/ml')\n",
    "# plt.errorbar(x100/60, y100*5544, yerr=350, fmt='.k', ecolor ='green', alpha = 0.5, label ='100 ng/ml')\n",
    "# plt.errorbar(x1001/60, y1001*5544,\n",
    "#              yerr=[(0, 0.00885691708746097*5544,0.0161886154261265*5544,0.0373005242261882*5544),\n",
    "#              (400,400,400,400)],\n",
    "#                    fmt='.k', ecolor ='black', alpha = 0.75, label ='10 ng/ml', zorder = 2)\n",
    "# plt.errorbar(x1002/60, y1002*5544,\n",
    "#              yerr= 400, fmt='.k', ecolor ='black', alpha = 0.75, label ='10 ng/ml', zorder = 2)\n",
    "# plt.errorbar(x101/60, y101*5544,\n",
    "#              yerr=[(0, 0.0106013664572332*5544,0.00519576571714913*5544,0.02967443048221*5544,\n",
    "#                     0.050022163974868*5544),\n",
    "#              (400,400,400,400,400)],\n",
    "#                    fmt='.k', ecolor ='black', alpha = 0.75, label ='10 ng/ml', zorder = 2)\n",
    "# plt.errorbar(x102/60, y102*5544,\n",
    "#              yerr= 400, fmt='.k', ecolor ='black', alpha = 0.75, label ='10 ng/ml', zorder = 2)\n",
    "# custom_lines = [Line2D([0], [0], color='blue', lw=4),\n",
    "#                 Line2D([0], [0], color='orange', lw=4),\n",
    "#                 Line2D([0], [0], color='red', lw=4)]\n",
    "# plt.legend(custom_lines, ['wt', 'a20ko', 'cyldko'], prop={'size': 10}, loc = 'best')\n",
    "plt.show()"
   ]
  },
  {
   "cell_type": "code",
   "execution_count": null,
   "metadata": {},
   "outputs": [],
   "source": []
  }
 ],
 "metadata": {
  "kernelspec": {
   "display_name": "Python 3",
   "language": "python",
   "name": "python3"
  },
  "language_info": {
   "codemirror_mode": {
    "name": "ipython",
    "version": 3
   },
   "file_extension": ".py",
   "mimetype": "text/x-python",
   "name": "python",
   "nbconvert_exporter": "python",
   "pygments_lexer": "ipython3",
   "version": "3.7.1"
  }
 },
 "nbformat": 4,
 "nbformat_minor": 4
}
