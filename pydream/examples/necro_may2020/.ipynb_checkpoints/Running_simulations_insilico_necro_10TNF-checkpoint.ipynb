{
 "cells": [
  {
   "cell_type": "code",
   "execution_count": null,
   "metadata": {},
   "outputs": [],
   "source": [
    "import os"
   ]
  },
  {
   "cell_type": "code",
   "execution_count": null,
   "metadata": {},
   "outputs": [],
   "source": [
    "os.environ[\"OMP_NUM_THREADS\"] = \"1\"\n",
    "os.environ[\"OPENBLAS_NUM_THREADS\"] = \"1\""
   ]
  },
  {
   "cell_type": "code",
   "execution_count": null,
   "metadata": {},
   "outputs": [],
   "source": [
    "print(list(model10.initial_conditions))"
   ]
  },
  {
   "cell_type": "code",
   "execution_count": null,
   "metadata": {},
   "outputs": [],
   "source": [
    "from pysb.core import ComponentSet, Model\n",
    "from pysb.simulator import SimulationResult\n",
    "import weakref\n",
    "from contextlib import contextmanager\n",
    "\n",
    "def _model_setstate_monkey_patch(self, state):\n",
    "    \"\"\"Monkey patch for Model.__setstate__ for restoring from older pickles\"\"\"\n",
    "\n",
    "    # restore the 'model' weakrefs on all components\n",
    "    self.__dict__.update(state)\n",
    "    # Set \"tags\" attribute for older, pickled models\n",
    "    self.__dict__.setdefault('tags', ComponentSet())\n",
    "    for c in self.all_components():\n",
    "        c.model = weakref.ref(self)\n",
    "\n",
    "@contextmanager\n",
    "def _patch_model_setstate():\n",
    "    old_setstate = Model.__setstate__\n",
    "    Model.__setstate__ = _model_setstate_monkey_patch\n",
    "    try:\n",
    "        yield\n",
    "    finally:\n",
    "        Model.__setstate__ = old_setstate\n",
    "\n",
    "def simulation_result_load(filename, dataset_name=None, group_name=None):\n",
    "    with _patch_model_setstate():\n",
    "        return SimulationResult.load(filename, dataset_name, group_name)"
   ]
  },
  {
   "cell_type": "code",
   "execution_count": null,
   "metadata": {},
   "outputs": [],
   "source": [
    "vt = VisualizeTrajectories(model100, sim_results='necro_pydream_5chns_929_10tnf_updated_nokd10000.h5',\n",
    "                           clusters=signatures.labels)"
   ]
  },
  {
   "cell_type": "code",
   "execution_count": null,
   "metadata": {},
   "outputs": [],
   "source": [
    "def _adjacent_values(vals, q1, q3):\n",
    "    upper_adjacent_value = q3 + (q3 - q1) * 1.5\n",
    "    upper_adjacent_value = np.clip(upper_adjacent_value, q3, vals[-1])\n",
    "\n",
    "    lower_adjacent_value = q1 - (q3 - q1) * 1.5\n",
    "    lower_adjacent_value = np.clip(lower_adjacent_value, vals[0], q1)\n",
    "    return lower_adjacent_value, upper_adjacent_value\n",
    "\n",
    "\n",
    "def _set_axis_style(ax, labels):\n",
    "    ax.get_xaxis().set_tick_params(direction='out')\n",
    "    ax.xaxis.set_ticks_position('bottom')\n",
    "    ax.set_xticks(np.arange(1, len(labels) + 1))\n",
    "    ax.set_xticklabels(labels)\n",
    "    ax.set_xlim(0.25, len(labels) + 0.75)\n",
    "    ax.set_xlabel('Parameters')\n"
   ]
  },
  {
   "cell_type": "code",
   "execution_count": null,
   "metadata": {},
   "outputs": [],
   "source": [
    "def plot_violin_pars(par_idxs, all_parameters, save_path=''):\n",
    "    \"\"\"\n",
    "    Creates a plot for each model parameter. Then, makes violin plots for each cluster\n",
    "\n",
    "    Parameters\n",
    "    ----------\n",
    "    par_idxs: list-like\n",
    "        Indices of the parameters that would be visualized\n",
    "    save_path: str\n",
    "        Path to where the file is going to be saved\n",
    "\n",
    "    Returns\n",
    "    -------\n",
    "\n",
    "    \"\"\"\n",
    "    data_violin = [0] * len(par_idxs)\n",
    "    clus_labels = [0] * len(par_idxs)\n",
    "    for count, sp_ic in enumerate(par_idxs):\n",
    "        sp_ic_values = all_parameters[:, sp_ic]\n",
    "        data_violin[count] = sorted(np.log10(sp_ic_values))\n",
    "        clus_labels[count] = sp_ic\n",
    "\n",
    "    fig, ax1 = plt.subplots(nrows=1, ncols=1)\n",
    "    ax1.set_title('Distributions of parameters ')\n",
    "    ax1.set_ylabel('Parameter values (log10)')\n",
    "    parts = ax1.violinplot(data_violin, showmeans=False, showmedians=False, showextrema=False)\n",
    "\n",
    "    for pc in parts['bodies']:\n",
    "        pc.set_facecolor('#D43F3A')\n",
    "        pc.set_edgecolor('black')\n",
    "        pc.set_alpha(1)\n",
    "\n",
    "    percentile_data = np.array([np.percentile(data, [25, 50, 75]) for data in data_violin])\n",
    "    quartile1 = percentile_data[:, 0]\n",
    "    medians = percentile_data[:, 1]\n",
    "    quartile3 = percentile_data[:, 2]\n",
    "\n",
    "    whiskers = np.array([_adjacent_values(sorted_array, q1, q3)\n",
    "                         for sorted_array, q1, q3 in zip(data_violin, quartile1, quartile3)])\n",
    "    whiskersMin, whiskersMax = whiskers[:, 0], whiskers[:, 1]\n",
    "\n",
    "    inds = np.arange(1, len(medians) + 1)\n",
    "    ax1.scatter(inds, medians, marker='o', color='white', s=30, zorder=3)\n",
    "    ax1.vlines(inds, quartile1, quartile3, color='k', linestyle='-', lw=5)\n",
    "    ax1.vlines(inds, whiskersMin, whiskersMax, color='k', linestyle='-', lw=1)\n",
    "\n",
    "    # set style for the axes\n",
    "    _set_axis_style(ax1, clus_labels)\n",
    "\n",
    "    fig.savefig('violin_pars' + '.png', format='png', dpi=200)\n",
    "\n",
    "        ### Code to plot violinplots with seaborn\n",
    "        # g = sns.violinplot(data=data_violin, orient='h', bw='silverman', cut=0, scale='count', inner='box')\n",
    "        # g.set(yticklabels=clus_labels, xlabel='Parameter Range', ylabel='Clusters')\n",
    "        # fig = g.get_figure()\n",
    "        # fig.suptitle('Parameter {0}'.format(self.model.parameters[sp_ic].name))\n",
    "        # final_save_path = os.path.join(save_path, 'violin_sp_{0}'.format(self.model.parameters[sp_ic].name))\n",
    "        # fig.savefig(final_save_path + '.pdf', format='pdf')\n",
    "    return"
   ]
  },
  {
   "cell_type": "code",
   "execution_count": null,
   "metadata": {},
   "outputs": [],
   "source": [
    "plot_violin_pars([1, 5, 9, 11, 15, 17, 19, 23, 25, 27, 31, 35, 36, 37, 38, 39, 41, 43], vt.all_parameters)"
   ]
  },
  {
   "cell_type": "code",
   "execution_count": null,
   "metadata": {},
   "outputs": [],
   "source": []
  },
  {
   "cell_type": "code",
   "execution_count": null,
   "metadata": {},
   "outputs": [],
   "source": [
    "params = np.load('necro_pydream_5chns_929_10tnf_updated_nokd.npy')\n",
    "params.shape"
   ]
  },
  {
   "cell_type": "code",
   "execution_count": null,
   "metadata": {},
   "outputs": [],
   "source": [
    "params[1]"
   ]
  },
  {
   "cell_type": "code",
   "execution_count": null,
   "metadata": {},
   "outputs": [],
   "source": [
    "len(10**params[:10000,14])\n",
    "new = 10**params[:10000,14]\n",
    "new"
   ]
  },
  {
   "cell_type": "code",
   "execution_count": null,
   "metadata": {},
   "outputs": [],
   "source": [
    "x = [1,2,3,4,5,6]\n",
    "plt.figure()\n",
    "plt.hist(10**params[:10000,14], bins = 20, color = 'blue', alpha=0.4)\n",
    "# plt.hist(10**params[:10000,17], color = 'green',  alpha = 0.3)\n",
    "plt.xlim()\n",
    "# plt.scatter(x,10**params[:10000,14] )\n",
    "# plt.scatter(x,10**params[:10000,14] )\n",
    "plt.show()"
   ]
  },
  {
   "cell_type": "code",
   "execution_count": null,
   "metadata": {},
   "outputs": [],
   "source": [
    "plt.figure()\n",
    "# plt.hist(10**params[:10000,14], bins = 20, color = 'blue')\n",
    "plt.hist(10**params[:10000,17], color = 'blue' )\n",
    "# plt.scatter(x,10**params[:10000,14] )\n",
    "# plt.scatter(x,10**params[:10000,14] )\n",
    "plt.show()"
   ]
  },
  {
   "cell_type": "code",
   "execution_count": null,
   "metadata": {},
   "outputs": [],
   "source": [
    "plt.figure()\n",
    "plt.hist(10**params[:10000,15], bins = 20, color = 'purple', alpha = 0.3)\n",
    "# plt.hist(10**params[:10000,18], color = 'green' , alpha = 0.3)\n",
    "# plt.hist(10**params[:10000,18], color = 'green' )\n",
    "# plt.scatter(x,10**params[:10000,14] )\n",
    "# plt.scatter(x,10**params[:10000,14] )\n",
    "plt.show()"
   ]
  },
  {
   "cell_type": "code",
   "execution_count": null,
   "metadata": {},
   "outputs": [],
   "source": [
    "plt.figure()\n",
    "# plt.hist(10**params[:10000,14], bins = 20, color = 'blue')\n",
    "plt.hist(10**params[:10000,18], color = 'purple' )\n",
    "# plt.scatter(x,10**params[:10000,14] )\n",
    "# plt.scatter(x,10**params[:10000,14] )\n",
    "plt.show()"
   ]
  },
  {
   "cell_type": "code",
   "execution_count": null,
   "metadata": {},
   "outputs": [],
   "source": [
    "plt.figure()\n",
    "# plt.hist(10**params[:10000,14], bins = 20, color = 'blue')\n",
    "plt.hist(10**params[:10000,16], color = 'green' )\n",
    "# plt.scatter(x,10**params[:10000,14] )\n",
    "# plt.scatter(x,10**params[:10000,14] )\n",
    "plt.show()"
   ]
  },
  {
   "cell_type": "code",
   "execution_count": null,
   "metadata": {},
   "outputs": [],
   "source": [
    "plt.figure()\n",
    "# plt.hist(10**params[:10000,14], bins = 20, color = 'blue')\n",
    "plt.hist(10**params[:10000,19], color = 'green' )\n",
    "# plt.scatter(x,10**params[:10000,14] )\n",
    "# plt.scatter(x,10**params[:10000,14] )\n",
    "plt.show()"
   ]
  },
  {
   "cell_type": "code",
   "execution_count": null,
   "metadata": {},
   "outputs": [],
   "source": [
    "def mean_confidence_interval(data, confidence=0.95):\n",
    "    a = 1.0 * np.array(data)\n",
    "    n = len(a)\n",
    "    m, se = np.mean(a), scipy.stats.sem(a)\n",
    "    h = se * scipy.stats.t.ppf((1 + confidence) / 2., n-1)\n",
    "    return m, m-h, m+h\n",
    "\n",
    "chain0 = np.load('necro_smallest_dreamzs_5chain_sampled_params_chain925_0_50000.npy')\n",
    "chain1 = np.load('necro_smallest_dreamzs_5chain_sampled_params_chain925_1_50000.npy')\n",
    "chain2 = np.load('necro_smallest_dreamzs_5chain_sampled_params_chain925_2_50000.npy')\n",
    "chain3 = np.load('necro_smallest_dreamzs_5chain_sampled_params_chain925_3_50000.npy')\n",
    "chain4 = np.load('necro_smallest_dreamzs_5chain_sampled_params_chain925_4_50000.npy')\n",
    "\n",
    "total_iterations = chain0.shape[0]\n",
    "burnin = int(total_iterations/2)\n",
    "samples = np.concatenate((chain0[burnin:, :], chain1[burnin:, :], chain2[burnin:, :], chain3[burnin:, :], chain4[burnin:, :]))\n",
    "np.save('necro_pydream_5chns_929_10tnf_updated_nokd.npy', samples)"
   ]
  },
  {
   "cell_type": "code",
   "execution_count": null,
   "metadata": {},
   "outputs": [],
   "source": [
    "print(model10.parameters_rules())"
   ]
  },
  {
   "cell_type": "code",
   "execution_count": null,
   "metadata": {},
   "outputs": [],
   "source": [
    "par_files = np.load('necro_pydream_5chns_929_10tnf_updated_nokd.npy')\n",
    "print('14')\n",
    "print(par_files[:][14])\n",
    "print('15')\n",
    "print(par_files[:][15])\n",
    "print('16')\n",
    "print(par_files[:][16])"
   ]
  },
  {
   "cell_type": "code",
   "execution_count": null,
   "metadata": {},
   "outputs": [],
   "source": [
    "print('17')\n",
    "print(par_files[:][17])\n",
    "print('18')\n",
    "print(par_files[:][18])\n",
    "print('19')\n",
    "print(par_files[:][19])"
   ]
  },
  {
   "cell_type": "code",
   "execution_count": null,
   "metadata": {},
   "outputs": [],
   "source": [
    "par_filesmod = np.load('necro_pydream_5chns_929_10tnf_updated_nokd.npy')\n",
    "par_filesmod[:][14] = par_filesmod[:][17]\n",
    "par_filesmod[:][15] = par_filesmod[:][18]\n",
    "par_filesmod[:][16] = par_filesmod[:][19]"
   ]
  },
  {
   "cell_type": "code",
   "execution_count": null,
   "metadata": {},
   "outputs": [],
   "source": [
    "print('14')\n",
    "print(par_filesmod[:][14])\n",
    "print('15')\n",
    "print(par_filesmod[:][15])\n",
    "print('16')\n",
    "print(par_filesmod[:][16])"
   ]
  },
  {
   "cell_type": "code",
   "execution_count": 1,
   "metadata": {},
   "outputs": [],
   "source": [
    "from pylab import *\n",
    "from pysb.core import *\n",
    "from pysb.bng import *\n",
    "from pysb.integrate import *\n",
    "import matplotlib.pyplot as plt\n",
    "import numpy as np\n",
    "from pysb.util import alias_model_components\n",
    "from pysb.simulator import CupSodaSimulator\n",
    "from pysb.simulator import ScipyOdeSimulator\n",
    "from pysb.simulator.bng import BngSimulator\n",
    "from necro_uncal_new_updated import model as model100\n",
    "from necro_uncal_new_10tnf import model as model10\n",
    "from necro_uncal_new_1tnf import model as model1\n",
    "from necro_uncal_new_01tnf import model as model01\n",
    "import pandas as pd\n",
    "# alias_model_components(model100, model10, model1, model01)\n",
    "from scipy import stats\n",
    "from pysb.simulator import SimulationResult"
   ]
  },
  {
   "cell_type": "code",
   "execution_count": null,
   "metadata": {},
   "outputs": [],
   "source": [
    "pso = np.array([-2.37275056, -0.68459857, -3.31059946, -1.12666899, -2.19408421, -2.37590596,   \n",
    " -0.84794821, -0.09951301,  0.61571203, -3.01548099, -5.34370862,  0.00868699  , \n",
    " -0.37740371 ,-3.04732434, -0.94683155, -4.83123647, -1.67745408, -2.45075802  , \n",
    " -3.71418809 ,-2.79817526,  3.24425328, -1.68338385,  4.49630711,  0.29559161  , \n",
    " -1.03816618 , 2.57383183,  0.64495633, -1.54023442,  1.415838 ,  -3.01765763  , \n",
    "  3.70281564 ,-3.57782265,  1.8876017 ,  2.59637527, -0.65539573, -3.39545215  , \n",
    " -3.43850365 ,-1.50573333, -0.4050367 ,  1.73882137])\n",
    "pso = pso**10\n",
    "print(pso)"
   ]
  },
  {
   "cell_type": "code",
   "execution_count": null,
   "metadata": {},
   "outputs": [],
   "source": [
    "start4 = np.array([-3.      , -4.81343868 ,-5.67667786 ,-3.        ,-1.87171553 ,-3.15785365,\n",
    "                 -4.7794484 , -3.         ,-4.052776   ,-5.6776313 ,-3.644325   ,-0.33904272,\n",
    "                 -3.        , -2.50720966 ,-8.50855492 ,-3.5566539 ,-1.47515023 ,-4.21938536,\n",
    "                 -3.00901115,  1.99245293 , 1.76438361 ,-9.49905583,-2.48545225 , 1.25527251,\n",
    "                 -3.15170825, -4.00999632 , 1.51454775 ,-3.81642336,-8.76866337 ,-7.40242627,\n",
    "                 -3.57923878, -4.         ,-5.         , 0.        ,-6.         ,-3.        ,\n",
    "                  2.26298516, -3.         ,-2.11109248 ,-3.83409258])\n",
    "start4 = start4**10"
   ]
  },
  {
   "cell_type": "code",
   "execution_count": null,
   "metadata": {},
   "outputs": [],
   "source": [
    "blah = np.array([-8.        , -5.         ,-5.         ,-8.         ,-4.03984151 ,-4.49997042 ,\n",
    "                 -2.94263932, -4.         ,-3.19666545 ,-8.         ,-1.48651129 , 1.         ,\n",
    "                 -8.        , -1.         ,-8.         ,-1.00000528 ,-0.79173375 ,-6.92537083 ,\n",
    "                 -5.        , -3.         ,-0.31423557 ,-8.17756596 ,-4.53935639 ,-0.8234421  ,\n",
    "                 -5.0040573 , -2.64687574 ,-1.5625748  ,-1.93930042 ,-5.05474715 ,-7.99999985 ,\n",
    "                 -1.47446279, -1.88819057 ,-4.         ,-3.76080054 ,-5.         ,-5.26497132 ,\n",
    "                  0.0412934 , -4.         ,-1.96829678 ,-4.53656873])\n",
    "blah = 10**blah"
   ]
  },
  {
   "cell_type": "code",
   "execution_count": null,
   "metadata": {},
   "outputs": [],
   "source": [
    "woo = np.array([-8.00000000e+00 ,-1.00000000e+00 ,-1.00000000e+00 ,-4.00000000e+00 ,\n",
    "                 -1.00000000e+00, -4.00000000e+00, -4.30625785e+00, -4.00000000e+00,\n",
    "                 -5.00000000e+00, -4.00000000e+00, -2.31418599e+00,  1.00000000e+00,\n",
    "                 -4.00000000e+00, -3.26909233e+00, -4.00000000e+00, -4.99964021e+00,\n",
    "                  1.00000000e+00, -4.00000000e+00, -5.00000000e+00,  1.00000000e+00,\n",
    "                 -1.29854020e-01, -7.98211533e+00, -6.06536771e+00, -7.52320434e-01,\n",
    "                 -6.60334416e+00, -2.95244425e+00, -1.71308174e-01,  2.98537100e-03,\n",
    "                 -6.81351699e+00, -8.00000000e+00, -2.31036485e+00, -2.51833546e+00,\n",
    "                 -7.52109272e-01, -1.00000000e+00, -1.00000000e+00, -4.00000000e+00,\n",
    "                  2.00000000e+00, -4.00000000e+00, -5.00000000e+00, -4.00000000e+00])\n",
    "woo = 10**woo"
   ]
  },
  {
   "cell_type": "code",
   "execution_count": null,
   "metadata": {},
   "outputs": [],
   "source": [
    "rawr = np.array([-4.65793068 ,-3.64935883 ,-3.87597861,-5.06539898, -2.57769063, -5.86510337,\n",
    "                 -3.58281591 ,-4.97598583 ,-2.19477045,-4.45949047, -4.53586533, -0.40387481,\n",
    "                 -4.37701676 ,-2.32125977 ,-6.00620842,-3.43404936, -0.72982957, -5.68860082,\n",
    "                 -2.2926712  ,-1.20976706 ,-0.18283067,-7.04537306, -4.58176251, -1.5932071 ,\n",
    "                 -5.05852706 ,-1.94506619 ,-0.9497771 ,-2.08391163, -5.81807164, -5.81707053,\n",
    "                 -2.32356013 ,-0.66793571 ,-2.30745714,-2.15653097, -1.00299868, -5.08169717,\n",
    "                  0.25569901 ,-4.56560826 ,-3.1568112 ,-6.0668923 ])\n",
    "rawr"
   ]
  },
  {
   "cell_type": "code",
   "execution_count": 2,
   "metadata": {},
   "outputs": [],
   "source": [
    "boo = np.array([1.69966605e-08 ,1.19645781e-02 ,.26359816e-02 ,3.02695440e-06 ,\n",
    "                 9.80621085e-05, 6.47680174e-07,4.77812454e-03, 9.43967363e-04,\n",
    "                 1.55059606e-04, 2.29117822e-06,1.11637795e-05, 1.68220920e+00,\n",
    "                 9.61618061e-06, 2.82379163e-02,1.17560158e-03, 9.76032914e-05,\n",
    "                 6.49998680e+00, 2.33615473e-07,2.06318811e-04, 3.03598089e-04,\n",
    "                 5.41780227e+00, 2.13280535e-03,2.73291298e-05, 2.02824211e+01,\n",
    "                 5.28865382e-08, 1.61957902e+01,5.03116601e-02, 6.80547891e-03,\n",
    "                 3.34388712e-06, 4.74462549e-04,6.35975421e-04, 4.20016585e+02,\n",
    "                 7.84498795e-02, 2.29375893e-04,3.84153170e-02, 2.58140432e-02,\n",
    "                 1.69060251e+00, 5.64236546e-05,2.21158693e-04, 8.77001021e-06])\n",
    "boo = 10**boo"
   ]
  },
  {
   "cell_type": "code",
   "execution_count": null,
   "metadata": {},
   "outputs": [],
   "source": [
    "nnn = 10**rawr \n",
    "nnn"
   ]
  },
  {
   "cell_type": "code",
   "execution_count": 3,
   "metadata": {},
   "outputs": [],
   "source": [
    "initials = np.array([2326.,          4800.,          4696.  ,       40000.,\n",
    " 11776. ,         9000.  ,        9000.  ,        9000.,\n",
    "  3109.  ,        3900.      ,    7226. ,         3799.,\n",
    " 10654.   ,       5544.])\n",
    "initials1 = np.array([233.,          4800.,          4696.  ,       40000.,\n",
    " 11776. ,         9000.  ,        9000.  ,        9000.,\n",
    "  3109.  ,        3900.      ,    7226. ,         3799.,\n",
    " 10654.   ,       5544.])"
   ]
  },
  {
   "cell_type": "code",
   "execution_count": 4,
   "metadata": {},
   "outputs": [],
   "source": [
    "psonew = np.concatenate([initials, boo])\n",
    "# print(psonew)\n",
    "# psonew2 = np.concatenate([initials1, blah])\n",
    "# print(psonew)"
   ]
  },
  {
   "cell_type": "code",
   "execution_count": 5,
   "metadata": {},
   "outputs": [
    {
     "data": {
      "text/plain": [
       "array([2.32600000e+03, 4.80000000e+03, 4.69600000e+03, 4.00000000e+04,\n",
       "       1.17760000e+04, 9.00000000e+03, 9.00000000e+03, 9.00000000e+03,\n",
       "       3.10900000e+03, 3.90000000e+03, 7.22600000e+03, 3.79900000e+03,\n",
       "       1.06540000e+04, 5.54400000e+03, 1.00000004e+00, 1.02793245e+00,\n",
       "       1.00608803e+00, 1.00000697e+00, 1.00022582e+00, 1.00000149e+00,\n",
       "       1.01106278e+00, 1.00217593e+00, 1.00035710e+00, 1.00000528e+00,\n",
       "       1.00002571e+00, 4.81071025e+01, 1.00002214e+00, 1.06718059e+00,\n",
       "       1.00271059e+00, 1.00022477e+00, 3.16218155e+06, 1.00000054e+00,\n",
       "       1.00047518e+00, 1.00069930e+00, 2.61699125e+05, 1.00492304e+00,\n",
       "       1.00006293e+00, 1.91611292e+20, 1.00000012e+00, 1.56960437e+16,\n",
       "       1.12282393e+00, 1.01579362e+00, 1.00000770e+00, 1.00109309e+00,\n",
       "       1.00146546e+00,            inf, 1.19798086e+00, 1.00052830e+00,\n",
       "       1.09248458e+00, 1.06124106e+00, 4.90458776e+01, 1.00012993e+00,\n",
       "       1.00050937e+00, 1.00002019e+00])"
      ]
     },
     "execution_count": 5,
     "metadata": {},
     "output_type": "execute_result"
    }
   ],
   "source": [
    "psonew"
   ]
  },
  {
   "cell_type": "code",
   "execution_count": null,
   "metadata": {},
   "outputs": [],
   "source": [
    "#MODDED PARAMS A20 swapping to CYLD\n",
    "# n_pars = len(pso)\n",
    "# all_pars2 = np.zeros((1, len(model10.parameters)))\n",
    "\n",
    "rate_params = model10.parameters_rules() # these are only the parameters involved in the rules\n",
    "param_values = np.array([p.value for p in model10.parameters]) # these are all the parameters\n",
    "rate_mask = np.array([p in rate_params for p in model10.parameters])\n",
    "\n",
    "\n",
    "# for i in range(n_pars):\n",
    "#     par = pso[i]\n",
    "param_values[rate_mask] = 10 ** par\n",
    "all_pars2 = param_values\n",
    "# print(all_pars2) "
   ]
  },
  {
   "cell_type": "code",
   "execution_count": null,
   "metadata": {},
   "outputs": [],
   "source": [
    "all_pars2"
   ]
  },
  {
   "cell_type": "code",
   "execution_count": null,
   "metadata": {},
   "outputs": [],
   "source": [
    "print(all_pars2[39])"
   ]
  },
  {
   "cell_type": "code",
   "execution_count": null,
   "metadata": {},
   "outputs": [],
   "source": [
    "par_files = np.load('pydream_most_likely_par_6707_final.npy')\n",
    "n_pars = len(par_files)\n",
    "all_pars = np.zeros((n_pars, len(model100.parameters)))\n",
    "\n",
    "rate_params = model100.parameters_rules() # these are only the parameters involved in the rules\n",
    "param_values = np.array([p.value for p in model100.parameters]) # these are all the parameters\n",
    "rate_mask = np.array([p in rate_params for p in model100.parameters])\n",
    "\n",
    "for i in range(n_pars):\n",
    "    par = par_files[i]\n",
    "    param_values[rate_mask] = 10 ** par\n",
    "    all_pars[i] = param_values\n",
    "print(len(all_pars))    "
   ]
  },
  {
   "cell_type": "code",
   "execution_count": null,
   "metadata": {},
   "outputs": [],
   "source": [
    "all_pars[1]"
   ]
  },
  {
   "cell_type": "code",
   "execution_count": null,
   "metadata": {},
   "outputs": [],
   "source": [
    "par_files = np.load('pydream_most_likely_par_6707_final.npy')\n",
    "n_pars = len(par_files)\n",
    "all_pars2 = np.zeros((n_pars, len(model10.parameters)))\n",
    "\n",
    "rate_params = model10.parameters_rules() # these are only the parameters involved in the rules\n",
    "param_values = np.array([p.value for p in model10.parameters]) # these are all the parameters\n",
    "rate_mask = np.array([p in rate_params for p in model10.parameters])\n",
    "\n",
    "for i in range(n_pars):\n",
    "    par = par_files[i]\n",
    "    param_values[rate_mask] = 10 ** par\n",
    "    all_pars2[i] = param_values\n",
    "print(len(all_pars2)) "
   ]
  },
  {
   "cell_type": "code",
   "execution_count": null,
   "metadata": {},
   "outputs": [],
   "source": [
    "print(par_files[1:6])"
   ]
  },
  {
   "cell_type": "code",
   "execution_count": null,
   "metadata": {},
   "outputs": [],
   "source": [
    "par_files = np.load('necro_pydream_5chns_929_10tnf_updated_nokd.npy')\n",
    "n_pars = len(par_files)\n",
    "all_pars3 = np.zeros((n_pars, len(model1.parameters)))\n",
    "\n",
    "rate_params = model1.parameters_rules() # these are only the parameters involved in the rules\n",
    "param_values = np.array([p.value for p in model1.parameters]) # these are all the parameters\n",
    "rate_mask = np.array([p in rate_params for p in model1.parameters])\n",
    "\n",
    "for i in range(n_pars):\n",
    "    par = par_files[i]\n",
    "    param_values[rate_mask] = 10 ** par\n",
    "    all_pars3[i] = param_values\n",
    "print(len(all_pars3)) "
   ]
  },
  {
   "cell_type": "code",
   "execution_count": 11,
   "metadata": {},
   "outputs": [
    {
     "data": {
      "text/plain": [
       "array([-5.03871991, -2.77422173, -0.87287986, -3.8760241 ,  1.54175233,\n",
       "        1.08943647, -2.63610537,  0.49975965, -3.01430015,  0.12203582,\n",
       "        0.07983158, -3.40562578, -2.10699587, -5.01896387, -4.35501468,\n",
       "       -2.65519923, -2.35945571,  0.41170187, -2.3781722 ,  2.65259615,\n",
       "        3.06046232, -0.52024266, -2.78955419, -2.25695819, -0.90656227,\n",
       "       -4.65795804, -1.92138073,  1.14788202, -0.26424152, -1.15479565,\n",
       "       -3.05805226, -3.40083046,  1.29668243, -0.39993474, -2.29694278,\n",
       "       -2.67155369, -3.23454522, -2.23736425,  0.60477365,  1.11330035])"
      ]
     },
     "execution_count": 11,
     "metadata": {},
     "output_type": "execute_result"
    }
   ],
   "source": [
    "par_files = np.load('necro_pydream_5chns_929_10tnf_updated_nokd.npy')\n",
    "par_files[2]"
   ]
  },
  {
   "cell_type": "code",
   "execution_count": null,
   "metadata": {},
   "outputs": [],
   "source": [
    "par_files = np.load('necro_pydream_5chns_929_10tnf_updated_nokd.npy')\n",
    "n_pars = len(par_files)\n",
    "all_pars4 = np.zeros((n_pars, len(model01.parameters)))\n",
    "\n",
    "rate_params = model01.parameters_rules() # these are only the parameters involved in the rules\n",
    "param_values = np.array([p.value for p in model01.parameters]) # these are all the parameters\n",
    "rate_mask = np.array([p in rate_params for p in model01.parameters])\n",
    "\n",
    "for i in range(n_pars):\n",
    "    par = par_files[i]\n",
    "    param_values[rate_mask] = 10 ** par\n",
    "    all_pars4[i] = param_values\n",
    "print(len(all_pars4)) "
   ]
  },
  {
   "cell_type": "markdown",
   "metadata": {},
   "source": [
    "## Simulations of fitted parameter sets across all TNF doses "
   ]
  },
  {
   "cell_type": "code",
   "execution_count": 8,
   "metadata": {},
   "outputs": [
    {
     "name": "stderr",
     "output_type": "stream",
     "text": [
      "2020-05-06 14:47:13.279 - pysb.simulator.scipyode - DEBUG - [necro_uncal_new_updated] Simulator created\n",
      "2020-05-06 14:47:13.285 - pysb.simulator.scipyode - DEBUG - [necro_uncal_new_updated] Equation mode set to \"cython\"\n",
      "2020-05-06 14:47:13.329 - pysb.simulator.scipyode - INFO - [necro_uncal_new_updated] Simulation(s) started\n",
      "2020-05-06 14:47:13.377 - pysb.simulator.scipyode - DEBUG - [necro_uncal_new_updated] Multi-processor (parallel) mode using 20 processes\n"
     ]
    },
    {
     "name": "stdout",
     "output_type": "stream",
     "text": [
      "running simulations 100\n"
     ]
    },
    {
     "name": "stderr",
     "output_type": "stream",
     "text": [
      "2020-05-06 14:47:13.666 - pysb.simulator.scipyode - INFO - [necro_uncal_new_updated] All simulation(s) complete\n",
      "2020-05-06 14:47:13.667 - pysb.simulator.scipyode - DEBUG - [necro_uncal_new_updated] SimulationResult constructor started\n",
      "2020-05-06 14:47:13.706 - pysb.simulator.scipyode - DEBUG - [necro_uncal_new_updated] SimulationResult constructor finished\n"
     ]
    }
   ],
   "source": [
    "print('running simulations 100')\n",
    "# t = np.array([0, 30, 90, 270, 480,600, 720, 840, 960])\n",
    "tspan = np.linspace(0, 1440, 1440)\n",
    "solver100 = ScipyOdeSimulator(model100, tspan=tspan, verbose = True)\n",
    "result100 = solver100.run(param_values=psonew, num_processors = 20)\n",
    "# result100.save('necro_pydream_5chns_929_100tnf_updated_.h5')\n",
    "# df = result100.dataframe\n",
    "# result10.save('necro_pydream_5chns_929_10tnf_updated_kocyld.h5')\n",
    "df1 = result100.dataframe"
   ]
  },
  {
   "cell_type": "code",
   "execution_count": null,
   "metadata": {},
   "outputs": [],
   "source": [
    "print('running simulations 10')\n",
    "tspan = np.linspace(0, 1440, 1440)\n",
    "solver10 = ScipyOdeSimulator(model10, tspan=tspan, verbose = True)\n",
    "result10 = solver10.run(param_values=psonew2, num_processors = 20)\n",
    "# result10.save('necro_pydream_5chns_929_10tnf_updated_kocyld_oea20x1000.h5')\n",
    "df2 = result10.dataframe\n",
    "# df2 = result10.dataframe"
   ]
  },
  {
   "cell_type": "code",
   "execution_count": 9,
   "metadata": {},
   "outputs": [
    {
     "data": {
      "text/plain": [
       "time\n",
       "0.000000       0.0\n",
       "1.000695       0.0\n",
       "2.001390       NaN\n",
       "3.002085       NaN\n",
       "4.002780       NaN\n",
       "5.003475       NaN\n",
       "6.004170       NaN\n",
       "7.004864       NaN\n",
       "8.005559       NaN\n",
       "9.006254       NaN\n",
       "10.006949      NaN\n",
       "11.007644      NaN\n",
       "12.008339      NaN\n",
       "13.009034      NaN\n",
       "14.009729      NaN\n",
       "15.010424      NaN\n",
       "16.011119      NaN\n",
       "17.011814      NaN\n",
       "18.012509      NaN\n",
       "19.013204      NaN\n",
       "20.013899      NaN\n",
       "21.014593      NaN\n",
       "22.015288      NaN\n",
       "23.015983      NaN\n",
       "24.016678      NaN\n",
       "25.017373      NaN\n",
       "26.018068      NaN\n",
       "27.018763      NaN\n",
       "28.019458      NaN\n",
       "29.020153      NaN\n",
       "              ... \n",
       "1410.979847    NaN\n",
       "1411.980542    NaN\n",
       "1412.981237    NaN\n",
       "1413.981932    NaN\n",
       "1414.982627    NaN\n",
       "1415.983322    NaN\n",
       "1416.984017    NaN\n",
       "1417.984712    NaN\n",
       "1418.985407    NaN\n",
       "1419.986101    NaN\n",
       "1420.986796    NaN\n",
       "1421.987491    NaN\n",
       "1422.988186    NaN\n",
       "1423.988881    NaN\n",
       "1424.989576    NaN\n",
       "1425.990271    NaN\n",
       "1426.990966    NaN\n",
       "1427.991661    NaN\n",
       "1428.992356    NaN\n",
       "1429.993051    NaN\n",
       "1430.993746    NaN\n",
       "1431.994441    NaN\n",
       "1432.995136    NaN\n",
       "1433.995830    NaN\n",
       "1434.996525    NaN\n",
       "1435.997220    NaN\n",
       "1436.997915    NaN\n",
       "1437.998610    NaN\n",
       "1438.999305    NaN\n",
       "1440.000000    NaN\n",
       "Name: MLKLa_obs, Length: 1440, dtype: float64"
      ]
     },
     "execution_count": 9,
     "metadata": {},
     "output_type": "execute_result"
    }
   ],
   "source": [
    "df1['MLKLa_obs']"
   ]
  },
  {
   "cell_type": "code",
   "execution_count": null,
   "metadata": {},
   "outputs": [],
   "source": [
    "print('running simulations 10 mod linspace')\n",
    "tspan = np.linspace(1440,2880, 300)\n",
    "solver10 = ScipyOdeSimulator(model10, tspan=tspan, verbose = True)\n",
    "result10n = solver10.run(param_values=all_pars2[:10000], num_processors = 100)\n",
    "result10n.save('necro_pydream_5chns_929_10tnf_updated_koa20_oecyldx1000_2880.h5')\n",
    "df3 = result10n.dataframe\n",
    "# df2 = result10.dataframe"
   ]
  },
  {
   "cell_type": "code",
   "execution_count": null,
   "metadata": {},
   "outputs": [],
   "source": [
    "print('running simulations 1')\n",
    "tspan = np.linspace(0, 1440, 300)\n",
    "solver1 = ScipyOdeSimulator(model1, tspan=tspan, verbose = True)\n",
    "result1 = solver1.run(param_values=all_pars3[:10000], num_processors = 100)\n",
    "result1.save('necro_pydream_5chns_929_1tnf_updated_koflip_updated.h5')\n",
    "# df = result100.dataframe\n",
    "df3 = result1.dataframe"
   ]
  },
  {
   "cell_type": "code",
   "execution_count": null,
   "metadata": {},
   "outputs": [],
   "source": [
    "print('running simulations 01')\n",
    "tspan = np.linspace(0, 1440, 300)\n",
    "solver01 = ScipyOdeSimulator(model01, tspan=tspan, verbose = True)\n",
    "result01 = solver01.run(param_values=all_pars4[:10000], num_processors = 100)\n",
    "result01.save('necro_pydream_5chns_929_01tnf_updated_koflip_updated.h5')\n",
    "# df = result100.dataframe\n",
    "# df4 = result01.dataframe"
   ]
  },
  {
   "cell_type": "markdown",
   "metadata": {},
   "source": [
    "## Loading necessary simulation result objects "
   ]
  },
  {
   "cell_type": "code",
   "execution_count": null,
   "metadata": {},
   "outputs": [],
   "source": [
    "x101 = np.array([0, 30, 90, 270, 480,600, 720, 840, 960])\n",
    "# x102 = np.array([600, 720, 840, 960])\n",
    "y101 = np.array([0, 0.0106013664572332,0.00519576571714913,0.02967443048221,0.050022163974868,\n",
    "                0.088128107774737, 0.17, 0.30055140114867, 0.47])\n",
    "# y102 = np.array([0.088128107774737, 0.17, 0.30055140114867, 0.47])\n",
    "\n",
    "x1001 = np.array([0, 30, 90, 270,480, 600, 720, 840, 960])\n",
    "# x1002 = np.array([480, 600, 720, 840, 960])\n",
    "y1002 = np.array([0, 0.00885691708746097,0.0161886154261265,0.0373005242261882,\n",
    "                  0.2798939020159581, 0.510, .8097294067, 0.95,0.98])\n",
    "# y1001 = np.array([0, 0.00885691708746097,0.0161886154261265,0.0373005242261882])\n",
    "plt.figure()\n",
    "# for n in range(10000):\n",
    "plt.plot(tspan/60, df1['MLKLa_obs'].iloc[:],lw=1.5, color ='green', label ='100 TNF',  zorder = 1, marker ='*', alpha = 0.30)\n",
    "plt.scatter(x1001/60, y1002*5544)\n",
    "plt.plot(tspan/60, df2['MLKLa_obs'].iloc[:],lw=1.5, color ='green', label ='10 TNF',  zorder = 1, marker ='*', alpha = 0.30)\n",
    "plt.scatter(x101/60, y101*5544)\n",
    "plt.xlabel(\"Time (in hr)\", fontsize=15)\n",
    "plt.ylabel(\"Amount (normalized)\", fontsize=15)\n",
    "plt.title('pMLKL with 100 ng/ml of TNF', fontsize=15)\n",
    "plt.xlim(xmin = 0, xmax = 24)\n",
    "plt.xticks(fontsize=14)\n",
    "plt.yticks(fontsize=14)\n",
    "# custom_lines = [Line2D([0], [0], color='green', lw=4),\n",
    "#                 Line2D([0], [0], color='blue', lw=4)]\n",
    "# plt.legend(custom_lines, ['Flip_wt', 'Flip_ko'], prop={'size': 10}, loc = 'best')\n",
    "# plt.savefig('pmlkl_100tnf_wdata_pydream_best10kpars_t.png',dpi=300)\n",
    "# plt.ylim(ymin = -10, ymax =100)\n",
    "# plt.legend(loc='best')\n",
    "plt.show()"
   ]
  },
  {
   "cell_type": "code",
   "execution_count": null,
   "metadata": {},
   "outputs": [],
   "source": [
    "wt10 = SimulationResult.load('necro_pydream_5chns_929_10tnf_updated_nokd.h5')\n",
    "df1 = wt10.dataframe\n",
    "# kocyld10 = SimulationResult.load('necro_pydream_5chns_929_10tnf_updated_kocyld_oea20x100.h5')\n",
    "# df2 = kocyld10.dataframe"
   ]
  },
  {
   "cell_type": "code",
   "execution_count": null,
   "metadata": {},
   "outputs": [],
   "source": [
    "wt100 = simulation_result_load('necro_pydream_5chns_929_100tnf_updated_nokd.h5')\n",
    "df1 = wt100.dataframe\n",
    "# df2 = result100.dataframe\n",
    "\n",
    "wt10 = simulation_result_load('necro_pydream_5chns_929_10tnf_updated_nokd.h5')\n",
    "df2 = wt10.dataframe\n",
    "# df2 = result100.dataframe\n",
    "\n",
    "wt1 = simulation_result_load('necro_pydream_5chns_929_1tnf_updated_nokd.h5')\n",
    "df3 = wt1.dataframe\n",
    "# df2 = result100.dataframe\n",
    "\n",
    "wt01 = simulation_result_load('necro_pydream_5chns_929_01tnf_updated_nokd.h5')\n",
    "df4 = wt01.dataframe\n",
    "# df2 = result100.dataframe"
   ]
  },
  {
   "cell_type": "code",
   "execution_count": null,
   "metadata": {},
   "outputs": [],
   "source": [
    "ko100 = simulation_result_load('necro_pydream_5chns_929_100tnf_updated_koflip0.h5')\n",
    "df5 = ko100.dataframe\n",
    "\n",
    "ko10 = simulation_result_load('necro_pydream_5chns_929_10tnf_updated_koflip_updated.h5')\n",
    "df6 = ko10.dataframe\n",
    "\n",
    "ko1 = simulation_result_load('necro_pydream_5chns_929_1tnf_updated_koflip_updated.h5')\n",
    "df7 = ko1.dataframe\n",
    "\n",
    "ko01 = simulation_result_load('necro_pydream_5chns_929_01tnf_updated_koflip_updated.h5')\n",
    "df8 = ko01.dataframe\n",
    "\n",
    "# k100 = simulation_result_load('necro_pydream_5chns_929_100tnf_updated_koflip_1000steps.h5')\n",
    "# df9 = k100.dataframe"
   ]
  },
  {
   "cell_type": "code",
   "execution_count": null,
   "metadata": {},
   "outputs": [],
   "source": [
    "k100 = simulation_result_load('necro_pydream_5chns_929_100tnf_updated_koflip_1000steps.h5')\n",
    "df9 = k100.dataframe"
   ]
  },
  {
   "cell_type": "code",
   "execution_count": null,
   "metadata": {},
   "outputs": [],
   "source": [
    "from scipy.stats import sem, t\n",
    "from scipy import mean\n",
    "def mean_confidence_interval(data, confidence=0.95):\n",
    "    a = 1.0 * np.array(data)\n",
    "    n = len(a)\n",
    "    m, se = np.mean(a), scipy.stats.sem(a)\n",
    "    h = se * scipy.stats.t.ppf((1 + confidence) / 2., n-1)\n",
    "    return m, m-h, m+h\n",
    "\n",
    "def mean_confidence_interval_new(data, confidence=0.95):\n",
    "    n = len(data)\n",
    "    m = mean(data)\n",
    "    std_err = sem(data)\n",
    "    h = std_err * t.ppf((1 + confidence) / 2, n - 1)\n",
    "    return m, m-h, m+h"
   ]
  },
  {
   "cell_type": "code",
   "execution_count": null,
   "metadata": {},
   "outputs": [],
   "source": [
    "time = k100.tout[0]\n",
    "idx = pd.MultiIndex.from_product([df9.columns,\n",
    "                                  ['mean', 'mean_minus', 'mean_plus']],\n",
    "                                 names=['species', 'CI'])\n",
    "\n",
    "ci_df9 = pd.DataFrame(0, idx, time)\n",
    "\n",
    "for sp in df9.columns:\n",
    "    for t in time:\n",
    "        sp_values = df9.xs(t, level='time', drop_level=False)[sp].values # axis=1 if columns\n",
    "        ci_df9.loc[[sp], t] = mean_confidence_interval(sp_values)"
   ]
  },
  {
   "cell_type": "code",
   "execution_count": null,
   "metadata": {},
   "outputs": [],
   "source": [
    "tspan = np.linspace(0, 1440, 1000)\n",
    "plt.figure()\n",
    "plt.plot(time/60, mean_flip9, color = 'green',  zorder = 1, marker ='o', alpha = 0.50)\n",
    "plt.fill_between(time/60, lower_flip9, upper_flip9, color = 'green', label ='100 ng/ml',zorder = 1, alpha=0.5)\n",
    "# for n in range(10000):\n",
    "#     plt.plot( tspan/60, df9.loc[n][''].iloc[:],lw=1.5, color ='green', label ='Flip_wt',  zorder = 1, marker ='*', alpha = 0.30)\n",
    "#     plt.plot(tspan/60, df5.loc[n]['Flip_obs'].iloc[:]/3900,lw=1.5, color ='blue', label ='Flip_ko', zorder = 1, marker ='*', alpha = 0.30)\n",
    "plt.xlabel(\"Time (in hr)\", fontsize=15)\n",
    "plt.ylabel(\"Amount (normalized)\", fontsize=15)\n",
    "plt.title('Flip vs Flip KO with 100 ng/ml of TNF', fontsize=15)\n",
    "plt.xlim(xmin = 0, xmax = 24)\n",
    "plt.xticks(fontsize=14)\n",
    "plt.yticks(fontsize=14)\n",
    "# custom_lines = [Line2D([0], [0], color='green', lw=4),\n",
    "#                 Line2D([0], [0], color='blue', lw=4)]\n",
    "# plt.legend(custom_lines, ['Flip_wt', 'Flip_ko'], prop={'size': 10}, loc = 'best')\n",
    "# plt.savefig('pmlkl_100tnf_wdata_pydream_best10kpars_t.png',dpi=300)\n",
    "# plt.ylim(ymin = -10, ymax =100)\n",
    "# plt.legend(loc='best')\n",
    "plt.show()"
   ]
  },
  {
   "cell_type": "code",
   "execution_count": null,
   "metadata": {},
   "outputs": [],
   "source": [
    "#PLOTTING 100 and 10 TNF CI with DATA\n",
    "tspan = np.linspace(0, 1440, 300)\n",
    "from matplotlib.lines import Line2D\n",
    "x1001 = np.array([0, 30, 90, 270])\n",
    "x1002 = np.array([480, 600, 720, 840, 960])\n",
    "y1002 = np.array([0.2798939020159581, 0.510, .8097294067, 0.95,0.98])\n",
    "y1001 = np.array([0, 0.00885691708746097,0.0161886154261265,0.0373005242261882])\n",
    "# plt.figure()\n",
    "\n",
    "x101 = np.array([0, 30, 90, 270, 480])\n",
    "x102 = np.array([600, 720, 840, 960])\n",
    "y101 = np.array([0, 0.0106013664572332,0.00519576571714913,0.02967443048221,0.050022163974868])\n",
    "y102 = np.array([0.088128107774737, 0.17, 0.30055140114867, 0.47])\n",
    "# err = 215,264,304,421,1766,3042,4533,5481,5759\n",
    "\n",
    "plt.figure(figsize = (7, 5))\n",
    "#KO plots \n",
    "plt.plot(time/60, 1.0 - mean_pmlkl9/5544, color = 'green',  zorder = 1, marker ='o', alpha = 0.50)\n",
    "plt.fill_between(time/60, 1.0 - lower_pmlkl9/5544, 1.0 - upper_pmlkl9/5544, color = 'green', label ='100 ng/ml',zorder = 1, alpha=0.5)\n",
    "# plt.errorbar(x, flipwtko824_100, yerr= fliper824_100, fmt='.k', \n",
    "#              ecolor ='black', alpha = 0.75, label ='100 ng/ml', zorder = 2)\n",
    "plt.xlabel(\"Time (in hr)\", fontsize=15)\n",
    "plt.ylabel(\"Amount (normalized)\", fontsize=15)\n",
    "plt.title('Model fitting for pMLKL all TNF doses', fontsize=15)\n",
    "plt.xlim(xmin = 0, xmax = 24)\n",
    "plt.xticks(fontsize=14)\n",
    "plt.yticks(fontsize=14)\n",
    "plt.show()\n",
    "# plt.savefig('pmlkl_100tnf_wdata_pydream_best10kpars2.pdf', format='pdf')"
   ]
  },
  {
   "cell_type": "code",
   "execution_count": null,
   "metadata": {},
   "outputs": [],
   "source": [
    "plt.figure()\n",
    "for n in range(10000):\n",
    "    plt.plot(tspan/60, df1.loc[n]['Flip_obs'].iloc[:]/3900,lw=1.5, color ='green', label ='Flip_wt',  zorder = 1, marker ='*', alpha = 0.30)\n",
    "    plt.plot(tspan/60, df5.loc[n]['Flip_obs'].iloc[:]/3900,lw=1.5, color ='blue', label ='Flip_ko', zorder = 1, marker ='*', alpha = 0.30)\n",
    "plt.xlabel(\"Time (in hr)\", fontsize=15)\n",
    "plt.ylabel(\"Amount (normalized)\", fontsize=15)\n",
    "plt.title('Flip vs Flip KO with 100 ng/ml of TNF', fontsize=15)\n",
    "plt.xlim(xmin = 0, xmax = 24)\n",
    "plt.xticks(fontsize=14)\n",
    "plt.yticks(fontsize=14)\n",
    "custom_lines = [Line2D([0], [0], color='green', lw=4),\n",
    "                Line2D([0], [0], color='blue', lw=4)]\n",
    "plt.legend(custom_lines, ['Flip_wt', 'Flip_ko'], prop={'size': 10}, loc = 'best')\n",
    "# plt.savefig('pmlkl_100tnf_wdata_pydream_best10kpars_t.png',dpi=300)\n",
    "# plt.ylim(ymin = -10, ymax =100)\n",
    "# plt.legend(loc='best')\n",
    "plt.show()"
   ]
  },
  {
   "cell_type": "code",
   "execution_count": null,
   "metadata": {},
   "outputs": [],
   "source": [
    "# print(df1.shape)\n",
    "tspan = np.linspace(0, 1440, 300)\n"
   ]
  },
  {
   "cell_type": "code",
   "execution_count": null,
   "metadata": {},
   "outputs": [],
   "source": [
    "wt10 = simulation_result_load('necro_pydream_5chns_929_10tnf_updated_nokd10000.h5')\n",
    "df1 = wt10.dataframe"
   ]
  },
  {
   "cell_type": "code",
   "execution_count": null,
   "metadata": {},
   "outputs": [],
   "source": [
    "plt.figure()\n",
    "for n in range(10000):\n",
    "    plt.plot(tspan/60, df1.loc[n]['MLKLa_obs'].iloc[:],lw=1.5, color ='green', label ='Flip_wt',\n",
    "             zorder = 1, marker ='*', alpha = 0.30)\n",
    "    plt.plot(tspan/60, df2.loc[n]['MLKLa_obs'].iloc[:],lw=1.5, color ='blue', label ='Flip_ko',\n",
    "             zorder = 1, marker ='*', alpha = 0.30)\n",
    "    plt.plot(t2/60, df3.loc[n]['MLKLa_obs'].iloc[:],lw=1.5, color ='blue', label ='Flip_ko',\n",
    "             zorder = 1, marker ='*', alpha = 0.30)\n",
    "plt.xlabel(\"Time (in hr)\", fontsize=15)\n",
    "plt.ylabel(\"Amount (normalized)\", fontsize=15)\n",
    "# plt.title('Flip vs Flip KO with 100 ng/ml of TNF', fontsize=15)\n",
    "plt.xlim(xmin = 0, xmax = 24)\n",
    "plt.xticks(fontsize=14)\n",
    "plt.yticks(fontsize=14)\n",
    "# custom_lines = [Line2D([0], [0], color='green', lw=4),\n",
    "#                 Line2D([0], [0], color='blue', lw=4)]\n",
    "# plt.legend(custom_lines, ['Flip_wt', 'Flip_ko'], prop={'size': 10}, loc = 'best')\n",
    "# plt.savefig('pmlkl_100tnf_wdata_pydream_best10kpars_t.png',dpi=300)\n",
    "# plt.ylim(ymin = -10, ymax =100)\n",
    "# plt.legend(loc='best')\n",
    "plt.show()"
   ]
  },
  {
   "cell_type": "code",
   "execution_count": null,
   "metadata": {},
   "outputs": [],
   "source": [
    "obs_to_plot = {\n",
    "    'MLKLa_obs': 'blue',\n",
    "    # 'cSmac_total': 'red',\n",
    "    # 'tBid_total': 'darkgreen'\n",
    "    'MLKLa_obs': 'red'\n",
    "}\n",
    "\n",
    "lower_quantile = 0.3  # 10%\n",
    "upper_quantile = 0.7  # 90%\n",
    "median = 0.5\n",
    "colors = ['blue', 'red']\n",
    "fig, ax = plt.subplots()\n",
    "for colour in colors:\n",
    "    data = [wt10.dataframe['MLKLa_obs'],wt100.dataframe['MLKLa_obs']]\n",
    "    data = pd.concat(data)\n",
    "    quantile_data = data.groupby('time').quantile(\n",
    "        q=[lower_quantile, median, upper_quantile]).unstack()\n",
    "#     # Calculate 10%, 50%, and 90% quantiles for observable\n",
    "#     quantile_data1 = wt10.dataframe['MLKLa_obs'].groupby('time').quantile(\n",
    "#         q=[lower_quantile, median, upper_quantile]).unstack()\n",
    "#     quantile_data2 = result10.dataframe['MLKLa_obs'].groupby('time').quantile(\n",
    "#         q=[lower_quantile, median, upper_quantile]).unstack()\n",
    "#     data = [quantile_data1,quantile_data2]\n",
    "#     quantile_data = pd.concat(data)\n",
    "    \n",
    "\n",
    "    # Plot the median line (50% quantile) for the observable\n",
    "    ax.plot(quantile_data.index, quantile_data.loc[:, median], color=colour)\n",
    "\n",
    "    # Plot the 10% and 90% quantiles as an envelope\n",
    "    ax.fill_between(quantile_data.index,\n",
    "                    quantile_data.loc[:, lower_quantile],\n",
    "                    quantile_data.loc[:, upper_quantile],\n",
    "                    color=colour,\n",
    "                    alpha=.1)\n",
    "\n",
    "# Add the legend\n",
    "ax.legend(['pMLKL_wt_10', 'pMLKL_wt_100'])\n",
    "# Add axis labels and title\n",
    "ax.set(xlabel='time (s)', ylabel='Count', title=f'SSA plot for {model10.name}')\n",
    "# Add grid\n",
    "# ax.grid()\n",
    "\n",
    "# fig.savefig(\"test.png\")"
   ]
  },
  {
   "cell_type": "code",
   "execution_count": null,
   "metadata": {},
   "outputs": [],
   "source": [
    "import matplotlib.pyplot as plt\n",
    "# Combine the results dataframes into a single dataframe with a 'group' index,\n",
    "# in addition to \"simulation\" and \"time\" indexes\n",
    "df = pd.concat([wt10.dataframe, result10.dataframe],\n",
    "               keys=['wt10', 'cyldkoa20x100'],\n",
    "               names=['group', 'simulation', 'time'])\n",
    "\n",
    "# Add observable/group pairs as needed\n",
    "obs_to_plot = {\n",
    "    ('MLKLa_obs', 'wt10'): 'blue',\n",
    "    ('MLKLa_obs', 'cyldkoa20x100'): 'orange'\n",
    "}\n",
    "\n",
    "lower_quantile = 0.1  # 10%\n",
    "upper_quantile = 0.9  # 90%\n",
    "median = 0.5\n",
    "\n",
    "fig, ax = plt.subplots()\n",
    "# plt.figure()\n",
    "legend_keys = []\n",
    "for obs_pair, colour in obs_to_plot.items():\n",
    "    obs, group = obs_pair\n",
    "    # Calculate 10%, 50%, and 90% quantiles for observable\n",
    "    quantile_data = df[obs].loc[group].groupby(['time']).quantile(\n",
    "        q=[lower_quantile, median, upper_quantile]).unstack()\n",
    "    time_hrs = quantile_data.index / 60\n",
    "    # Plot the median line (50% quantile) for the observable\n",
    "    ax.plot(time_hrs, quantile_data.loc[:, median], color=colour)\n",
    "    # Plot the 10% and 90% quantiles as an envelope\n",
    "    ax.fill_between(time_hrs,\n",
    "                    quantile_data.loc[:, lower_quantile],\n",
    "                    quantile_data.loc[:, upper_quantile],\n",
    "                    color=colour,\n",
    "                    alpha=.1)\n",
    "\n",
    "# Add the legend\n",
    "\n",
    "# plt.legend([f'{obs} {group}' for obs, group in obs_to_plot.keys()])\n",
    "# plt.title('wgiubeiod',fontsize=14) # Title\n",
    "# plt.ylabel('Amount [molecules/cell]', fontsize = 14) # Y label\n",
    "# plt.xlabel('Time (hours)', fontsize = 14) # X label\n",
    "# Add axis labels and title\n",
    "# plt.set(xlabel='Time (hours)', ylabel='Amount [molecules/cell]', title=f'{model100.name}', fontsize = 14)\n",
    "# Add grid\n",
    "# ax.grid()\n",
    "ax.legend(['pMLKL_wt_10', 'pMLKL_wt_100'])\n",
    "# Add axis labels and title\n",
    "ax.set(xlabel='time (s)', ylabel='Count', title=f'SSA plot for {model10.name}')\n",
    "# fig.savefig(\"test.png\")\n",
    "plt.show()"
   ]
  },
  {
   "cell_type": "code",
   "execution_count": null,
   "metadata": {},
   "outputs": [],
   "source": [
    "koa20 = simulation_result_load('necro_pydream_5chns_929_10tnf_updated_koa20_oe3cyld_updatedd.h5')\n",
    "df2 = koa20.dataframe"
   ]
  },
  {
   "cell_type": "code",
   "execution_count": null,
   "metadata": {},
   "outputs": [],
   "source": [
    "tspan = np.linspace(0, 1440, 300)\n",
    "from matplotlib.lines import Line2D\n",
    "x1001 = np.array([0, 30, 90, 270])\n",
    "x1002 = np.array([480, 600, 720, 840, 960])\n",
    "y1002 = np.array([0.2798939020159581, 0.510, .7797294067, 0.95,0.98])\n",
    "y1001 = np.array([0, 0.00885691708746097,0.0161886154261265,0.0373005242261882])\n",
    "# plt.figure()\n",
    "\n",
    "x101 = np.array([0, 30, 90, 270, 480, 600, 720])\n",
    "x102 = np.array([840, 960])\n",
    "y101 = np.array([0, 0.0106013664572332,0.00519576571714913,0.02967443048221,0.050022163974868,0.088128107774737, 0.17])\n",
    "y102 = np.array([0.30055140114867, 0.47])\n",
    "# err = 215,264,304,421,1766,3042,4533,5481,5759\n",
    "\n",
    "plt.figure()\n",
    "for n in range(10000):\n",
    "    plt.plot(tspan/60, df1.loc[n]['MLKLa_obs'].iloc[:]/5544,lw=1.5, color ='green',  zorder = 1, marker ='*', alpha = 0.30)\n",
    "#     plt.errorbar(x100/60, y100*5544, yerr=210, fmt='.k', ecolor ='green', alpha = 0.5, label ='100 ng/ml')\n",
    "    plt.errorbar(x1001/60, y1001,\n",
    "                 yerr=[(0, 0.00885691708746097,0.0161886154261265,0.0373005242261882),\n",
    "                 (.10,.10,.10,.10)],\n",
    "                       fmt='.k', ecolor ='black', alpha = 0.75, label ='100 ng/ml', zorder = 2)\n",
    "    plt.errorbar(x1002/60, y1002,\n",
    "                 yerr= .10, fmt='.k', ecolor ='black', alpha = 0.75, label ='100 ng/ml', zorder = 2)\n",
    "#     plt.plot(tspan/60, df2.loc[n]['MLKLa_obs'].iloc[:],lw=1.5, color ='blue', zorder = 1, alpha = 0.10)\n",
    "# #     plt.errorbar(x100/60, y100*5544, yerr=210, fmt='.k', ecolor ='green', alpha = 0.5, label ='100 ng/ml')\n",
    "#     plt.errorbar(x101/60, y101*5544,\n",
    "#                  yerr=[(0, 0.0106013664572332*5544,0.00519576571714913*5544,0.02967443048221*5544,\n",
    "#                         0.050022163974868*5544,0.088128107774737*5544, 0.17*5544),\n",
    "#                  (215,215,215,215,215,215,215)],\n",
    "#                        fmt='.k', ecolor ='black', alpha = 0.75, label ='10 ng/ml', zorder = 2)\n",
    "#     plt.errorbar(x102/60, y102*5544,\n",
    "#                  yerr= 300, fmt='.k', ecolor ='black', alpha = 0.75, label ='10 ng/ml', zorder = 2)\n",
    "#     plt.errorbar(x100/60, y10*5544, yerr=210, fmt='.k', ecolor = 'blue', alpha = 0.5, label ='10 ng/ml')\n",
    "#     plt.scatter(x,y, zorder = 2)\n",
    "    # plt.plot(tspan / 60, df.loc[n]['RIP1deub_obs'].iloc[:] / df.loc[n]['RIP1deub_obs'].iloc[:].max(), lw=1.5)\n",
    "    # plt.plot(tspan / 60, df.loc[n]['RIP1trunc_obs'].iloc[:] / df.loc[n]['RIP1trunc_obs'].iloc[:].max(), lw=1.5)\n",
    "# plt.plot(tspan/60, simulation /_result.observables['CII_C8a_obs'], label = 'CII_C8a')\n",
    "plt.xlabel(\"Time (in hr)\", fontsize=15)\n",
    "plt.ylabel(\"Amount (normalized)\", fontsize=15)\n",
    "plt.title('Model fitting of pMlkl with 100ng/ml of TNF', fontsize=15)\n",
    "plt.xlim(xmin = 0, xmax = 24)\n",
    "plt.xticks(fontsize=14)\n",
    "plt.yticks(fontsize=14)\n",
    "custom_lines = [Line2D([0], [0], color='green', lw=4),\n",
    "                Line2D([0], [0], color='black', lw=4)]\n",
    "plt.legend(custom_lines, ['pMLKL_fitted_pars', 'pMLKL_data'], prop={'size': 10}, loc = 'best')\n",
    "plt.savefig('pmlkl_100tnf_wdata_pydream_best10kpars_t.png',dpi=300)\n",
    "# plt.ylim(ymin = -10, ymax =100)\n",
    "# plt.legend(loc='best')\n",
    "plt.show()\n",
    "# plt.savefig('pmlkl_100tnf_wdata_pydream_best10kpars2.pdf', format='pdf')"
   ]
  },
  {
   "cell_type": "code",
   "execution_count": null,
   "metadata": {},
   "outputs": [],
   "source": [
    "# wt1 = simulation_result_load('necro_pydream_5chns_929_10tnf_updated_nokd10000.h5')\n",
    "# df3 = wt1.dataframe"
   ]
  },
  {
   "cell_type": "code",
   "execution_count": null,
   "metadata": {},
   "outputs": [],
   "source": [
    "# wt01 = simulation_result_load('necro_pydream_5chns_929_10tnf_updated_nokd10000.h5')\n",
    "# df4 = wt01.dataframe"
   ]
  },
  {
   "cell_type": "code",
   "execution_count": null,
   "metadata": {},
   "outputs": [],
   "source": [
    "# kofd = simulation_result_load('necro_pydream_5chns_929_10tnf_updated_kofadd.h5')\n",
    "koa20 = simulation_result_load('necro_pydream_5chns_929_10tnf_updated_koA2010000.h5')"
   ]
  },
  {
   "cell_type": "code",
   "execution_count": null,
   "metadata": {},
   "outputs": [],
   "source": [
    "koaciap = simulation_result_load('necro_pydream_5chns_929_10tnf_updated_kocIAP10000.h5')"
   ]
  },
  {
   "cell_type": "code",
   "execution_count": null,
   "metadata": {},
   "outputs": [],
   "source": [
    "nonwt = simulation_result_load('necro_pydream_5chns_929_10tnf_updated_oe3cIAPkdA20CYLD10000.h5')"
   ]
  },
  {
   "cell_type": "code",
   "execution_count": null,
   "metadata": {},
   "outputs": [],
   "source": [
    "m = model.monomers #to obtain model monomers and add on demand observables\n",
    "df['MLKLp_obs'] = result100.observable(m.MLKL(bRHIM=None, state='active'))"
   ]
  },
  {
   "cell_type": "markdown",
   "metadata": {},
   "source": [
    "## Mean confidence interval functions & calulating lower and upper bounds for simulations"
   ]
  },
  {
   "cell_type": "code",
   "execution_count": null,
   "metadata": {},
   "outputs": [],
   "source": [
    "from scipy.stats import sem, t\n",
    "from scipy import mean\n",
    "def mean_confidence_interval(data, confidence=0.95):\n",
    "    a = 1.0 * np.array(data)\n",
    "    n = len(a)\n",
    "    m, se = np.mean(a), scipy.stats.sem(a)\n",
    "    h = se * scipy.stats.t.ppf((1 + confidence) / 2., n-1)\n",
    "    return m, m-h, m+h\n",
    "\n",
    "def mean_confidence_interval_new(data, confidence=0.95):\n",
    "    n = len(data)\n",
    "    m = mean(data)\n",
    "    std_err = sem(data)\n",
    "    h = std_err * t.ppf((1 + confidence) / 2, n - 1)\n",
    "    return m, m-h, m+h"
   ]
  },
  {
   "cell_type": "code",
   "execution_count": null,
   "metadata": {},
   "outputs": [],
   "source": [
    "time = wt10.tout[0]\n",
    "idx = pd.MultiIndex.from_product([df1.columns,\n",
    "                                  ['mean', 'mean_minus', 'mean_plus']],\n",
    "                                 names=['species', 'CI'])\n",
    "\n",
    "ci_df = pd.DataFrame(0, idx, time)\n",
    "\n",
    "from scipy import stats\n",
    "for sp in df1.columns:\n",
    "    for t in time: \n",
    "        sp_values = df1.xs(t, level='time', drop_level=False)[sp].values # axis=1 if columns\n",
    "        ci_df.loc[[sp], t] = mean_confidence_interval(sp_values)"
   ]
  },
  {
   "cell_type": "code",
   "execution_count": null,
   "metadata": {},
   "outputs": [],
   "source": [
    "time = result10.tout[0]\n",
    "idx = pd.MultiIndex.from_product([df2.columns,\n",
    "                                  ['mean', 'mean_minus', 'mean_plus']],\n",
    "                                 names=['species', 'CI'])\n",
    "\n",
    "ci_df2 = pd.DataFrame(0, idx, time)\n",
    "\n",
    "from scipy import stats\n",
    "for sp in df2.columns:\n",
    "    for t in time: \n",
    "        sp_values = df2.xs(t, level='time', drop_level=False)[sp].values # axis=1 if columns\n",
    "        ci_df2.loc[[sp], t] = mean_confidence_interval(sp_values)"
   ]
  },
  {
   "cell_type": "code",
   "execution_count": null,
   "metadata": {},
   "outputs": [],
   "source": [
    "time = result10n.tout[0]\n",
    "idx = pd.MultiIndex.from_product([df3.columns,\n",
    "                                  ['mean', 'mean_minus', 'mean_plus']],\n",
    "                                 names=['species', 'CI'])\n",
    "\n",
    "ci_df3 = pd.DataFrame(0, idx, time)\n",
    "\n",
    "from scipy import stats\n",
    "for sp in df3.columns:\n",
    "    for t in time: \n",
    "        sp_values = df3.xs(t, level='time', drop_level=False)[sp].values # axis=1 if columns\n",
    "        ci_df3.loc[[sp], t] = mean_confidence_interval(sp_values)"
   ]
  },
  {
   "cell_type": "code",
   "execution_count": null,
   "metadata": {},
   "outputs": [],
   "source": [
    "time = wt01.tout[0]\n",
    "idx = pd.MultiIndex.from_product([df4.columns,\n",
    "                                  ['mean', 'mean_minus', 'mean_plus']],\n",
    "                                 names=['species', 'CI'])\n",
    "\n",
    "ci_df4 = pd.DataFrame(0, idx, time)\n",
    "\n",
    "for sp in df4.columns:\n",
    "    for t in time:\n",
    "        sp_values = df4.xs(t, level='time', drop_level=False)[sp].values # axis=1 if columns\n",
    "        ci_df4.loc[[sp], t] = mean_confidence_interval(sp_values)"
   ]
  },
  {
   "cell_type": "code",
   "execution_count": null,
   "metadata": {},
   "outputs": [],
   "source": [
    "time = ko100.tout[0]\n",
    "idx = pd.MultiIndex.from_product([df5.columns,\n",
    "                                  ['mean', 'mean_minus', 'mean_plus']],\n",
    "                                 names=['species', 'CI'])\n",
    "\n",
    "ci_df5 = pd.DataFrame(0, idx, time)\n",
    "\n",
    "for sp in df5.columns:\n",
    "    for t in time:\n",
    "        sp_values = df5.xs(t, level='time', drop_level=False)[sp].values # axis=1 if columns\n",
    "        ci_df5.loc[[sp], t] = mean_confidence_interval(sp_values)"
   ]
  },
  {
   "cell_type": "code",
   "execution_count": null,
   "metadata": {},
   "outputs": [],
   "source": [
    "time = ko10.tout[0]\n",
    "idx = pd.MultiIndex.from_product([df6.columns,\n",
    "                                  ['mean', 'mean_minus', 'mean_plus']],\n",
    "                                 names=['species', 'CI'])\n",
    "\n",
    "ci_df6 = pd.DataFrame(0, idx, time)\n",
    "\n",
    "for sp in df6.columns:\n",
    "    for t in time:\n",
    "        sp_values = df6.xs(t, level='time', drop_level=False)[sp].values # axis=1 if columns\n",
    "        ci_df6.loc[[sp], t] = mean_confidence_interval(sp_values)"
   ]
  },
  {
   "cell_type": "code",
   "execution_count": null,
   "metadata": {},
   "outputs": [],
   "source": [
    "time = ko1.tout[0]\n",
    "idx = pd.MultiIndex.from_product([df7.columns,\n",
    "                                  ['mean', 'mean_minus', 'mean_plus']],\n",
    "                                 names=['species', 'CI'])\n",
    "\n",
    "ci_df7 = pd.DataFrame(0, idx, time)\n",
    "\n",
    "for sp in df7.columns:\n",
    "    for t in time:\n",
    "        sp_values = df7.xs(t, level='time', drop_level=False)[sp].values # axis=1 if columns\n",
    "        ci_df7.loc[[sp], t] = mean_confidence_interval(sp_values)"
   ]
  },
  {
   "cell_type": "code",
   "execution_count": null,
   "metadata": {},
   "outputs": [],
   "source": [
    "time = ko01.tout[0]\n",
    "idx = pd.MultiIndex.from_product([df8.columns,\n",
    "                                  ['mean', 'mean_minus', 'mean_plus']],\n",
    "                                 names=['species', 'CI'])\n",
    "\n",
    "ci_df8 = pd.DataFrame(0, idx, time)\n",
    "\n",
    "for sp in df8.columns:\n",
    "    for t in time:\n",
    "        sp_values = df8.xs(t, level='time', drop_level=False)[sp].values # axis=1 if columns\n",
    "        ci_df8.loc[[sp], t] = mean_confidence_interval(sp_values)"
   ]
  },
  {
   "cell_type": "markdown",
   "metadata": {},
   "source": [
    "## Variables for locating observables in CI dataframes"
   ]
  },
  {
   "cell_type": "code",
   "execution_count": null,
   "metadata": {},
   "outputs": [],
   "source": [
    "p = 300\n",
    "mean_pmlkl = ci_df.loc['MLKLa_obs'][:1].values.reshape((p,))\n",
    "upper_pmlkl = ci_df.loc['MLKLa_obs'][2:3].values.reshape((p,))\n",
    "lower_pmlkl = ci_df.loc['MLKLa_obs'][1:2].values.reshape((p,))\n",
    "\n",
    "mean_flip = ci_df.loc['Flip_obs'][:1].values.reshape((p,))\n",
    "upper_flip = ci_df.loc['Flip_obs'][2:3].values.reshape((p,))\n",
    "lower_flip = ci_df.loc['Flip_obs'][1:2].values.reshape((p,))\n",
    "\n",
    "mean_C8flip = ci_df.loc['C8Flip_obs'][:1].values.reshape((p,))\n",
    "upper_C8flip = ci_df.loc['C8Flip_obs'][2:3].values.reshape((p,))\n",
    "lower_C8flip = ci_df.loc['C8Flip_obs'][1:2].values.reshape((p,))\n",
    "\n",
    "mean_necro = ci_df.loc['RIP1RIP3unmod_obs'][:1].values.reshape((p,))\n",
    "upper_necro = ci_df.loc['RIP1RIP3unmod_obs'][2:3].values.reshape((p,))\n",
    "lower_necro = ci_df.loc['RIP1RIP3unmod_obs'][1:2].values.reshape((p,))\n",
    "\n",
    "mean_ciub = ci_df.loc['CI_k63_obs'][:1].values.reshape((p,))\n",
    "upper_ciub = ci_df.loc['CI_k63_obs'][2:3].values.reshape((p,))\n",
    "lower_ciub = ci_df.loc['CI_k63_obs'][1:2].values.reshape((p,))\n",
    "\n",
    "mean_cii = ci_df.loc['CII_RIP1deub_obs'][:1].values.reshape((p,))\n",
    "upper_cii = ci_df.loc['CII_RIP1deub_obs'][2:3].values.reshape((p,))\n",
    "lower_cii = ci_df.loc['CII_RIP1deub_obs'][1:2].values.reshape((p,))"
   ]
  },
  {
   "cell_type": "code",
   "execution_count": null,
   "metadata": {},
   "outputs": [],
   "source": [
    "p = 300\n",
    "mean_pmlkl2 = ci_df2.loc['MLKLa_obs'][:1].values.reshape((p,))\n",
    "upper_pmlkl2 = ci_df2.loc['MLKLa_obs'][2:3].values.reshape((p,))\n",
    "lower_pmlkl2 = ci_df2.loc['MLKLa_obs'][1:2].values.reshape((p,))\n",
    "\n",
    "mean_flip2 = ci_df2.loc['Flip_obs'][:1].values.reshape((p,))\n",
    "upper_flip2 = ci_df2.loc['Flip_obs'][2:3].values.reshape((p,))\n",
    "lower_flip2 = ci_df2.loc['Flip_obs'][1:2].values.reshape((p,))\n",
    "\n",
    "mean_C8flip2 = ci_df2.loc['C8Flip_obs'][:1].values.reshape((p,))\n",
    "upper_C8flip2 = ci_df2.loc['C8Flip_obs'][2:3].values.reshape((p,))\n",
    "lower_C8flip2 = ci_df2.loc['C8Flip_obs'][1:2].values.reshape((p,))\n",
    "\n",
    "mean_necro2 = ci_df2.loc['RIP1RIP3unmod_obs'][:1].values.reshape((p,))\n",
    "upper_necro2 = ci_df2.loc['RIP1RIP3unmod_obs'][2:3].values.reshape((p,))\n",
    "lower_necro2 = ci_df2.loc['RIP1RIP3unmod_obs'][1:2].values.reshape((p,))\n",
    "\n",
    "mean_ciub2 = ci_df2.loc['CI_k63_obs'][:1].values.reshape((p,))\n",
    "upper_ciub2 = ci_df2.loc['CI_k63_obs'][2:3].values.reshape((p,))\n",
    "lower_ciub2 = ci_df2.loc['CI_k63_obs'][1:2].values.reshape((p,))\n",
    "\n",
    "mean_cii2 = ci_df.loc['CII_RIP1deub_obs'][:1].values.reshape((p,))\n",
    "upper_cii2 = ci_df.loc['CII_RIP1deub_obs'][2:3].values.reshape((p,))\n",
    "lower_cii2 = ci_df.loc['CII_RIP1deub_obs'][1:2].values.reshape((p,))"
   ]
  },
  {
   "cell_type": "code",
   "execution_count": null,
   "metadata": {},
   "outputs": [],
   "source": [
    "p = 300\n",
    "mean_pmlkl3 = ci_df3.loc['MLKLa_obs'][:1].values.reshape((p,))\n",
    "upper_pmlkl3 = ci_df3.loc['MLKLa_obs'][2:3].values.reshape((p,))\n",
    "lower_pmlkl3 = ci_df3.loc['MLKLa_obs'][1:2].values.reshape((p,))\n",
    "\n",
    "mean_flip3 = ci_df3.loc['Flip_obs'][:1].values.reshape((p,))\n",
    "upper_flip3 = ci_df3.loc['Flip_obs'][2:3].values.reshape((p,))\n",
    "lower_flip3 = ci_df3.loc['Flip_obs'][1:2].values.reshape((p,))\n",
    "\n",
    "mean_C8flip3 = ci_df3.loc['C8Flip_obs'][:1].values.reshape((p,))\n",
    "upper_C8flip3 = ci_df3.loc['C8Flip_obs'][2:3].values.reshape((p,))\n",
    "lower_C8flip3 = ci_df3.loc['C8Flip_obs'][1:2].values.reshape((p,))\n",
    "\n",
    "mean_necro3 = ci_df3.loc['RIP1RIP3unmod_obs'][:1].values.reshape((p,))\n",
    "upper_necro3 = ci_df3.loc['RIP1RIP3unmod_obs'][2:3].values.reshape((p,))\n",
    "lower_necro3 = ci_df3.loc['RIP1RIP3unmod_obs'][1:2].values.reshape((p,))\n",
    "\n",
    "mean_ciub3 = ci_df3.loc['CI_k63_obs'][:1].values.reshape((p,))\n",
    "upper_ciub3 = ci_df3.loc['CI_k63_obs'][2:3].values.reshape((p,))\n",
    "lower_ciub3 = ci_df3.loc['CI_k63_obs'][1:2].values.reshape((p,))\n",
    "\n",
    "mean_cii2 = ci_df.loc['CII_RIP1deub_obs'][:1].values.reshape((p,))\n",
    "upper_cii2 = ci_df.loc['CII_RIP1deub_obs'][2:3].values.reshape((p,))\n",
    "lower_cii2 = ci_df.loc['CII_RIP1deub_obs'][1:2].values.reshape((p,))"
   ]
  },
  {
   "cell_type": "code",
   "execution_count": null,
   "metadata": {},
   "outputs": [],
   "source": [
    "p = 300\n",
    "mean_pmlkl4 = ci_df4.loc['MLKLa_obs'][:1].values.reshape((p,))\n",
    "upper_pmlkl4 = ci_df4.loc['MLKLa_obs'][2:3].values.reshape((p,))\n",
    "lower_pmlkl4 = ci_df4.loc['MLKLa_obs'][1:2].values.reshape((p,))\n",
    "\n",
    "mean_flip4 = ci_df4.loc['Flip_obs'][:1].values.reshape((p,))\n",
    "upper_flip4 = ci_df4.loc['Flip_obs'][2:3].values.reshape((p,))\n",
    "lower_flip4 = ci_df4.loc['Flip_obs'][1:2].values.reshape((p,))\n",
    "\n",
    "mean_C8flip4 = ci_df4.loc['C8Flip_obs'][:1].values.reshape((p,))\n",
    "upper_C8flip4 = ci_df4.loc['C8Flip_obs'][2:3].values.reshape((p,))\n",
    "lower_C8flip4 = ci_df4.loc['C8Flip_obs'][1:2].values.reshape((p,))\n",
    "\n",
    "mean_necro4 = ci_df4.loc['RIP1RIP3unmod_obs'][:1].values.reshape((p,))\n",
    "upper_necro4 = ci_df4.loc['RIP1RIP3unmod_obs'][2:3].values.reshape((p,))\n",
    "lower_necro4 = ci_df4.loc['RIP1RIP3unmod_obs'][1:2].values.reshape((p,))\n",
    "\n",
    "mean_ciub4 = ci_df4.loc['CI_k63_obs'][:1].values.reshape((p,))\n",
    "upper_ciub4 = ci_df4.loc['CI_k63_obs'][2:3].values.reshape((p,))\n",
    "lower_ciub4 = ci_df4.loc['CI_k63_obs'][1:2].values.reshape((p,))\n",
    "\n",
    "mean_cii4 = ci_df4.loc['CII_RIP1deub_obs'][:1].values.reshape((p,))\n",
    "upper_cii4 = ci_df4.loc['CII_RIP1deub_obs'][2:3].values.reshape((p,))\n",
    "lower_cii4 = ci_df4.loc['CII_RIP1deub_obs'][1:2].values.reshape((p,))"
   ]
  },
  {
   "cell_type": "code",
   "execution_count": null,
   "metadata": {},
   "outputs": [],
   "source": [
    "p = 300\n",
    "mean_pmlkl5 = ci_df5.loc['MLKLa_obs'][:1].values.reshape((p,))\n",
    "upper_pmlkl5 = ci_df5.loc['MLKLa_obs'][2:3].values.reshape((p,))\n",
    "lower_pmlkl5 = ci_df5.loc['MLKLa_obs'][1:2].values.reshape((p,))\n",
    "\n",
    "mean_flip5 = ci_df5.loc['Flip_obs'][:1].values.reshape((p,))\n",
    "upper_flip5 = ci_df5.loc['Flip_obs'][2:3].values.reshape((p,))\n",
    "lower_flip5 = ci_df5.loc['Flip_obs'][1:2].values.reshape((p,))\n",
    "\n",
    "mean_C8flip5 = ci_df5.loc['C8Flip_obs'][:1].values.reshape((p,))\n",
    "upper_C8flip5 = ci_df5.loc['C8Flip_obs'][2:3].values.reshape((p,))\n",
    "lower_C8flip5 = ci_df5.loc['C8Flip_obs'][1:2].values.reshape((p,))\n",
    "\n",
    "mean_necro5 = ci_df5.loc['RIP1RIP3unmod_obs'][:1].values.reshape((p,))\n",
    "upper_necro5 = ci_df5.loc['RIP1RIP3unmod_obs'][2:3].values.reshape((p,))\n",
    "lower_necro5 = ci_df5.loc['RIP1RIP3unmod_obs'][1:2].values.reshape((p,))\n",
    "\n",
    "mean_ciub5 = ci_df5.loc['CI_k63_obs'][:1].values.reshape((p,))\n",
    "upper_ciub5 = ci_df5.loc['CI_k63_obs'][2:3].values.reshape((p,))\n",
    "lower_ciub5 = ci_df5.loc['CI_k63_obs'][1:2].values.reshape((p,))\n",
    "\n",
    "mean_cii5 = ci_df5.loc['CII_RIP1deub_obs'][:1].values.reshape((p,))\n",
    "upper_cii5 = ci_df5.loc['CII_RIP1deub_obs'][2:3].values.reshape((p,))\n",
    "lower_cii5 = ci_df5.loc['CII_RIP1deub_obs'][1:2].values.reshape((p,))"
   ]
  },
  {
   "cell_type": "code",
   "execution_count": null,
   "metadata": {},
   "outputs": [],
   "source": [
    "p = 300\n",
    "mean_pmlkl6 = ci_df6.loc['MLKLa_obs'][:1].values.reshape((p,))\n",
    "upper_pmlkl6 = ci_df6.loc['MLKLa_obs'][2:3].values.reshape((p,))\n",
    "lower_pmlkl6 = ci_df6.loc['MLKLa_obs'][1:2].values.reshape((p,))\n",
    "\n",
    "mean_flip6 = ci_df6.loc['Flip_obs'][:1].values.reshape((p,))\n",
    "upper_flip6 = ci_df6.loc['Flip_obs'][2:3].values.reshape((p,))\n",
    "lower_flip6 = ci_df6.loc['Flip_obs'][1:2].values.reshape((p,))\n",
    "\n",
    "mean_C8flip6 = ci_df6.loc['C8Flip_obs'][:1].values.reshape((p,))\n",
    "upper_C8flip6 = ci_df6.loc['C8Flip_obs'][2:3].values.reshape((p,))\n",
    "lower_C8flip6 = ci_df6.loc['C8Flip_obs'][1:2].values.reshape((p,))\n",
    "\n",
    "mean_necro6 = ci_df6.loc['RIP1RIP3unmod_obs'][:1].values.reshape((p,))\n",
    "upper_necro6 = ci_df6.loc['RIP1RIP3unmod_obs'][2:3].values.reshape((p,))\n",
    "lower_necro6 = ci_df6.loc['RIP1RIP3unmod_obs'][1:2].values.reshape((p,))\n",
    "\n",
    "mean_ciub6 = ci_df6.loc['CI_k63_obs'][:1].values.reshape((p,))\n",
    "upper_ciub6 = ci_df6.loc['CI_k63_obs'][2:3].values.reshape((p,))\n",
    "lower_ciub6 = ci_df6.loc['CI_k63_obs'][1:2].values.reshape((p,))\n",
    "\n",
    "mean_cii6 = ci_df6.loc['CII_RIP1deub_obs'][:1].values.reshape((p,))\n",
    "upper_cii6 = ci_df6.loc['CII_RIP1deub_obs'][2:3].values.reshape((p,))\n",
    "lower_cii6 = ci_df6.loc['CII_RIP1deub_obs'][1:2].values.reshape((p,))"
   ]
  },
  {
   "cell_type": "code",
   "execution_count": null,
   "metadata": {},
   "outputs": [],
   "source": [
    "p = 300\n",
    "mean_pmlkl7 = ci_df7.loc['MLKLa_obs'][:1].values.reshape((p,))\n",
    "upper_pmlkl7 = ci_df7.loc['MLKLa_obs'][2:3].values.reshape((p,))\n",
    "lower_pmlkl7 = ci_df7.loc['MLKLa_obs'][1:2].values.reshape((p,))\n",
    "\n",
    "mean_flip7 = ci_df7.loc['Flip_obs'][:1].values.reshape((p,))\n",
    "upper_flip7 = ci_df7.loc['Flip_obs'][2:3].values.reshape((p,))\n",
    "lower_flip7 = ci_df7.loc['Flip_obs'][1:2].values.reshape((p,))\n",
    "\n",
    "mean_C8flip7 = ci_df7.loc['C8Flip_obs'][:1].values.reshape((p,))\n",
    "upper_C8flip7 = ci_df7.loc['C8Flip_obs'][2:3].values.reshape((p,))\n",
    "lower_C8flip7 = ci_df7.loc['C8Flip_obs'][1:2].values.reshape((p,))\n",
    "\n",
    "mean_necro7 = ci_df7.loc['RIP1RIP3unmod_obs'][:1].values.reshape((p,))\n",
    "upper_necro7 = ci_df7.loc['RIP1RIP3unmod_obs'][2:3].values.reshape((p,))\n",
    "lower_necro7 = ci_df7.loc['RIP1RIP3unmod_obs'][1:2].values.reshape((p,))\n",
    "\n",
    "mean_ciub7 = ci_df7.loc['CI_k63_obs'][:1].values.reshape((p,))\n",
    "upper_ciub7 = ci_df7.loc['CI_k63_obs'][2:3].values.reshape((p,))\n",
    "lower_ciub7 = ci_df7.loc['CI_k63_obs'][1:2].values.reshape((p,))\n",
    "\n",
    "mean_cii7 = ci_df7.loc['CII_RIP1deub_obs'][:1].values.reshape((p,))\n",
    "upper_cii7 = ci_df7.loc['CII_RIP1deub_obs'][2:3].values.reshape((p,))\n",
    "lower_cii7 = ci_df7.loc['CII_RIP1deub_obs'][1:2].values.reshape((p,))"
   ]
  },
  {
   "cell_type": "code",
   "execution_count": null,
   "metadata": {},
   "outputs": [],
   "source": [
    "p = 300\n",
    "mean_pmlkl8 = ci_df8.loc['MLKLa_obs'][:1].values.reshape((p,))\n",
    "upper_pmlkl8 = ci_df8.loc['MLKLa_obs'][2:3].values.reshape((p,))\n",
    "lower_pmlkl8 = ci_df8.loc['MLKLa_obs'][1:2].values.reshape((p,))\n",
    "\n",
    "mean_flip8 = ci_df8.loc['Flip_obs'][:1].values.reshape((p,))\n",
    "upper_flip8 = ci_df8.loc['Flip_obs'][2:3].values.reshape((p,))\n",
    "lower_flip8 = ci_df8.loc['Flip_obs'][1:2].values.reshape((p,))\n",
    "\n",
    "mean_C8flip8 = ci_df8.loc['C8Flip_obs'][:1].values.reshape((p,))\n",
    "upper_C8flip8 = ci_df8.loc['C8Flip_obs'][2:3].values.reshape((p,))\n",
    "lower_C8flip8 = ci_df8.loc['C8Flip_obs'][1:2].values.reshape((p,))\n",
    "\n",
    "mean_necro8 = ci_df8.loc['RIP1RIP3unmod_obs'][:1].values.reshape((p,))\n",
    "upper_necro8 = ci_df8.loc['RIP1RIP3unmod_obs'][2:3].values.reshape((p,))\n",
    "lower_necro8 = ci_df8.loc['RIP1RIP3unmod_obs'][1:2].values.reshape((p,))\n",
    "\n",
    "mean_ciub8 = ci_df8.loc['CI_k63_obs'][:1].values.reshape((p,))\n",
    "upper_ciub8 = ci_df8.loc['CI_k63_obs'][2:3].values.reshape((p,))\n",
    "lower_ciub8 = ci_df8.loc['CI_k63_obs'][1:2].values.reshape((p,))\n",
    "\n",
    "mean_cii8 = ci_df8.loc['CII_RIP1deub_obs'][:1].values.reshape((p,))\n",
    "upper_cii8 = ci_df8.loc['CII_RIP1deub_obs'][2:3].values.reshape((p,))\n",
    "lower_cii8 = ci_df8.loc['CII_RIP1deub_obs'][1:2].values.reshape((p,))"
   ]
  },
  {
   "cell_type": "code",
   "execution_count": null,
   "metadata": {},
   "outputs": [],
   "source": [
    "p = 1000\n",
    "mean_pmlkl9 = ci_df9.loc['MLKLa_obs'][:1].values.reshape((p,))\n",
    "upper_pmlkl9 = ci_df9.loc['MLKLa_obs'][2:3].values.reshape((p,))\n",
    "lower_pmlkl9 = ci_df9.loc['MLKLa_obs'][1:2].values.reshape((p,))\n",
    "\n",
    "mean_flip9 = ci_df9.loc['Flip_obs'][:1].values.reshape((p,))\n",
    "upper_flip9 = ci_df9.loc['Flip_obs'][2:3].values.reshape((p,))\n",
    "lower_flip9 = ci_df9.loc['Flip_obs'][1:2].values.reshape((p,))\n",
    "\n",
    "mean_C8flip9 = ci_df9.loc['C8Flip_obs'][:1].values.reshape((p,))\n",
    "upper_C8flip9 = ci_df9.loc['C8Flip_obs'][2:3].values.reshape((p,))\n",
    "lower_C8flip9 = ci_df9.loc['C8Flip_obs'][1:2].values.reshape((p,))\n",
    "\n",
    "mean_necro9 = ci_df9.loc['RIP1RIP3unmod_obs'][:1].values.reshape((p,))\n",
    "upper_necro9 = ci_df9.loc['RIP1RIP3unmod_obs'][2:3].values.reshape((p,))\n",
    "lower_necro9 = ci_df9.loc['RIP1RIP3unmod_obs'][1:2].values.reshape((p,))\n",
    "\n",
    "mean_ciub9 = ci_df9.loc['CI_k63_obs'][:1].values.reshape((p,))\n",
    "upper_ciub9 = ci_df9.loc['CI_k63_obs'][2:3].values.reshape((p,))\n",
    "lower_ciub9 = ci_df9.loc['CI_k63_obs'][1:2].values.reshape((p,))\n",
    "\n",
    "mean_cii9 = ci_df9.loc['CII_RIP1deub_obs'][:1].values.reshape((p,))\n",
    "upper_cii9 = ci_df9.loc['CII_RIP1deub_obs'][2:3].values.reshape((p,))\n",
    "lower_cii9 = ci_df9.loc['CII_RIP1deub_obs'][1:2].values.reshape((p,))"
   ]
  },
  {
   "cell_type": "markdown",
   "metadata": {},
   "source": [
    "## Plotting CI of pMLKL across all TNF doses "
   ]
  },
  {
   "cell_type": "code",
   "execution_count": null,
   "metadata": {},
   "outputs": [],
   "source": [
    "plt.figure(figsize = (6,5))\n",
    "x100 = np.array([30, 90, 270, 480, 600, 720, 840, 960])\n",
    "y100 = np.array([0.00885691708746097,0.0161886154261265,0.0373005242261882,0.2798939020159581,0.510, .7797294067, 0.95,1])\n",
    "# plt.figure()\n",
    "\n",
    "x10 = np.array([30, 90, 270, 480, 600, 720, 840, 960])\n",
    "y10 = np.array([0.0106013664572332,0.00519576571714913,0.02967443048221,0.050022163974868,0.088128107774737, 0.17,0.30055140114867, 0.47])\n",
    "# plt.subplot(144)\n",
    "# plt.plot(time/60, mean_pmlkl, color = 'black',  zorder = 2)\n",
    "plt.fill_between(time/60, lower_pmlkl, upper_pmlkl, color = 'green', label ='100 ng/ml',zorder = 1, alpha=0.5)\n",
    "# plt.plot(time/60, mean_pmlkl2, color = 'black',  zorder = 2)\n",
    "plt.fill_between(time/60, lower_pmlkl2, upper_pmlkl2, color = 'blue', label ='10 ng/ml',zorder = 1, alpha=0.5)\n",
    "# plt.plot(time/60, mean_pmlkl3, color = 'black',  zorder = 2)\n",
    "plt.fill_between(time/60, lower_pmlkl3, upper_pmlkl3, color = 'red', label ='1 ng/ml',zorder = 1, alpha=0.5)\n",
    "# plt.plot(time/60, mean_pmlkl4, color = 'black', zorder = 2)\n",
    "plt.fill_between(time/60, lower_pmlkl4, upper_pmlkl4, color = 'purple', label ='0.1 ng/ml',zorder = 1, alpha=0.5)\n",
    "plt.errorbar(x100/60, y100*5544, yerr=210, fmt='.k', ecolor ='green', alpha = 0.5, label ='100 ng/ml')\n",
    "plt.errorbar(x100/60, y10*5544, yerr=210, fmt='.k', ecolor = 'blue', alpha = 0.5, label ='10 ng/ml')\n",
    "# plt.errorbar(x100/60, y100, yerr=0.05, fmt='.k')\n",
    "# plt.scatter(x10/60, y10*5544, color = 'blue', alpha = 0.3)\n",
    "# plt.scatter(x100/60, y100*5544,  color = 'green', alpha = 0.3)\n",
    "plt.xlim(xmax = 17, xmin = 0)\n",
    "plt.xticks(fontsize=12)\n",
    "plt.yticks(fontsize=12)\n",
    "plt.xlabel('Time (hours)', fontsize = 14)\n",
    "plt.ylabel('Amount (molecule/cell)', fontsize = 14)\n",
    "plt.legend()\n",
    "plt.title(r'95% CI of pMLKL under 10ng/ml of TNF$\\alpha$', fontsize = 14)\n",
    "plt.tight_layout()\n",
    "# plt.savefig('pMLKL95CI_100TNF_10000pydream_notnormwdata.pdf', format='pdf')\n",
    "#plt.savefig('alltnfmoddatanew.pdf', format='pdf')\n",
    "\n",
    "plt.show()"
   ]
  },
  {
   "cell_type": "code",
   "execution_count": null,
   "metadata": {},
   "outputs": [],
   "source": [
    "# flipwtko824_0 = [3900, 3900, 3900, 3900] \n",
    "# flipwtko824_01 = [3661, 1094, 3237, 627]\n",
    "# flipwtko824_1 = [3293, 831, 1950, 611]\n",
    "# flipwtko824_10 = [2922, 812, 1092, 576]        \n",
    "# flipwtko824_100 = [2733, 820, 819, 584]   \n",
    "\n",
    "flipwtko824_0 = [3900, 3900, 3900, 3900] \n",
    "flipwtko824_01 = [3661, 1094, 3237, 627]\n",
    "flipwtko824_1 = [3293, 831, 1950, 611]\n",
    "flipwtko824_10 = [2922, 812, 1092, 576]        \n",
    "flipwtko824_100 = [2733/3900, 820/3900, 819/3900, 584/3900] \n",
    "\n",
    "fliper824_0 = [0, 0, 0, 0] \n",
    "fliker824_01 = [137, 195, 506, 168]\n",
    "fliper824_1 = [123, 80, 509, 109]\n",
    "fliper824_10 = [211, 55, 342, 124]        \n",
    "fliper824_100 = [136/3900, 23/3900, 128/3900, 145/3900]\n",
    "\n",
    "x = [8,8, 24, 24]\n",
    "y = [2733, 820, 819, 584]\n",
    "err = [136, 23, 128, 145]"
   ]
  },
  {
   "cell_type": "code",
   "execution_count": null,
   "metadata": {},
   "outputs": [],
   "source": [
    "plt.figure()\n",
    "# plt.errorbar(x, flipwtko824_0, yerr= fliper824_0, fmt='.k', \n",
    "#              ecolor ='black', alpha = 0.75, label ='100 ng/ml', zorder = 2)\n",
    "# plt.errorbar(x, flipwtko824_01, yerr= fliker824_01, fmt='.k', \n",
    "#              ecolor ='black', alpha = 0.75, label ='100 ng/ml', zorder = 2)\n",
    "# plt.errorbar(x, flipwtko824_1, yerr= fliper824_1, fmt='.k', \n",
    "#              ecolor ='black', alpha = 0.75, label ='100 ng/ml', zorder = 2)\n",
    "# plt.errorbar(x, flipwtko824_10, yerr= fliper824_10, fmt='.k', \n",
    "#              ecolor ='black', alpha = 0.75, label ='100 ng/ml', zorder = 2)\n",
    "plt.errorbar(x, flipwtko824_100, yerr= fliper824_100, fmt='.k', \n",
    "             ecolor ='black', alpha = 0.75, label ='100 ng/ml', zorder = 2)\n",
    "plt.ylim(ymin = 0)\n",
    "# plt.legend(loc = 'best')\n",
    "plt.show()"
   ]
  },
  {
   "cell_type": "code",
   "execution_count": null,
   "metadata": {},
   "outputs": [],
   "source": [
    "#PLOTTING 100 and 10 TNF CI with DATA\n",
    "tspan = np.linspace(0, 1440, 300)\n",
    "from matplotlib.lines import Line2D\n",
    "x1001 = np.array([0, 30, 90, 270])\n",
    "x1002 = np.array([480, 600, 720, 840, 960])\n",
    "y1002 = np.array([0.2798939020159581, 0.510, .8097294067, 0.95,0.98])\n",
    "y1001 = np.array([0, 0.00885691708746097,0.0161886154261265,0.0373005242261882])\n",
    "# plt.figure()\n",
    "\n",
    "x101 = np.array([0, 30, 90, 270, 480])\n",
    "x102 = np.array([600, 720, 840, 960])\n",
    "y101 = np.array([0, 0.0106013664572332,0.00519576571714913,0.02967443048221,0.050022163974868])\n",
    "y102 = np.array([0.088128107774737, 0.17, 0.30055140114867, 0.47])\n",
    "# err = 215,264,304,421,1766,3042,4533,5481,5759\n",
    "\n",
    "x1_01 = np.array([0, 30, 90, 270, 480, 600, 720, 840, 960])\n",
    "y1 = np.array([0, 0.006714721,0.007776423,0.00919829,0.001772636, 0.003, 0.005, 0.006379611,0.013633013])\n",
    "y01 = np.array([0,0.085233734,0.006063293,0.009426917,0.011334223, 0.012, 0.02, 0.031271682,0.109561346])\n",
    "\n",
    "plt.figure(figsize = (7, 5))\n",
    "# for n in range(10000):\n",
    "plt.plot(time/60, mean_pmlkl/5544, color = 'green',  zorder = 1, marker ='*', alpha = 0.50)\n",
    "plt.fill_between(time/60, lower_pmlkl/5544, upper_pmlkl/5544, color = 'green', label ='100 ng/ml',zorder = 1, alpha=0.5)\n",
    "\n",
    "plt.plot(time/60, mean_pmlkl2/5544, color = 'blue',  zorder = 1, marker ='*', alpha = 0.50)\n",
    "plt.fill_between(time/60, lower_pmlkl2/5544, upper_pmlkl2/5544, color = 'blue', label ='10 ng/ml',zorder = 1, alpha=0.5)\n",
    "\n",
    "plt.plot(time/60, mean_pmlkl3/5544, color = 'red',  zorder = 1, marker ='*', alpha = 0.50)\n",
    "plt.fill_between(time/60, lower_pmlkl3/5544, upper_pmlkl3/5544, color = 'red', label ='1 ng/ml',zorder = 1, alpha=0.5)\n",
    "\n",
    "plt.plot(time/60, mean_pmlkl4/5544, color = 'purple',  zorder = 1, marker ='*', alpha = 0.50)\n",
    "plt.fill_between(time/60, lower_pmlkl4/5544, upper_pmlkl4/5544, color = 'purple', label ='0.1 ng/ml',zorder = 1, alpha=0.5)\n",
    "\n",
    "#KO plots \n",
    "# plt.plot(time/60, 1.0 - mean_pmlkl5/5544, color = 'green',  zorder = 1, marker ='o', alpha = 0.50)\n",
    "# plt.fill_between(time/60, 1.0 - lower_pmlkl5/5544, 1.0 - upper_pmlkl5/5544, color = 'green', label ='100 ng/ml',zorder = 1, alpha=0.5)\n",
    "# plt.errorbar(x, flipwtko824_100, yerr= fliper824_100, fmt='.k', \n",
    "#              ecolor ='black', alpha = 0.75, label ='100 ng/ml', zorder = 2)\n",
    "# plt.plot(time/60, mean_pmlkl6/5544, color = 'blue',  zorder = 1, marker ='*', alpha = 0.50)\n",
    "# plt.fill_between(time/60, lower_pmlkl6/5544, upper_pmlkl6/5544, color = 'blue', label ='10 ng/ml',zorder = 1, alpha=0.5)\n",
    "\n",
    "# plt.plot(time/60, mean_pmlkl7/5544, color = 'red',  zorder = 1, marker ='*', alpha = 0.50)\n",
    "# plt.fill_between(time/60, lower_pmlkl7/5544, upper_pmlkl7/5544, color = 'red', label ='1 ng/ml',zorder = 1, alpha=0.5)\n",
    "\n",
    "# plt.plot(time/60, mean_pmlkl8/5544, color = 'purple',  zorder = 1, marker ='*', alpha = 0.50)\n",
    "# plt.fill_between(time/60, lower_pmlkl8/5544, upper_pmlkl8/5544, color = 'purple', label ='0.1 ng/ml',zorder = 1, alpha=0.5)\n",
    "\n",
    "#     plt.plot(tspan/60, df1.loc[n]['MLKLa_obs'].iloc[:],lw=1.5, color ='blue', zorder = 1, alpha = 0.10)\n",
    "#     plt.errorbar(x100/60, y100*5544, yerr=210, fmt='.k', ecolor ='green', alpha = 0.5, label ='100 ng/ml')\n",
    "\n",
    "plt.errorbar(x1001/60, y1001,\n",
    "             yerr=[(0, 0.00885691708746097,0.0161886154261265,0.0373005242261882),\n",
    "             (.10, .10,.10,.10)],\n",
    "                   fmt='.k', ecolor ='black', alpha = 0.75, label ='100 ng/ml', zorder = 2)\n",
    "plt.errorbar(x1002/60, y1002,\n",
    "             yerr= 0.10, fmt='.k', ecolor ='black', alpha = 0.75, label ='100 ng/ml', zorder = 2)\n",
    "#     plt.plot(tspan/60, df2.loc[n]['MLKLa_obs'].iloc[:],lw=1.5, color ='blue', zorder = 1, alpha = 0.10)\n",
    "#     plt.errorbar(x100/60, y100*5544, yerr=210, fmt='.k', ecolor ='green', alpha = 0.5, label ='100 ng/ml')\n",
    "plt.errorbar(x101/60, y101,\n",
    "             yerr=[(0, 0.0106013664572332,0.00519576571714913,0.02967443048221, 0.050022163974868),\n",
    "             (.10, .10,.10,.10, 0.10)],\n",
    "                   fmt='.k', ecolor ='black', alpha = 0.75, label ='10 ng/ml', zorder = 2)\n",
    "plt.errorbar(x102/60, y102,\n",
    "             yerr= 0.10, fmt='.k', ecolor ='black', alpha = 0.75, label ='10 ng/ml', zorder = 2)\n",
    "\n",
    "plt.errorbar(x1_01/60, y1,\n",
    "             yerr=[(0, 0.006714721,0.007776423,0.00919829,0.001772636, 0.003, 0.005, 0.006379611,0.013633013),\n",
    "             (.10, .10,.10,.10,.10, .10,.10,.10,0.10)],\n",
    "                   fmt='.k', ecolor ='black', alpha = 0.75, label ='100 ng/ml', zorder = 2)\n",
    "plt.errorbar(x1_01/60, y01,\n",
    "             yerr=[(0,0.085233734,0.006063293,0.009426917,0.011334223, 0.012, 0.02, 0.031271682,0.109561346),\n",
    "             (.10, .10,.10,.10,.10, .10,.10,.10,0.10)],\n",
    "                   fmt='.k', ecolor ='black', alpha = 0.75, label ='100 ng/ml', zorder = 2)\n",
    "\n",
    "\n",
    "#     plt.errorbar(x100/60, y10*5544, yerr=210, fmt='.k', ecolor = 'blue', alpha = 0.5, label ='10 ng/ml')\n",
    "#     plt.scatter(x,y, zorder = 2)\n",
    "    # plt.plot(tspan / 60, df.loc[n]['RIP1deub_obs'].iloc[:] / df.loc[n]['RIP1deub_obs'].iloc[:].max(), lw=1.5)\n",
    "    # plt.plot(tspan / 60, df.loc[n]['RIP1trunc_obs'].iloc[:] / df.loc[n]['RIP1trunc_obs'].iloc[:].max(), lw=1.5)\n",
    "# plt.plot(tspan/60, simulation /_result.observables['CII_C8a_obs'], label = 'CII_C8a')\n",
    "plt.xlabel(\"Time (in hr)\", fontsize=15)\n",
    "plt.ylabel(\"Amount (normalized)\", fontsize=15)\n",
    "plt.title('Model fitting for pMLKL all TNF doses', fontsize=15)\n",
    "plt.xlim(xmin = 0, xmax = 24)\n",
    "plt.xticks(fontsize=14)\n",
    "plt.yticks(fontsize=14)\n",
    "# custom_lines = [Line2D([0], [0], color='green', lw=4),\n",
    "#                 Line2D([0], [0], color='blue', lw=4),\n",
    "#                Line2D([0], [0], color='black', lw=4)]\n",
    "# plt.legend(custom_lines, ['100ng/ml_pmlkl', '10ng/ml_pmlkl', 'pmlkl_data'], prop={'size': 10}, loc = 'best')\n",
    "# plt.savefig('pmlkl_alldosestnf_wdata_pydream_best10kpars_wodata.pdf', format='pdf')\n",
    "# plt.ylim(ymin = -10, ymax =100)\n",
    "# plt.legend(loc='best')\n",
    "plt.show()\n",
    "# plt.savefig('pmlkl_100tnf_wdata_pydream_best10kpars2.pdf', format='pdf')"
   ]
  },
  {
   "cell_type": "code",
   "execution_count": null,
   "metadata": {},
   "outputs": [],
   "source": [
    "#PLOTTING 100 and 10 TNF CI with DATA\n",
    "tspan = np.linspace(0, 1440, 300)\n",
    "from matplotlib.lines import Line2D\n",
    "x1001 = np.array([0, 30, 90, 270])\n",
    "x1002 = np.array([480, 600, 720, 840, 960])\n",
    "y1002 = np.array([0.2798939020159581, 0.510, .8097294067, 0.95,0.98])\n",
    "y1001 = np.array([0, 0.00885691708746097,0.0161886154261265,0.0373005242261882])\n",
    "# plt.figure()\n",
    "\n",
    "x101 = np.array([0, 30, 90, 270, 480])\n",
    "x102 = np.array([600, 720, 840, 960])\n",
    "y101 = np.array([0, 0.0106013664572332,0.00519576571714913,0.02967443048221,0.050022163974868])\n",
    "y102 = np.array([0.088128107774737, 0.17, 0.30055140114867, 0.47])\n",
    "# err = 215,264,304,421,1766,3042,4533,5481,5759\n",
    "\n",
    "plt.figure(figsize = (7, 5))\n",
    "# for n in range(10000):\n",
    "# plt.plot(time/60, mean_pmlkl, color = 'green',  zorder = 1, marker ='*', alpha = 0.50)\n",
    "# plt.fill_between(time/60, lower_pmlkl, upper_pmlkl, color = 'green', label ='100 ng/ml',zorder = 1, alpha=0.5)\n",
    "\n",
    "# plt.plot(time/60, mean_pmlkl2, color = 'blue',  zorder = 1, marker ='*', alpha = 0.50)\n",
    "# plt.fill_between(time/60, lower_pmlkl2, upper_pmlkl2, color = 'blue', label ='10 ng/ml',zorder = 1, alpha=0.5)\n",
    "\n",
    "# plt.plot(time/60, mean_pmlkl3, color = 'red',  zorder = 1, marker ='*', alpha = 0.50)\n",
    "# plt.fill_between(time/60, lower_pmlkl3, upper_pmlkl3, color = 'red', label ='1 ng/ml',zorder = 1, alpha=0.5)\n",
    "\n",
    "# plt.plot(time/60, mean_pmlkl4, color = 'purple',  zorder = 1, marker ='*', alpha = 0.50)\n",
    "# plt.fill_between(time/60, lower_pmlkl4, upper_pmlkl4, color = 'purple', label ='0.1 ng/ml',zorder = 1, alpha=0.5)\n",
    "\n",
    "\n",
    "#KO plots \n",
    "plt.plot(time/60, mean_pmlkl5, color = 'green',  zorder = 1, marker ='o', alpha = 0.50)\n",
    "plt.fill_between(time/60, 1.0 - lower_pmlkl5, upper_pmlkl5, color = 'green', label ='100 ng/ml',zorder = 1, alpha=0.5)\n",
    "\n",
    "plt.plot(time/60, mean_pmlkl6, color = 'blue',  zorder = 1, marker ='*', alpha = 0.50)\n",
    "plt.fill_between(time/60, lower_pmlkl6, upper_pmlkl6, color = 'blue', label ='10 ng/ml',zorder = 1, alpha=0.5)\n",
    "\n",
    "plt.plot(time/60, mean_pmlkl7, color = 'red',  zorder = 1, marker ='*', alpha = 0.50)\n",
    "plt.fill_between(time/60, lower_pmlkl7, upper_pmlkl7, color = 'red', label ='1 ng/ml',zorder = 1, alpha=0.5)\n",
    "\n",
    "plt.plot(time/60, mean_pmlkl8, color = 'purple',  zorder = 1, marker ='*', alpha = 0.50)\n",
    "plt.fill_between(time/60, lower_pmlkl8, upper_pmlkl8, color = 'purple', label ='0.1 ng/ml',zorder = 1, alpha=0.5)\n",
    "\n",
    "#     plt.plot(tspan/60, df1.loc[n]['MLKLa_obs'].iloc[:],lw=1.5, color ='blue', zorder = 1, alpha = 0.10)\n",
    "#     plt.errorbar(x100/60, y100*5544, yerr=210, fmt='.k', ecolor ='green', alpha = 0.5, label ='100 ng/ml')\n",
    "\n",
    "# plt.errorbar(x1001/60, y1001,\n",
    "#              yerr=[(0, 0.00885691708746097,0.0161886154261265,0.0373005242261882),\n",
    "#              (.10, .10,.10,.10)],\n",
    "#                    fmt='.k', ecolor ='black', alpha = 0.75, label ='100 ng/ml', zorder = 2)\n",
    "# plt.errorbar(x1002/60, y1002,\n",
    "#              yerr= 0.10, fmt='.k', ecolor ='black', alpha = 0.75, label ='100 ng/ml', zorder = 2)\n",
    "# #     plt.plot(tspan/60, df2.loc[n]['MLKLa_obs'].iloc[:],lw=1.5, color ='blue', zorder = 1, alpha = 0.10)\n",
    "# #     plt.errorbar(x100/60, y100*5544, yerr=210, fmt='.k', ecolor ='green', alpha = 0.5, label ='100 ng/ml')\n",
    "# plt.errorbar(x101/60, y101,\n",
    "#              yerr=[(0, 0.0106013664572332,0.00519576571714913,0.02967443048221, 0.050022163974868),\n",
    "#              (.10, .10,.10,.10, 0.10)],\n",
    "#                    fmt='.k', ecolor ='black', alpha = 0.75, label ='10 ng/ml', zorder = 2)\n",
    "# plt.errorbar(x102/60, y102,\n",
    "#              yerr= 0.10, fmt='.k', ecolor ='black', alpha = 0.75, label ='10 ng/ml', zorder = 2)\n",
    "\n",
    "\n",
    "#     plt.errorbar(x100/60, y10*5544, yerr=210, fmt='.k', ecolor = 'blue', alpha = 0.5, label ='10 ng/ml')\n",
    "#     plt.scatter(x,y, zorder = 2)\n",
    "    # plt.plot(tspan / 60, df.loc[n]['RIP1deub_obs'].iloc[:] / df.loc[n]['RIP1deub_obs'].iloc[:].max(), lw=1.5)\n",
    "    # plt.plot(tspan / 60, df.loc[n]['RIP1trunc_obs'].iloc[:] / df.loc[n]['RIP1trunc_obs'].iloc[:].max(), lw=1.5)\n",
    "# plt.plot(tspan/60, simulation /_result.observables['CII_C8a_obs'], label = 'CII_C8a')\n",
    "plt.xlabel(\"Time (in hr)\", fontsize=15)\n",
    "plt.ylabel(\"Amount (normalized)\", fontsize=15)\n",
    "plt.title('Model fitting for pMLKL all TNF doses', fontsize=15)\n",
    "plt.xlim(xmin = 0, xmax = 24)\n",
    "plt.xticks(fontsize=14)\n",
    "plt.yticks(fontsize=14)\n",
    "# custom_lines = [Line2D([0], [0], color='green', lw=4),\n",
    "#                 Line2D([0], [0], color='blue', lw=4),\n",
    "#                Line2D([0], [0], color='black', lw=4)]\n",
    "# plt.legend(custom_lines, ['100ng/ml_pmlkl', '10ng/ml_pmlkl', 'pmlkl_data'], prop={'size': 10}, loc = 'best')\n",
    "# plt.savefig('pmlkl_alldosestnf_wdata_pydream_best10kpars_wodata.pdf', format='pdf')\n",
    "# plt.ylim(ymin = -10, ymax =100)\n",
    "# plt.legend(loc='best')\n",
    "plt.show()\n",
    "# plt.savefig('pmlkl_100tnf_wdata_pydream_best10kpars2.pdf', format='pdf')"
   ]
  },
  {
   "cell_type": "code",
   "execution_count": null,
   "metadata": {},
   "outputs": [],
   "source": [
    "#PLOTTING 100 and 10 TNF CI with DATA\n",
    "tspan = np.linspace(0, 1440, 300)\n",
    "from matplotlib.lines import Line2D\n",
    "x1001 = np.array([0, 30, 90, 270])\n",
    "x1002 = np.array([480, 600, 720, 840, 960])\n",
    "y1002 = np.array([0.2798939020159581, 0.510, .8097294067, 0.95,0.98])\n",
    "y1001 = np.array([0, 0.00885691708746097,0.0161886154261265,0.0373005242261882])\n",
    "# plt.figure()\n",
    "\n",
    "x101 = np.array([0, 30, 90, 270, 480])\n",
    "x102 = np.array([600, 720, 840, 960])\n",
    "y101 = np.array([0, 0.0106013664572332,0.00519576571714913,0.02967443048221,0.050022163974868])\n",
    "y102 = np.array([0.088128107774737, 0.17, 0.30055140114867, 0.47])\n",
    "# err = 215,264,304,421,1766,3042,4533,5481,5759\n",
    "\n",
    "plt.figure()\n",
    "# for n in range(10000):\n",
    "plt.plot(time/60, mean_pmlkl/5544, color = 'green',  zorder = 1, marker ='*', alpha = 0.30)\n",
    "plt.fill_between(time/60, lower_pmlkl/5544, upper_pmlkl/5544, color = 'green', label ='100 ng/ml',zorder = 1, alpha=0.5)\n",
    "\n",
    "plt.plot(time/60, mean_pmlkl2/5544, color = 'blue',  zorder = 1, marker ='*', alpha = 0.30)\n",
    "plt.fill_between(time/60, lower_pmlkl2/5544, upper_pmlkl2/5544, color = 'blue', label ='10 ng/ml',zorder = 1, alpha=0.5)\n",
    "\n",
    "# plt.plot(time/60, mean_pmlkl3/5544, color = 'red',  zorder = 1, marker ='*', alpha = 0.30)\n",
    "# plt.fill_between(time/60, lower_pmlkl3/5544, upper_pmlkl3/5544, color = 'red', label ='1 ng/ml',zorder = 2, alpha=0.5)\n",
    "\n",
    "# plt.plot(time/60, mean_pmlkl4/5544, color = 'purple',  zorder = 1, marker ='*', alpha = 0.30)\n",
    "# plt.fill_between(time/60, lower_pmlkl4/5544, upper_pmlkl4/5544, color = 'purple', label ='0.1 ng/ml',zorder = 2, alpha=0.5)\n",
    "\n",
    "\n",
    "#     plt.plot(tspan/60, df1.loc[n]['MLKLa_obs'].iloc[:],lw=1.5, color ='blue', zorder = 1, alpha = 0.10)\n",
    "#     plt.errorbar(x100/60, y100*5544, yerr=210, fmt='.k', ecolor ='green', alpha = 0.5, label ='100 ng/ml')\n",
    "\n",
    "plt.errorbar(x1001/60, y1001,\n",
    "             yerr=[(0, 0.00885691708746097,0.0161886154261265,0.0373005242261882),\n",
    "             (.10, .10,.10,.10)],\n",
    "                   fmt='.k', ecolor ='black', alpha = 0.75, label ='100 ng/ml', zorder = 2)\n",
    "plt.errorbar(x1002/60, y1002,\n",
    "             yerr= 0.10, fmt='.k', ecolor ='black', alpha = 0.75, label ='100 ng/ml', zorder = 2)\n",
    "#     plt.plot(tspan/60, df2.loc[n]['MLKLa_obs'].iloc[:],lw=1.5, color ='blue', zorder = 1, alpha = 0.10)\n",
    "#     plt.errorbar(x100/60, y100*5544, yerr=210, fmt='.k', ecolor ='green', alpha = 0.5, label ='100 ng/ml')\n",
    "plt.errorbar(x101/60, y101,\n",
    "             yerr=[(0, 0.0106013664572332,0.00519576571714913,0.02967443048221, 0.050022163974868),\n",
    "             (.10, .10,.10,.10, 0.10)],\n",
    "                   fmt='.k', ecolor ='black', alpha = 0.75, label ='10 ng/ml', zorder = 2)\n",
    "plt.errorbar(x102/60, y102,\n",
    "             yerr= 0.10, fmt='.k', ecolor ='black', alpha = 0.75, label ='10 ng/ml', zorder = 2)\n",
    "\n",
    "\n",
    "#     plt.errorbar(x100/60, y10*5544, yerr=210, fmt='.k', ecolor = 'blue', alpha = 0.5, label ='10 ng/ml')\n",
    "#     plt.scatter(x,y, zorder = 2)\n",
    "    # plt.plot(tspan / 60, df.loc[n]['RIP1deub_obs'].iloc[:] / df.loc[n]['RIP1deub_obs'].iloc[:].max(), lw=1.5)\n",
    "    # plt.plot(tspan / 60, df.loc[n]['RIP1trunc_obs'].iloc[:] / df.loc[n]['RIP1trunc_obs'].iloc[:].max(), lw=1.5)\n",
    "# plt.plot(tspan/60, simulation /_result.observables['CII_C8a_obs'], label = 'CII_C8a')\n",
    "plt.xlabel(\"Time (in hr)\", fontsize=15)\n",
    "plt.ylabel(\"Amount (normalized)\", fontsize=15)\n",
    "plt.title('Model fitting for pMLKL 100 & 10 ng/ml of TNF', fontsize=13)\n",
    "plt.xlim(xmin = 0, xmax = 24)\n",
    "plt.xticks(fontsize=14)\n",
    "plt.yticks(fontsize=14)\n",
    "# custom_lines = [Line2D([0], [0], color='green', lw=4),\n",
    "#                 Line2D([0], [0], color='blue', lw=4),\n",
    "#                Line2D([0], [0], color='black', lw=4)]\n",
    "# plt.legend(custom_lines, ['100ng/ml_pmlkl', '10ng/ml_pmlkl', 'pmlkl_data'], prop={'size': 10}, loc = 'best')\n",
    "plt.savefig('pmlkl_100_10tnf_wdata_pydream_best10kpars_updated.pdf', format='pdf')\n",
    "# plt.ylim(ymin = -10, ymax =100)\n",
    "# plt.legend(loc='best')\n",
    "plt.show()\n",
    "# plt.savefig('pmlkl_100tnf_wdata_pydream_best10kpars2.pdf', format='pdf')"
   ]
  },
  {
   "cell_type": "code",
   "execution_count": null,
   "metadata": {},
   "outputs": [],
   "source": [
    "plt.figure(figsize = (20,5))\n",
    "# plt.figure()\n",
    "plt.subplot(141)\n",
    "plt.plot(time/60, mean_flip, color = 'black', zorder = 2)\n",
    "plt.fill_between(time/60, lower_flip, upper_flip, color = 'green', label ='100 ng/ml',zorder = 1, alpha=0.3)\n",
    "plt.plot(time/60, mean_flip2, color = 'black', zorder = 2)\n",
    "plt.fill_between(time/60, lower_flip2, upper_flip2, color = 'blue', label ='10 ng/ml',zorder = 1, alpha=0.3)\n",
    "plt.plot(time/60, mean_flip3, color = 'black', zorder = 2)\n",
    "plt.fill_between(time/60, lower_flip3, upper_flip3, color = 'red', label ='1 ng/ml',zorder = 1, alpha=0.3)\n",
    "plt.plot(time/60, mean_flip4, color = 'black', zorder = 2)\n",
    "plt.fill_between(time/60, lower_flip4, upper_flip4, color = 'purple', label ='0.1 ng/ml',zorder = 1, alpha=0.3)\n",
    "plt.xticks(fontsize=12)\n",
    "plt.yticks(fontsize=12)\n",
    "plt.xlim(xmax = 24, xmin = 0)\n",
    "plt.xlabel('Time (hours)', fontsize = 14)\n",
    "plt.ylabel('Amount (molecule/cell)', fontsize = 14)\n",
    "plt.legend()\n",
    "plt.title(r'95% CI of cFlip-L under 10ng/ml of TNF$\\alpha$', fontsize = 14)\n",
    "\n",
    "# plt.figure()\n",
    "plt.subplot(142)\n",
    "plt.plot(time/60, mean_C8flip , color = 'black', zorder = 2)\n",
    "plt.fill_between(time/60, lower_C8flip , upper_C8flip , color = 'green', label ='100 ng/ml',zorder = 1, alpha=0.3)\n",
    "plt.plot(time/60, mean_C8flip2 , color = 'black', zorder = 2)\n",
    "plt.fill_between(time/60, lower_C8flip2 , upper_C8flip2 , color = 'blue', label ='10 ng/ml',zorder = 1, alpha=0.3)\n",
    "plt.plot(time/60, mean_C8flip3 , color = 'black', zorder = 2)\n",
    "plt.fill_between(time/60, lower_C8flip3 , upper_C8flip3 , color = 'red', label ='1 ng/ml',zorder = 1, alpha=0.3)\n",
    "plt.plot(time/60, mean_C8flip4 , color = 'black', zorder = 2)\n",
    "plt.fill_between(time/60, lower_C8flip4 , upper_C8flip4 , color = 'purple', label ='0.1 ng/ml',zorder = 1, alpha=0.3)\n",
    "plt.xlim(xmax = 24, xmin = 0)\n",
    "plt.xticks(fontsize=12)\n",
    "plt.yticks(fontsize=12)\n",
    "plt.xlabel('Time (hours)', fontsize = 14)\n",
    "plt.ylabel('Amount (molecule/cell)', fontsize = 14)\n",
    "plt.legend()\n",
    "plt.title(r'95% CI of C8Flip 10ng/ml of TNF$\\alpha$', fontsize = 14)\n",
    "\n",
    "plt.subplot(143)\n",
    "plt.plot(time/60, mean_necro, color = 'black', zorder = 2)\n",
    "plt.fill_between(time/60, lower_necro, upper_necro,color = 'green', label ='100 ng/ml',zorder = 1, alpha=0.3)\n",
    "plt.plot(time/60, mean_necro2, color = 'black',  zorder = 2)\n",
    "plt.fill_between(time/60, lower_necro2, upper_necro2,color = 'blue', label ='10 ng/ml',zorder = 1,alpha=0.3)\n",
    "plt.plot(time/60, mean_necro3, color = 'black', zorder = 2)\n",
    "plt.fill_between(time/60, lower_necro3, upper_necro3,color = 'red', label ='1 ng/ml',zorder = 1, alpha=0.3)\n",
    "plt.plot(time/60, mean_necro4, color = 'black', zorder = 2)\n",
    "plt.fill_between(time/60, lower_necro4, upper_necro4,color = 'purple', label ='0.1 ng/ml',zorder = 1, alpha=0.3)\n",
    "plt.xlim(xmax = 24, xmin = 0)\n",
    "plt.xticks(fontsize=12)\n",
    "plt.yticks(fontsize=12)\n",
    "plt.xlabel('Time (hours)', fontsize = 14)\n",
    "plt.ylabel('Amount (molecule/cell)', fontsize = 14)\n",
    "plt.legend()\n",
    "plt.title(r'95% CI of Necrosome under 10ng/ml of TNF$\\alpha$', fontsize = 14)\n",
    "\n",
    "x100 = np.array([30, 90, 270, 480, 600, 720, 840, 960])\n",
    "y100 = np.array([0.00885691708746097,0.0161886154261265,0.0373005242261882,0.2798939020159581,0.510, .7797294067, 0.95,1])\n",
    "# plt.figure()\n",
    "\n",
    "x10 = np.array([30, 90, 270, 480, 600, 720, 840, 960])\n",
    "y10 = np.array([0.0106013664572332,0.00519576571714913,0.02967443048221,0.050022163974868,0.108128107774737, 0.21,0.36055140114867, 0.57])\n",
    "plt.subplot(144)\n",
    "plt.plot(time/60, mean_pmlkl, color = 'black',  zorder = 2)\n",
    "plt.fill_between(time/60, lower_pmlkl, upper_pmlkl, color = 'green', label ='100 ng/ml',zorder = 1, alpha=0.3)\n",
    "plt.plot(time/60, mean_pmlkl2, color = 'black',  zorder = 2)\n",
    "plt.fill_between(time/60, lower_pmlkl2, upper_pmlkl2, color = 'blue', label ='10 ng/ml',zorder = 1, alpha=0.3)\n",
    "plt.plot(time/60, mean_pmlkl2, color = 'black',  zorder = 2)\n",
    "plt.fill_between(time/60, lower_pmlkl3, upper_pmlkl3, color = 'red', label ='1 ng/ml',zorder = 1, alpha=0.3)\n",
    "plt.plot(time/60, mean_pmlkl4, color = 'black', zorder = 2)\n",
    "plt.fill_between(time/60, lower_pmlkl4, upper_pmlkl4, color = 'purple', label ='0.1 ng/ml',zorder = 1, alpha=0.3)\n",
    "plt.scatter(x10/60, y10*5544, color = 'blue', alpha = 0.3)\n",
    "plt.scatter(x100/60, y100*5544,  color = 'green', alpha = 0.3)\n",
    "plt.xlim(xmax = 24, xmin = 0)\n",
    "plt.xticks(fontsize=12)\n",
    "plt.yticks(fontsize=12)\n",
    "plt.xlabel('Time (hours)', fontsize = 14)\n",
    "plt.ylabel('Amount (molecule/cell)', fontsize = 14)\n",
    "plt.legend()\n",
    "plt.title(r'95% CI of pMLKL under 10ng/ml of TNF$\\alpha$', fontsize = 14)\n",
    "plt.tight_layout()\n",
    "# plt.savefig('Necroptosis95CI_allTNF_10000pydream_notnormwdata.pdf', format='pdf')\n",
    "plt.show()"
   ]
  },
  {
   "cell_type": "code",
   "execution_count": null,
   "metadata": {
    "scrolled": true
   },
   "outputs": [],
   "source": [
    "#PLOTTING WT AND PREDICTIONS\n",
    "plt.figure(figsize = (20,5))\n",
    "# plt.figure()\n",
    "plt.subplot(141)\n",
    "plt.plot(time/60, mean_flip, color = 'black', label ='mean_WT', zorder = 2)\n",
    "plt.fill_between(time/60, lower_flip, upper_flip, color = 'green', label ='95%CI_WT',zorder = 1, alpha=0.3)\n",
    "plt.plot(time/60, mean_flip2, color = 'black', label ='mean_OE', zorder = 2)\n",
    "plt.fill_between(time/60, lower_flip2, upper_flip2, color = 'blue', label ='95%CI_OE',zorder = 1, alpha=0.3)\n",
    "plt.xticks(fontsize=14)\n",
    "plt.yticks(fontsize=14)\n",
    "plt.xlim(xmax = 24, xmin = 0)\n",
    "plt.xlabel('Time (hours)', fontsize = 14)\n",
    "plt.ylabel('Amount (molecule/cell)', fontsize = 14)\n",
    "plt.legend()\n",
    "plt.title(r'95% CI of cFlip-L under 10ng/ml of TNF$\\alpha$', fontsize = 14)\n",
    "\n",
    "# plt.figure()\n",
    "plt.subplot(142)\n",
    "plt.plot(time/60, mean_C8flip , color = 'black', label ='mean_WT', zorder = 2)\n",
    "plt.fill_between(time/60, lower_C8flip , upper_C8flip , color = 'green', label ='95%CI_WT',zorder = 1, alpha=0.3)\n",
    "plt.plot(time/60, mean_C8flip2 , color = 'black', label ='mean_OE', zorder = 2)\n",
    "plt.fill_between(time/60, lower_C8flip2 , upper_C8flip2 , color = 'blue', label ='95%CI_OE',zorder = 1, alpha=0.3)\n",
    "plt.xlim(xmax = 24, xmin = 0)\n",
    "plt.xticks(fontsize=14)\n",
    "plt.yticks(fontsize=14)\n",
    "plt.xlabel('Time (hours)', fontsize = 14)\n",
    "plt.ylabel('Amount (molecule/cell)', fontsize = 14)\n",
    "plt.legend()\n",
    "plt.title(r'95% CI of C8Flip 10ng/ml of TNF$\\alpha$', fontsize = 14)\n",
    "\n",
    "plt.subplot(143)\n",
    "plt.plot(time/60, mean_necro, color = 'black', label ='mean_WT', zorder = 2)\n",
    "plt.fill_between(time/60, lower_necro, upper_necro,color = 'green', label ='95%CI_WT',zorder = 1, alpha=0.3)\n",
    "plt.plot(time/60, mean_necro2, color = 'black', label ='mean_OE', zorder = 2)\n",
    "plt.fill_between(time/60, lower_necro2, upper_necro2,color = 'blue', label ='95%CI_OE',zorder = 1,alpha=0.3)\n",
    "plt.xlim(xmax = 24, xmin = 0)\n",
    "plt.xticks(fontsize=14)\n",
    "plt.yticks(fontsize=14)\n",
    "plt.xlabel('Time (hours)', fontsize = 14)\n",
    "plt.ylabel('Amount (molecule/cell)', fontsize = 14)\n",
    "plt.legend()\n",
    "plt.title(r'95% CI of Necrosome under 10ng/ml of TNF$\\alpha$', fontsize = 14)\n",
    "\n",
    "x100 = np.array([30, 90, 270, 480, 600, 720, 840, 960])\n",
    "y100 = np.array([0.00885691708746097,0.0161886154261265,0.0373005242261882,0.2798939020159581,0.510, .7797294067, 0.95,1])\n",
    "# plt.figure()\n",
    "t2 = np.linspace(1440,2880,300)\n",
    "x10 = np.array([30, 90, 270, 480, 600, 720, 840, 960])\n",
    "y10 = np.array([0.0106013664572332,0.00519576571714913,0.02967443048221,0.050022163974868,0.108128107774737, 0.25,0.56055140114867, 0.77])\n",
    "plt.subplot(144)\n",
    "plt.plot(time/60, mean_pmlkl, color = 'black', label ='mean_WT', zorder = 2)\n",
    "plt.fill_between(time/60, lower_pmlkl, upper_pmlkl, color = 'green', label ='95%CI_WT',zorder = 1, alpha=0.3)\n",
    "plt.plot(time/60, mean_pmlkl2, color = 'black', label ='mean_OE', zorder = 2)\n",
    "plt.fill_between(time/60, lower_pmlkl2, upper_pmlkl2, color = 'blue', label ='95%CI_OE',zorder = 1, alpha=0.3)\n",
    "# plt.plot(t2/60, mean_pmlkl3, color = 'black', label ='mean_OE', zorder = 2)\n",
    "# plt.fill_between(t2/60, lower_pmlkl3, upper_pmlkl3, color = 'blue', label ='95%CI_OE',zorder = 1, alpha=0.3)\n",
    "# plt.plot(time/60, mean_pmlkl2, color = 'black', label ='mean_KO', zorder = 2)\n",
    "# plt.scatter(x10/60, y10*5544, label = 'data', color = 'k')\n",
    "plt.xlim(xmax = 24, xmin = 0)\n",
    "plt.xticks(fontsize=14)\n",
    "plt.yticks(fontsize=14)\n",
    "plt.xlabel('Time (hours)', fontsize = 14)\n",
    "plt.ylabel('Amount (molecule/cell)', fontsize = 14)\n",
    "plt.legend()\n",
    "plt.title(r'95% CI of pMLKL under 10ng/ml of TNF$\\alpha$', fontsize = 14)\n",
    "plt.tight_layout()\n",
    "plt.savefig('Necroptosis95CI_10TNF_10000pydream_kocyld_a20x1000.pdf', format='pdf')\n",
    "plt.show()"
   ]
  },
  {
   "cell_type": "code",
   "execution_count": null,
   "metadata": {},
   "outputs": [],
   "source": [
    "for n in range(len(all_pars2[:10000])):\n",
    "    plt.plot(tspan/60, df2.loc[n]['MLKLa_obs'].iloc[:],lw=1.5, color ='blue', zorder = 1, alpha = 0.3)\n",
    "    plt.plot(tspan/60, df1.loc[n]['MLKLa_obs'].iloc[:],lw=1.5, color ='black', zorder = 1, alpha = 0.3)\n",
    "#     plt.scatter(x,y, zorder = 2)\n",
    "    # plt.plot(tspan / 60, df.loc[n]['RIP1deub_obs'].iloc[:] / df.loc[n]['RIP1deub_obs'].iloc[:].max(), lw=1.5)\n",
    "    # plt.plot(tspan / 60, df.loc[n]['RIP1trunc_obs'].iloc[:] / df.loc[n]['RIP1trunc_obs'].iloc[:].max(), lw=1.5)\n",
    "# plt.plot(tspan/60, simulation /_result.observables['CII_C8a_obs'], label = 'CII_C8a')\n",
    "plt.xlim(xmax = 24, xmin = 0)\n",
    "plt.xticks(fontsize=14)\n",
    "plt.yticks(fontsize=14)\n",
    "plt.xlabel(\"Time (in hr)\", fontsize=14)\n",
    "plt.ylabel(\"Amount mol/cell\", fontsize=14)\n",
    "plt.title('pMLKL WT vs KOA20 OE CYLD')\n",
    "# plt.savefig('Necroptosisallparams_10TNF_10000pydream_koa20_oex10cyld.pdf', format='pdf')\n",
    "plt.show()"
   ]
  },
  {
   "cell_type": "code",
   "execution_count": null,
   "metadata": {},
   "outputs": [],
   "source": [
    "model10.observables"
   ]
  },
  {
   "cell_type": "code",
   "execution_count": null,
   "metadata": {},
   "outputs": [],
   "source": [
    "wt100 = simulation_result_load('necro_pydream_5chns_929_100tnf_updated_nokd.h5')\n",
    "# df1 = wt100.dataframe"
   ]
  },
  {
   "cell_type": "code",
   "execution_count": null,
   "metadata": {},
   "outputs": [],
   "source": [
    "obs_to_plot = {\n",
    "    'MLKLa_obs': 'blue',\n",
    "    # 'cSmac_total': 'red',\n",
    "    # 'tBid_total': 'darkgreen'\n",
    "    'MLKLa_obs': 'red'\n",
    "}\n",
    "\n",
    "lower_quantile = 0.3  # 10%\n",
    "upper_quantile = 0.7  # 90%\n",
    "median = 0.5\n",
    "colors = ['blue', 'red']\n",
    "fig, ax = plt.subplots()\n",
    "for colour in colors:\n",
    "    data = [wt10.dataframe['MLKLa_obs'],wt100.dataframe['MLKLa_obs']]\n",
    "    data = pd.concat(data)\n",
    "    quantile_data = data.groupby('time').quantile(\n",
    "        q=[lower_quantile, median, upper_quantile]).unstack()\n",
    "#     # Calculate 10%, 50%, and 90% quantiles for observable\n",
    "#     quantile_data1 = wt10.dataframe['MLKLa_obs'].groupby('time').quantile(\n",
    "#         q=[lower_quantile, median, upper_quantile]).unstack()\n",
    "#     quantile_data2 = result10.dataframe['MLKLa_obs'].groupby('time').quantile(\n",
    "#         q=[lower_quantile, median, upper_quantile]).unstack()\n",
    "#     data = [quantile_data1,quantile_data2]\n",
    "#     quantile_data = pd.concat(data)\n",
    "    \n",
    "\n",
    "    # Plot the median line (50% quantile) for the observable\n",
    "    ax.plot(quantile_data.index, quantile_data.loc[:, median], color=colour)\n",
    "\n",
    "    # Plot the 10% and 90% quantiles as an envelope\n",
    "    ax.fill_between(quantile_data.index,\n",
    "                    quantile_data.loc[:, lower_quantile],\n",
    "                    quantile_data.loc[:, upper_quantile],\n",
    "                    color=colour,\n",
    "                    alpha=.1)\n",
    "\n",
    "# Add the legend\n",
    "ax.legend(['pMLKL_wt_10', 'pMLKL_wt_100'])\n",
    "# Add axis labels and title\n",
    "ax.set(xlabel='time (s)', ylabel='Count', title=f'SSA plot for {model10.name}')\n",
    "# Add grid\n",
    "# ax.grid()\n",
    "\n",
    "# fig.savefig(\"test.png\")"
   ]
  },
  {
   "cell_type": "code",
   "execution_count": null,
   "metadata": {},
   "outputs": [],
   "source": [
    "wt10.dataframe.loc[:]['time']"
   ]
  },
  {
   "cell_type": "code",
   "execution_count": null,
   "metadata": {},
   "outputs": [],
   "source": [
    "df = pd.concat([wt10.dataframe, wt100.dataframe],\n",
    "               keys=['wt10', 'wt100'],\n",
    "               names=['group', 'simulation', 'time'])\n",
    "print(df.loc['time'][:])"
   ]
  },
  {
   "cell_type": "code",
   "execution_count": null,
   "metadata": {},
   "outputs": [],
   "source": [
    "# Combine the results dataframes into a single dataframe with a 'group' index,\n",
    "# in addition to \"simulation\" and \"time\" indexes\n",
    "df = pd.concat([wt10.dataframe, wt100.dataframe],\n",
    "               keys=['wt10', 'wt100'],\n",
    "               names=['group', 'simulation', 'time'])\n",
    "\n",
    "# Add observable/group pairs as needed\n",
    "obs_to_plot = {\n",
    "    ('MLKLa_obs', 'wt10'): 'blue',\n",
    "    ('MLKLa_obs', 'wt100'): 'orange'\n",
    "}\n",
    "\n",
    "lower_quantile = 0.1  # 10%\n",
    "upper_quantile = 0.9  # 90%\n",
    "median = 0.5\n",
    "\n",
    "fig, ax = plt.subplots()\n",
    "legend_keys = []\n",
    "for obs_pair, colour in obs_to_plot.items():\n",
    "    obs, group = obs_pair\n",
    "\n",
    "    # Calculate 10%, 50%, and 90% quantiles for observable\n",
    "    quantile_data = df[obs].loc[group].groupby(['time']).quantile(\n",
    "        q=[lower_quantile, median, upper_quantile]).unstack()\n",
    "\n",
    "    # Plot the median line (50% quantile) for the observable\n",
    "    ax.plot(quantile_data.index, quantile_data.loc[:, median], color=colour)\n",
    "\n",
    "    # Plot the 10% and 90% quantiles as an envelope\n",
    "    ax.fill_between(quantile_data.index,\n",
    "                    quantile_data.loc[:, lower_quantile],\n",
    "                    quantile_data.loc[:, upper_quantile],\n",
    "                    color=colour,\n",
    "                    alpha=.1)\n",
    "\n",
    "# Add the legend\n",
    "ax.legend([f'{obs} {group}' for obs, group in obs_to_plot.keys()])\n",
    "# Add axis labels and title\n",
    "ax.set(xlabel='time (s)', ylabel='Count', title=f'{model100.name}')\n",
    "# Add grid\n",
    "# ax.grid()\n",
    "\n",
    "# fig.savefig(\"test.png\")"
   ]
  },
  {
   "cell_type": "code",
   "execution_count": null,
   "metadata": {},
   "outputs": [],
   "source": [
    "for n in range(len(all_pars[:10000])):\n",
    "    plt.plot(tspan/60, np.percentile(df2.loc[n]['MLKLa_obs'].iloc[:],95),lw=1.5, color ='blue', zorder = 1, alpha = 0.3)\n",
    "plt.show()"
   ]
  },
  {
   "cell_type": "code",
   "execution_count": null,
   "metadata": {},
   "outputs": [],
   "source": [
    "newmlkl = np.percentile(df2['MLKLa_obs'].iloc[:])"
   ]
  },
  {
   "cell_type": "code",
   "execution_count": null,
   "metadata": {},
   "outputs": [],
   "source": [
    "x100 = np.array([30, 90, 270, 480, 600, 720, 840, 960])\n",
    "y100 = np.array([0.00885691708746097,0.0161886154261265,0.0373005242261882,0.2798939020159581,0.510, \n",
    "                 .7797294067, 0.95,1])\n",
    "y1002 = np.array([0.00885691708746097,0.0161886154261265,0.0373005242261882,0.2798939020159581,0.510, \n",
    "                  .7797294067, 0.95,1])\n",
    "# x10 = np.array([.5, 1.5, 4.5, 8, 10, 12, 14, 16])\n",
    "y10 = np.array([0.0106013664572332,0.00519576571714913,0.02967443048221,0.050022163974868,0.108128107774737, \n",
    "                0.25,0.56055140114867, 0.77])\n"
   ]
  },
  {
   "cell_type": "code",
   "execution_count": null,
   "metadata": {},
   "outputs": [],
   "source": [
    "plt.figure(figsize = (6,5))\n",
    "x100 = np.array([30, 90, 270, 480, 600, 720, 840, 960])\n",
    "y100 = np.array([0.00885691708746097,0.0161886154261265,0.0373005242261882,0.2798939020159581,0.510, .7797294067, 0.95,1])\n",
    "# plt.figure()\n",
    "\n",
    "x10 = np.array([30, 90, 270, 480, 600, 720, 840, 960])\n",
    "y10 = np.array([0.0106013664572332,0.00519576571714913,0.02967443048221,0.050022163974868,0.088128107774737, 0.17,0.30055140114867, 0.47])\n",
    "# plt.subplot(144)\n",
    "# plt.plot(time/60, mean_pmlkl, color = 'black',  zorder = 2)\n",
    "plt.fill_between(time/60, lower_pmlkl, upper_pmlkl, color = 'green', label ='100 ng/ml',zorder = 1, alpha=0.5)\n",
    "# plt.plot(time/60, mean_pmlkl2, color = 'black',  zorder = 2)\n",
    "plt.fill_between(time/60, lower_pmlkl2, upper_pmlkl2, color = 'blue', label ='10 ng/ml',zorder = 1, alpha=0.5)\n",
    "# plt.plot(time/60, mean_pmlkl3, color = 'black',  zorder = 2)\n",
    "plt.fill_between(time/60, lower_pmlkl3, upper_pmlkl3, color = 'red', label ='1 ng/ml',zorder = 1, alpha=0.5)\n",
    "# plt.plot(time/60, mean_pmlkl4, color = 'black', zorder = 2)\n",
    "plt.fill_between(time/60, lower_pmlkl4, upper_pmlkl4, color = 'purple', label ='0.1 ng/ml',zorder = 1, alpha=0.5)\n",
    "plt.errorbar(x100/60, y100*5544, yerr=210, fmt='.k', ecolor ='green', alpha = 0.5, label ='100 ng/ml')\n",
    "plt.errorbar(x100/60, y10*5544, yerr=210, fmt='.k', ecolor = 'blue', alpha = 0.5, label ='10 ng/ml')\n",
    "# plt.errorbar(x100/60, y100, yerr=0.05, fmt='.k')\n",
    "# plt.scatter(x10/60, y10*5544, color = 'blue', alpha = 0.3)\n",
    "# plt.scatter(x100/60, y100*5544,  color = 'green', alpha = 0.3)\n",
    "plt.xlim(xmax = 17, xmin = 0)\n",
    "plt.xticks(fontsize=12)\n",
    "plt.yticks(fontsize=12)\n",
    "plt.xlabel('Time (hours)', fontsize = 14)\n",
    "plt.ylabel('Amount (molecule/cell)', fontsize = 14)\n",
    "plt.legend()\n",
    "plt.title(r'95% CI of pMLKL under 10ng/ml of TNF$\\alpha$', fontsize = 14)\n",
    "plt.tight_layout()\n",
    "# plt.savefig('pMLKL95CI_100TNF_10000pydream_notnormwdata.pdf', format='pdf')\n",
    "plt.savefig('alltnfmoddatanew.pdf', format='pdf')\n",
    "\n",
    "plt.show()"
   ]
  },
  {
   "cell_type": "code",
   "execution_count": null,
   "metadata": {},
   "outputs": [],
   "source": [
    "plt.figure(figsize = (6,5))\n",
    "# plt.subplot(144)\n",
    "for i in range(1000):\n",
    "    plt.plot(time/60, df1., color = 'black',  zorder = 2)\n",
    "# plt.fill_between(time/60, lower_pmlkl, upper_pmlkl, color = 'green', label ='100 ng/ml',zorder = 1, alpha=0.3)\n",
    "    plt.plot(time/60, mean_pmlkl2, color = 'black',  zorder = 2)\n",
    "# plt.fill_between(time/60, lower_pmlkl2, upper_pmlkl2, color = 'blue', label ='10 ng/ml',zorder = 1, alpha=0.3)\n",
    "    plt.plot(time/60, mean_pmlkl2, color = 'black',  zorder = 2)\n",
    "# plt.fill_between(time/60, lower_pmlkl3, upper_pmlkl3, color = 'red', label ='1 ng/ml',zorder = 1, alpha=0.3)\n",
    "    plt.plot(time/60, mean_pmlkl4, color = 'black', zorder = 2)\n",
    "# plt.fill_between(time/60, lower_pmlkl4, upper_pmlkl4, color = 'purple', label ='0.1 ng/ml',zorder = 1, alpha=0.3)\n",
    "plt.errorbar(x100/60, y100*5544, yerr=200, fmt='.k', ecolor ='green', alpha = 0.5, label ='100 ng/ml')\n",
    "plt.errorbar(x100/60, y10*5544, yerr=200, fmt='.k', ecolor = 'blue', alpha = 0.5, label ='10 ng/ml')\n",
    "# plt.errorbar(x100/60, y100, yerr=0.05, fmt='.k')\n",
    "# plt.scatter(x10/60, y10*5544, color = 'blue', alpha = 0.3)\n",
    "# plt.scatter(x100/60, y100*5544,  color = 'green', alpha = 0.3)\n",
    "plt.xlim(xmax = 17, xmin = 0)\n",
    "plt.xticks(fontsize=12)\n",
    "plt.yticks(fontsize=12)\n",
    "plt.xlabel('Time (hours)', fontsize = 14)\n",
    "plt.ylabel('Amount (molecule/cell)', fontsize = 14)\n",
    "plt.legend()\n",
    "plt.title(r'95% CI of pMLKL under 10ng/ml of TNF$\\alpha$', fontsize = 14)\n",
    "plt.tight_layout()\n",
    "# plt.savefig('pMLKL95CI_100TNF_10000pydream_notnormwdata.pdf', format='pdf')\n",
    "plt.show()"
   ]
  },
  {
   "cell_type": "code",
   "execution_count": null,
   "metadata": {},
   "outputs": [],
   "source": [
    "plt.figure(figsize = (20,5))\n",
    "# plt.figure()\n",
    "plt.subplot(141)\n",
    "plt.plot(time/60, mean_ciub, color = 'black', label ='mean_WT', zorder = 2)\n",
    "plt.fill_between(time/60, lower_ciub, upper_ciub, color = 'green', label ='95%CI_WT',zorder = 1, alpha=0.3)\n",
    "plt.plot(time/60, mean_ciub2, color = 'black', label ='mean_KO', zorder = 2)\n",
    "plt.fill_between(time/60, lower_ciub2, upper_ciub2, color = 'blue', label ='95%CI_KO',zorder = 1, alpha=0.3)\n",
    "plt.xlim(xmax = 24, xmin = 0)\n",
    "plt.xlabel('Time (hours)')\n",
    "plt.ylabel('Amount (molecule/cell)')\n",
    "plt.legend()\n",
    "plt.title(r'95% CI of Complex I under 10ng/ml of TNF$\\alpha$')\n",
    "\n",
    "# plt.figure()\n",
    "plt.subplot(142)\n",
    "plt.plot(time/60, mean_cii , color = 'black', label ='mean_WT', zorder = 2)\n",
    "plt.fill_between(time/60, lower_cii , upper_cii , color = 'green', label ='95%CI_WT',zorder = 1, alpha=0.3)\n",
    "# plt.plot(time/60, mean_cii2 , color = 'black', label ='mean_KO', zorder = 2)\n",
    "# plt.fill_between(time/60, lower_cii2 , upper_cii2, color = 'blue', label ='95%CI_KO',zorder = 1, alpha=0.3)\n",
    "plt.xlim(xmax = 24, xmin = 0)\n",
    "plt.xlabel('Time (hours)')\n",
    "plt.ylabel('Amount (molecule/cell)')\n",
    "plt.legend()\n",
    "plt.title(r'95% CI of Complex II 10ng/ml of TNF$\\alpha$')\n",
    "\n",
    "plt.subplot(143)\n",
    "plt.plot(time/60, mean_necro, color = 'black', label ='mean_WT', zorder = 2)\n",
    "plt.fill_between(time/60, lower_necro, upper_necro,color = 'green', label ='95%CI_WT',zorder = 1, alpha=0.3)\n",
    "plt.plot(time/60, mean_necro2, color = 'black', label ='mean_KO', zorder = 2)\n",
    "plt.fill_between(time/60, lower_necro2, upper_necro2,color = 'blue', label ='95%CI_KO',zorder = 1,alpha=0.3)\n",
    "plt.xlim(xmax = 24, xmin = 0)\n",
    "plt.xlabel('Time (hours)')\n",
    "plt.ylabel('Amount (molecule/cell)')\n",
    "plt.legend()\n",
    "plt.title(r'95% CI of Necrosome under 10ng/ml of TNF$\\alpha$')\n",
    "\n",
    "x100 = np.array([30, 90, 270, 480, 600, 720, 840, 960])\n",
    "y100 = np.array([0.00885691708746097,0.0161886154261265,0.0373005242261882,0.2798939020159581,0.510, .7797294067, 0.95,1])\n",
    "# plt.figure()\n",
    "\n",
    "x10 = np.array([30, 90, 270, 480, 600, 720, 840, 960])\n",
    "y10 = np.array([0.0106013664572332,0.00519576571714913,0.02967443048221,0.050022163974868,0.108128107774737, 0.25,0.56055140114867, 0.77])\n",
    "plt.subplot(144)\n",
    "plt.plot(time/60, mean_pmlkl, color = 'black', label ='mean_WT', zorder = 2)\n",
    "plt.fill_between(time/60, lower_pmlkl, upper_pmlkl, color = 'green', label ='95%CI_WT',zorder = 1, alpha=0.3)\n",
    "plt.plot(time/60, mean_pmlkl2, color = 'black', label ='mean_KO', zorder = 2)\n",
    "plt.fill_between(time/60, lower_pmlkl2, upper_pmlkl2, color = 'blue', label ='95%CI_KO',zorder = 1, alpha=0.3)\n",
    "# plt.scatter(x10/60, y10*5544, label = 'data', color = 'k')\n",
    "plt.xlim(xmax = 24, xmin = 0)\n",
    "plt.xlabel('Time (hours)')\n",
    "plt.ylabel('Amount (molecule/cell)')\n",
    "plt.legend()\n",
    "plt.title(r'95% CI of pMLKL under 10ng/ml of TNF$\\alpha$')\n",
    "plt.tight_layout()\n",
    "# plt.savefig('Necroptosis95CI_10TNF_10000pydream_koC8.pdf', format='pdf')\n",
    "plt.show()"
   ]
  },
  {
   "cell_type": "code",
   "execution_count": null,
   "metadata": {},
   "outputs": [],
   "source": []
  },
  {
   "cell_type": "code",
   "execution_count": null,
   "metadata": {},
   "outputs": [],
   "source": [
    "time = result100.tout[0]\n",
    "idx = pd.MultiIndex.from_product([df.columns,\n",
    "                                  ['mean', 'mean_minus', 'mean_plus']],\n",
    "                                 names=['species', 'CI'])\n",
    "\n",
    "ci_df = pd.DataFrame(0, idx, time)\n",
    "\n",
    "for sp in df.columns:\n",
    "    for t in time:\n",
    "        sp_values = df.xs(t, level='time', drop_level=False)[sp].values # axis=1 if columns\n",
    "        ci_df.loc[[sp], t] = mean_confidence_interval(sp_values)"
   ]
  },
  {
   "cell_type": "code",
   "execution_count": null,
   "metadata": {},
   "outputs": [],
   "source": []
  },
  {
   "cell_type": "code",
   "execution_count": null,
   "metadata": {},
   "outputs": [],
   "source": [
    "from necro_uncal_new import model\n",
    "from pylab import *\n",
    "from pysb.core import *\n",
    "from pysb.bng import *\n",
    "from pysb.integrate import *\n",
    "import matplotlib.pyplot as plt\n",
    "import numpy as np\n",
    "from pysb.util import alias_model_components\n",
    "from pysb.simulator import CupSodaSimulator\n",
    "from pysb.simulator import ScipyOdeSimulator\n",
    "from pysb.simulator.bng import BngSimulator\n",
    "# from necro import model\n",
    "import pandas as pd\n",
    "from pysb.simulator import SimulationResult\n",
    "alias_model_components(model)"
   ]
  },
  {
   "cell_type": "code",
   "execution_count": null,
   "metadata": {},
   "outputs": [],
   "source": [
    "par_files = np.load('necro_pydream_5chns_929_alltnf.npy')\n",
    "n_pars = len(par_files)\n",
    "all_pars = np.zeros((n_pars, 54))\n",
    "\n",
    "rate_params = model.parameters_rules() # these are only the parameters involved in the rules\n",
    "param_values = np.array([p.value for p in model.parameters]) # these are all the parameters\n",
    "rate_mask = np.array([p in rate_params for p in model.parameters])\n",
    "\n",
    "for i in range(n_pars):\n",
    "    par = par_files[i]\n",
    "    param_values[rate_mask] = 10 ** par\n",
    "    all_pars[i] = param_values\n",
    "print(len(all_pars))"
   ]
  },
  {
   "cell_type": "code",
   "execution_count": null,
   "metadata": {},
   "outputs": [],
   "source": [
    "# l = [i for i in range(10)]\n",
    "flip = [3900, 1170]\n",
    "tspan = np.linspace(0, 1440, 500)\n",
    "solver100 = ScipyOdeSimulator(model, tspan=tspan, verbose = True)\n",
    "result100 = solver100.run(param_values=all_pars[:5000],num_processors=20)\n",
    "df = result100.dataframe"
   ]
  },
  {
   "cell_type": "code",
   "execution_count": null,
   "metadata": {},
   "outputs": [],
   "source": []
  },
  {
   "cell_type": "code",
   "execution_count": null,
   "metadata": {},
   "outputs": [],
   "source": [
    "import numpy as np\n",
    "import pylab\n",
    "from scipy.optimize import curve_fit\n",
    "\n",
    "def sigmoid(x, x0, k):\n",
    "     y = 1 / (1 + np.exp(-k*(x-x0)))\n",
    "     return y\n",
    "\n",
    "xdata = np.array([0.0,   1.0,  3.0, 4.3, 7.0,   8.0,   8.5, 10.0, 12.0])\n",
    "ydata = np.array([0.01, 0.02, 0.04, 0.11, 0.43,  0.7, 0.89, 0.95, 0.99])\n",
    "\n",
    "x100 = np.array([.5, 1.5, 4.5, 8, 10, 12, 14, 16])\n",
    "y100 = np.array([\n",
    "0.00885691708746097,0.0161886154261265,\n",
    "0.0373005242261882,\n",
    "0.2798939020159581,0.51,\n",
    "0.7797294067, 0.95,\n",
    "1])\n",
    "\n",
    "x10 = np.array([.5, 1.5, 4.5, 8, 10, 12, 14, 16])\n",
    "y10 = np.array([0.0106013664572332,\n",
    "0.00519576571714913,\n",
    "0.02967443048221,\n",
    "0.050022163974868,\n",
    "0.108128107774737, 0.25, \n",
    "0.56055140114867, 0.77])\n",
    "popt, pcov = curve_fit(sigmoid, x100, y100)\n",
    "print(popt)\n",
    "\n",
    "x = np.linspace(0, 16, 50)\n",
    "y = sigmoid(x, *popt)\n",
    "\n",
    "pylab.plot(x100, y100, 'o', label='data')\n",
    "pylab.plot(x,y, label='fit')\n",
    "# pylab.ylim(0, 1.05)\n",
    "pylab.legend(loc='best')\n",
    "pylab.show()"
   ]
  },
  {
   "cell_type": "code",
   "execution_count": null,
   "metadata": {},
   "outputs": [],
   "source": []
  },
  {
   "cell_type": "code",
   "execution_count": null,
   "metadata": {},
   "outputs": [],
   "source": [
    "x = np.array([.5*60, 1.5*60, 4.5*60, 8*60, 12*60, 16*60])\n",
    "y = np.array([\n",
    "0.00885691708746097,0.0161886154261265,\n",
    "0.0373005242261882,\n",
    "0.0798939020159581,\n",
    "0.639729406776,\n",
    "1])"
   ]
  },
  {
   "cell_type": "code",
   "execution_count": null,
   "metadata": {},
   "outputs": [],
   "source": [
    "plt.figure()\n",
    "plt.scatter(x,y)\n",
    "plt.plot(x,y)\n",
    "\n",
    "plt.show()"
   ]
  },
  {
   "cell_type": "code",
   "execution_count": null,
   "metadata": {},
   "outputs": [],
   "source": [
    "par_files = os.listdir('10000pso')[500:5000]\n",
    "n_pars = len(par_files)\n",
    "all_pars = np.zeros((n_pars, 51))\n",
    "\n",
    "rate_params = model.parameters_rules() # these are only the parameters involved in the rules\n",
    "param_values = np.array([p.value for p in model.parameters]) # these are all the parameters\n",
    "rate_mask = np.array([p in rate_params for p in model.parameters])\n",
    "\n",
    "for i in range(n_pars):\n",
    "    par = np.load('10000pso/{0}'.format(par_files[i]))\n",
    "    param_values[rate_mask] = 10 ** par\n",
    "    all_pars[i] = param_values\n",
    "obs_y_range = ['MLKLa_obs']\n",
    "print(len(all_pars))"
   ]
  },
  {
   "cell_type": "code",
   "execution_count": null,
   "metadata": {},
   "outputs": [],
   "source": [
    "# l = [i for i in range(10)]\n",
    "tspan = np.linspace(0, 1440, 100)\n",
    "solver100 = ScipyOdeSimulator(model, tspan=tspan)\n",
    "result100 = solver100.run(param_values=all_pars[:])\n",
    "df = result100.dataframe"
   ]
  },
  {
   "cell_type": "code",
   "execution_count": null,
   "metadata": {},
   "outputs": [],
   "source": [
    "# from necroptosismodule import model\n",
    "from pylab import *\n",
    "from pysb.core import *\n",
    "from pysb.bng import *\n",
    "from pysb.integrate import *\n",
    "import matplotlib.pyplot as plt\n",
    "import numpy as np\n",
    "from pysb.util import alias_model_components\n",
    "# from pysb.simulator import CupSodaSimulator\n",
    "from pysb.simulator import ScipyOdeSimulator\n",
    "# from pysb.simulator.bng import BngSimulator\n",
    "# from necro import model\n",
    "import pandas as pd\n",
    "from pysb.simulator import SimulationResult\n",
    "# alias_model_components(model)\n",
    "import h5py"
   ]
  },
  {
   "cell_type": "code",
   "execution_count": null,
   "metadata": {},
   "outputs": [],
   "source": [
    "from pysb.core import ComponentSet, Model\n",
    "from pysb.simulator import SimulationResult\n",
    "import weakref\n",
    "from contextlib import contextmanager\n",
    "\n",
    "def _model_setstate_monkey_patch(self, state):\n",
    "    \"\"\"Monkey patch for Model.__setstate__ for restoring from older pickles\"\"\"\n",
    "\n",
    "    # restore the 'model' weakrefs on all components\n",
    "    self.__dict__.update(state)\n",
    "    # Set \"tags\" attribute for older, pickled models\n",
    "    self.__dict__.setdefault('tags', ComponentSet())\n",
    "    for c in self.all_components():\n",
    "        c.model = weakref.ref(self)\n",
    "\n",
    "@contextmanager\n",
    "def _patch_model_setstate():\n",
    "    old_setstate = Model.__setstate__\n",
    "    Model.__setstate__ = _model_setstate_monkey_patch\n",
    "    try:\n",
    "        yield\n",
    "    finally:\n",
    "        Model.__setstate__ = old_setstate\n",
    "\n",
    "def simulation_result_load(filename, dataset_name=None, group_name=None):\n",
    "    with _patch_model_setstate():\n",
    "        return SimulationResult.load(filename, dataset_name, group_name)"
   ]
  },
  {
   "cell_type": "code",
   "execution_count": null,
   "metadata": {},
   "outputs": [],
   "source": [
    "tnf10nokd = simulation_result_load('necro_pydream_5chns_929_10tnf_updated_nokd10000.h5')\n",
    "# df1 = result100.dataframe"
   ]
  },
  {
   "cell_type": "code",
   "execution_count": null,
   "metadata": {},
   "outputs": [],
   "source": [
    "tnf10koc8fp = simulation_result_load('necro_pydream_5chns_929_10tnf_updated_koC8Flip10000.h5')\n",
    "# df2 = tnf10oec8fp.dataframe"
   ]
  },
  {
   "cell_type": "code",
   "execution_count": null,
   "metadata": {},
   "outputs": [],
   "source": [
    "df1 = tnf10nokd.dataframe\n",
    "df2 = tnf10koc8fp.dataframe"
   ]
  },
  {
   "cell_type": "code",
   "execution_count": null,
   "metadata": {},
   "outputs": [],
   "source": [
    "time = tnf10nokd.tout[0]\n",
    "\n",
    "def mean_confidence_interval(data, confidence=0.95):\n",
    "    a = 1.0 * np.array(data)\n",
    "    n = len(a)\n",
    "    m, se = np.mean(a), scipy.stats.sem(a)\n",
    "    h = se * scipy.stats.t.ppf((1 + confidence) / 2., n-1)\n",
    "    return m, m-h, m+h\n",
    "\n",
    "idx = pd.MultiIndex.from_product([df1.columns,\n",
    "                                  ['mean', 'mean_minus', 'mean_plus']],\n",
    "                                 names=['species', 'CI'])\n",
    "\n",
    "ci_df = pd.DataFrame(0, idx, time)\n",
    "\n",
    "from scipy import stats\n",
    "for sp in df1.columns:\n",
    "    for t in time: \n",
    "        sp_values = df1.xs(t, level='time', drop_level=False)[sp].values # axis=1 if columns\n",
    "        ci_df.loc[[sp], t] = mean_confidence_interval(sp_values)"
   ]
  },
  {
   "cell_type": "code",
   "execution_count": null,
   "metadata": {},
   "outputs": [],
   "source": [
    "time = tnf10koc8fp.tout[0]\n",
    "\n",
    "def mean_confidence_interval(data, confidence=0.95):\n",
    "    a = 1.0 * np.array(data)\n",
    "    n = len(a)\n",
    "    m, se = np.mean(a), scipy.stats.sem(a)\n",
    "    h = se * scipy.stats.t.ppf((1 + confidence) / 2., n-1)\n",
    "    return m, m-h, m+h\n",
    "\n",
    "idx = pd.MultiIndex.from_product([df2.columns,\n",
    "                                  ['mean', 'mean_minus', 'mean_plus']],\n",
    "                                 names=['species', 'CI'])\n",
    "\n",
    "ci_df2 = pd.DataFrame(0, idx, time)\n",
    "\n",
    "from scipy import stats\n",
    "for sp in df2.columns:\n",
    "    for t in time: \n",
    "        sp_values = df2.xs(t, level='time', drop_level=False)[sp].values # axis=1 if columns\n",
    "        ci_df2.loc[[sp], t] = mean_confidence_interval(sp_values)"
   ]
  },
  {
   "cell_type": "code",
   "execution_count": null,
   "metadata": {},
   "outputs": [],
   "source": [
    "p = 300\n",
    "mean_pmlkl = ci_df.loc['MLKLa_obs'][:1].values.reshape((p,))\n",
    "upper_pmlkl = ci_df.loc['MLKLa_obs'][2:3].values.reshape((p,))\n",
    "lower_pmlkl = ci_df.loc['MLKLa_obs'][1:2].values.reshape((p,))\n",
    "\n",
    "mean_flip = ci_df.loc['Flip_obs'][:1].values.reshape((p,))\n",
    "upper_flip = ci_df.loc['Flip_obs'][2:3].values.reshape((p,))\n",
    "lower_flip = ci_df.loc['Flip_obs'][1:2].values.reshape((p,))\n",
    "\n",
    "mean_C8flip = ci_df.loc['C8Flip_obs'][:1].values.reshape((p,))\n",
    "upper_C8flip = ci_df.loc['C8Flip_obs'][2:3].values.reshape((p,))\n",
    "lower_C8flip = ci_df.loc['C8Flip_obs'][1:2].values.reshape((p,))\n",
    "\n",
    "mean_necro = ci_df.loc['RIP1RIP3unmod_obs'][:1].values.reshape((p,))\n",
    "upper_necro = ci_df.loc['RIP1RIP3unmod_obs'][2:3].values.reshape((p,))\n",
    "lower_necro = ci_df.loc['RIP1RIP3unmod_obs'][1:2].values.reshape((p,))"
   ]
  },
  {
   "cell_type": "code",
   "execution_count": null,
   "metadata": {},
   "outputs": [],
   "source": [
    "p = 300\n",
    "mean_pmlkl2 = ci_df2.loc['MLKLa_obs'][:1].values.reshape((p,))\n",
    "upper_pmlkl2 = ci_df2.loc['MLKLa_obs'][2:3].values.reshape((p,))\n",
    "lower_pmlkl2 = ci_df2.loc['MLKLa_obs'][1:2].values.reshape((p,))\n",
    "\n",
    "mean_flip2 = ci_df2.loc['Flip_obs'][:1].values.reshape((p,))\n",
    "upper_flip2 = ci_df2.loc['Flip_obs'][2:3].values.reshape((p,))\n",
    "lower_flip2 = ci_df2.loc['Flip_obs'][1:2].values.reshape((p,))\n",
    "\n",
    "mean_C8flip2 = ci_df2.loc['C8Flip_obs'][:1].values.reshape((p,))\n",
    "upper_C8flip2 = ci_df2.loc['C8Flip_obs'][2:3].values.reshape((p,))\n",
    "lower_C8flip2 = ci_df2.loc['C8Flip_obs'][1:2].values.reshape((p,))\n",
    "\n",
    "mean_necro2 = ci_df2.loc['RIP1RIP3unmod_obs'][:1].values.reshape((p,))\n",
    "upper_necro2 = ci_df2.loc['RIP1RIP3unmod_obs'][2:3].values.reshape((p,))\n",
    "lower_necro2 = ci_df2.loc['RIP1RIP3unmod_obs'][1:2].values.reshape((p,))"
   ]
  },
  {
   "cell_type": "code",
   "execution_count": null,
   "metadata": {},
   "outputs": [],
   "source": [
    "plt.figure(figsize = (20,5))\n",
    "# plt.figure()\n",
    "plt.subplot(141)\n",
    "plt.plot(time/60, mean_flip, color = 'black', label ='mean_WT', zorder = 2)\n",
    "plt.fill_between(time/60, lower_flip, upper_flip, color = 'green', label ='95%CI_WT',zorder = 1, alpha=0.3)\n",
    "# plt.plot(time/60, mean_flip2, color = 'black', label ='mean_KO', zorder = 2)\n",
    "# plt.fill_between(time/60, lower_flip2, upper_flip2, color = 'blue', label ='95%CI_KO',zorder = 1, alpha=0.3)\n",
    "plt.xlim(xmax = 24, xmin = 0)\n",
    "plt.xlabel('Time (hours)')\n",
    "plt.ylabel('Amount (molecule/cell)')\n",
    "plt.legend()\n",
    "plt.title(r'95% CI of cFlip-L under 10ng/ml of TNF$\\alpha$')\n",
    "\n",
    "# plt.figure()\n",
    "plt.subplot(142)\n",
    "plt.plot(time/60, mean_C8flip , color = 'black', label ='mean_WT', zorder = 2)\n",
    "plt.fill_between(time/60, lower_C8flip , upper_C8flip , color = 'green', label ='95%CI_WT',zorder = 1, alpha=0.3)\n",
    "plt.plot(time/60, mean_C8flip2 , color = 'black', label ='mean_KO', zorder = 2)\n",
    "plt.fill_between(time/60, lower_C8flip2 , upper_C8flip2 , color = 'blue', label ='95%CI_KO',zorder = 1, alpha=0.3)\n",
    "plt.xlim(xmax = 24, xmin = 0)\n",
    "plt.xlabel('Time (hours)')\n",
    "plt.ylabel('Amount (molecule/cell)')\n",
    "plt.legend()\n",
    "plt.title(r'95% CI of C8Flip 10ng/ml of TNF$\\alpha$')\n",
    "\n",
    "plt.subplot(143)\n",
    "plt.plot(time/60, mean_necro, color = 'black', label ='mean_WT', zorder = 2)\n",
    "plt.fill_between(time/60, lower_necro, upper_necro,color = 'green', label ='95%CI_WT',zorder = 1, alpha=0.3)\n",
    "plt.plot(time/60, mean_necro2, color = 'black', label ='mean_KO', zorder = 2)\n",
    "plt.fill_between(time/60, lower_necro2, upper_necro2,color = 'blue', label ='95%CI_KO',zorder = 1,alpha=0.3)\n",
    "plt.xlim(xmax = 24, xmin = 0)\n",
    "plt.xlabel('Time (hours)')\n",
    "plt.ylabel('Amount (molecule/cell)')\n",
    "plt.legend()\n",
    "plt.title(r'95% CI of Necrosome under 10ng/ml of TNF$\\alpha$')\n",
    "\n",
    "x100 = np.array([30, 90, 270, 480, 600, 720, 840, 960])\n",
    "y100 = np.array([0.00885691708746097,0.0161886154261265,0.0373005242261882,0.2798939020159581,0.510, .7797294067, 0.95,1])\n",
    "# plt.figure()\n",
    "\n",
    "x10 = np.array([30, 90, 270, 480, 600, 720, 840, 960])\n",
    "y10 = np.array([0.0106013664572332,0.00519576571714913,0.02967443048221,0.050022163974868,0.108128107774737, 0.25,0.56055140114867, 0.77])\n",
    "plt.subplot(144)\n",
    "plt.plot(time/60, mean_pmlkl, color = 'black', label ='mean_WT', zorder = 2)\n",
    "plt.fill_between(time/60, lower_pmlkl, upper_pmlkl, color = 'green', label ='95%CI_WT',zorder = 1, alpha=0.3)\n",
    "plt.plot(time/60, mean_pmlkl2, color = 'black', label ='mean_KO', zorder = 2)\n",
    "plt.fill_between(time/60, lower_pmlkl2, upper_pmlkl2, color = 'blue', label ='95%CI_KO',zorder = 1, alpha=0.3)\n",
    "# plt.scatter(x10/60, y10*5544, label = 'data', color = 'k')\n",
    "plt.xlim(xmax = 24, xmin = 0)\n",
    "plt.xlabel('Time (hours)')\n",
    "plt.ylabel('Amount (molecule/cell)')\n",
    "plt.legend()\n",
    "plt.title(r'95% CI of pMLKL under 10ng/ml of TNF$\\alpha$')\n",
    "plt.tight_layout()\n",
    "plt.savefig('Necroptosis95CI_10TNF_10000pydream_ko3C8Flip_updatedagjshaejfwnGF.pdf', format='pdf')\n",
    "plt.show()"
   ]
  },
  {
   "cell_type": "code",
   "execution_count": null,
   "metadata": {},
   "outputs": [],
   "source": [
    "x100 = np.array([.5, 1.5, 4.5, 8, 12, 16])\n",
    "y100 = np.array([\n",
    "0.00885691708746097*5544,0.0161886154261265*5544,\n",
    "0.0373005242261882*5544,\n",
    "0.0798939020159581*5544,\n",
    "0.639729406776*5544,\n",
    "1*5544])\n",
    "y10 = np.array([0.0106013664572332*5544,\n",
    "0.00519576571714913*5544,\n",
    "0.02967443048221*5544,\n",
    "0.050022163974868*5544,\n",
    "0.198128107774737*5544,\n",
    "0.560551401148672*5544])\n",
    "y1 = np.array([0.0060632926030143*5544,\n",
    "0.00942691670200054*5544,\n",
    "0.0113342231044983*5544,\n",
    "0.0312716821493274*5544,\n",
    "0.10956134602783*5544,\n",
    "0.291058859808041*5544])\n",
    "y0 = np.array([0.00777642331264696*5544,\n",
    "0.00919829048298192*5544,\n",
    "0.00177263616389778*5544,\n",
    "0.00637961107042362*5544,\n",
    "0.0136330127587403*5544,\n",
    "0.10852337335697491*5544])\n",
    "\n",
    "y100.std()"
   ]
  },
  {
   "cell_type": "code",
   "execution_count": null,
   "metadata": {},
   "outputs": [],
   "source": [
    "data = np.array([0.001, 0.003, 0.01, 0.0152, 0.03, 0.05, 0.5, 0.99, 1.])\n",
    "t = np.array([0., 30,  60,   120,  180, 270,  480,  960, 1440])\n",
    "\n",
    "plt.figure()\n",
    "# for n in range(len(all_pars)):\n",
    "#     plt.plot(tspan/60, df.loc[n]['MLKLa_obs'].iloc[:]/5544,lw=1.5, color ='blue', zorder = 1)\n",
    "# plt.scatter(t/60, data)\n",
    "plt.scatter(x100, y100, zorder = 2)\n",
    "plt.scatter(x100,y10)\n",
    "# plt.scatter(x100,y1/5544)\n",
    "# plt.scatter(x100,y0/5544)\n",
    "# plt.plot(t/60, data)\n",
    "plt.plot(x100,y100, label = '100 ng/ml')\n",
    "plt.plot(x100,y10, label = '10 ng/ml')\n",
    "# plt.plot(x100,y1/5544, label = '1 ng/ml')\n",
    "# plt.plot(x100,y0/5544, label = '0.1 ng/ml')\n",
    "plt.ylabel('pMLKL data under TNF doses', fontsize=12)\n",
    "plt.xlabel('Time [hours]', fontsize=12)\n",
    "# plt.legend(loc = 'best')\n",
    "# plt.savefig('pMLKL_ExpData.pdf', format = 'pdf')\n",
    "plt.show()"
   ]
  },
  {
   "cell_type": "code",
   "execution_count": null,
   "metadata": {},
   "outputs": [],
   "source": [
    "plt.figure()\n",
    "for n in range(len(all_pars)):\n",
    "    plt.plot(tspan/60, df.loc[n]['MLKLa_obs'].iloc[:],lw=1.5, color ='blue', zorder = 1)\n",
    "#     plt.scatter(x,y, zorder = 2)\n",
    "    # plt.plot(tspan / 60, df.loc[n]['RIP1deub_obs'].iloc[:] / df.loc[n]['RIP1deub_obs'].iloc[:].max(), lw=1.5)\n",
    "    # plt.plot(tspan / 60, df.loc[n]['RIP1trunc_obs'].iloc[:] / df.loc[n]['RIP1trunc_obs'].iloc[:].max(), lw=1.5)\n",
    "# plt.plot(tspan/60, simulation /_result.observables['CII_C8a_obs'], label = 'CII_C8a')\n",
    "plt.xlabel(\"Time (in hr)\", fontsize=10)\n",
    "plt.ylabel(\"Amount mol/cell\", fontsize=10)\n",
    "plt.title('Flip-L')\n",
    "# plt.ylim(ymin = -10, ymax =100)\n",
    "# plt.legend(loc=0)\n",
    "plt.show()"
   ]
  },
  {
   "cell_type": "code",
   "execution_count": null,
   "metadata": {},
   "outputs": [],
   "source": []
  },
  {
   "cell_type": "code",
   "execution_count": null,
   "metadata": {},
   "outputs": [],
   "source": [
    "time = result100.tout[0]\n",
    "\n",
    "def mean_confidence_interval(data, confidence=0.95):\n",
    "    a = 1.0 * np.array(data)\n",
    "    n = len(a)\n",
    "    m, se = np.mean(a), scipy.stats.sem(a)\n",
    "    h = se * scipy.stats.t.ppf((1 + confidence) / 2., n-1)\n",
    "    return m, m-h, m+h"
   ]
  },
  {
   "cell_type": "code",
   "execution_count": null,
   "metadata": {},
   "outputs": [],
   "source": [
    "idx = pd.MultiIndex.from_product([df.columns,\n",
    "                                  ['mean', 'mean_minus', 'mean_plus']],\n",
    "                                 names=['species', 'CI'])\n",
    "\n",
    "ci_df = pd.DataFrame(0, idx, time)"
   ]
  },
  {
   "cell_type": "code",
   "execution_count": null,
   "metadata": {},
   "outputs": [],
   "source": [
    "ci_df.columns.values.shape"
   ]
  },
  {
   "cell_type": "code",
   "execution_count": null,
   "metadata": {},
   "outputs": [],
   "source": [
    "from scipy import stats\n",
    "for sp in df.columns:\n",
    "    for t in time: \n",
    "        sp_values = df.xs(t, level='time', drop_level=False)[sp].values # axis=1 if columns\n",
    "        ci_df.loc[[sp], t] = mean_confidence_interval(sp_values)"
   ]
  },
  {
   "cell_type": "code",
   "execution_count": null,
   "metadata": {},
   "outputs": [],
   "source": [
    "# mean = ci_df.loc['MLKLa_obs'][:1].values.reshape((1441,))\n",
    "# upper = ci_df.loc['MLKLa_obs'][2:3].values.reshape((1441,))\n",
    "# lower = ci_df.loc['MLKLa_obs'][1:2].values.reshape((1441,))\n",
    "mean_pmlkl = ci_df.loc['MLKLa_obs'][:1].values.reshape((100,))\n",
    "upper_pmlkl = ci_df.loc['MLKLa_obs'][2:3].values.reshape((100,))\n",
    "lower_pmlkl = ci_df.loc['MLKLa_obs'][1:2].values.reshape((100,))"
   ]
  },
  {
   "cell_type": "code",
   "execution_count": null,
   "metadata": {},
   "outputs": [],
   "source": [
    "mean_flip = ci_df.loc['Flip_obs'][:1].values.reshape((100,))\n",
    "upper_flip = ci_df.loc['Flip_obs'][2:3].values.reshape((100,))\n",
    "lower_flip = ci_df.loc['Flip_obs'][1:2].values.reshape((100,))"
   ]
  },
  {
   "cell_type": "code",
   "execution_count": null,
   "metadata": {},
   "outputs": [],
   "source": [
    "mean_C8flip = ci_df.loc['C8Flip_obs'][:1].values.reshape((100,))\n",
    "upper_C8flip = ci_df.loc['C8Flip_obs'][2:3].values.reshape((100,))\n",
    "lower_C8flip = ci_df.loc['C8Flip_obs'][1:2].values.reshape((100,))"
   ]
  },
  {
   "cell_type": "code",
   "execution_count": null,
   "metadata": {},
   "outputs": [],
   "source": [
    "mean_necro = ci_df.loc['RIP1RIP3unmod_obs'][:1].values.reshape((100,))\n",
    "upper_necro = ci_df.loc['RIP1RIP3unmod_obs'][2:3].values.reshape((100,))\n",
    "lower_necro = ci_df.loc['RIP1RIP3unmod_obs'][1:2].values.reshape((100,))"
   ]
  },
  {
   "cell_type": "code",
   "execution_count": null,
   "metadata": {},
   "outputs": [],
   "source": [
    "ci_df.head()"
   ]
  },
  {
   "cell_type": "code",
   "execution_count": null,
   "metadata": {},
   "outputs": [],
   "source": [
    "t = np.array([0., 30,  60,   120,  180, 270,  480,  960, 1440])\n",
    "data = np.array([0.001, 0.003, 0.01, 0.0152, 0.03, 0.05, 0.5, 0.99, 1.])"
   ]
  },
  {
   "cell_type": "code",
   "execution_count": null,
   "metadata": {},
   "outputs": [],
   "source": [
    "plt.figure()\n",
    "plt.plot(time/60, mean_pmlkl, color = 'black', label ='mean', zorder = 3)\n",
    "# plt.scatter(t/60, data*5544, color ='black', label = 'pMLKL_data',zorder = 2)\n",
    "plt.fill_between(time/60, lower_pmlkl, upper_pmlkl, label ='95% CI',zorder = 1,alpha = 0.2)\n",
    "plt.xlabel('Time (hours)')\n",
    "plt.ylabel('Amount (molecule/cell)')\n",
    "plt.legend()\n",
    "plt.title('95% Confidence Interval of pMLKL under 100ng/ml of TNFa')\n",
    "plt.savefig('pMLKL_100TNF_95CI_CI.pdf', format = 'pdf')\n",
    "plt.show()"
   ]
  },
  {
   "cell_type": "code",
   "execution_count": null,
   "metadata": {},
   "outputs": [],
   "source": [
    "plt.figure()\n",
    "plt.plot(time/60, mean_flip, color = 'black', label ='mean', zorder = 3)\n",
    "plt.fill_between(time/60, lower_flip, upper_flip, label ='95% CI',zorder = 1, alpha = 0.2)\n",
    "plt.xlabel('Time (hours)')\n",
    "plt.ylabel('Amount (molecule/cell)')\n",
    "plt.legend()\n",
    "plt.title('95% Confidence Interval of pMLKL under 100ng/ml of TNFa')\n",
    "# plt.savefig('pMLKL_100TNF_95CI_CI.pdf', format = 'pdf')\n",
    "plt.show()"
   ]
  },
  {
   "cell_type": "code",
   "execution_count": null,
   "metadata": {},
   "outputs": [],
   "source": []
  },
  {
   "cell_type": "code",
   "execution_count": null,
   "metadata": {},
   "outputs": [],
   "source": []
  },
  {
   "cell_type": "code",
   "execution_count": null,
   "metadata": {},
   "outputs": [],
   "source": [
    "# Visualize the result\n",
    "plt.plot(time, mean, 'or')\n",
    "# plt.plot(xfit, yfit, '-', color='gray')\n",
    "\n",
    "plt.fill_between(time, lower, upper, color='gray', alpha=0.2)\n",
    "plt.xlim(0, 10);"
   ]
  },
  {
   "cell_type": "code",
   "execution_count": null,
   "metadata": {},
   "outputs": [],
   "source": [
    "# Define a function for the line plot with intervals\n",
    "def lineplotCI(x_data, y_data, sorted_x, low_CI, upper_CI, x_label, y_label, title):\n",
    "    # Create the plot object\n",
    "    _, ax = plt.subplots()\n",
    "\n",
    "    # Plot the data, set the linewidth, color and transparency of the\n",
    "    # line, provide a label for the legend\n",
    "    ax.plot(x_data, y_data, lw = 1, color = '#539caf', alpha = 1, label = 'Fit')\n",
    "    # Shade the confidence interval\n",
    "    ax.fill_between(sorted_x, low_CI, upper_CI, color = '#539caf', alpha = 0.4, label = '95% CI')\n",
    "    # Label the axes and provide a title\n",
    "    ax.set_title(title)\n",
    "    ax.set_xlabel(x_label)\n",
    "    ax.set_ylabel(y_label)\n",
    "\n",
    "    # Display legend\n",
    "    ax.legend(loc = 'best')"
   ]
  },
  {
   "cell_type": "code",
   "execution_count": null,
   "metadata": {},
   "outputs": [],
   "source": [
    "df = result100.dataframe.transpose()\n",
    "df[0].ix['MLKLa_obs'][:]"
   ]
  },
  {
   "cell_type": "code",
   "execution_count": null,
   "metadata": {},
   "outputs": [],
   "source": [
    "x = result100.observables\n",
    "x[0]"
   ]
  },
  {
   "cell_type": "code",
   "execution_count": null,
   "metadata": {},
   "outputs": [],
   "source": [
    "solver10 = ScipyOdeSimulator(model, tspan=tspan)\n",
    "result10 = solver10.run(initials = {TNF(brec=None): 232}, param_values=all_pars[:])"
   ]
  },
  {
   "cell_type": "code",
   "execution_count": null,
   "metadata": {},
   "outputs": [],
   "source": [
    "solver1 = ScipyOdeSimulator(model, tspan=tspan)\n",
    "result1 = solver1.run(initials = {TNF(brec=None): 23}, param_values=all_pars[:])"
   ]
  },
  {
   "cell_type": "code",
   "execution_count": null,
   "metadata": {},
   "outputs": [],
   "source": [
    "solver01 = ScipyOdeSimulator(model, tspan=tspan)\n",
    "result01 = solver01.run(initials = {TNF(brec=None): 2}, param_values=all_pars[:])"
   ]
  },
  {
   "cell_type": "code",
   "execution_count": null,
   "metadata": {},
   "outputs": [],
   "source": [
    "df = result100.dataframe(columns=['time', 'pmlkl'])\n",
    "# df['time'] = len(df.loc[:]['MLKLa_obs'].iloc[:])\n",
    "# df['pmlkl'] = df.loc[:]['MLKLa_obs'].iloc[:]\n",
    "mlkl = df.loc[:]['MLKLa_obs'].iloc[:]\n",
    "mlklt = mlkl.transpose()"
   ]
  },
  {
   "cell_type": "code",
   "execution_count": null,
   "metadata": {},
   "outputs": [],
   "source": [
    "mlklt.head()"
   ]
  },
  {
   "cell_type": "code",
   "execution_count": null,
   "metadata": {},
   "outputs": [],
   "source": [
    "mlkl.to_csv('pmlkl_10tpts.csv')"
   ]
  },
  {
   "cell_type": "code",
   "execution_count": null,
   "metadata": {},
   "outputs": [],
   "source": [
    "df.head()"
   ]
  },
  {
   "cell_type": "code",
   "execution_count": null,
   "metadata": {
    "scrolled": false
   },
   "outputs": [],
   "source": [
    "a = df.loc[:]['CII_obs'].iloc[:]\n",
    "a.head()"
   ]
  },
  {
   "cell_type": "code",
   "execution_count": null,
   "metadata": {},
   "outputs": [],
   "source": [
    "b = a.T"
   ]
  },
  {
   "cell_type": "code",
   "execution_count": null,
   "metadata": {},
   "outputs": [],
   "source": [
    "b.head()"
   ]
  },
  {
   "cell_type": "code",
   "execution_count": null,
   "metadata": {},
   "outputs": [],
   "source": [
    "df.loc[:]['CII_C8a_obs'].iloc[:].max()"
   ]
  },
  {
   "cell_type": "code",
   "execution_count": null,
   "metadata": {},
   "outputs": [],
   "source": [
    "CII_obs = df.loc[:]['CII_obs'].iloc[:]/df.loc[:]['CII_obs'].iloc[:].max()\n",
    "CII_obs.head()"
   ]
  },
  {
   "cell_type": "code",
   "execution_count": null,
   "metadata": {},
   "outputs": [],
   "source": [
    "df.loc[:]['CII_obs'].iloc[:].head()"
   ]
  },
  {
   "cell_type": "code",
   "execution_count": null,
   "metadata": {},
   "outputs": [],
   "source": [
    "df.head()"
   ]
  },
  {
   "cell_type": "code",
   "execution_count": null,
   "metadata": {},
   "outputs": [],
   "source": [
    "from tropical.visualize_trajectories import VisualizeTrajectories"
   ]
  },
  {
   "cell_type": "code",
   "execution_count": null,
   "metadata": {},
   "outputs": [],
   "source": [
    "necro_clusters = VisualizeTrajectories(model, result100, clusters=None)"
   ]
  },
  {
   "cell_type": "code",
   "execution_count": null,
   "metadata": {},
   "outputs": [],
   "source": [
    "necro_clusters.plot_cluster_dynamics(species=['MLKLa_obs'], fig_name='pmlkl_100ngml.png')\n",
    "plt.show()"
   ]
  },
  {
   "cell_type": "code",
   "execution_count": null,
   "metadata": {},
   "outputs": [],
   "source": [
    "necro_clusters.plot_cluster_dynamics(species=['CII_obs'], fig_name='CII_100ngml.png')\n",
    "plt.show()"
   ]
  },
  {
   "cell_type": "code",
   "execution_count": null,
   "metadata": {},
   "outputs": [],
   "source": [
    "necro_clusters.plot_cluster_dynamics(species=['CII_C8a_obs'], fig_name='CII_C8_100ngml.png')\n",
    "plt.show()"
   ]
  },
  {
   "cell_type": "code",
   "execution_count": null,
   "metadata": {},
   "outputs": [],
   "source": [
    "plt.figure()\n",
    "for i in range(0,500):\n",
    "    plt.plot(tspan, df.loc[:]['CII_obs'].iloc[:]/df.loc[:]['CII_obs'].iloc[:].max())\n",
    "plt.show()"
   ]
  },
  {
   "cell_type": "code",
   "execution_count": null,
   "metadata": {},
   "outputs": [],
   "source": [
    "pmlkl = df.loc[:]['MLKLa_obs'].iloc[:]\n",
    "print(len(pmlkl))"
   ]
  },
  {
   "cell_type": "code",
   "execution_count": null,
   "metadata": {},
   "outputs": [],
   "source": [
    "mean = []\n",
    "mlklp = []\n",
    "for i in range(len(tspan)):\n",
    "    mlklp[i] = df.loc[i:i]['MLKLa_obs'].iloc[i:i]\n",
    "    mean[i] = np.mean(mlklp[i]) "
   ]
  },
  {
   "cell_type": "code",
   "execution_count": null,
   "metadata": {},
   "outputs": [],
   "source": [
    "import pandas as pd\n",
    "df_pmlkl = pd.DataFrame(columns=['time', 'pmlkl', 'meanpmlkl', 'lpmlkl', 'uplmlkl'])\n",
    "df_pmlkl['time'] = len(df.loc[:]['MLKLa_obs'].iloc[:])\n",
    "df_pmlkl['pmlkl'] = df.loc[:]['MLKLa_obs'].iloc[:]\n",
    "df_pmlkl['meanpmlkl'] = np.mean(pmlkl)\n",
    "df_pmlkl"
   ]
  },
  {
   "cell_type": "code",
   "execution_count": null,
   "metadata": {},
   "outputs": [],
   "source": [
    "import numpy as np, scipy.stats as st\n",
    "ci = st.t.interval(0.95, len(pmlkl)-1, loc=np.mean(pmlkl), scale=st.sem(pmlkl))"
   ]
  },
  {
   "cell_type": "code",
   "execution_count": null,
   "metadata": {},
   "outputs": [],
   "source": [
    "import numpy as np\n",
    "import scipy.stats\n",
    "\n",
    "def mean_confidence_interval(data, confidence=0.95):\n",
    "    a = 1.0 * np.array(data)\n",
    "    n = len(a)\n",
    "    m, se = np.mean(a), scipy.stats.sem(a)\n",
    "    h = se * scipy.stats.t.ppf((1 + confidence) / 2., n-1)\n",
    "    return m, m-h, m+h"
   ]
  },
  {
   "cell_type": "code",
   "execution_count": null,
   "metadata": {},
   "outputs": [],
   "source": [
    "mean_confidence_interval(df.loc[:]['MLKLa_obs'].iloc[:], 0.95)"
   ]
  },
  {
   "cell_type": "code",
   "execution_count": null,
   "metadata": {},
   "outputs": [],
   "source": [
    "# Filling between line y3 and line y4\n",
    "plt.fill_between(tspan, 2392.356, 2402.73, color='grey', alpha='0.5')\n",
    "plt.show()"
   ]
  },
  {
   "cell_type": "code",
   "execution_count": null,
   "metadata": {},
   "outputs": [],
   "source": [
    "mean = np.mean(x) \n",
    "np.percentile(x,5)\n",
    "np.percentile(x,95)"
   ]
  },
  {
   "cell_type": "code",
   "execution_count": null,
   "metadata": {},
   "outputs": [],
   "source": [
    "ci"
   ]
  },
  {
   "cell_type": "code",
   "execution_count": null,
   "metadata": {},
   "outputs": [],
   "source": [
    "ax = sns.lineplot(x=\"time\", y=\"pMLKL\", data=mlklp)"
   ]
  },
  {
   "cell_type": "code",
   "execution_count": null,
   "metadata": {},
   "outputs": [],
   "source": []
  }
 ],
 "metadata": {
  "kernelspec": {
   "display_name": "Python 3",
   "language": "python",
   "name": "python3"
  },
  "language_info": {
   "codemirror_mode": {
    "name": "ipython",
    "version": 3
   },
   "file_extension": ".py",
   "mimetype": "text/x-python",
   "name": "python",
   "nbconvert_exporter": "python",
   "pygments_lexer": "ipython3",
   "version": "3.7.1"
  }
 },
 "nbformat": 4,
 "nbformat_minor": 2
}
