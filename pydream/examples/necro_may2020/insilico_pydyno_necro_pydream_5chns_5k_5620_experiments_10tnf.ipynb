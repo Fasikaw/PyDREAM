{
 "cells": [
  {
   "cell_type": "code",
   "execution_count": 17,
   "metadata": {},
   "outputs": [],
   "source": [
    "import os\n",
    "os.environ[\"OMP_NUM_THREADS\"] = \"1\"\n",
    "os.environ[\"OPENBLAS_NUM_THREADS\"] = \"1\"\n",
    "from pylab import *\n",
    "from pysb.core import *\n",
    "from pysb.bng import *\n",
    "from pysb.integrate import *\n",
    "import matplotlib.pyplot as plt\n",
    "import numpy as np\n",
    "from pysb.util import alias_model_components\n",
    "from pysb.simulator import CupSodaSimulator\n",
    "from pysb.simulator import ScipyOdeSimulator\n",
    "from pysb.simulator.bng import BngSimulator\n",
    "from necro_uncal_new_updated import model as model100\n",
    "from necro_uncal_new_10tnf import model as model10\n",
    "# from necro_uncal_new_1tnf import model as model1\n",
    "# from necro_uncal_new_01tnf import model as model01\n",
    "import pandas as pd\n",
    "# alias_model_components(model100, model10, model1, model01)\n",
    "from scipy import stats\n",
    "from pysb.simulator import SimulationResult"
   ]
  },
  {
   "cell_type": "code",
   "execution_count": 2,
   "metadata": {},
   "outputs": [
    {
     "name": "stdout",
     "output_type": "stream",
     "text": [
      "[(TNF(brec=None), Parameter('TNF_0', 233.0)), (TNFR(blig=None, brip=None, bDD=None), Parameter('TNFR_0', 4800.0)), (TRADD(brec=None, brip=None, state='unmod', bDD1=None, bDD2=None), Parameter('TRADD_0', 4696.0)), (RIP1(bscf=None, bub1=None, bub2=None, bub3=None, bDD=None, btraf=None, bRHIM=None, bMLKL=None, state='unmod'), Parameter('RIP1_0', 40000.0)), (TRAF(brip=None, bciap=None, bcyld=None, state='unmod'), Parameter('TRAF_0', 11776.0)), (cIAP(btraf=None), Parameter('cIAP_0', 9000.0)), (MLKL(bRHIM=None, state='unmod'), Parameter('MLKLa_0', 5544.0)), (A20(brip=None), Parameter('A20_0', 9000.0)), (CYLD(brip=None, btraf=None), Parameter('CYLD_0', 9000.0)), (FADD(bDD=None, bDED1=None, bDED2=None), Parameter('FADD_0', 3109.0)), (RIP3(bRHIM=None, bDD=None, state='unmod'), Parameter('RIP3_0', 10654.0)), (flip_L(bDED=None, state='A'), Parameter('flip_L_0', 3900.0)), (LUBAC(brip=None), Parameter('Lubac_0', 7226.0)), (C8(bf=None, flip=None, state='I'), Parameter('C8_0', 3799.0))]\n"
     ]
    }
   ],
   "source": [
    "print(list(model10.initial_conditions))"
   ]
  },
  {
   "cell_type": "code",
   "execution_count": 3,
   "metadata": {},
   "outputs": [],
   "source": [
    "clus0_10 = np.load('necro_pars_cluster0_5620.npy')\n",
    "clus1_10 = np.load('necro_pars_cluster1_5620.npy')\n",
    "clus2_10 = np.load('necro_pars_cluster2_5620.npy')"
   ]
  },
  {
   "cell_type": "code",
   "execution_count": 4,
   "metadata": {},
   "outputs": [
    {
     "name": "stdout",
     "output_type": "stream",
     "text": [
      "1236\n",
      "2536\n",
      "1228\n"
     ]
    }
   ],
   "source": [
    "print(len(clus0_10))\n",
    "print(len(clus1_10))\n",
    "print(len(clus2_10))"
   ]
  },
  {
   "cell_type": "code",
   "execution_count": 5,
   "metadata": {},
   "outputs": [],
   "source": [
    "m = model10.components "
   ]
  },
  {
   "cell_type": "markdown",
   "metadata": {},
   "source": [
    "# 10 TNF A20 KO Clusters 0,1,2"
   ]
  },
  {
   "cell_type": "code",
   "execution_count": 6,
   "metadata": {},
   "outputs": [
    {
     "name": "stderr",
     "output_type": "stream",
     "text": [
      "2020-05-14 20:49:41.820 - pysb.simulator.scipyode - DEBUG - [necro_uncal_new_10tnf] Simulator created\n"
     ]
    },
    {
     "name": "stdout",
     "output_type": "stream",
     "text": [
      "running simulations cluster 0 10 TNF\n"
     ]
    },
    {
     "name": "stderr",
     "output_type": "stream",
     "text": [
      "2020-05-14 20:49:42.301 - pysb.simulator.scipyode - DEBUG - [necro_uncal_new_10tnf] Equation mode set to \"cython\"\n",
      "2020-05-14 20:49:42.362 - pysb.simulator.scipyode - INFO - [necro_uncal_new_10tnf] Simulation(s) started\n",
      "2020-05-14 20:49:42.480 - pysb.simulator.scipyode - DEBUG - [necro_uncal_new_10tnf] Multi-processor (parallel) mode using 10 processes\n",
      "2020-05-14 20:49:59.225 - pysb.simulator.scipyode - INFO - [necro_uncal_new_10tnf] All simulation(s) complete\n",
      "2020-05-14 20:49:59.225 - pysb.simulator.scipyode - DEBUG - [necro_uncal_new_10tnf] SimulationResult constructor started\n",
      "2020-05-14 20:49:59.621 - pysb.simulator.scipyode - DEBUG - [necro_uncal_new_10tnf] SimulationResult constructor finished\n"
     ]
    }
   ],
   "source": [
    "print('running simulations cluster 0 10 TNF')\n",
    "tspan = np.linspace(0, 1440, 300)\n",
    "solvera200 = ScipyOdeSimulator(model10, tspan=tspan, verbose = True)\n",
    "a20clus0 = solvera200.run(initials = {m.A20(brip = None):0},\n",
    "                         param_values=clus0_10, num_processors = 10)\n",
    "# simclus00.save('pydyno_s36prod_5k_5620_10tnf_cluster0pars_a20ko.h5',include_obs_exprs = True)\n",
    "# c0_10_a20ko = simclus00.dataframe"
   ]
  },
  {
   "cell_type": "code",
   "execution_count": 7,
   "metadata": {},
   "outputs": [
    {
     "name": "stderr",
     "output_type": "stream",
     "text": [
      "2020-05-14 20:49:59.628 - pysb.simulator.scipyode - DEBUG - [necro_uncal_new_10tnf] Simulator created\n",
      "2020-05-14 20:49:59.632 - pysb.simulator.scipyode - DEBUG - [necro_uncal_new_10tnf] Equation mode set to \"cython\"\n",
      "2020-05-14 20:49:59.663 - pysb.simulator.scipyode - INFO - [necro_uncal_new_10tnf] Simulation(s) started\n"
     ]
    },
    {
     "name": "stdout",
     "output_type": "stream",
     "text": [
      "running simulations cluster 1 10 TNF\n"
     ]
    },
    {
     "name": "stderr",
     "output_type": "stream",
     "text": [
      "2020-05-14 20:49:59.873 - pysb.simulator.scipyode - DEBUG - [necro_uncal_new_10tnf] Multi-processor (parallel) mode using 10 processes\n",
      "2020-05-14 20:50:34.397 - pysb.simulator.scipyode - INFO - [necro_uncal_new_10tnf] All simulation(s) complete\n",
      "2020-05-14 20:50:34.398 - pysb.simulator.scipyode - DEBUG - [necro_uncal_new_10tnf] SimulationResult constructor started\n",
      "2020-05-14 20:50:35.238 - pysb.simulator.scipyode - DEBUG - [necro_uncal_new_10tnf] SimulationResult constructor finished\n"
     ]
    }
   ],
   "source": [
    "print('running simulations cluster 1 10 TNF')\n",
    "tspan = np.linspace(0, 1440, 300)\n",
    "solvera201 = ScipyOdeSimulator(model10, tspan=tspan, verbose = True)\n",
    "a20clus1 = solvera201.run(initials = {m.A20(brip = None):0},\n",
    "                         param_values=clus1_10, num_processors = 10)\n",
    "# simclus11.save('pydyno_s36prod_5k_5620_10tnf_cluster1pars_a20ko.h5',include_obs_exprs = True)\n",
    "# c1_10_a20ko = simclus11.dataframe"
   ]
  },
  {
   "cell_type": "code",
   "execution_count": 8,
   "metadata": {},
   "outputs": [
    {
     "name": "stderr",
     "output_type": "stream",
     "text": [
      "2020-05-14 20:50:35.244 - pysb.simulator.scipyode - DEBUG - [necro_uncal_new_10tnf] Simulator created\n",
      "2020-05-14 20:50:35.248 - pysb.simulator.scipyode - DEBUG - [necro_uncal_new_10tnf] Equation mode set to \"cython\"\n",
      "2020-05-14 20:50:35.280 - pysb.simulator.scipyode - INFO - [necro_uncal_new_10tnf] Simulation(s) started\n",
      "2020-05-14 20:50:35.396 - pysb.simulator.scipyode - DEBUG - [necro_uncal_new_10tnf] Multi-processor (parallel) mode using 10 processes\n"
     ]
    },
    {
     "name": "stdout",
     "output_type": "stream",
     "text": [
      "running simulations cluster 2 10 TNF\n"
     ]
    },
    {
     "name": "stderr",
     "output_type": "stream",
     "text": [
      "2020-05-14 20:50:52.492 - pysb.simulator.scipyode - INFO - [necro_uncal_new_10tnf] All simulation(s) complete\n",
      "2020-05-14 20:50:52.493 - pysb.simulator.scipyode - DEBUG - [necro_uncal_new_10tnf] SimulationResult constructor started\n",
      "2020-05-14 20:50:52.881 - pysb.simulator.scipyode - DEBUG - [necro_uncal_new_10tnf] SimulationResult constructor finished\n"
     ]
    }
   ],
   "source": [
    "print('running simulations cluster 2 10 TNF')\n",
    "tspan = np.linspace(0, 1440, 300)\n",
    "solvera202 = ScipyOdeSimulator(model10, tspan=tspan, verbose = True)\n",
    "a20clus2 = solvera202.run(initials = {m.A20(brip = None):0},\n",
    "                         param_values=clus2_10, num_processors = 10)\n",
    "# simclus22.save('pydyno_s36prod_5k_5620_10tnf_cluster2pars_a20ko.h5',include_obs_exprs = True)\n",
    "# c2_10_a20ko = simclus22.dataframe"
   ]
  },
  {
   "cell_type": "markdown",
   "metadata": {},
   "source": [
    "# 10 TNF CYLD KO Clusters 0,1,2"
   ]
  },
  {
   "cell_type": "code",
   "execution_count": 9,
   "metadata": {},
   "outputs": [
    {
     "name": "stderr",
     "output_type": "stream",
     "text": [
      "2020-05-14 20:50:52.887 - pysb.simulator.scipyode - DEBUG - [necro_uncal_new_10tnf] Simulator created\n",
      "2020-05-14 20:50:52.891 - pysb.simulator.scipyode - DEBUG - [necro_uncal_new_10tnf] Equation mode set to \"cython\"\n",
      "2020-05-14 20:50:52.923 - pysb.simulator.scipyode - INFO - [necro_uncal_new_10tnf] Simulation(s) started\n",
      "2020-05-14 20:50:53.041 - pysb.simulator.scipyode - DEBUG - [necro_uncal_new_10tnf] Multi-processor (parallel) mode using 12 processes\n"
     ]
    },
    {
     "name": "stdout",
     "output_type": "stream",
     "text": [
      "running simulations cluster 0 10 TNF\n"
     ]
    },
    {
     "name": "stderr",
     "output_type": "stream",
     "text": [
      "2020-05-14 20:51:05.122 - pysb.simulator.scipyode - INFO - [necro_uncal_new_10tnf] All simulation(s) complete\n",
      "2020-05-14 20:51:05.123 - pysb.simulator.scipyode - DEBUG - [necro_uncal_new_10tnf] SimulationResult constructor started\n",
      "2020-05-14 20:51:05.516 - pysb.simulator.scipyode - DEBUG - [necro_uncal_new_10tnf] SimulationResult constructor finished\n"
     ]
    }
   ],
   "source": [
    "print('running simulations cluster 0 10 TNF')\n",
    "tspan = np.linspace(0, 1440, 300)\n",
    "solvercyld0 = ScipyOdeSimulator(model10, tspan=tspan, verbose = True)\n",
    "cyldclus0 = solvercyld0.run(initials = {m.CYLD(brip=None, btraf = None):0},\n",
    "                         param_values=clus0_10, num_processors = 12)\n",
    "# simclus0000.save('pydyno_s36prod_5k_5620_10tnf_cluster0pars_cyldko.h5',include_obs_exprs = True)\n",
    "# c0_10_cyldko = simclus0000.dataframe"
   ]
  },
  {
   "cell_type": "code",
   "execution_count": 10,
   "metadata": {},
   "outputs": [
    {
     "name": "stderr",
     "output_type": "stream",
     "text": [
      "2020-05-14 20:51:05.523 - pysb.simulator.scipyode - DEBUG - [necro_uncal_new_10tnf] Simulator created\n",
      "2020-05-14 20:51:05.528 - pysb.simulator.scipyode - DEBUG - [necro_uncal_new_10tnf] Equation mode set to \"cython\"\n",
      "2020-05-14 20:51:05.559 - pysb.simulator.scipyode - INFO - [necro_uncal_new_10tnf] Simulation(s) started\n"
     ]
    },
    {
     "name": "stdout",
     "output_type": "stream",
     "text": [
      "running simulations cluster 1 10 TNF\n"
     ]
    },
    {
     "name": "stderr",
     "output_type": "stream",
     "text": [
      "2020-05-14 20:51:05.771 - pysb.simulator.scipyode - DEBUG - [necro_uncal_new_10tnf] Multi-processor (parallel) mode using 12 processes\n",
      "2020-05-14 20:51:30.067 - pysb.simulator.scipyode - INFO - [necro_uncal_new_10tnf] All simulation(s) complete\n",
      "2020-05-14 20:51:30.067 - pysb.simulator.scipyode - DEBUG - [necro_uncal_new_10tnf] SimulationResult constructor started\n",
      "2020-05-14 20:51:30.832 - pysb.simulator.scipyode - DEBUG - [necro_uncal_new_10tnf] SimulationResult constructor finished\n"
     ]
    }
   ],
   "source": [
    "print('running simulations cluster 1 10 TNF')\n",
    "tspan = np.linspace(0, 1440, 300)\n",
    "solvercyld1 = ScipyOdeSimulator(model10, tspan=tspan, verbose = True)\n",
    "cyldclus1 = solvercyld1.run(initials = {m.CYLD(brip=None, btraf = None):0},\n",
    "                         param_values=clus1_10, num_processors = 12)\n",
    "# simclus1111.save('pydyno_s36prod_5k_5620_10tnf_cluster1pars_cyldko.h5',include_obs_exprs = True)\n",
    "# c1_10_cyldko = simclus1111.dataframe"
   ]
  },
  {
   "cell_type": "code",
   "execution_count": 11,
   "metadata": {},
   "outputs": [
    {
     "name": "stderr",
     "output_type": "stream",
     "text": [
      "2020-05-14 20:51:30.840 - pysb.simulator.scipyode - DEBUG - [necro_uncal_new_10tnf] Simulator created\n",
      "2020-05-14 20:51:30.844 - pysb.simulator.scipyode - DEBUG - [necro_uncal_new_10tnf] Equation mode set to \"cython\"\n",
      "2020-05-14 20:51:30.875 - pysb.simulator.scipyode - INFO - [necro_uncal_new_10tnf] Simulation(s) started\n",
      "2020-05-14 20:51:30.992 - pysb.simulator.scipyode - DEBUG - [necro_uncal_new_10tnf] Multi-processor (parallel) mode using 12 processes\n"
     ]
    },
    {
     "name": "stdout",
     "output_type": "stream",
     "text": [
      "running simulations cluster 2 10 TNF\n"
     ]
    },
    {
     "name": "stderr",
     "output_type": "stream",
     "text": [
      "2020-05-14 20:51:42.979 - pysb.simulator.scipyode - INFO - [necro_uncal_new_10tnf] All simulation(s) complete\n",
      "2020-05-14 20:51:42.980 - pysb.simulator.scipyode - DEBUG - [necro_uncal_new_10tnf] SimulationResult constructor started\n",
      "2020-05-14 20:51:43.441 - pysb.simulator.scipyode - DEBUG - [necro_uncal_new_10tnf] SimulationResult constructor finished\n"
     ]
    }
   ],
   "source": [
    "print('running simulations cluster 2 10 TNF')\n",
    "tspan = np.linspace(0, 1440, 300)\n",
    "solvercyld2 = ScipyOdeSimulator(model10, tspan=tspan, verbose = True)\n",
    "cyldclus2 = solvercyld2.run(initials = {m.CYLD(brip=None, btraf = None):0},\n",
    "                         param_values=clus2_10, num_processors = 12)\n",
    "# simclus2222.save('pydyno_s36prod_5k_5620_10tnf_cluster2pars_cyldko.h5',include_obs_exprs = True)\n",
    "# c2_10_cyldko = simclus2222.dataframe"
   ]
  },
  {
   "cell_type": "markdown",
   "metadata": {},
   "source": [
    "# 10 TNF WT Clusters 0,1,2"
   ]
  },
  {
   "cell_type": "code",
   "execution_count": 12,
   "metadata": {},
   "outputs": [
    {
     "name": "stderr",
     "output_type": "stream",
     "text": [
      "2020-05-14 20:51:43.447 - pysb.simulator.scipyode - DEBUG - [necro_uncal_new_10tnf] Simulator created\n",
      "2020-05-14 20:51:43.451 - pysb.simulator.scipyode - DEBUG - [necro_uncal_new_10tnf] Equation mode set to \"cython\"\n",
      "2020-05-14 20:51:43.483 - pysb.simulator.scipyode - INFO - [necro_uncal_new_10tnf] Simulation(s) started\n",
      "2020-05-14 20:51:43.602 - pysb.simulator.scipyode - DEBUG - [necro_uncal_new_10tnf] Multi-processor (parallel) mode using 10 processes\n"
     ]
    },
    {
     "name": "stdout",
     "output_type": "stream",
     "text": [
      "running simulations cluster 0 10 TNF\n"
     ]
    },
    {
     "name": "stderr",
     "output_type": "stream",
     "text": [
      "2020-05-14 20:52:00.510 - pysb.simulator.scipyode - INFO - [necro_uncal_new_10tnf] All simulation(s) complete\n",
      "2020-05-14 20:52:00.511 - pysb.simulator.scipyode - DEBUG - [necro_uncal_new_10tnf] SimulationResult constructor started\n",
      "2020-05-14 20:52:00.903 - pysb.simulator.scipyode - DEBUG - [necro_uncal_new_10tnf] SimulationResult constructor finished\n"
     ]
    }
   ],
   "source": [
    "print('running simulations cluster 0 10 TNF')\n",
    "tspan = np.linspace(0, 1440, 300)\n",
    "solverwt0 = ScipyOdeSimulator(model10, tspan=tspan, verbose = True)\n",
    "wtclus0 = solverwt0.run(param_values=clus0_10, num_processors = 10)\n",
    "# sim00.save('pydyno_s36prod_5k_5620_10tnf_cluster0pars_wt.h5',include_obs_exprs = True)\n",
    "# wt10_0 = sim00.dataframe"
   ]
  },
  {
   "cell_type": "code",
   "execution_count": 13,
   "metadata": {},
   "outputs": [
    {
     "name": "stderr",
     "output_type": "stream",
     "text": [
      "2020-05-14 20:52:00.909 - pysb.simulator.scipyode - DEBUG - [necro_uncal_new_10tnf] Simulator created\n",
      "2020-05-14 20:52:00.914 - pysb.simulator.scipyode - DEBUG - [necro_uncal_new_10tnf] Equation mode set to \"cython\"\n",
      "2020-05-14 20:52:00.945 - pysb.simulator.scipyode - INFO - [necro_uncal_new_10tnf] Simulation(s) started\n"
     ]
    },
    {
     "name": "stdout",
     "output_type": "stream",
     "text": [
      "running simulations cluster 1 10 TNF\n"
     ]
    },
    {
     "name": "stderr",
     "output_type": "stream",
     "text": [
      "2020-05-14 20:52:01.163 - pysb.simulator.scipyode - DEBUG - [necro_uncal_new_10tnf] Multi-processor (parallel) mode using 10 processes\n",
      "2020-05-14 20:52:35.310 - pysb.simulator.scipyode - INFO - [necro_uncal_new_10tnf] All simulation(s) complete\n",
      "2020-05-14 20:52:35.311 - pysb.simulator.scipyode - DEBUG - [necro_uncal_new_10tnf] SimulationResult constructor started\n",
      "2020-05-14 20:52:36.079 - pysb.simulator.scipyode - DEBUG - [necro_uncal_new_10tnf] SimulationResult constructor finished\n"
     ]
    }
   ],
   "source": [
    "print('running simulations cluster 1 10 TNF')\n",
    "tspan = np.linspace(0, 1440, 300)\n",
    "solverwt1 = ScipyOdeSimulator(model10, tspan=tspan, verbose = True)\n",
    "wtclus0 = solverwt1.run(param_values=clus1_10, num_processors = 10)\n",
    "# sim11.save('pydyno_s36prod_5k_5620_10tnf_cluster1pars_wt.h5',include_obs_exprs = True)\n",
    "# wt10_1 = sim11.dataframe"
   ]
  },
  {
   "cell_type": "code",
   "execution_count": 14,
   "metadata": {},
   "outputs": [
    {
     "name": "stderr",
     "output_type": "stream",
     "text": [
      "2020-05-14 20:52:36.092 - pysb.simulator.scipyode - DEBUG - [necro_uncal_new_10tnf] Simulator created\n",
      "2020-05-14 20:52:36.096 - pysb.simulator.scipyode - DEBUG - [necro_uncal_new_10tnf] Equation mode set to \"cython\"\n",
      "2020-05-14 20:52:36.127 - pysb.simulator.scipyode - INFO - [necro_uncal_new_10tnf] Simulation(s) started\n",
      "2020-05-14 20:52:36.246 - pysb.simulator.scipyode - DEBUG - [necro_uncal_new_10tnf] Multi-processor (parallel) mode using 10 processes\n"
     ]
    },
    {
     "name": "stdout",
     "output_type": "stream",
     "text": [
      "running simulations cluster 2 10 TNF\n"
     ]
    },
    {
     "name": "stderr",
     "output_type": "stream",
     "text": [
      "2020-05-14 20:52:53.450 - pysb.simulator.scipyode - INFO - [necro_uncal_new_10tnf] All simulation(s) complete\n",
      "2020-05-14 20:52:53.451 - pysb.simulator.scipyode - DEBUG - [necro_uncal_new_10tnf] SimulationResult constructor started\n",
      "2020-05-14 20:52:53.835 - pysb.simulator.scipyode - DEBUG - [necro_uncal_new_10tnf] SimulationResult constructor finished\n"
     ]
    }
   ],
   "source": [
    "print('running simulations cluster 2 10 TNF')\n",
    "tspan = np.linspace(0, 1440, 300)\n",
    "solverwt2 = ScipyOdeSimulator(model10, tspan=tspan, verbose = True)\n",
    "wtclus0 = solverwt2.run(param_values=clus2_10, num_processors = 10)\n",
    "# sim22.save('pydyno_s36prod_5k_5620_10tnf_cluster2pars_wt.h5',include_obs_exprs = True)\n",
    "# wt10_2 = sim22.dataframe"
   ]
  },
  {
   "cell_type": "markdown",
   "metadata": {},
   "source": [
    "# Percentiles for 100 TNF vs A20 KO in Clus 0,1,2"
   ]
  },
  {
   "cell_type": "code",
   "execution_count": 15,
   "metadata": {},
   "outputs": [
    {
     "data": {
      "image/png": "[encoded data removed]",
      "text/plain": [
       "<Figure size 432x288 with 1 Axes>"
      ]
     },
     "metadata": {
      "needs_background": "light"
     },
     "output_type": "display_data"
    }
   ],
   "source": [
    "#FOR PLOTTING PERCENTILES \n",
    "\n",
    "# x10 = np.array([0, 30, 90, 270, 480,600, 720, 840, 960])\n",
    "# # x102 = np.array([600, 720, 840, 960])\n",
    "# y10 = np.array([0, 0.0106013664572332,0.00519576571714913,0.02967443048221,0.050022163974868,\n",
    "#                 0.088128107774737, 0.17, 0.30055140114867, 0.47])\n",
    "# # y102 = np.array([0.088128107774737, 0.17, 0.30055140114867, 0.47])\n",
    "\n",
    "# x100 = np.array([0, 30, 90, 270,480, 600, 720, 840, 960])\n",
    "# # x1002 = np.array([480, 600, 720, 840, 960])\n",
    "# y100 = np.array([0, 0.00885691708746097,0.0161886154261265,0.0373005242261882,\n",
    "#                   0.2798939020159581, 0.510, .8097294067, 0.95,0.98])\n",
    "\n",
    "x1001 = np.array([0, 30, 90, 270])\n",
    "x1002 = np.array([480, 720, 960])\n",
    "y1001 = np.array([0, 0.00885691708746097,0.0161886154261265,0.0373005242261882])\n",
    "y1002 = np.array([0.2798939020159581, .7797294067, 0.98])\n",
    "# plt.figure()\n",
    "\n",
    "x101 = np.array([0, 30, 90, 270, 480])\n",
    "x102 = np.array([720, 960])\n",
    "y101 = np.array([0, 0.0106013664572332,0.00519576571714913,0.02967443048221,0.050022163974868])\n",
    "y102 = np.array([0.17, 0.47])\n",
    "# Combine the results dataframes into a single dataframe with a 'group' index,\n",
    "# in addition to \"simulation\" and \"time\" indexes\n",
    "df = pd.concat([wtclus0.dataframe, a20clus0.dataframe, cyldclus0.dataframe],\n",
    "               keys=['wt', 'a20ko', 'cyldko'],\n",
    "               names=['group', 'simulation', 'time'])\n",
    "\n",
    "# Add observable/group pairs as needed\n",
    "obs_to_plot = {\n",
    "    ('MLKLa_obs', 'wt'): 'blue',\n",
    "    ('MLKLa_obs', 'a20ko'): 'red',\n",
    "    ('MLKLa_obs', 'cyldko'): 'orange'\n",
    "}\n",
    "\n",
    "lower_quantile = 0.1  # 10%\n",
    "upper_quantile = 0.9  # 90%\n",
    "median = 0.5\n",
    "\n",
    "fig, ax = plt.subplots()\n",
    "# plt.figure()\n",
    "legend_keys = []\n",
    "for obs_pair, colour in obs_to_plot.items():\n",
    "    obs, group = obs_pair\n",
    "    # Calculate 10%, 50%, and 90% quantiles for observable\n",
    "    quantile_data = df[obs].loc[group].groupby(['time']).quantile(\n",
    "        q=[lower_quantile, median, upper_quantile]).unstack()\n",
    "    time_hrs = quantile_data.index / 60\n",
    "    # Plot the median line (50% quantile) for the observable\n",
    "    ax.plot(time_hrs, quantile_data.loc[:, median], color=colour, alpha = 1.0)\n",
    "    # Plot the 10% and 90% quantiles as an envelope\n",
    "    ax.fill_between(time_hrs,\n",
    "                    quantile_data.loc[:, lower_quantile],\n",
    "                    quantile_data.loc[:, upper_quantile],\n",
    "                    color=colour,\n",
    "                    alpha=.1)\n",
    "\n",
    "# Add the legend\n",
    "\n",
    "# plt.legend([f'{obs} {group}' for obs, group in obs_to_plot.keys()])\n",
    "plt.title('A20 vs CYLD KO Cluster 0 with 100ng/ml of TNF',fontsize=14) # Title\n",
    "plt.ylabel('Amount [molecules/cell]', fontsize = 14) # Y label\n",
    "plt.xlabel('Time (hours)', fontsize = 14) # X label\n",
    "plt.xlim(xmax =24)\n",
    "# Add axis labels and title\n",
    "# plt.set(xlabel='Time (hours)', ylabel='Amount [molecules/cell]', title=f'{model100.name}', fontsize = 14)\n",
    "# Add grid\n",
    "# ax.grid()\n",
    "# plt.scatter(x101/60, y101*5544)\n",
    "# plt.scatter(x101/60, y1002*5544)\n",
    "# fig.savefig(\"necro_pydream_fitting_5k_5620_100_10tnf_wo_10_12hrs.pdf\")\n",
    "# plt.errorbar(x1001/60, y1001,\n",
    "#              yerr=[(0, 0.00885691708746097,0.0161886154261265,0.0373005242261882),\n",
    "#              (.10,.10,.10,.10)],\n",
    "#                    fmt='.k', ecolor ='black', alpha = 0.75, label ='100 ng/ml', zorder = 2)\n",
    "# plt.errorbar(x1002/60, y1002,\n",
    "#              yerr= .10, fmt='.k', ecolor ='black', alpha = 0.75, label ='100 ng/ml', zorder = 2)\n",
    "# plt.errorbar(x100/60, y10*5544, yerr=350, fmt='.k', ecolor = 'blue', alpha = 0.5, label ='10 ng/ml')\n",
    "# plt.errorbar(x100/60, y100*5544, yerr=350, fmt='.k', ecolor ='green', alpha = 0.5, label ='100 ng/ml')\n",
    "# plt.errorbar(x1001/60, y1001*5544,\n",
    "#              yerr=[(0, 0.00885691708746097*5544,0.0161886154261265*5544,0.0373005242261882*5544),\n",
    "#              (400,400,400,400)],\n",
    "#                    fmt='.k', ecolor ='black', alpha = 0.75, label ='10 ng/ml', zorder = 2)\n",
    "# plt.errorbar(x1002/60, y1002*5544,\n",
    "#              yerr= 400, fmt='.k', ecolor ='black', alpha = 0.75, label ='10 ng/ml', zorder = 2)\n",
    "# plt.errorbar(x101/60, y101*5544,\n",
    "#              yerr=[(0, 0.0106013664572332*5544,0.00519576571714913*5544,0.02967443048221*5544,\n",
    "#                     0.050022163974868*5544),\n",
    "#              (400,400,400,400,400)],\n",
    "#                    fmt='.k', ecolor ='black', alpha = 0.75, label ='10 ng/ml', zorder = 2)\n",
    "# plt.errorbar(x102/60, y102*5544,\n",
    "#              yerr= 400, fmt='.k', ecolor ='black', alpha = 0.75, label ='10 ng/ml', zorder = 2)\n",
    "custom_lines = [Line2D([0], [0], color='blue', lw=4),\n",
    "                Line2D([0], [0], color='red', lw=4),\n",
    "                Line2D([0], [0], color='orange', lw=4)]\n",
    "plt.legend(custom_lines, ['wt', 'a20ko', 'cyldko'], prop={'size': 10}, loc = 'best')\n",
    "plt.show()"
   ]
  },
  {
   "cell_type": "markdown",
   "metadata": {},
   "source": [
    "# Percentiles for 10 TNF vs CYLD KO in Clus 0,1,2"
   ]
  },
  {
   "cell_type": "code",
   "execution_count": null,
   "metadata": {},
   "outputs": [],
   "source": [
    "#FOR PLOTTING PERCENTILES \n",
    "\n",
    "# x10 = np.array([0, 30, 90, 270, 480,600, 720, 840, 960])\n",
    "# # x102 = np.array([600, 720, 840, 960])\n",
    "# y10 = np.array([0, 0.0106013664572332,0.00519576571714913,0.02967443048221,0.050022163974868,\n",
    "#                 0.088128107774737, 0.17, 0.30055140114867, 0.47])\n",
    "# # y102 = np.array([0.088128107774737, 0.17, 0.30055140114867, 0.47])\n",
    "\n",
    "# x100 = np.array([0, 30, 90, 270,480, 600, 720, 840, 960])\n",
    "# # x1002 = np.array([480, 600, 720, 840, 960])\n",
    "# y100 = np.array([0, 0.00885691708746097,0.0161886154261265,0.0373005242261882,\n",
    "#                   0.2798939020159581, 0.510, .8097294067, 0.95,0.98])\n",
    "\n",
    "x1001 = np.array([0, 30, 90, 270])\n",
    "x1002 = np.array([480, 720, 960])\n",
    "y1001 = np.array([0, 0.00885691708746097,0.0161886154261265,0.0373005242261882])\n",
    "y1002 = np.array([0.2798939020159581, .7797294067, 0.98])\n",
    "# plt.figure()\n",
    "\n",
    "x101 = np.array([0, 30, 90, 270, 480])\n",
    "x102 = np.array([720, 960])\n",
    "y101 = np.array([0, 0.0106013664572332,0.00519576571714913,0.02967443048221,0.050022163974868])\n",
    "y102 = np.array([0.17, 0.47])\n",
    "# Combine the results dataframes into a single dataframe with a 'group' index,\n",
    "# in addition to \"simulation\" and \"time\" indexes\n",
    "df = pd.concat([sim00.dataframe, c0_10_a20ko, c0_10_cyldko],\n",
    "               keys=['wt', 'a20ko', 'cyldko'],\n",
    "               names=['group', 'simulation', 'time'])\n",
    "\n",
    "# Add observable/group pairs as needed\n",
    "obs_to_plot = {\n",
    "    ('MLKLa_obs', 'wt'): 'blue',\n",
    "    ('MLKLa_obs', 'a20ko'): 'red',\n",
    "    ('MLKLa_obs', 'cyldko'): 'orange'\n",
    "}\n",
    "\n",
    "lower_quantile = 0.1  # 10%\n",
    "upper_quantile = 0.9  # 90%\n",
    "median = 0.5\n",
    "\n",
    "fig, ax = plt.subplots()\n",
    "# plt.figure()\n",
    "legend_keys = []\n",
    "for obs_pair, colour in obs_to_plot.items():\n",
    "    obs, group = obs_pair\n",
    "    # Calculate 10%, 50%, and 90% quantiles for observable\n",
    "    quantile_data = df[obs].loc[group].groupby(['time']).quantile(\n",
    "        q=[lower_quantile, median, upper_quantile]).unstack()\n",
    "    time_hrs = quantile_data.index / 60\n",
    "    # Plot the median line (50% quantile) for the observable\n",
    "    ax.plot(time_hrs, quantile_data.loc[:, median], color=colour, alpha = 1.0)\n",
    "    # Plot the 10% and 90% quantiles as an envelope\n",
    "    ax.fill_between(time_hrs,\n",
    "                    quantile_data.loc[:, lower_quantile],\n",
    "                    quantile_data.loc[:, upper_quantile],\n",
    "                    color=colour,\n",
    "                    alpha=.1)\n",
    "\n",
    "# Add the legend\n",
    "\n",
    "# plt.legend([f'{obs} {group}' for obs, group in obs_to_plot.keys()])\n",
    "plt.title('A20 vs CYLD KO Cluster 0 with 10ng/ml of TNF',fontsize=14) # Title\n",
    "plt.ylabel('Amount [molecules/cell]', fontsize = 14) # Y label\n",
    "plt.xlabel('Time (hours)', fontsize = 14) # X label\n",
    "plt.xlim(xmax =24)\n",
    "# Add axis labels and title\n",
    "# plt.set(xlabel='Time (hours)', ylabel='Amount [molecules/cell]', title=f'{model100.name}', fontsize = 14)\n",
    "# Add grid\n",
    "# ax.grid()\n",
    "# plt.scatter(x101/60, y101*5544)\n",
    "# plt.scatter(x101/60, y1002*5544)\n",
    "# fig.savefig(\"necro_pydream_fitting_5k_5620_100_10tnf_wo_10_12hrs.pdf\")\n",
    "# plt.errorbar(x1001/60, y1001,\n",
    "#              yerr=[(0, 0.00885691708746097,0.0161886154261265,0.0373005242261882),\n",
    "#              (.10,.10,.10,.10)],\n",
    "#                    fmt='.k', ecolor ='black', alpha = 0.75, label ='100 ng/ml', zorder = 2)\n",
    "# plt.errorbar(x1002/60, y1002,\n",
    "#              yerr= .10, fmt='.k', ecolor ='black', alpha = 0.75, label ='100 ng/ml', zorder = 2)\n",
    "# plt.errorbar(x100/60, y10*5544, yerr=350, fmt='.k', ecolor = 'blue', alpha = 0.5, label ='10 ng/ml')\n",
    "# plt.errorbar(x100/60, y100*5544, yerr=350, fmt='.k', ecolor ='green', alpha = 0.5, label ='100 ng/ml')\n",
    "# plt.errorbar(x1001/60, y1001*5544,\n",
    "#              yerr=[(0, 0.00885691708746097*5544,0.0161886154261265*5544,0.0373005242261882*5544),\n",
    "#              (400,400,400,400)],\n",
    "#                    fmt='.k', ecolor ='black', alpha = 0.75, label ='10 ng/ml', zorder = 2)\n",
    "# plt.errorbar(x1002/60, y1002*5544,\n",
    "#              yerr= 400, fmt='.k', ecolor ='black', alpha = 0.75, label ='10 ng/ml', zorder = 2)\n",
    "plt.errorbar(x101/60, y101*5544,\n",
    "             yerr=[(0, 0.0106013664572332*5544,0.00519576571714913*5544,0.02967443048221*5544,\n",
    "                    0.050022163974868*5544),\n",
    "             (400,400,400,400,400)],\n",
    "                   fmt='.k', ecolor ='black', alpha = 0.75, label ='10 ng/ml', zorder = 2)\n",
    "plt.errorbar(x102/60, y102*5544,\n",
    "             yerr= 400, fmt='.k', ecolor ='black', alpha = 0.75, label ='10 ng/ml', zorder = 2)\n",
    "custom_lines = [Line2D([0], [0], color='blue', lw=4),\n",
    "                Line2D([0], [0], color='red', lw=4),\n",
    "                Line2D([0], [0], color='orange', lw=4)]\n",
    "plt.legend(custom_lines, ['wt', 'a20ko', 'cyldko'], prop={'size': 10}, loc = 'best')\n",
    "plt.show()"
   ]
  },
  {
   "cell_type": "code",
   "execution_count": null,
   "metadata": {},
   "outputs": [],
   "source": []
  },
  {
   "cell_type": "code",
   "execution_count": 18,
   "metadata": {},
   "outputs": [
    {
     "name": "stdout",
     "output_type": "stream",
     "text": [
      "5000\n"
     ]
    }
   ],
   "source": [
    "par_files = np.load('most_likely_par_5k_necropydream_may62020.npy')\n",
    "n_pars = len(par_files)\n",
    "all_pars = np.zeros((n_pars, len(model100.parameters)))\n",
    "\n",
    "rate_params = model100.parameters_rules() # these are only the parameters involved in the rules\n",
    "param_values = np.array([p.value for p in model100.parameters]) # these are all the parameters\n",
    "rate_mask = np.array([p in rate_params for p in model100.parameters])\n",
    "\n",
    "for i in range(n_pars):\n",
    "    par = par_files[i]\n",
    "    param_values[rate_mask] = 10 ** par\n",
    "    all_pars[i] = param_values\n",
    "print(len(all_pars))"
   ]
  },
  {
   "cell_type": "code",
   "execution_count": 19,
   "metadata": {},
   "outputs": [
    {
     "name": "stdout",
     "output_type": "stream",
     "text": [
      "5000\n"
     ]
    }
   ],
   "source": [
    "par_files = np.load('most_likely_par_5k_necropydream_may62020.npy')\n",
    "n_pars = len(par_files)\n",
    "all_pars2 = np.zeros((n_pars, len(model10.parameters)))\n",
    "\n",
    "rate_params = model10.parameters_rules() # these are only the parameters involved in the rules\n",
    "param_values = np.array([p.value for p in model10.parameters]) # these are all the parameters\n",
    "rate_mask = np.array([p in rate_params for p in model10.parameters])\n",
    "\n",
    "for i in range(n_pars):\n",
    "    par = par_files[i]\n",
    "    param_values[rate_mask] = 10 ** par\n",
    "    all_pars2[i] = param_values\n",
    "print(len(all_pars2)) "
   ]
  },
  {
   "cell_type": "code",
   "execution_count": 20,
   "metadata": {},
   "outputs": [
    {
     "name": "stderr",
     "output_type": "stream",
     "text": [
      "2020-05-14 20:57:39.365 - pysb.simulator.scipyode - DEBUG - [necro_uncal_new_updated] Simulator created\n",
      "2020-05-14 20:57:39.376 - pysb.simulator.scipyode - DEBUG - [necro_uncal_new_updated] Equation mode set to \"cython\"\n",
      "2020-05-14 20:57:39.417 - pysb.simulator.scipyode - INFO - [necro_uncal_new_updated] Simulation(s) started\n",
      "2020-05-14 20:57:39.825 - pysb.simulator.scipyode - DEBUG - [necro_uncal_new_updated] Multi-processor (parallel) mode using 10 processes\n",
      "2020-05-14 20:58:47.756 - pysb.simulator.scipyode - INFO - [necro_uncal_new_updated] All simulation(s) complete\n",
      "2020-05-14 20:58:47.757 - pysb.simulator.scipyode - DEBUG - [necro_uncal_new_updated] SimulationResult constructor started\n",
      "2020-05-14 20:58:49.334 - pysb.simulator.scipyode - DEBUG - [necro_uncal_new_updated] SimulationResult constructor finished\n"
     ]
    }
   ],
   "source": [
    "tspan = np.linspace(0, 1440, 300)\n",
    "solver100 = ScipyOdeSimulator(model100, tspan=tspan, verbose = True)\n",
    "result100 = solver100.run(param_values=all_pars, num_processors = 10)"
   ]
  },
  {
   "cell_type": "code",
   "execution_count": 21,
   "metadata": {},
   "outputs": [
    {
     "name": "stderr",
     "output_type": "stream",
     "text": [
      "2020-05-14 20:58:49.343 - pysb.simulator.scipyode - DEBUG - [necro_uncal_new_10tnf] Simulator created\n",
      "2020-05-14 20:58:49.347 - pysb.simulator.scipyode - DEBUG - [necro_uncal_new_10tnf] Equation mode set to \"cython\"\n",
      "2020-05-14 20:58:49.379 - pysb.simulator.scipyode - INFO - [necro_uncal_new_10tnf] Simulation(s) started\n",
      "2020-05-14 20:58:49.779 - pysb.simulator.scipyode - DEBUG - [necro_uncal_new_10tnf] Multi-processor (parallel) mode using 10 processes\n",
      "2020-05-14 20:59:35.285 - pysb.simulator.scipyode - INFO - [necro_uncal_new_10tnf] All simulation(s) complete\n",
      "2020-05-14 20:59:35.286 - pysb.simulator.scipyode - DEBUG - [necro_uncal_new_10tnf] SimulationResult constructor started\n",
      "2020-05-14 20:59:36.805 - pysb.simulator.scipyode - DEBUG - [necro_uncal_new_10tnf] SimulationResult constructor finished\n"
     ]
    }
   ],
   "source": [
    "tspan = np.linspace(0, 1440, 300)\n",
    "solver10 = ScipyOdeSimulator(model10, tspan=tspan, verbose = True)\n",
    "result10 = solver10.run(param_values=all_pars2, num_processors = 10)"
   ]
  },
  {
   "cell_type": "code",
   "execution_count": 22,
   "metadata": {},
   "outputs": [
    {
     "data": {
      "image/png": "[encoded data removed]",
      "text/plain": [
       "<Figure size 432x288 with 1 Axes>"
      ]
     },
     "metadata": {
      "needs_background": "light"
     },
     "output_type": "display_data"
    }
   ],
   "source": [
    "#FOR PLOTTING PERCENTILES \n",
    "\n",
    "# x10 = np.array([0, 30, 90, 270, 480,600, 720, 840, 960])\n",
    "# # x102 = np.array([600, 720, 840, 960])\n",
    "# y10 = np.array([0, 0.0106013664572332,0.00519576571714913,0.02967443048221,0.050022163974868,\n",
    "#                 0.088128107774737, 0.17, 0.30055140114867, 0.47])\n",
    "# # y102 = np.array([0.088128107774737, 0.17, 0.30055140114867, 0.47])\n",
    "\n",
    "# x100 = np.array([0, 30, 90, 270,480, 600, 720, 840, 960])\n",
    "# # x1002 = np.array([480, 600, 720, 840, 960])\n",
    "# y100 = np.array([0, 0.00885691708746097,0.0161886154261265,0.0373005242261882,\n",
    "#                   0.2798939020159581, 0.510, .8097294067, 0.95,0.98])\n",
    "\n",
    "x1001 = np.array([0, 30, 90, 270])\n",
    "x1002 = np.array([480, 720, 960])\n",
    "y1001 = np.array([0, 0.00885691708746097,0.0161886154261265,0.0373005242261882])\n",
    "y1002 = np.array([0.2798939020159581, .7797294067, 0.98])\n",
    "# plt.figure()\n",
    "\n",
    "x101 = np.array([0, 30, 90, 270, 480])\n",
    "x102 = np.array([720, 960])\n",
    "y101 = np.array([0, 0.0106013664572332,0.00519576571714913,0.02967443048221,0.050022163974868])\n",
    "y102 = np.array([0.17, 0.47])\n",
    "# Combine the results dataframes into a single dataframe with a 'group' index,\n",
    "# in addition to \"simulation\" and \"time\" indexes\n",
    "df = pd.concat([result100.dataframe, result10.dataframe],\n",
    "               keys=['mlkl100', 'mlkl10'],\n",
    "               names=['group', 'simulation', 'time'])\n",
    "\n",
    "# Add observable/group pairs as needed\n",
    "obs_to_plot = {\n",
    "    ('MLKLa_obs', 'mlkl100'): 'blue',\n",
    "    ('MLKLa_obs', 'mlkl10'): 'orange'\n",
    "}\n",
    "\n",
    "lower_quantile = 0.1  # 10%\n",
    "upper_quantile = 0.9  # 90%\n",
    "median = 0.5\n",
    "\n",
    "fig, ax = plt.subplots()\n",
    "# plt.figure()\n",
    "legend_keys = []\n",
    "for obs_pair, colour in obs_to_plot.items():\n",
    "    obs, group = obs_pair\n",
    "    # Calculate 10%, 50%, and 90% quantiles for observable\n",
    "    quantile_data = df[obs].loc[group].groupby(['time']).quantile(\n",
    "        q=[lower_quantile, median, upper_quantile]).unstack()\n",
    "    time_hrs = quantile_data.index / 60\n",
    "    # Plot the median line (50% quantile) for the observable\n",
    "    ax.plot(time_hrs, quantile_data.loc[:, median], color=colour)\n",
    "    # Plot the 10% and 90% quantiles as an envelope\n",
    "    ax.fill_between(time_hrs,\n",
    "                    quantile_data.loc[:, lower_quantile],\n",
    "                    quantile_data.loc[:, upper_quantile],\n",
    "                    color=colour,\n",
    "                    alpha=.1)\n",
    "\n",
    "# Add the legend\n",
    "\n",
    "# plt.legend([f'{obs} {group}' for obs, group in obs_to_plot.keys()])\n",
    "plt.title('Model Fitting for 100 & 10 ng/ml of TNF',fontsize=14) # Title\n",
    "plt.ylabel('Amount [molecules/cell]', fontsize = 14) # Y label\n",
    "plt.xlabel('Time (hours)', fontsize = 14) # X label\n",
    "plt.xlim(xmax =24)\n",
    "# Add axis labels and title\n",
    "# plt.set(xlabel='Time (hours)', ylabel='Amount [molecules/cell]', title=f'{model100.name}', fontsize = 14)\n",
    "# Add grid\n",
    "# ax.grid()\n",
    "# plt.scatter(x101/60, y101*5544)\n",
    "# plt.scatter(x101/60, y1002*5544)\n",
    "# fig.savefig(\"necro_pydream_fitting_5k_5620_100_10tnf_wo_10_12hrs_norm.pdf\")\n",
    "# plt.errorbar(x1001/60, y1001,\n",
    "#              yerr=[(0, 0.00885691708746097,0.0161886154261265,0.0373005242261882),\n",
    "#              (.10,.10,.10,.10)],\n",
    "#                    fmt='.k', ecolor ='black', alpha = 0.75, label ='100 ng/ml', zorder = 2)\n",
    "# plt.errorbar(x1002/60, y1002,\n",
    "#              yerr= .10, fmt='.k', ecolor ='black', alpha = 0.75, label ='100 ng/ml', zorder = 2)\n",
    "# plt.errorbar(x100/60, y10*5544, yerr=350, fmt='.k', ecolor = 'blue', alpha = 0.5, label ='10 ng/ml')\n",
    "# plt.errorbar(x100/60, y100*5544, yerr=350, fmt='.k', ecolor ='green', alpha = 0.5, label ='100 ng/ml')\n",
    "plt.errorbar(x1001/60, y1001*5544,\n",
    "             yerr=[(0, 0.00885691708746097*5544,0.0161886154261265*5544,0.0373005242261882*5544),\n",
    "             (400,400,400,400)],\n",
    "                   fmt='.k', ecolor ='black', alpha = 0.75, label ='10 ng/ml', zorder = 2)\n",
    "plt.errorbar(x1002/60, y1002*5544,\n",
    "             yerr= 400, fmt='.k', ecolor ='black', alpha = 0.75, label ='10 ng/ml', zorder = 2)\n",
    "plt.errorbar(x101/60, y101*5544,\n",
    "             yerr=[(0, 0.0106013664572332*5544,0.00519576571714913*5544,0.02967443048221*5544,\n",
    "                    0.050022163974868*5544),\n",
    "             (400,400,400,400,400)],\n",
    "                   fmt='.k', ecolor ='black', alpha = 0.75, label ='10 ng/ml', zorder = 2)\n",
    "plt.errorbar(x102/60, y102*5544,\n",
    "             yerr= 400, fmt='.k', ecolor ='black', alpha = 0.75, label ='10 ng/ml', zorder = 2)\n",
    "custom_lines = [Line2D([0], [0], color='blue', lw=4),\n",
    "                Line2D([0], [0], color='orange', lw=4),\n",
    "                Line2D([0], [0], color='black', lw=4)]\n",
    "plt.legend(custom_lines, ['100 ng/ml', '10 ng/ml', 'Data'], prop={'size': 10}, loc = 'best')\n",
    "plt.show()"
   ]
  },
  {
   "cell_type": "code",
   "execution_count": null,
   "metadata": {},
   "outputs": [],
   "source": []
  },
  {
   "cell_type": "code",
   "execution_count": 29,
   "metadata": {},
   "outputs": [
    {
     "data": {
      "image/png": "[encoded data removed]",
      "text/plain": [
       "<Figure size 432x288 with 1 Axes>"
      ]
     },
     "metadata": {
      "needs_background": "light"
     },
     "output_type": "display_data"
    }
   ],
   "source": [
    "#FOR PLOTTING PERCENTILES \n",
    "\n",
    "# x10 = np.array([0, 30, 90, 270, 480,600, 720, 840, 960])\n",
    "# # x102 = np.array([600, 720, 840, 960])\n",
    "# y10 = np.array([0, 0.0106013664572332,0.00519576571714913,0.02967443048221,0.050022163974868,\n",
    "#                 0.088128107774737, 0.17, 0.30055140114867, 0.47])\n",
    "# # y102 = np.array([0.088128107774737, 0.17, 0.30055140114867, 0.47])\n",
    "\n",
    "# x100 = np.array([0, 30, 90, 270,480, 600, 720, 840, 960])\n",
    "# # x1002 = np.array([480, 600, 720, 840, 960])\n",
    "# y100 = np.array([0, 0.00885691708746097,0.0161886154261265,0.0373005242261882,\n",
    "#                   0.2798939020159581, 0.510, .8097294067, 0.95,0.98])\n",
    "\n",
    "x1001 = np.array([0, 30, 90, 270])\n",
    "x1002 = np.array([480, 720, 960])\n",
    "y1001 = np.array([0, 0.00885691708746097,0.0161886154261265,0.0373005242261882])\n",
    "y1002 = np.array([0.2798939020159581, .7797294067, 0.98])\n",
    "# plt.figure()\n",
    "\n",
    "x101 = np.array([0, 30, 90, 270, 480])\n",
    "x102 = np.array([720, 960])\n",
    "y101 = np.array([0, 0.0106013664572332,0.00519576571714913,0.02967443048221,0.050022163974868])\n",
    "y102 = np.array([0.17, 0.47])\n",
    "# Combine the results dataframes into a single dataframe with a 'group' index,\n",
    "# in addition to \"simulation\" and \"time\" indexes\n",
    "df = pd.concat([result10.dataframe, a20clus0.dataframe, cyldclus0.dataframe],\n",
    "               keys=['wt', 'a20ko', 'cyldko'],\n",
    "               names=['group', 'simulation', 'time'])\n",
    "\n",
    "# Add observable/group pairs as needed\n",
    "obs_to_plot = {\n",
    "    ('MLKLa_obs', 'wt'): 'blue',\n",
    "    ('MLKLa_obs', 'a20ko'): 'red',\n",
    "    ('MLKLa_obs', 'cyldko'): 'orange'\n",
    "}\n",
    "\n",
    "lower_quantile = 0.1  # 10%\n",
    "upper_quantile = 0.9  # 90%\n",
    "median = 0.5\n",
    "\n",
    "fig, ax = plt.subplots()\n",
    "# plt.figure()\n",
    "legend_keys = []\n",
    "for obs_pair, colour in obs_to_plot.items():\n",
    "    obs, group = obs_pair\n",
    "    # Calculate 10%, 50%, and 90% quantiles for observable\n",
    "    quantile_data = df[obs].loc[group].groupby(['time']).quantile(\n",
    "        q=[lower_quantile, median, upper_quantile]).unstack()\n",
    "    time_hrs = quantile_data.index / 60\n",
    "    # Plot the median line (50% quantile) for the observable\n",
    "    ax.plot(time_hrs, quantile_data.loc[:, median], color=colour, alpha = 1.0)\n",
    "    # Plot the 10% and 90% quantiles as an envelope\n",
    "    ax.fill_between(time_hrs,\n",
    "                    quantile_data.loc[:, lower_quantile],\n",
    "                    quantile_data.loc[:, upper_quantile],\n",
    "                    color=colour,\n",
    "                    alpha=.1)\n",
    "\n",
    "# Add the legend\n",
    "\n",
    "# plt.legend([f'{obs} {group}' for obs, group in obs_to_plot.keys()])\n",
    "plt.title('A20 vs CYLD KO Cluster 0 with 10ng/ml of TNF',fontsize=14) # Title\n",
    "plt.ylabel('Amount [molecules/cell]', fontsize = 14) # Y label\n",
    "plt.xlabel('Time (hours)', fontsize = 14) # X label\n",
    "plt.xlim(xmax =24)\n",
    "# Add axis labels and title\n",
    "# plt.set(xlabel='Time (hours)', ylabel='Amount [molecules/cell]', title=f'{model100.name}', fontsize = 14)\n",
    "# Add grid\n",
    "# ax.grid()\n",
    "# plt.scatter(x101/60, y101*5544)\n",
    "# plt.scatter(x101/60, y1002*5544)\n",
    "# fig.savefig(\"necro_pydream_fitting_5k_5620_100_10tnf_wo_10_12hrs.pdf\")\n",
    "# plt.errorbar(x1001/60, y1001,\n",
    "#              yerr=[(0, 0.00885691708746097,0.0161886154261265,0.0373005242261882),\n",
    "#              (.10,.10,.10,.10)],\n",
    "#                    fmt='.k', ecolor ='black', alpha = 0.75, label ='100 ng/ml', zorder = 2)\n",
    "# plt.errorbar(x1002/60, y1002,\n",
    "#              yerr= .10, fmt='.k', ecolor ='black', alpha = 0.75, label ='100 ng/ml', zorder = 2)\n",
    "# plt.errorbar(x100/60, y10*5544, yerr=350, fmt='.k', ecolor = 'blue', alpha = 0.5, label ='10 ng/ml')\n",
    "# plt.errorbar(x100/60, y100*5544, yerr=350, fmt='.k', ecolor ='green', alpha = 0.5, label ='100 ng/ml')\n",
    "# plt.errorbar(x1001/60, y1001*5544,\n",
    "#              yerr=[(0, 0.00885691708746097*5544,0.0161886154261265*5544,0.0373005242261882*5544),\n",
    "#              (400,400,400,400)],\n",
    "#                    fmt='.k', ecolor ='black', alpha = 0.75, label ='10 ng/ml', zorder = 2)\n",
    "# plt.errorbar(x1002/60, y1002*5544,\n",
    "#              yerr= 400, fmt='.k', ecolor ='black', alpha = 0.75, label ='10 ng/ml', zorder = 2)\n",
    "plt.errorbar(x101/60, y101*5544,\n",
    "             yerr=[(0, 0.0106013664572332*5544,0.00519576571714913*5544,0.02967443048221*5544,\n",
    "                    0.050022163974868*5544),\n",
    "             (400,400,400,400,400)],\n",
    "                   fmt='.k', ecolor ='black', alpha = 0.75, label ='10 ng/ml', zorder = 2)\n",
    "plt.errorbar(x102/60, y102*5544,\n",
    "             yerr= 400, fmt='.k', ecolor ='black', alpha = 0.75, label ='10 ng/ml', zorder = 2)\n",
    "custom_lines = [Line2D([0], [0], color='blue', lw=4),\n",
    "                Line2D([0], [0], color='red', lw=4),\n",
    "                Line2D([0], [0], color='orange', lw=4)]\n",
    "plt.legend(custom_lines, ['WT', 'A20KO', 'CYLDKO'], prop={'size': 10}, loc = 'best')\n",
    "plt.show()"
   ]
  },
  {
   "cell_type": "code",
   "execution_count": 30,
   "metadata": {},
   "outputs": [
    {
     "data": {
      "image/png": "[encoded data removed]",
      "text/plain": [
       "<Figure size 432x288 with 1 Axes>"
      ]
     },
     "metadata": {
      "needs_background": "light"
     },
     "output_type": "display_data"
    }
   ],
   "source": [
    "#FOR PLOTTING PERCENTILES \n",
    "\n",
    "# x10 = np.array([0, 30, 90, 270, 480,600, 720, 840, 960])\n",
    "# # x102 = np.array([600, 720, 840, 960])\n",
    "# y10 = np.array([0, 0.0106013664572332,0.00519576571714913,0.02967443048221,0.050022163974868,\n",
    "#                 0.088128107774737, 0.17, 0.30055140114867, 0.47])\n",
    "# # y102 = np.array([0.088128107774737, 0.17, 0.30055140114867, 0.47])\n",
    "\n",
    "# x100 = np.array([0, 30, 90, 270,480, 600, 720, 840, 960])\n",
    "# # x1002 = np.array([480, 600, 720, 840, 960])\n",
    "# y100 = np.array([0, 0.00885691708746097,0.0161886154261265,0.0373005242261882,\n",
    "#                   0.2798939020159581, 0.510, .8097294067, 0.95,0.98])\n",
    "\n",
    "x1001 = np.array([0, 30, 90, 270])\n",
    "x1002 = np.array([480, 720, 960])\n",
    "y1001 = np.array([0, 0.00885691708746097,0.0161886154261265,0.0373005242261882])\n",
    "y1002 = np.array([0.2798939020159581, .7797294067, 0.98])\n",
    "# plt.figure()\n",
    "\n",
    "x101 = np.array([0, 30, 90, 270, 480])\n",
    "x102 = np.array([720, 960])\n",
    "y101 = np.array([0, 0.0106013664572332,0.00519576571714913,0.02967443048221,0.050022163974868])\n",
    "y102 = np.array([0.17, 0.47])\n",
    "# Combine the results dataframes into a single dataframe with a 'group' index,\n",
    "# in addition to \"simulation\" and \"time\" indexes\n",
    "df = pd.concat([result10.dataframe, a20clus1.dataframe, cyldclus1.dataframe],\n",
    "               keys=['wt', 'a20ko', 'cyldko'],\n",
    "               names=['group', 'simulation', 'time'])\n",
    "\n",
    "# Add observable/group pairs as needed\n",
    "obs_to_plot = {\n",
    "    ('MLKLa_obs', 'wt'): 'blue',\n",
    "    ('MLKLa_obs', 'a20ko'): 'red',\n",
    "    ('MLKLa_obs', 'cyldko'): 'orange'\n",
    "}\n",
    "\n",
    "lower_quantile = 0.1  # 10%\n",
    "upper_quantile = 0.9  # 90%\n",
    "median = 0.5\n",
    "\n",
    "fig, ax = plt.subplots()\n",
    "# plt.figure()\n",
    "legend_keys = []\n",
    "for obs_pair, colour in obs_to_plot.items():\n",
    "    obs, group = obs_pair\n",
    "    # Calculate 10%, 50%, and 90% quantiles for observable\n",
    "    quantile_data = df[obs].loc[group].groupby(['time']).quantile(\n",
    "        q=[lower_quantile, median, upper_quantile]).unstack()\n",
    "    time_hrs = quantile_data.index / 60\n",
    "    # Plot the median line (50% quantile) for the observable\n",
    "    ax.plot(time_hrs, quantile_data.loc[:, median], color=colour, alpha = 1.0)\n",
    "    # Plot the 10% and 90% quantiles as an envelope\n",
    "    ax.fill_between(time_hrs,\n",
    "                    quantile_data.loc[:, lower_quantile],\n",
    "                    quantile_data.loc[:, upper_quantile],\n",
    "                    color=colour,\n",
    "                    alpha=.1)\n",
    "\n",
    "# Add the legend\n",
    "\n",
    "# plt.legend([f'{obs} {group}' for obs, group in obs_to_plot.keys()])\n",
    "plt.title('A20 vs CYLD KO Cluster 1 with 10ng/ml of TNF',fontsize=14) # Title\n",
    "plt.ylabel('Amount [molecules/cell]', fontsize = 14) # Y label\n",
    "plt.xlabel('Time (hours)', fontsize = 14) # X label\n",
    "plt.xlim(xmax =24)\n",
    "# Add axis labels and title\n",
    "# plt.set(xlabel='Time (hours)', ylabel='Amount [molecules/cell]', title=f'{model100.name}', fontsize = 14)\n",
    "# Add grid\n",
    "# ax.grid()\n",
    "# plt.scatter(x101/60, y101*5544)\n",
    "# plt.scatter(x101/60, y1002*5544)\n",
    "# fig.savefig(\"necro_pydream_fitting_5k_5620_100_10tnf_wo_10_12hrs.pdf\")\n",
    "# plt.errorbar(x1001/60, y1001,\n",
    "#              yerr=[(0, 0.00885691708746097,0.0161886154261265,0.0373005242261882),\n",
    "#              (.10,.10,.10,.10)],\n",
    "#                    fmt='.k', ecolor ='black', alpha = 0.75, label ='100 ng/ml', zorder = 2)\n",
    "# plt.errorbar(x1002/60, y1002,\n",
    "#              yerr= .10, fmt='.k', ecolor ='black', alpha = 0.75, label ='100 ng/ml', zorder = 2)\n",
    "# plt.errorbar(x100/60, y10*5544, yerr=350, fmt='.k', ecolor = 'blue', alpha = 0.5, label ='10 ng/ml')\n",
    "# plt.errorbar(x100/60, y100*5544, yerr=350, fmt='.k', ecolor ='green', alpha = 0.5, label ='100 ng/ml')\n",
    "# plt.errorbar(x1001/60, y1001*5544,\n",
    "#              yerr=[(0, 0.00885691708746097*5544,0.0161886154261265*5544,0.0373005242261882*5544),\n",
    "#              (400,400,400,400)],\n",
    "#                    fmt='.k', ecolor ='black', alpha = 0.75, label ='10 ng/ml', zorder = 2)\n",
    "# plt.errorbar(x1002/60, y1002*5544,\n",
    "#              yerr= 400, fmt='.k', ecolor ='black', alpha = 0.75, label ='10 ng/ml', zorder = 2)\n",
    "plt.errorbar(x101/60, y101*5544,\n",
    "             yerr=[(0, 0.0106013664572332*5544,0.00519576571714913*5544,0.02967443048221*5544,\n",
    "                    0.050022163974868*5544),\n",
    "             (400,400,400,400,400)],\n",
    "                   fmt='.k', ecolor ='black', alpha = 0.75, label ='10 ng/ml', zorder = 2)\n",
    "plt.errorbar(x102/60, y102*5544,\n",
    "             yerr= 400, fmt='.k', ecolor ='black', alpha = 0.75, label ='10 ng/ml', zorder = 2)\n",
    "custom_lines = [Line2D([0], [0], color='blue', lw=4),\n",
    "                Line2D([0], [0], color='red', lw=4),\n",
    "                Line2D([0], [0], color='orange', lw=4)]\n",
    "plt.legend(custom_lines, ['WT', 'A20KO', 'CYLDKO'], prop={'size': 10}, loc = 'best')\n",
    "\n",
    "plt.show()"
   ]
  },
  {
   "cell_type": "code",
   "execution_count": 28,
   "metadata": {},
   "outputs": [
    {
     "data": {
      "image/png": "[encoded data removed]",
      "text/plain": [
       "<Figure size 432x288 with 1 Axes>"
      ]
     },
     "metadata": {
      "needs_background": "light"
     },
     "output_type": "display_data"
    }
   ],
   "source": [
    "#FOR PLOTTING PERCENTILES \n",
    "\n",
    "# x10 = np.array([0, 30, 90, 270, 480,600, 720, 840, 960])\n",
    "# # x102 = np.array([600, 720, 840, 960])\n",
    "# y10 = np.array([0, 0.0106013664572332,0.00519576571714913,0.02967443048221,0.050022163974868,\n",
    "#                 0.088128107774737, 0.17, 0.30055140114867, 0.47])\n",
    "# # y102 = np.array([0.088128107774737, 0.17, 0.30055140114867, 0.47])\n",
    "\n",
    "# x100 = np.array([0, 30, 90, 270,480, 600, 720, 840, 960])\n",
    "# # x1002 = np.array([480, 600, 720, 840, 960])\n",
    "# y100 = np.array([0, 0.00885691708746097,0.0161886154261265,0.0373005242261882,\n",
    "#                   0.2798939020159581, 0.510, .8097294067, 0.95,0.98])\n",
    "\n",
    "x1001 = np.array([0, 30, 90, 270])\n",
    "x1002 = np.array([480, 720, 960])\n",
    "y1001 = np.array([0, 0.00885691708746097,0.0161886154261265,0.0373005242261882])\n",
    "y1002 = np.array([0.2798939020159581, .7797294067, 0.98])\n",
    "# plt.figure()\n",
    "\n",
    "x101 = np.array([0, 30, 90, 270, 480])\n",
    "x102 = np.array([720, 960])\n",
    "y101 = np.array([0, 0.0106013664572332,0.00519576571714913,0.02967443048221,0.050022163974868])\n",
    "y102 = np.array([0.17, 0.47])\n",
    "# Combine the results dataframes into a single dataframe with a 'group' index,\n",
    "# in addition to \"simulation\" and \"time\" indexes\n",
    "df = pd.concat([result10.dataframe, a20clus2.dataframe, cyldclus2.dataframe],\n",
    "               keys=['wt', 'a20ko', 'cyldko'],\n",
    "               names=['group', 'simulation', 'time'])\n",
    "\n",
    "# Add observable/group pairs as needed\n",
    "obs_to_plot = {\n",
    "    ('MLKLa_obs', 'wt'): 'blue',\n",
    "    ('MLKLa_obs', 'a20ko'): 'red',\n",
    "    ('MLKLa_obs', 'cyldko'): 'orange'\n",
    "}\n",
    "\n",
    "lower_quantile = 0.1  # 10%\n",
    "upper_quantile = 0.9  # 90%\n",
    "median = 0.5\n",
    "\n",
    "fig, ax = plt.subplots()\n",
    "# plt.figure()\n",
    "legend_keys = []\n",
    "for obs_pair, colour in obs_to_plot.items():\n",
    "    obs, group = obs_pair\n",
    "    # Calculate 10%, 50%, and 90% quantiles for observable\n",
    "    quantile_data = df[obs].loc[group].groupby(['time']).quantile(\n",
    "        q=[lower_quantile, median, upper_quantile]).unstack()\n",
    "    time_hrs = quantile_data.index / 60\n",
    "    # Plot the median line (50% quantile) for the observable\n",
    "    ax.plot(time_hrs, quantile_data.loc[:, median], color=colour, alpha = 1.0)\n",
    "    # Plot the 10% and 90% quantiles as an envelope\n",
    "    ax.fill_between(time_hrs,\n",
    "                    quantile_data.loc[:, lower_quantile],\n",
    "                    quantile_data.loc[:, upper_quantile],\n",
    "                    color=colour,\n",
    "                    alpha=.1)\n",
    "\n",
    "# Add the legend\n",
    "\n",
    "# plt.legend([f'{obs} {group}' for obs, group in obs_to_plot.keys()])\n",
    "plt.title('A20 vs CYLD KO Cluster 2 with 10ng/ml of TNF',fontsize=14) # Title\n",
    "plt.ylabel('Amount [molecules/cell]', fontsize = 14) # Y label\n",
    "plt.xlabel('Time (hours)', fontsize = 14) # X label\n",
    "plt.xlim(xmax =24)\n",
    "# Add axis labels and title\n",
    "# plt.set(xlabel='Time (hours)', ylabel='Amount [molecules/cell]', title=f'{model100.name}', fontsize = 14)\n",
    "# Add grid\n",
    "# ax.grid()\n",
    "# plt.scatter(x101/60, y101*5544)\n",
    "# plt.scatter(x101/60, y1002*5544)\n",
    "# fig.savefig(\"necro_pydream_fitting_5k_5620_100_10tnf_wo_10_12hrs.pdf\")\n",
    "# plt.errorbar(x1001/60, y1001,\n",
    "#              yerr=[(0, 0.00885691708746097,0.0161886154261265,0.0373005242261882),\n",
    "#              (.10,.10,.10,.10)],\n",
    "#                    fmt='.k', ecolor ='black', alpha = 0.75, label ='100 ng/ml', zorder = 2)\n",
    "# plt.errorbar(x1002/60, y1002,\n",
    "#              yerr= .10, fmt='.k', ecolor ='black', alpha = 0.75, label ='100 ng/ml', zorder = 2)\n",
    "# plt.errorbar(x100/60, y10*5544, yerr=350, fmt='.k', ecolor = 'blue', alpha = 0.5, label ='10 ng/ml')\n",
    "# plt.errorbar(x100/60, y100*5544, yerr=350, fmt='.k', ecolor ='green', alpha = 0.5, label ='100 ng/ml')\n",
    "# plt.errorbar(x1001/60, y1001*5544,\n",
    "#              yerr=[(0, 0.00885691708746097*5544,0.0161886154261265*5544,0.0373005242261882*5544),\n",
    "#              (400,400,400,400)],\n",
    "#                    fmt='.k', ecolor ='black', alpha = 0.75, label ='10 ng/ml', zorder = 2)\n",
    "# plt.errorbar(x1002/60, y1002*5544,\n",
    "#              yerr= 400, fmt='.k', ecolor ='black', alpha = 0.75, label ='10 ng/ml', zorder = 2)\n",
    "plt.errorbar(x101/60, y101*5544,\n",
    "             yerr=[(0, 0.0106013664572332*5544,0.00519576571714913*5544,0.02967443048221*5544,\n",
    "                    0.050022163974868*5544),\n",
    "             (400,400,400,400,400)],\n",
    "                   fmt='.k', ecolor ='black', alpha = 0.75, label ='10 ng/ml', zorder = 2)\n",
    "plt.errorbar(x102/60, y102*5544,\n",
    "             yerr= 400, fmt='.k', ecolor ='black', alpha = 0.75, label ='10 ng/ml', zorder = 2)\n",
    "custom_lines = [Line2D([0], [0], color='blue', lw=4),\n",
    "                Line2D([0], [0], color='red', lw=4),\n",
    "                Line2D([0], [0], color='orange', lw=4)]\n",
    "plt.legend(custom_lines, ['WT', 'A20KO', 'CYLDKO'], prop={'size': 10}, loc = 'best')\n",
    "plt.show()"
   ]
  },
  {
   "cell_type": "code",
   "execution_count": 44,
   "metadata": {},
   "outputs": [],
   "source": [
    "df1 = result10.dataframe\n",
    "df2 = a20clus0.dataframe\n",
    "df3 = cyldclus0.dataframe"
   ]
  },
  {
   "cell_type": "code",
   "execution_count": null,
   "metadata": {},
   "outputs": [],
   "source": []
  },
  {
   "cell_type": "code",
   "execution_count": 31,
   "metadata": {},
   "outputs": [],
   "source": [
    "from scipy.stats import sem, t\n",
    "from scipy import mean\n",
    "def mean_confidence_interval(data, confidence=0.95):\n",
    "    a = 1.0 * np.array(data)\n",
    "    n = len(a)\n",
    "    m, se = np.mean(a), scipy.stats.sem(a)\n",
    "    h = se * scipy.stats.t.ppf((1 + confidence) / 2., n-1)\n",
    "    return m, m-h, m+h\n",
    "\n",
    "def mean_confidence_interval_new(data, confidence=0.95):\n",
    "    n = len(data)\n",
    "    m = mean(data)\n",
    "    std_err = sem(data)\n",
    "    h = std_err * t.ppf((1 + confidence) / 2, n - 1)\n",
    "    return m, m-h, m+h"
   ]
  },
  {
   "cell_type": "code",
   "execution_count": 45,
   "metadata": {},
   "outputs": [],
   "source": [
    "time = result10.tout[0]\n",
    "idx = pd.MultiIndex.from_product([df1.columns,\n",
    "                                  ['mean', 'mean_minus', 'mean_plus']],\n",
    "                                 names=['species', 'CI'])\n",
    "\n",
    "ci_df = pd.DataFrame(0, idx, time)\n",
    "\n",
    "from scipy import stats\n",
    "for sp in df1.columns:\n",
    "    for t in time: \n",
    "        sp_values = df1.xs(t, level='time', drop_level=False)[sp].values # axis=1 if columns\n",
    "        ci_df.loc[[sp], t] = mean_confidence_interval(sp_values)"
   ]
  },
  {
   "cell_type": "code",
   "execution_count": 35,
   "metadata": {},
   "outputs": [],
   "source": [
    "time = a20clus0.tout[0]\n",
    "idx = pd.MultiIndex.from_product([df2.columns,\n",
    "                                  ['mean', 'mean_minus', 'mean_plus']],\n",
    "                                 names=['species', 'CI'])\n",
    "\n",
    "ci_df2 = pd.DataFrame(0, idx, time)\n",
    "\n",
    "from scipy import stats\n",
    "for sp in df2.columns:\n",
    "    for t in time: \n",
    "        sp_values = df2.xs(t, level='time', drop_level=False)[sp].values # axis=1 if columns\n",
    "        ci_df2.loc[[sp], t] = mean_confidence_interval(sp_values)"
   ]
  },
  {
   "cell_type": "code",
   "execution_count": 36,
   "metadata": {},
   "outputs": [],
   "source": [
    "time = cyldclus0.tout[0]\n",
    "idx = pd.MultiIndex.from_product([df3.columns,\n",
    "                                  ['mean', 'mean_minus', 'mean_plus']],\n",
    "                                 names=['species', 'CI'])\n",
    "\n",
    "ci_df3 = pd.DataFrame(0, idx, time)\n",
    "\n",
    "from scipy import stats\n",
    "for sp in df3.columns:\n",
    "    for t in time: \n",
    "        sp_values = df3.xs(t, level='time', drop_level=False)[sp].values # axis=1 if columns\n",
    "        ci_df3.loc[[sp], t] = mean_confidence_interval(sp_values)"
   ]
  },
  {
   "cell_type": "code",
   "execution_count": 46,
   "metadata": {},
   "outputs": [],
   "source": [
    "p = 300\n",
    "mean_pmlkl = ci_df.loc['MLKLa_obs'][:1].values.reshape((p,))\n",
    "upper_pmlkl = ci_df.loc['MLKLa_obs'][2:3].values.reshape((p,))\n",
    "lower_pmlkl = ci_df.loc['MLKLa_obs'][1:2].values.reshape((p,))\n",
    "\n",
    "mean_flip = ci_df.loc['Flip_obs'][:1].values.reshape((p,))\n",
    "upper_flip = ci_df.loc['Flip_obs'][2:3].values.reshape((p,))\n",
    "lower_flip = ci_df.loc['Flip_obs'][1:2].values.reshape((p,))\n",
    "\n",
    "mean_C8flip = ci_df.loc['C8Flip_obs'][:1].values.reshape((p,))\n",
    "upper_C8flip = ci_df.loc['C8Flip_obs'][2:3].values.reshape((p,))\n",
    "lower_C8flip = ci_df.loc['C8Flip_obs'][1:2].values.reshape((p,))\n",
    "\n",
    "mean_necro = ci_df.loc['RIP1RIP3unmod_obs'][:1].values.reshape((p,))\n",
    "upper_necro = ci_df.loc['RIP1RIP3unmod_obs'][2:3].values.reshape((p,))\n",
    "lower_necro = ci_df.loc['RIP1RIP3unmod_obs'][1:2].values.reshape((p,))\n",
    "\n",
    "mean_ciub = ci_df.loc['CI_k63_obs'][:1].values.reshape((p,))\n",
    "upper_ciub = ci_df.loc['CI_k63_obs'][2:3].values.reshape((p,))\n",
    "lower_ciub = ci_df.loc['CI_k63_obs'][1:2].values.reshape((p,))\n",
    "\n",
    "mean_cii = ci_df.loc['CII_RIP1deub_obs'][:1].values.reshape((p,))\n",
    "upper_cii = ci_df.loc['CII_RIP1deub_obs'][2:3].values.reshape((p,))\n",
    "lower_cii = ci_df.loc['CII_RIP1deub_obs'][1:2].values.reshape((p,))"
   ]
  },
  {
   "cell_type": "code",
   "execution_count": 38,
   "metadata": {},
   "outputs": [],
   "source": [
    "p = 300\n",
    "mean_pmlkl2 = ci_df2.loc['MLKLa_obs'][:1].values.reshape((p,))\n",
    "upper_pmlkl2 = ci_df2.loc['MLKLa_obs'][2:3].values.reshape((p,))\n",
    "lower_pmlkl2 = ci_df2.loc['MLKLa_obs'][1:2].values.reshape((p,))\n",
    "\n",
    "mean_flip2 = ci_df2.loc['Flip_obs'][:1].values.reshape((p,))\n",
    "upper_flip2 = ci_df2.loc['Flip_obs'][2:3].values.reshape((p,))\n",
    "lower_flip2 = ci_df2.loc['Flip_obs'][1:2].values.reshape((p,))\n",
    "\n",
    "mean_C8flip2 = ci_df2.loc['C8Flip_obs'][:1].values.reshape((p,))\n",
    "upper_C8flip2 = ci_df2.loc['C8Flip_obs'][2:3].values.reshape((p,))\n",
    "lower_C8flip2 = ci_df2.loc['C8Flip_obs'][1:2].values.reshape((p,))\n",
    "\n",
    "mean_necro2 = ci_df2.loc['RIP1RIP3unmod_obs'][:1].values.reshape((p,))\n",
    "upper_necro2 = ci_df2.loc['RIP1RIP3unmod_obs'][2:3].values.reshape((p,))\n",
    "lower_necro2 = ci_df2.loc['RIP1RIP3unmod_obs'][1:2].values.reshape((p,))\n",
    "\n",
    "mean_ciub2 = ci_df2.loc['CI_k63_obs'][:1].values.reshape((p,))\n",
    "upper_ciub2 = ci_df2.loc['CI_k63_obs'][2:3].values.reshape((p,))\n",
    "lower_ciub2 = ci_df2.loc['CI_k63_obs'][1:2].values.reshape((p,))\n",
    "\n",
    "mean_cii2 = ci_df.loc['CII_RIP1deub_obs'][:1].values.reshape((p,))\n",
    "upper_cii2 = ci_df.loc['CII_RIP1deub_obs'][2:3].values.reshape((p,))\n",
    "lower_cii2 = ci_df.loc['CII_RIP1deub_obs'][1:2].values.reshape((p,))"
   ]
  },
  {
   "cell_type": "code",
   "execution_count": 39,
   "metadata": {},
   "outputs": [],
   "source": [
    "p = 300\n",
    "mean_pmlkl3 = ci_df3.loc['MLKLa_obs'][:1].values.reshape((p,))\n",
    "upper_pmlkl3 = ci_df3.loc['MLKLa_obs'][2:3].values.reshape((p,))\n",
    "lower_pmlkl3 = ci_df3.loc['MLKLa_obs'][1:2].values.reshape((p,))\n",
    "\n",
    "mean_flip3 = ci_df3.loc['Flip_obs'][:1].values.reshape((p,))\n",
    "upper_flip3 = ci_df3.loc['Flip_obs'][2:3].values.reshape((p,))\n",
    "lower_flip3 = ci_df3.loc['Flip_obs'][1:2].values.reshape((p,))\n",
    "\n",
    "mean_C8flip3 = ci_df3.loc['C8Flip_obs'][:1].values.reshape((p,))\n",
    "upper_C8flip3 = ci_df3.loc['C8Flip_obs'][2:3].values.reshape((p,))\n",
    "lower_C8flip3 = ci_df3.loc['C8Flip_obs'][1:2].values.reshape((p,))\n",
    "\n",
    "mean_necro3 = ci_df3.loc['RIP1RIP3unmod_obs'][:1].values.reshape((p,))\n",
    "upper_necro3 = ci_df3.loc['RIP1RIP3unmod_obs'][2:3].values.reshape((p,))\n",
    "lower_necro3 = ci_df3.loc['RIP1RIP3unmod_obs'][1:2].values.reshape((p,))\n",
    "\n",
    "mean_ciub3 = ci_df3.loc['CI_k63_obs'][:1].values.reshape((p,))\n",
    "upper_ciub3 = ci_df3.loc['CI_k63_obs'][2:3].values.reshape((p,))\n",
    "lower_ciub3 = ci_df3.loc['CI_k63_obs'][1:2].values.reshape((p,))\n",
    "\n",
    "mean_cii2 = ci_df.loc['CII_RIP1deub_obs'][:1].values.reshape((p,))\n",
    "upper_cii2 = ci_df.loc['CII_RIP1deub_obs'][2:3].values.reshape((p,))\n",
    "lower_cii2 = ci_df.loc['CII_RIP1deub_obs'][1:2].values.reshape((p,))"
   ]
  },
  {
   "cell_type": "code",
   "execution_count": 51,
   "metadata": {},
   "outputs": [
    {
     "data": {
      "image/png": "[encoded data removed]",
      "text/plain": [
       "<Figure size 432x360 with 1 Axes>"
      ]
     },
     "metadata": {
      "needs_background": "light"
     },
     "output_type": "display_data"
    }
   ],
   "source": [
    "plt.figure(figsize = (6,5))\n",
    "x100 = np.array([30, 90, 270, 480, 600, 720, 840, 960])\n",
    "y100 = np.array([0.00885691708746097,0.0161886154261265,0.0373005242261882,0.2798939020159581,0.510, .7797294067, 0.95,1])\n",
    "# plt.figure()\n",
    "\n",
    "x10 = np.array([30, 90, 270, 480, 600, 720, 840, 960])\n",
    "y10 = np.array([0.0106013664572332,0.00519576571714913,0.02967443048221,0.050022163974868,0.088128107774737, 0.17,0.30055140114867, 0.47])\n",
    "# plt.subplot(144)\n",
    "# plt.plot(time/60, mean_pmlkl, color = 'black',  zorder = 2)\n",
    "# plt.fill_between(time/60, lower_pmlkl, upper_pmlkl, color = 'green', label ='100 ng/ml',zorder = 1, alpha=0.5)\n",
    "# plt.plot(time/60, mean_pmlkl2, color = 'black',  zorder = 2)\n",
    "# plt.fill_between(time/60, lower_pmlkl2, upper_pmlkl2, color = 'blue', label ='10 ng/ml',zorder = 1, alpha=0.5)\n",
    "plt.plot(time/60, mean_pmlkl3, color = 'black',  zorder = 2)\n",
    "plt.fill_between(time/60, lower_pmlkl3, upper_pmlkl3, color = 'red', label ='1 ng/ml',zorder = 1, alpha=0.5)\n",
    "# plt.plot(time/60, mean_pmlkl4, color = 'black', zorder = 2)\n",
    "# plt.fill_between(time/60, lower_pmlkl4, upper_pmlkl4, color = 'purple', label ='0.1 ng/ml',zorder = 1, alpha=0.5)\n",
    "# plt.errorbar(x100/60, y100*5544, yerr=210, fmt='.k', ecolor ='green', alpha = 0.5, label ='100 ng/ml')\n",
    "# plt.errorbar(x100/60, y10*5544, yerr=210, fmt='.k', ecolor = 'blue', alpha = 0.5, label ='10 ng/ml')\n",
    "# plt.errorbar(x100/60, y100, yerr=0.05, fmt='.k')\n",
    "# plt.scatter(x10/60, y10*5544, color = 'blue', alpha = 0.3)\n",
    "# plt.scatter(x100/60, y100*5544,  color = 'green', alpha = 0.3)\n",
    "# plt.xlim(xmax = 17, xmin = 0)\n",
    "plt.xticks(fontsize=12)\n",
    "plt.yticks(fontsize=12)\n",
    "plt.xlabel('Time (hours)', fontsize = 14)\n",
    "plt.ylabel('Amount (molecule/cell)', fontsize = 14)\n",
    "plt.legend()\n",
    "plt.title(r'95% CI of pMLKL under 10ng/ml of TNF$\\alpha$', fontsize = 14)\n",
    "plt.tight_layout()\n",
    "# plt.savefig('pMLKL95CI_100TNF_10000pydream_notnormwdata.pdf', format='pdf')\n",
    "#plt.savefig('alltnfmoddatanew.pdf', format='pdf')\n",
    "\n",
    "plt.show()"
   ]
  },
  {
   "cell_type": "code",
   "execution_count": null,
   "metadata": {},
   "outputs": [],
   "source": [
    "plt.figure(figsize = (20,5))\n",
    "# plt.figure()\n",
    "plt.subplot(141)\n",
    "plt.plot(time/60, mean_flip, color = 'black', zorder = 2)\n",
    "plt.fill_between(time/60, lower_flip, upper_flip, color = 'green', label ='100 ng/ml',zorder = 1, alpha=0.3)\n",
    "plt.plot(time/60, mean_flip2, color = 'black', zorder = 2)\n",
    "plt.fill_between(time/60, lower_flip2, upper_flip2, color = 'blue', label ='10 ng/ml',zorder = 1, alpha=0.3)\n",
    "plt.plot(time/60, mean_flip3, color = 'black', zorder = 2)\n",
    "plt.fill_between(time/60, lower_flip3, upper_flip3, color = 'red', label ='1 ng/ml',zorder = 1, alpha=0.3)\n",
    "# plt.plot(time/60, mean_flip4, color = 'black', zorder = 2)\n",
    "# plt.fill_between(time/60, lower_flip4, upper_flip4, color = 'purple', label ='0.1 ng/ml',zorder = 1, alpha=0.3)\n",
    "plt.xticks(fontsize=12)\n",
    "plt.yticks(fontsize=12)\n",
    "plt.xlim(xmax = 24, xmin = 0)\n",
    "plt.xlabel('Time (hours)', fontsize = 14)\n",
    "plt.ylabel('Amount (molecule/cell)', fontsize = 14)\n",
    "plt.legend()\n",
    "plt.title(r'95% CI of cFlip-L under 10ng/ml of TNF$\\alpha$', fontsize = 14)\n",
    "\n",
    "# plt.figure()\n",
    "plt.subplot(142)\n",
    "plt.plot(time/60, mean_C8flip , color = 'black', zorder = 2)\n",
    "plt.fill_between(time/60, lower_C8flip , upper_C8flip , color = 'green', label ='100 ng/ml',zorder = 1, alpha=0.3)\n",
    "plt.plot(time/60, mean_C8flip2 , color = 'black', zorder = 2)\n",
    "plt.fill_between(time/60, lower_C8flip2 , upper_C8flip2 , color = 'blue', label ='10 ng/ml',zorder = 1, alpha=0.3)\n",
    "plt.plot(time/60, mean_C8flip3 , color = 'black', zorder = 2)\n",
    "plt.fill_between(time/60, lower_C8flip3 , upper_C8flip3 , color = 'red', label ='1 ng/ml',zorder = 1, alpha=0.3)\n",
    "# plt.plot(time/60, mean_C8flip4 , color = 'black', zorder = 2)\n",
    "# plt.fill_between(time/60, lower_C8flip4 , upper_C8flip4 , color = 'purple', label ='0.1 ng/ml',zorder = 1, alpha=0.3)\n",
    "plt.xlim(xmax = 24, xmin = 0)\n",
    "plt.xticks(fontsize=12)\n",
    "plt.yticks(fontsize=12)\n",
    "plt.xlabel('Time (hours)', fontsize = 14)\n",
    "plt.ylabel('Amount (molecule/cell)', fontsize = 14)\n",
    "plt.legend()\n",
    "plt.title(r'95% CI of C8Flip 10ng/ml of TNF$\\alpha$', fontsize = 14)\n",
    "\n",
    "plt.subplot(143)\n",
    "plt.plot(time/60, mean_necro, color = 'black', zorder = 2)\n",
    "plt.fill_between(time/60, lower_necro, upper_necro,color = 'green', label ='100 ng/ml',zorder = 1, alpha=0.3)\n",
    "plt.plot(time/60, mean_necro2, color = 'black',  zorder = 2)\n",
    "plt.fill_between(time/60, lower_necro2, upper_necro2,color = 'blue', label ='10 ng/ml',zorder = 1,alpha=0.3)\n",
    "plt.plot(time/60, mean_necro3, color = 'black', zorder = 2)\n",
    "plt.fill_between(time/60, lower_necro3, upper_necro3,color = 'red', label ='1 ng/ml',zorder = 1, alpha=0.3)\n",
    "# plt.plot(time/60, mean_necro4, color = 'black', zorder = 2)\n",
    "# plt.fill_between(time/60, lower_necro4, upper_necro4,color = 'purple', label ='0.1 ng/ml',zorder = 1, alpha=0.3)\n",
    "plt.xlim(xmax = 24, xmin = 0)\n",
    "plt.xticks(fontsize=12)\n",
    "plt.yticks(fontsize=12)\n",
    "plt.xlabel('Time (hours)', fontsize = 14)\n",
    "plt.ylabel('Amount (molecule/cell)', fontsize = 14)\n",
    "plt.legend()\n",
    "plt.title(r'95% CI of Necrosome under 10ng/ml of TNF$\\alpha$', fontsize = 14)\n",
    "\n",
    "x100 = np.array([30, 90, 270, 480, 600, 720, 840, 960])\n",
    "y100 = np.array([0.00885691708746097,0.0161886154261265,0.0373005242261882,0.2798939020159581,0.510, .7797294067, 0.95,1])\n",
    "# plt.figure()\n",
    "\n",
    "x10 = np.array([30, 90, 270, 480, 600, 720, 840, 960])\n",
    "y10 = np.array([0.0106013664572332,0.00519576571714913,0.02967443048221,0.050022163974868,0.108128107774737, 0.21,0.36055140114867, 0.57])\n",
    "plt.subplot(144)\n",
    "plt.plot(time/60, mean_pmlkl, color = 'black',  zorder = 2)\n",
    "plt.fill_between(time/60, lower_pmlkl, upper_pmlkl, color = 'green', label ='100 ng/ml',zorder = 1, alpha=0.3)\n",
    "plt.plot(time/60, mean_pmlkl2, color = 'black',  zorder = 2)\n",
    "plt.fill_between(time/60, lower_pmlkl2, upper_pmlkl2, color = 'blue', label ='10 ng/ml',zorder = 1, alpha=0.3)\n",
    "plt.plot(time/60, mean_pmlkl2, color = 'black',  zorder = 2)\n",
    "plt.fill_between(time/60, lower_pmlkl3, upper_pmlkl3, color = 'red', label ='1 ng/ml',zorder = 1, alpha=0.3)\n",
    "# plt.plot(time/60, mean_pmlkl4, color = 'black', zorder = 2)\n",
    "# plt.fill_between(time/60, lower_pmlkl4, upper_pmlkl4, color = 'purple', label ='0.1 ng/ml',zorder = 1, alpha=0.3)\n",
    "# plt.scatter(x10/60, y10*5544, color = 'blue', alpha = 0.3)\n",
    "# plt.scatter(x100/60, y100*5544,  color = 'green', alpha = 0.3)\n",
    "plt.xlim(xmax = 24, xmin = 0)\n",
    "plt.xticks(fontsize=12)\n",
    "plt.yticks(fontsize=12)\n",
    "plt.xlabel('Time (hours)', fontsize = 14)\n",
    "plt.ylabel('Amount (molecule/cell)', fontsize = 14)\n",
    "plt.legend()\n",
    "plt.title(r'95% CI of pMLKL under 10ng/ml of TNF$\\alpha$', fontsize = 14)\n",
    "plt.tight_layout()\n",
    "# plt.savefig('Necroptosis95CI_allTNF_10000pydream_notnormwdata.pdf', format='pdf')\n",
    "plt.show()"
   ]
  }
 ],
 "metadata": {
  "kernelspec": {
   "display_name": "Python 3",
   "language": "python",
   "name": "python3"
  },
  "language_info": {
   "codemirror_mode": {
    "name": "ipython",
    "version": 3
   },
   "file_extension": ".py",
   "mimetype": "text/x-python",
   "name": "python",
   "nbconvert_exporter": "python",
   "pygments_lexer": "ipython3",
   "version": "3.7.1"
  }
 },
 "nbformat": 4,
 "nbformat_minor": 4
}
